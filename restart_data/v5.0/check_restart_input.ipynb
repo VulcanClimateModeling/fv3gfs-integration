{
 "cells": [
  {
   "cell_type": "code",
   "execution_count": 1,
   "metadata": {},
   "outputs": [
    {
     "name": "stdout",
     "output_type": "stream",
     "text": [
      "Starting 6 engines with <class 'ipyparallel.cluster.launcher.MPIEngineSetLauncher'>\n"
     ]
    },
    {
     "data": {
      "application/vnd.jupyter.widget-view+json": {
       "model_id": "e85aba91d33c4dd7a4f68226fc16b084",
       "version_major": 2,
       "version_minor": 0
      },
      "text/plain": [
       "  0%|          | 0/6 [00:00<?, ?engine/s]"
      ]
     },
     "metadata": {},
     "output_type": "display_data"
    },
    {
     "name": "stdout",
     "output_type": "stream",
     "text": [
      "%autopx enabled\n"
     ]
    }
   ],
   "source": [
    "import ipyparallel as ipp\n",
    "\n",
    "cluster = ipp.Cluster(engines=\"mpi\", n=6).start_and_connect_sync()\n",
    "%autopx"
   ]
  },
  {
   "cell_type": "code",
   "execution_count": 2,
   "metadata": {},
   "outputs": [],
   "source": [
    "from mpi4py import MPI\n",
    "\n",
    "mpi_comm = MPI.COMM_WORLD\n",
    "rank = mpi_comm.Get_rank()"
   ]
  },
  {
   "cell_type": "code",
   "execution_count": 3,
   "metadata": {},
   "outputs": [
    {
     "data": {
      "application/vnd.jupyter.widget-view+json": {
       "model_id": "514d0f98333a4c29ad4e249a32d12840",
       "version_major": 2,
       "version_minor": 0
      },
      "text/plain": [
       "%px:   0%|          | 0/6 [00:00<?, ?tasks/s]"
      ]
     },
     "metadata": {},
     "output_type": "display_data"
    }
   ],
   "source": [
    "%%capture\n",
    "from pace.util import CubedSphereCommunicator, CubedSpherePartitioner, TilePartitioner\n",
    "\n",
    "layout = (1, 1)\n",
    "partitioner = CubedSpherePartitioner(TilePartitioner(layout))\n",
    "communicator = CubedSphereCommunicator(mpi_comm, partitioner)"
   ]
  },
  {
   "cell_type": "code",
   "execution_count": 4,
   "metadata": {},
   "outputs": [],
   "source": [
    "from pace.util import QuantityFactory, SubtileGridSizer\n",
    "\n",
    "backend = \"numpy\"\n",
    "\n",
    "sizer = SubtileGridSizer.from_tile_params(\n",
    "    nx_tile=128,\n",
    "    ny_tile=128,\n",
    "    nz=79,\n",
    "    n_halo=3,\n",
    "    extra_dim_lengths={},\n",
    "    layout=layout,\n",
    "    tile_partitioner=partitioner.tile,\n",
    "    tile_rank=communicator.tile.rank,\n",
    ")\n",
    "\n",
    "quantity_factory = QuantityFactory.from_backend(sizer=sizer, backend=backend)"
   ]
  },
  {
   "cell_type": "code",
   "execution_count": 5,
   "metadata": {},
   "outputs": [],
   "source": [
    "from datetime import datetime\n",
    "\n",
    "restart_path = \"/home/ajdas/pace/restart_data/v5.0\"\n",
    "restart_time = datetime.strptime(\"2020-08-26 12:00:01\", \"%Y-%m-%d %H:%M:%S\")\n",
    "fortran_data = True\n",
    "\n",
    "#serial_path = \"/home/ajdas/pace/test_data/8.1.1/c12_6ranks_baroclinic_dycore_microphysics/driver/\"\n",
    "#serialized_grid = True"
   ]
  },
  {
   "cell_type": "code",
   "execution_count": 6,
   "metadata": {},
   "outputs": [
    {
     "data": {
      "application/vnd.jupyter.widget-view+json": {
       "model_id": "ae417e3bb22448668ead151100305d07",
       "version_major": 2,
       "version_minor": 0
      },
      "text/plain": [
       "%px:   0%|          | 0/6 [00:00<?, ?tasks/s]"
      ]
     },
     "metadata": {},
     "output_type": "display_data"
    }
   ],
   "source": [
    "%%capture\n",
    "from pace.driver.initialization import RestartConfig\n",
    "\n",
    "restart_config = RestartConfig(path=restart_path, start_time=restart_time, fortran_data=fortran_data)\n",
    "fortran_state = restart_config.get_driver_state(quantity_factory, communicator)"
   ]
  },
  {
   "cell_type": "code",
   "execution_count": 7,
   "metadata": {},
   "outputs": [],
   "source": [
    "import numpy as np\n",
    "from pace.util import Quantity\n",
    "\n",
    "lon_driver = Quantity(\n",
    "    data = fortran_state.grid_data.lon.data * 180/np.pi,\n",
    "    dims = (\"x_interface\", \"y_interface\"),\n",
    "    units = \"degree\",\n",
    "    origin = (3, 3),\n",
    "    extent = (129, 129),\n",
    "    gt4py_backend=backend,\n",
    ")\n",
    "\n",
    "lat_driver = Quantity(\n",
    "    data = fortran_state.grid_data.lat.data * 180/np.pi,\n",
    "    dims = (\"x_interface\", \"y_interface\"),\n",
    "    units = \"degree\",\n",
    "    origin = (3, 3),\n",
    "    extent = (129, 129),\n",
    "    gt4py_backend=backend,\n",
    ")\n",
    "\n",
    "lona_driver = Quantity(\n",
    "    data = fortran_state.grid_data.lon_agrid.data * 180/np.pi,\n",
    "    dims = (\"x\", \"y\"),\n",
    "    units = \"degree\",\n",
    "    origin = (3, 3),\n",
    "    extent = (128, 128),\n",
    "    gt4py_backend=backend,\n",
    ")\n",
    "\n",
    "lata_driver = Quantity(\n",
    "    data = fortran_state.grid_data.lat_agrid.data * 180/np.pi,\n",
    "    dims = (\"x\", \"y\"),\n",
    "    units = \"degree\",\n",
    "    origin = (3, 3),\n",
    "    extent = (128, 128),\n",
    "    gt4py_backend=backend,\n",
    ")\n",
    "\n",
    "area_driver = Quantity(\n",
    "    data = fortran_state.grid_data.area.data,\n",
    "    dims = (\"x\", \"y\"),\n",
    "    units = \"degree\",\n",
    "    origin = (3, 3),\n",
    "    extent = (128, 128),\n",
    "    gt4py_backend=backend,\n",
    ")\n",
    "\n",
    "lon_driver_global = communicator.gather(lon_driver)\n",
    "lat_driver_global = communicator.gather(lat_driver)\n",
    "lona_driver_global = communicator.gather(lona_driver)\n",
    "lata_driver_global = communicator.gather(lata_driver)\n",
    "area_driver_global = communicator.gather(area_driver)"
   ]
  },
  {
   "cell_type": "code",
   "execution_count": null,
   "metadata": {},
   "outputs": [],
   "source": []
  },
  {
   "cell_type": "code",
   "execution_count": 8,
   "metadata": {},
   "outputs": [],
   "source": [
    "from netCDF4 import Dataset\n",
    "import numpy as np\n",
    "\n",
    "datadir = \"/home/ajdas/pace/restart_data/v5.0/\"\n",
    "\n",
    "data = Dataset(datadir + \"grid_spec.tile%s.nc\" % (rank+1), \"r\")\n",
    "lon_edges = np.array(data[\"grid_lon\"])\n",
    "lat_edges = np.array(data[\"grid_lat\"])\n",
    "lon_centers = np.array(data[\"grid_lont\"])\n",
    "lat_centers = np.array(data[\"grid_latt\"])\n",
    "area = np.array(data[\"area\"])\n",
    "#data.close()\n",
    "\n",
    "zero_array = np.zeros(lat_driver.data.shape)"
   ]
  },
  {
   "cell_type": "code",
   "execution_count": 9,
   "metadata": {},
   "outputs": [],
   "source": [
    "lon_fortran = Quantity(\n",
    "    data = zero_array,\n",
    "    dims = (\"x_interface\", \"y_interface\"),\n",
    "    units = \"degree\",\n",
    "    origin = (3, 3),\n",
    "    extent = (129, 129),\n",
    "    gt4py_backend=backend,\n",
    ")\n",
    "lon_fortran.data[3:-3, 3:-3] = lon_edges\n",
    "\n",
    "lat_fortran = Quantity(\n",
    "    data = zero_array,\n",
    "    dims = (\"x_interface\", \"y_interface\"),\n",
    "    units = \"degree\",\n",
    "    origin = (3, 3),\n",
    "    extent = (129, 129),\n",
    "    gt4py_backend=backend,\n",
    ")\n",
    "lat_fortran.data[3:-3, 3:-3] = lat_edges\n",
    "\n",
    "lona_fortran = Quantity(\n",
    "    data = zero_array,\n",
    "    dims = (\"x\", \"y\"),\n",
    "    units = \"degree\",\n",
    "    origin = (3, 3),\n",
    "    extent = (128, 128),\n",
    "    gt4py_backend=backend,\n",
    ")\n",
    "lona_fortran.data[3:-4, 3:-4] = lon_centers\n",
    "\n",
    "lata_fortran= Quantity(\n",
    "    data = zero_array,\n",
    "    dims = (\"x\", \"y\"),\n",
    "    units = \"degree\",\n",
    "    origin = (3, 3),\n",
    "    extent = (128, 128),\n",
    "    gt4py_backend=backend,\n",
    ")\n",
    "lata_fortran.data[3:-4, 3:-4] = lat_centers\n",
    "\n",
    "area_fortran = Quantity(\n",
    "    data = zero_array,\n",
    "    dims = (\"x\", \"y\"),\n",
    "    units = \"degree\",\n",
    "    origin = (3, 3),\n",
    "    extent = (128, 128),\n",
    "    gt4py_backend=backend,\n",
    ")\n",
    "area_fortran.data[3:-4, 3:-4] = area\n",
    "\n",
    "lon_fortran_global = communicator.gather(lon_fortran)\n",
    "lat_fortran_global = communicator.gather(lat_fortran)\n",
    "lona_fortran_global = communicator.gather(lona_fortran)\n",
    "lata_fortran_global = communicator.gather(lata_fortran)\n",
    "area_fortran_global = communicator.gather(area_fortran)"
   ]
  },
  {
   "cell_type": "code",
   "execution_count": 10,
   "metadata": {},
   "outputs": [
    {
     "data": {
      "application/vnd.jupyter.widget-view+json": {
       "model_id": "3ac52c8aaeec4574918b869d886c99c8",
       "version_major": 2,
       "version_minor": 0
      },
      "text/plain": [
       "%px:   0%|          | 0/6 [00:00<?, ?tasks/s]"
      ]
     },
     "metadata": {},
     "output_type": "display_data"
    },
    {
     "data": {
      "text/plain": [
       "[output:0]"
      ]
     },
     "metadata": {},
     "output_type": "display_data"
    },
    {
     "data": {
      "image/png": "[encoded data removed]",
      "text/plain": [
       "<Figure size 864x432 with 2 Axes>"
      ]
     },
     "metadata": {
      "engine": 0
     },
     "output_type": "display_data"
    },
    {
     "data": {
      "text/plain": [
       "[output:0]"
      ]
     },
     "metadata": {},
     "output_type": "display_data"
    },
    {
     "data": {
      "image/png": "[encoded data removed]",
      "text/plain": [
       "<Figure size 864x432 with 2 Axes>"
      ]
     },
     "metadata": {
      "engine": 0
     },
     "output_type": "display_data"
    }
   ],
   "source": [
    "import matplotlib.pyplot as plt\n",
    "from cartopy import crs as ccrs\n",
    "from fv3viz import pcolormesh_cube\n",
    "\n",
    "if rank == 0:\n",
    "    fig = plt.figure(figsize=(12, 6))\n",
    "    fig.patch.set_facecolor(\"white\")\n",
    "    ax = fig.add_subplot(111, projection=ccrs.Robinson())\n",
    "    ax.set_facecolor(\".4\")\n",
    "\n",
    "    # plot computational mesh\n",
    "    f1 = pcolormesh_cube(\n",
    "        lat_driver_global.data,\n",
    "        lon_driver_global.data,\n",
    "        area_driver_global.data * 2e-11,\n",
    "        cmap=\"viridis\",\n",
    "        vmin=0,\n",
    "        vmax=1,\n",
    "    )\n",
    "    plt.colorbar(f1, )\n",
    "\n",
    "    ax.set_title(\"Grid area - driver\")\n",
    "\n",
    "\n",
    "    fig = plt.figure(figsize=(12, 6))\n",
    "    fig.patch.set_facecolor(\"white\")\n",
    "    ax = fig.add_subplot(111, projection=ccrs.Robinson())\n",
    "    ax.set_facecolor(\".4\")\n",
    "\n",
    "    # plot computational mesh\n",
    "    f1 = pcolormesh_cube(\n",
    "        lat_fortran_global.data,\n",
    "        lon_fortran_global.data,\n",
    "        area_fortran_global.data * 2e-11,\n",
    "        cmap=\"viridis\",\n",
    "        vmin=0,\n",
    "        vmax=1,\n",
    "    )\n",
    "\n",
    "    plt.colorbar(f1, )\n",
    "\n",
    "    ax.set_title(\"Grid area - fortran\")\n",
    "\n",
    "    plt.show()"
   ]
  },
  {
   "cell_type": "code",
   "execution_count": 40,
   "metadata": {},
   "outputs": [],
   "source": [
    "from pace.util.grid import MetricTerms\n",
    "metric_terms = MetricTerms(\n",
    "        quantity_factory=quantity_factory, communicator=communicator\n",
    "    )"
   ]
  },
  {
   "cell_type": "code",
   "execution_count": 41,
   "metadata": {},
   "outputs": [],
   "source": [
    "metric_terms_grid = metric_terms._grid.data\n",
    "metric_terms_grid_0 = metric_terms_grid[:, :, 0] * 180 / np.pi # longitude\n",
    "metric_terms_grid_1 = metric_terms_grid[:, :, 1] * 180 / np.pi # latitude"
   ]
  },
  {
   "cell_type": "code",
   "execution_count": 42,
   "metadata": {},
   "outputs": [],
   "source": [
    "metric_terms_grid_try = np.empty(metric_terms_grid.shape)\n",
    "metric_terms_grid_try[3:-3, 3:-3, 0] = np.deg2rad(lon_edges)\n",
    "metric_terms_grid_try[3:-3, 3:-3, 1] = np.deg2rad(lat_edges)"
   ]
  },
  {
   "cell_type": "code",
   "execution_count": 43,
   "metadata": {},
   "outputs": [],
   "source": [
    "# lon_edges"
   ]
  },
  {
   "cell_type": "code",
   "execution_count": 44,
   "metadata": {},
   "outputs": [
    {
     "data": {
      "text/plain": [
       "[stdout:5] pre: 0.0010847101566659413 6.283030161109942\n",
       "post: 1.7466452202284555 4.274889094066131\n",
       "compare: 2.7216034 3.2997825\n"
      ]
     },
     "metadata": {},
     "output_type": "display_data"
    },
    {
     "data": {
      "text/plain": [
       "[stdout:1] pre: 0.6108652381980152 2.186779059066111\n",
       "post: 0.07482114528336377 6.22160889961827\n",
       "compare: 3.252269 4.417842\n"
      ]
     },
     "metadata": {},
     "output_type": "display_data"
    },
    {
     "data": {
      "text/plain": [
       "[stdout:3] pre: 2.181661564992912 3.7575753858610073\n",
       "post: 1.603543942433687 3.835381511044071\n",
       "compare: 2.1860044 3.8353815\n"
      ]
     },
     "metadata": {},
     "output_type": "display_data"
    },
    {
     "data": {
      "text/plain": [
       "[stdout:4] pre: 3.752457891787808 5.328371712655904\n",
       "post: 1.603543942433687 3.289311135431442\n",
       "compare: 1.6035439 2.7691169\n"
      ]
     },
     "metadata": {},
     "output_type": "display_data"
    },
    {
     "data": {
      "text/plain": [
       "[stdout:2] pre: 0.001084710156667325 6.283030161109942\n",
       "post: 0.0005213855471128401 6.281799093913148\n",
       "compare: 0.0005213555 6.281799\n"
      ]
     },
     "metadata": {},
     "output_type": "display_data"
    },
    {
     "data": {
      "text/plain": [
       "[stdout:0] pre: 0.008049315696714496 6.279553623659469\n",
       "post: 0.027538582849462718 6.271748755683029\n",
       "compare: 0.027538741 6.271749\n"
      ]
     },
     "metadata": {},
     "output_type": "display_data"
    }
   ],
   "source": [
    "print(\"pre:\", metric_terms.agrid.data[3:-3, 3:-3, 0].min(), metric_terms.agrid.data[3:-3, 3:-3, 0].max())\n",
    "metric_terms.grid.data[:] = metric_terms_grid_try\n",
    "metric_terms._init_agrid()\n",
    "print(\"post:\", metric_terms.agrid.data[3:-3, 3:-3, 0].min(), metric_terms.agrid.data[3:-3, 3:-3, 0].max())\n",
    "print(\"compare:\", np.deg2rad(lon_centers).min(), np.deg2rad(lon_centers).max())\n"
   ]
  },
  {
   "cell_type": "code",
   "execution_count": 45,
   "metadata": {},
   "outputs": [],
   "source": [
    "import numpy as np\n",
    "from pace.util import Quantity\n",
    "\n",
    "lon_mt = Quantity(\n",
    "    data = metric_terms.lon.data * 180/np.pi,\n",
    "    dims = (\"x_interface\", \"y_interface\"),\n",
    "    units = \"degree\",\n",
    "    origin = (3, 3),\n",
    "    extent = (129, 129),\n",
    "    gt4py_backend=backend,\n",
    ")\n",
    "\n",
    "lat_mt = Quantity(\n",
    "    data = metric_terms.lat.data * 180/np.pi,\n",
    "    dims = (\"x_interface\", \"y_interface\"),\n",
    "    units = \"degree\",\n",
    "    origin = (3, 3),\n",
    "    extent = (129, 129),\n",
    "    gt4py_backend=backend,\n",
    ")\n",
    "\n",
    "lona_mt = Quantity(\n",
    "    data = metric_terms.lon_agrid.data * 180/np.pi,\n",
    "    dims = (\"x\", \"y\"),\n",
    "    units = \"degree\",\n",
    "    origin = (3, 3),\n",
    "    extent = (128, 128),\n",
    "    gt4py_backend=backend,\n",
    ")\n",
    "\n",
    "lata_mt= Quantity(\n",
    "    data = metric_terms.lat_agrid.data * 180/np.pi,\n",
    "    dims = (\"x\", \"y\"),\n",
    "    units = \"degree\",\n",
    "    origin = (3, 3),\n",
    "    extent = (128, 128),\n",
    "    gt4py_backend=backend,\n",
    ")\n",
    "\n",
    "area_mt = Quantity(\n",
    "    data = metric_terms.area.data,\n",
    "    dims = (\"x\", \"y\"),\n",
    "    units = \"degree\",\n",
    "    origin = (3, 3),\n",
    "    extent = (128, 128),\n",
    "    gt4py_backend=backend,\n",
    ")\n",
    "\n",
    "lon_mt_global = communicator.gather(lon_mt)\n",
    "lat_mt_global = communicator.gather(lat_mt)\n",
    "lona_mt_global = communicator.gather(lona_mt)\n",
    "lata_mt_global = communicator.gather(lata_mt)\n",
    "area_mt_global = communicator.gather(area_mt)"
   ]
  },
  {
   "cell_type": "code",
   "execution_count": null,
   "metadata": {},
   "outputs": [],
   "source": []
  },
  {
   "cell_type": "code",
   "execution_count": 46,
   "metadata": {},
   "outputs": [
    {
     "data": {
      "application/vnd.jupyter.widget-view+json": {
       "model_id": "651c9e07a1594131b118ac6d1b3c61e2",
       "version_major": 2,
       "version_minor": 0
      },
      "text/plain": [
       "%px:   0%|          | 0/6 [00:00<?, ?tasks/s]"
      ]
     },
     "metadata": {},
     "output_type": "display_data"
    },
    {
     "data": {
      "text/plain": [
       "[output:0]"
      ]
     },
     "metadata": {},
     "output_type": "display_data"
    },
    {
     "data": {
      "image/png": "[encoded data removed]",
      "text/plain": [
       "<Figure size 864x432 with 2 Axes>"
      ]
     },
     "metadata": {
      "engine": 0
     },
     "output_type": "display_data"
    },
    {
     "data": {
      "text/plain": [
       "[output:0]"
      ]
     },
     "metadata": {},
     "output_type": "display_data"
    },
    {
     "data": {
      "image/png": "[encoded data removed]",
      "text/plain": [
       "<Figure size 864x432 with 2 Axes>"
      ]
     },
     "metadata": {
      "engine": 0
     },
     "output_type": "display_data"
    },
    {
     "data": {
      "text/plain": [
       "[output:0]"
      ]
     },
     "metadata": {},
     "output_type": "display_data"
    },
    {
     "data": {
      "image/png": "[encoded data removed]",
      "text/plain": [
       "<Figure size 864x432 with 2 Axes>"
      ]
     },
     "metadata": {
      "engine": 0
     },
     "output_type": "display_data"
    }
   ],
   "source": [
    "import matplotlib.pyplot as plt\n",
    "from cartopy import crs as ccrs\n",
    "from fv3viz import pcolormesh_cube\n",
    "\n",
    "if rank == 0:\n",
    "    fig = plt.figure(figsize=(12, 6))\n",
    "    fig.patch.set_facecolor(\"white\")\n",
    "    ax = fig.add_subplot(111, projection=ccrs.Robinson())\n",
    "    ax.set_facecolor(\".4\")\n",
    "\n",
    "    # plot computational mesh\n",
    "    f1 = pcolormesh_cube(\n",
    "        lat_driver_global.data,\n",
    "        lon_driver_global.data,\n",
    "        area_driver_global.data * 2e-11,\n",
    "        cmap=\"viridis\",\n",
    "        vmin=0,\n",
    "        vmax=1,\n",
    "    )\n",
    "    plt.colorbar(f1, )\n",
    "\n",
    "    ax.set_title(\"Grid area - driver\")\n",
    "\n",
    "\n",
    "    fig = plt.figure(figsize=(12, 6))\n",
    "    fig.patch.set_facecolor(\"white\")\n",
    "    ax = fig.add_subplot(111, projection=ccrs.Robinson())\n",
    "    ax.set_facecolor(\".4\")\n",
    "\n",
    "    # plot computational mesh\n",
    "    f1 = pcolormesh_cube(\n",
    "        lat_fortran_global.data,\n",
    "        lon_fortran_global.data,\n",
    "        area_fortran_global.data * 2e-11,\n",
    "        cmap=\"viridis\",\n",
    "        vmin=0,\n",
    "        vmax=1,\n",
    "    )\n",
    "\n",
    "    plt.colorbar(f1, )\n",
    "\n",
    "    ax.set_title(\"Grid area - fortran\")\n",
    "\n",
    "    field = np.zeros((lon_mt_global.data.shape[0], lon_mt_global.data.shape[1]-1, lon_mt_global.data.shape[2]-1))\n",
    "\n",
    "    fig = plt.figure(figsize=(12, 6))\n",
    "    fig.patch.set_facecolor(\"white\")\n",
    "    ax = fig.add_subplot(111, projection=ccrs.Robinson())\n",
    "    ax.set_facecolor(\".4\")\n",
    "\n",
    "    # plot computational mesh\n",
    "    f1 = pcolormesh_cube(\n",
    "        lat_mt_global.data,\n",
    "        lon_mt_global.data,\n",
    "        area_mt_global.data * 2e-11,\n",
    "        cmap=\"viridis\",\n",
    "        vmin=0,\n",
    "        vmax=1,\n",
    "    )\n",
    "\n",
    "    plt.colorbar(f1, )\n",
    "\n",
    "    ax.set_title(\"Grid area - metric_terms\")\n",
    "\n",
    "    plt.show()"
   ]
  },
  {
   "cell_type": "code",
   "execution_count": 18,
   "metadata": {},
   "outputs": [],
   "source": [
    "# import pace.util.grid.generation\n",
    "# import importlib\n",
    "# importlib.reload(pace.util.grid.generation)\n",
    "# from pace.util.grid.generation import MetricTerms\n",
    "\n",
    "# metric_terms = MetricTerms(\n",
    "#         quantity_factory=quantity_factory, communicator=communicator\n",
    "#     )\n",
    "# metric_terms = metric_terms.from_lat_lon(lat_edges, lon_edges)\n",
    "\n"
   ]
  },
  {
   "cell_type": "code",
   "execution_count": 19,
   "metadata": {},
   "outputs": [],
   "source": [
    "# import numpy as np\n",
    "# from pace.util import Quantity\n",
    "\n",
    "# lon_mt = Quantity(\n",
    "#     data = metric_terms.lon.data * 180/np.pi,\n",
    "#     dims = (\"x_interface\", \"y_interface\"),\n",
    "#     units = \"degree\",\n",
    "#     origin = (3, 3),\n",
    "#     extent = (129, 129),\n",
    "#     gt4py_backend=backend,\n",
    "# )\n",
    "\n",
    "# lat_mt = Quantity(\n",
    "#     data = metric_terms.lat.data * 180/np.pi,\n",
    "#     dims = (\"x_interface\", \"y_interface\"),\n",
    "#     units = \"degree\",\n",
    "#     origin = (3, 3),\n",
    "#     extent = (129, 129),\n",
    "#     gt4py_backend=backend,\n",
    "# )\n",
    "\n",
    "# lona_mt = Quantity(\n",
    "#     data = metric_terms.lon_agrid.data * 180/np.pi,\n",
    "#     dims = (\"x\", \"y\"),\n",
    "#     units = \"degree\",\n",
    "#     origin = (3, 3),\n",
    "#     extent = (128, 128),\n",
    "#     gt4py_backend=backend,\n",
    "# )\n",
    "\n",
    "# lata_mt= Quantity(\n",
    "#     data = metric_terms.lat_agrid.data * 180/np.pi,\n",
    "#     dims = (\"x\", \"y\"),\n",
    "#     units = \"degree\",\n",
    "#     origin = (3, 3),\n",
    "#     extent = (128, 128),\n",
    "#     gt4py_backend=backend,\n",
    "# )\n",
    "\n",
    "# area_mt = Quantity(\n",
    "#     data = metric_terms.area.data,\n",
    "#     dims = (\"x\", \"y\"),\n",
    "#     units = \"degree\",\n",
    "#     origin = (3, 3),\n",
    "#     extent = (128, 128),\n",
    "#     gt4py_backend=backend,\n",
    "# )\n",
    "\n",
    "# lon_mt_global = communicator.gather(lon_mt)\n",
    "# lat_mt_global = communicator.gather(lat_mt)\n",
    "# lona_mt_global = communicator.gather(lona_mt)\n",
    "# lata_mt_global = communicator.gather(lata_mt)\n",
    "# area_mt_global = communicator.gather(area_mt)"
   ]
  },
  {
   "cell_type": "code",
   "execution_count": 20,
   "metadata": {},
   "outputs": [],
   "source": [
    "# import matplotlib.pyplot as plt\n",
    "# from cartopy import crs as ccrs\n",
    "# from fv3viz import pcolormesh_cube\n",
    "\n",
    "# if rank == 0:\n",
    "#     fig = plt.figure(figsize=(12, 6))\n",
    "#     fig.patch.set_facecolor(\"white\")\n",
    "#     ax = fig.add_subplot(111, projection=ccrs.Robinson())\n",
    "#     ax.set_facecolor(\".4\")\n",
    "\n",
    "#     # plot computational mesh\n",
    "#     f1 = pcolormesh_cube(\n",
    "#         lat_driver_global.data,\n",
    "#         lon_driver_global.data,\n",
    "#         area_driver_global.data * 2e-11,\n",
    "#         cmap=\"viridis\",\n",
    "#         vmin=0,\n",
    "#         vmax=1,\n",
    "#     )\n",
    "#     plt.colorbar(f1, )\n",
    "\n",
    "#     ax.set_title(\"Grid area - driver\")\n",
    "\n",
    "\n",
    "#     fig = plt.figure(figsize=(12, 6))\n",
    "#     fig.patch.set_facecolor(\"white\")\n",
    "#     ax = fig.add_subplot(111, projection=ccrs.Robinson())\n",
    "#     ax.set_facecolor(\".4\")\n",
    "\n",
    "#     # plot computational mesh\n",
    "#     f1 = pcolormesh_cube(\n",
    "#         lat_fortran_global.data,\n",
    "#         lon_fortran_global.data,\n",
    "#         area_fortran_global.data * 2e-11,\n",
    "#         cmap=\"viridis\",\n",
    "#         vmin=0,\n",
    "#         vmax=1,\n",
    "#     )\n",
    "\n",
    "#     plt.colorbar(f1, )\n",
    "\n",
    "#     ax.set_title(\"Grid area - fortran\")\n",
    "\n",
    "#     field = np.zeros((lon_mt_global.data.shape[0], lon_mt_global.data.shape[1]-1, lon_mt_global.data.shape[2]-1))\n",
    "\n",
    "#     fig = plt.figure(figsize=(12, 6))\n",
    "#     fig.patch.set_facecolor(\"white\")\n",
    "#     ax = fig.add_subplot(111, projection=ccrs.Robinson())\n",
    "#     ax.set_facecolor(\".4\")\n",
    "\n",
    "#     # plot computational mesh\n",
    "#     f1 = pcolormesh_cube(\n",
    "#         lat_mt_global.data,\n",
    "#         lon_mt_global.data,\n",
    "#         area_mt_global.data * 2e-11,\n",
    "#         cmap=\"viridis\",\n",
    "#         vmin=0,\n",
    "#         vmax=1,\n",
    "#     )\n",
    "\n",
    "#     plt.colorbar(f1, )\n",
    "\n",
    "#     ax.set_title(\"Grid area - metric_terms\")\n",
    "\n",
    "#     plt.show()"
   ]
  },
  {
   "cell_type": "code",
   "execution_count": 21,
   "metadata": {},
   "outputs": [
    {
     "data": {
      "text/plain": [
       "[stdout:1] Fortran data flag: True\n",
       "modified_grid\n",
       "Rank: 1\n",
       "State time: 2020-08-26 12:00:01\n",
       "Restarted driver state\n"
      ]
     },
     "metadata": {},
     "output_type": "display_data"
    },
    {
     "data": {
      "text/plain": [
       "[stdout:4] Fortran data flag: True\n",
       "modified_grid\n",
       "Rank: 4\n",
       "State time: 2020-08-26 12:00:01\n",
       "Restarted driver state\n"
      ]
     },
     "metadata": {},
     "output_type": "display_data"
    },
    {
     "data": {
      "text/plain": [
       "[stdout:5] Fortran data flag: True\n",
       "modified_grid\n",
       "Rank: 5\n",
       "State time: 2020-08-26 12:00:01\n",
       "Restarted driver state\n"
      ]
     },
     "metadata": {},
     "output_type": "display_data"
    },
    {
     "data": {
      "text/plain": [
       "[stdout:3] Fortran data flag: True\n",
       "modified_grid\n",
       "Rank: 3\n",
       "State time: 2020-08-26 12:00:01\n",
       "Restarted driver state\n"
      ]
     },
     "metadata": {},
     "output_type": "display_data"
    },
    {
     "data": {
      "text/plain": [
       "[stdout:0] Fortran data flag: True\n",
       "modified_grid\n",
       "Rank: 0\n",
       "State time: 2020-08-26 12:00:01\n",
       "Restarted driver state\n"
      ]
     },
     "metadata": {},
     "output_type": "display_data"
    },
    {
     "data": {
      "text/plain": [
       "[stdout:2] Fortran data flag: True\n",
       "modified_grid\n",
       "Rank: 2\n",
       "State time: 2020-08-26 12:00:01\n",
       "Restarted driver state\n"
      ]
     },
     "metadata": {},
     "output_type": "display_data"
    },
    {
     "data": {
      "text/plain": [
       "[stderr:5] /home/ajdas/pace/util/pace/util/grid/gnomonic.py:699: RuntimeWarning: divide by zero encountered in true_divide\n",
       "  return np.sum(p * q, axis=-1) / np.sqrt(\n"
      ]
     },
     "metadata": {},
     "output_type": "display_data"
    },
    {
     "data": {
      "text/plain": [
       "[stderr:3] /home/ajdas/pace/util/pace/util/grid/gnomonic.py:699: RuntimeWarning: divide by zero encountered in true_divide\n",
       "  return np.sum(p * q, axis=-1) / np.sqrt(\n",
       "/home/ajdas/pace/util/pace/util/grid/geometry.py:597: RuntimeWarning: divide by zero encountered in true_divide\n",
       "  a11 = 0.5 * z22 / sin_sg5\n",
       "/home/ajdas/pace/util/pace/util/grid/geometry.py:598: RuntimeWarning: divide by zero encountered in true_divide\n",
       "  a12 = -0.5 * z12 / sin_sg5\n",
       "/home/ajdas/pace/util/pace/util/grid/geometry.py:599: RuntimeWarning: divide by zero encountered in true_divide\n",
       "  a21 = -0.5 * z21 / sin_sg5\n",
       "/home/ajdas/pace/util/pace/util/grid/geometry.py:600: RuntimeWarning: divide by zero encountered in true_divide\n",
       "  a22 = 0.5 * z11 / sin_sg5\n"
      ]
     },
     "metadata": {},
     "output_type": "display_data"
    },
    {
     "data": {
      "text/plain": [
       "[stderr:1] /home/ajdas/pace/util/pace/util/grid/gnomonic.py:699: RuntimeWarning: divide by zero encountered in true_divide\n",
       "  return np.sum(p * q, axis=-1) / np.sqrt(\n"
      ]
     },
     "metadata": {},
     "output_type": "display_data"
    },
    {
     "data": {
      "text/plain": [
       "[stderr:4] /home/ajdas/pace/util/pace/util/grid/gnomonic.py:699: RuntimeWarning: divide by zero encountered in true_divide\n",
       "  return np.sum(p * q, axis=-1) / np.sqrt(\n",
       "/home/ajdas/pace/util/pace/util/grid/geometry.py:597: RuntimeWarning: divide by zero encountered in true_divide\n",
       "  a11 = 0.5 * z22 / sin_sg5\n",
       "/home/ajdas/pace/util/pace/util/grid/geometry.py:598: RuntimeWarning: divide by zero encountered in true_divide\n",
       "  a12 = -0.5 * z12 / sin_sg5\n",
       "/home/ajdas/pace/util/pace/util/grid/geometry.py:599: RuntimeWarning: divide by zero encountered in true_divide\n",
       "  a21 = -0.5 * z21 / sin_sg5\n",
       "/home/ajdas/pace/util/pace/util/grid/geometry.py:600: RuntimeWarning: divide by zero encountered in true_divide\n",
       "  a22 = 0.5 * z11 / sin_sg5\n"
      ]
     },
     "metadata": {},
     "output_type": "display_data"
    },
    {
     "data": {
      "text/plain": [
       "[stderr:0] /home/ajdas/pace/util/pace/util/grid/gnomonic.py:699: RuntimeWarning: divide by zero encountered in true_divide\n",
       "  return np.sum(p * q, axis=-1) / np.sqrt(\n"
      ]
     },
     "metadata": {},
     "output_type": "display_data"
    },
    {
     "data": {
      "text/plain": [
       "[stderr:2] /home/ajdas/pace/util/pace/util/grid/gnomonic.py:699: RuntimeWarning: divide by zero encountered in true_divide\n",
       "  return np.sum(p * q, axis=-1) / np.sqrt(\n"
      ]
     },
     "metadata": {},
     "output_type": "display_data"
    },
    {
     "data": {
      "application/vnd.jupyter.widget-view+json": {
       "model_id": "b6169bc8cd5048f7ba7f7984ca69a10e",
       "version_major": 2,
       "version_minor": 0
      },
      "text/plain": [
       "%px:   0%|          | 0/6 [00:00<?, ?tasks/s]"
      ]
     },
     "metadata": {},
     "output_type": "display_data"
    }
   ],
   "source": [
    "import importlib\n",
    "import pace.driver.initialization\n",
    "importlib.reload(pace.driver.initialization)\n",
    "from pace.driver.initialization import RestartConfig\n",
    "\n",
    "restart_config = RestartConfig(path=restart_path, start_time=restart_time, fortran_data=fortran_data, fortran_grid=True)\n",
    "fortran_state = restart_config.get_driver_state(quantity_factory, communicator)"
   ]
  },
  {
   "cell_type": "code",
   "execution_count": 34,
   "metadata": {},
   "outputs": [],
   "source": [
    "import numpy as np\n",
    "from pace.util import Quantity\n",
    "\n",
    "lon_driver_mt = Quantity(\n",
    "    data = fortran_state.grid_data.lon.data,\n",
    "    dims = (\"x_interface\", \"y_interface\"),\n",
    "    units = \"degree\",\n",
    "    origin = (3, 3),\n",
    "    extent = (129, 129),\n",
    "    gt4py_backend=backend,\n",
    ")\n",
    "\n",
    "lat_driver_mt = Quantity(\n",
    "    data = fortran_state.grid_data.lat.data,\n",
    "    dims = (\"x_interface\", \"y_interface\"),\n",
    "    units = \"degree\",\n",
    "    origin = (3, 3),\n",
    "    extent = (129, 129),\n",
    "    gt4py_backend=backend,\n",
    ")\n",
    "\n",
    "lona_driver_mt = Quantity(\n",
    "    data = fortran_state.grid_data.lon_agrid.data,\n",
    "    dims = (\"x\", \"y\"),\n",
    "    units = \"degree\",\n",
    "    origin = (3, 3),\n",
    "    extent = (128, 128),\n",
    "    gt4py_backend=backend,\n",
    ")\n",
    "\n",
    "lata_driver_mt = Quantity(\n",
    "    data = fortran_state.grid_data.lat_agrid.data,\n",
    "    dims = (\"x\", \"y\"),\n",
    "    units = \"degree\",\n",
    "    origin = (3, 3),\n",
    "    extent = (128, 128),\n",
    "    gt4py_backend=backend,\n",
    ")\n",
    "\n",
    "area_driver_mt = Quantity(\n",
    "    data = fortran_state.grid_data.area.data,\n",
    "    dims = (\"x\", \"y\"),\n",
    "    units = \"degree\",\n",
    "    origin = (3, 3),\n",
    "    extent = (128, 128),\n",
    "    gt4py_backend=backend,\n",
    ")\n",
    "\n",
    "lon_driver_mt_global = communicator.gather(lon_driver_mt)\n",
    "lat_driver_mt_global = communicator.gather(lat_driver_mt)\n",
    "lona_driver_mt_global = communicator.gather(lona_driver_mt)\n",
    "lata_driver_mt_global = communicator.gather(lata_driver_mt)\n",
    "area_driver_mt_global = communicator.gather(area_driver_mt)"
   ]
  },
  {
   "cell_type": "code",
   "execution_count": 39,
   "metadata": {},
   "outputs": [
    {
     "data": {
      "application/vnd.jupyter.widget-view+json": {
       "model_id": "413d7ab81a924c2ea21d3264a13eb156",
       "version_major": 2,
       "version_minor": 0
      },
      "text/plain": [
       "%px:   0%|          | 0/6 [00:00<?, ?tasks/s]"
      ]
     },
     "metadata": {},
     "output_type": "display_data"
    },
    {
     "data": {
      "text/plain": [
       "[output:0]"
      ]
     },
     "metadata": {},
     "output_type": "display_data"
    },
    {
     "data": {
      "image/png": "[encoded data removed]",
      "text/plain": [
       "<Figure size 864x432 with 2 Axes>"
      ]
     },
     "metadata": {
      "engine": 0
     },
     "output_type": "display_data"
    }
   ],
   "source": [
    "import matplotlib.pyplot as plt\n",
    "from cartopy import crs as ccrs\n",
    "from fv3viz import pcolormesh_cube\n",
    "\n",
    "if rank == 0:\n",
    "    # fig = plt.figure(figsize=(12, 6))\n",
    "    # fig.patch.set_facecolor(\"white\")\n",
    "    # ax = fig.add_subplot(111, projection=ccrs.Robinson())\n",
    "    # ax.set_facecolor(\".4\")\n",
    "\n",
    "    # # plot computational mesh\n",
    "    # f1 = pcolormesh_cube(\n",
    "    #     lat_driver_global.data,\n",
    "    #     lon_driver_global.data,\n",
    "    #     area_driver_global.data * 2e-11,\n",
    "    #     cmap=\"viridis\",\n",
    "    #     vmin=0,\n",
    "    #     vmax=1,\n",
    "    # )\n",
    "    # plt.colorbar(f1, )\n",
    "\n",
    "    # ax.set_title(\"Grid area - driver\")\n",
    "\n",
    "\n",
    "    # fig = plt.figure(figsize=(12, 6))\n",
    "    # fig.patch.set_facecolor(\"white\")\n",
    "    # ax = fig.add_subplot(111, projection=ccrs.Robinson())\n",
    "    # ax.set_facecolor(\".4\")\n",
    "\n",
    "    # # plot computational mesh\n",
    "    # f1 = pcolormesh_cube(\n",
    "    #     lat_fortran_global.data,\n",
    "    #     lon_fortran_global.data,\n",
    "    #     area_fortran_global.data * 2e-11,\n",
    "    #     cmap=\"viridis\",\n",
    "    #     vmin=0,\n",
    "    #     vmax=1,\n",
    "    # )\n",
    "\n",
    "    # plt.colorbar(f1, )\n",
    "\n",
    "    # ax.set_title(\"Grid area - fortran\")\n",
    "\n",
    "\n",
    "    fig = plt.figure(figsize=(12, 6))\n",
    "    fig.patch.set_facecolor(\"white\")\n",
    "    ax = fig.add_subplot(111, projection=ccrs.Robinson())\n",
    "    ax.set_facecolor(\".4\")\n",
    "\n",
    "    # plot computational mesh\n",
    "    f1 = pcolormesh_cube(\n",
    "        lat_driver_mt_global.data,\n",
    "        lon_driver_mt_global.data,\n",
    "        area_driver_mt_global.data * 2e-11,\n",
    "        cmap=\"viridis\",\n",
    "        vmin=0,\n",
    "        vmax=1,\n",
    "    )\n",
    "\n",
    "    plt.colorbar(f1, )\n",
    "\n",
    "    ax.set_title(\"Grid area - driver w/ mod metric_terms\")\n",
    "\n",
    "    plt.show()"
   ]
  },
  {
   "cell_type": "code",
   "execution_count": 38,
   "metadata": {},
   "outputs": [
    {
     "data": {
      "text/plain": [
       "[stdout:3] -109688610976516.12 57108932732519.34\n"
      ]
     },
     "metadata": {},
     "output_type": "display_data"
    },
    {
     "data": {
      "text/plain": [
       "[stdout:2] -245876850239203.72 248461436820901.56\n"
      ]
     },
     "metadata": {},
     "output_type": "display_data"
    },
    {
     "data": {
      "text/plain": [
       "[stdout:0] -244100400367783.97 197776365218102.03\n"
      ]
     },
     "metadata": {},
     "output_type": "display_data"
    },
    {
     "data": {
      "text/plain": [
       "[stdout:4] -126681597612415.0 61232772883887.734\n"
      ]
     },
     "metadata": {},
     "output_type": "display_data"
    },
    {
     "data": {
      "text/plain": [
       "[stdout:1] -233717963498404.16 99974084775109.1\n"
      ]
     },
     "metadata": {},
     "output_type": "display_data"
    },
    {
     "data": {
      "text/plain": [
       "[stdout:5] -73838349327425.92 20123873630469.418\n"
      ]
     },
     "metadata": {},
     "output_type": "display_data"
    }
   ],
   "source": [
    "    #print(fortran_state.grid_data.lon.min(), fortran_state.grid_data.lon.max())\n",
    "print(area_driver_mt.data.min(), area_driver_mt.data.max())"
   ]
  },
  {
   "cell_type": "code",
   "execution_count": 26,
   "metadata": {},
   "outputs": [
    {
     "data": {
      "text/plain": [
       "\u001b[0;31mOut[2:25]: \u001b[0m\n",
       "['__class__',\n",
       " '__delattr__',\n",
       " '__dict__',\n",
       " '__dir__',\n",
       " '__doc__',\n",
       " '__eq__',\n",
       " '__format__',\n",
       " '__ge__',\n",
       " '__getattribute__',\n",
       " '__gt__',\n",
       " '__hash__',\n",
       " '__init__',\n",
       " '__init_subclass__',\n",
       " '__le__',\n",
       " '__lt__',\n",
       " '__module__',\n",
       " '__ne__',\n",
       " '__new__',\n",
       " '__reduce__',\n",
       " '__reduce_ex__',\n",
       " '__repr__',\n",
       " '__setattr__',\n",
       " '__sizeof__',\n",
       " '__str__',\n",
       " '__subclasshook__',\n",
       " '__weakref__',\n",
       " '_angle_data',\n",
       " '_contravariant_data',\n",
       " '_horizontal_data',\n",
       " '_vertical_data',\n",
       " 'a11',\n",
       " 'a12',\n",
       " 'a21',\n",
       " 'a22',\n",
       " 'ak',\n",
       " 'area',\n",
       " 'area_64',\n",
       " 'bk',\n",
       " 'cos_sg1',\n",
       " 'cos_sg2',\n",
       " 'cos_sg3',\n",
       " 'cos_sg4',\n",
       " 'cosa',\n",
       " 'cosa_s',\n",
       " 'cosa_u',\n",
       " 'cosa_v',\n",
       " 'dx',\n",
       " 'dxa',\n",
       " 'dxc',\n",
       " 'dy',\n",
       " 'dya',\n",
       " 'dyc',\n",
       " 'edge_e',\n",
       " 'edge_n',\n",
       " 'edge_s',\n",
       " 'edge_w',\n",
       " 'ks',\n",
       " 'lat',\n",
       " 'lat_agrid',\n",
       " 'lon',\n",
       " 'lon_agrid',\n",
       " 'new_from_metric_terms',\n",
       " 'p_ref',\n",
       " 'ptop',\n",
       " 'rarea',\n",
       " 'rarea_c',\n",
       " 'rdx',\n",
       " 'rdxa',\n",
       " 'rdxc',\n",
       " 'rdy',\n",
       " 'rdya',\n",
       " 'rdyc',\n",
       " 'rsin2',\n",
       " 'rsin_u',\n",
       " 'rsin_v',\n",
       " 'rsina',\n",
       " 'sin_sg1',\n",
       " 'sin_sg2',\n",
       " 'sin_sg3',\n",
       " 'sin_sg4',\n",
       " 'sina_u',\n",
       " 'sina_v']"
      ]
     },
     "metadata": {
      "after": null,
      "completed": null,
      "data": {},
      "engine_id": 2,
      "engine_uuid": "6ca4ded8-761324e280ae6274bbe13bd5",
      "error": null,
      "execute_input": "dir(fortran_state.grid_data)",
      "execute_result": {
       "data": {
        "text/plain": "['__class__',\n '__delattr__',\n '__dict__',\n '__dir__',\n '__doc__',\n '__eq__',\n '__format__',\n '__ge__',\n '__getattribute__',\n '__gt__',\n '__hash__',\n '__init__',\n '__init_subclass__',\n '__le__',\n '__lt__',\n '__module__',\n '__ne__',\n '__new__',\n '__reduce__',\n '__reduce_ex__',\n '__repr__',\n '__setattr__',\n '__sizeof__',\n '__str__',\n '__subclasshook__',\n '__weakref__',\n '_angle_data',\n '_contravariant_data',\n '_horizontal_data',\n '_vertical_data',\n 'a11',\n 'a12',\n 'a21',\n 'a22',\n 'ak',\n 'area',\n 'area_64',\n 'bk',\n 'cos_sg1',\n 'cos_sg2',\n 'cos_sg3',\n 'cos_sg4',\n 'cosa',\n 'cosa_s',\n 'cosa_u',\n 'cosa_v',\n 'dx',\n 'dxa',\n 'dxc',\n 'dy',\n 'dya',\n 'dyc',\n 'edge_e',\n 'edge_n',\n 'edge_s',\n 'edge_w',\n 'ks',\n 'lat',\n 'lat_agrid',\n 'lon',\n 'lon_agrid',\n 'new_from_metric_terms',\n 'p_ref',\n 'ptop',\n 'rarea',\n 'rarea_c',\n 'rdx',\n 'rdxa',\n 'rdxc',\n 'rdy',\n 'rdya',\n 'rdyc',\n 'rsin2',\n 'rsin_u',\n 'rsin_v',\n 'rsina',\n 'sin_sg1',\n 'sin_sg2',\n 'sin_sg3',\n 'sin_sg4',\n 'sina_u',\n 'sina_v']"
       },
       "execution_count": 25,
       "metadata": {}
      },
      "follow": null,
      "msg_id": null,
      "outputs": [],
      "received": null,
      "started": null,
      "status": null,
      "stderr": "",
      "stdout": "",
      "submitted": "2022-09-07T01:12:02.055216Z"
     },
     "output_type": "display_data"
    },
    {
     "data": {
      "text/plain": [
       "\u001b[0;31mOut[3:25]: \u001b[0m\n",
       "['__class__',\n",
       " '__delattr__',\n",
       " '__dict__',\n",
       " '__dir__',\n",
       " '__doc__',\n",
       " '__eq__',\n",
       " '__format__',\n",
       " '__ge__',\n",
       " '__getattribute__',\n",
       " '__gt__',\n",
       " '__hash__',\n",
       " '__init__',\n",
       " '__init_subclass__',\n",
       " '__le__',\n",
       " '__lt__',\n",
       " '__module__',\n",
       " '__ne__',\n",
       " '__new__',\n",
       " '__reduce__',\n",
       " '__reduce_ex__',\n",
       " '__repr__',\n",
       " '__setattr__',\n",
       " '__sizeof__',\n",
       " '__str__',\n",
       " '__subclasshook__',\n",
       " '__weakref__',\n",
       " '_angle_data',\n",
       " '_contravariant_data',\n",
       " '_horizontal_data',\n",
       " '_vertical_data',\n",
       " 'a11',\n",
       " 'a12',\n",
       " 'a21',\n",
       " 'a22',\n",
       " 'ak',\n",
       " 'area',\n",
       " 'area_64',\n",
       " 'bk',\n",
       " 'cos_sg1',\n",
       " 'cos_sg2',\n",
       " 'cos_sg3',\n",
       " 'cos_sg4',\n",
       " 'cosa',\n",
       " 'cosa_s',\n",
       " 'cosa_u',\n",
       " 'cosa_v',\n",
       " 'dx',\n",
       " 'dxa',\n",
       " 'dxc',\n",
       " 'dy',\n",
       " 'dya',\n",
       " 'dyc',\n",
       " 'edge_e',\n",
       " 'edge_n',\n",
       " 'edge_s',\n",
       " 'edge_w',\n",
       " 'ks',\n",
       " 'lat',\n",
       " 'lat_agrid',\n",
       " 'lon',\n",
       " 'lon_agrid',\n",
       " 'new_from_metric_terms',\n",
       " 'p_ref',\n",
       " 'ptop',\n",
       " 'rarea',\n",
       " 'rarea_c',\n",
       " 'rdx',\n",
       " 'rdxa',\n",
       " 'rdxc',\n",
       " 'rdy',\n",
       " 'rdya',\n",
       " 'rdyc',\n",
       " 'rsin2',\n",
       " 'rsin_u',\n",
       " 'rsin_v',\n",
       " 'rsina',\n",
       " 'sin_sg1',\n",
       " 'sin_sg2',\n",
       " 'sin_sg3',\n",
       " 'sin_sg4',\n",
       " 'sina_u',\n",
       " 'sina_v']"
      ]
     },
     "metadata": {
      "after": null,
      "completed": null,
      "data": {},
      "engine_id": 3,
      "engine_uuid": "94471134-720856b9d094e861b3aa4fcb",
      "error": null,
      "execute_input": "dir(fortran_state.grid_data)",
      "execute_result": {
       "data": {
        "text/plain": "['__class__',\n '__delattr__',\n '__dict__',\n '__dir__',\n '__doc__',\n '__eq__',\n '__format__',\n '__ge__',\n '__getattribute__',\n '__gt__',\n '__hash__',\n '__init__',\n '__init_subclass__',\n '__le__',\n '__lt__',\n '__module__',\n '__ne__',\n '__new__',\n '__reduce__',\n '__reduce_ex__',\n '__repr__',\n '__setattr__',\n '__sizeof__',\n '__str__',\n '__subclasshook__',\n '__weakref__',\n '_angle_data',\n '_contravariant_data',\n '_horizontal_data',\n '_vertical_data',\n 'a11',\n 'a12',\n 'a21',\n 'a22',\n 'ak',\n 'area',\n 'area_64',\n 'bk',\n 'cos_sg1',\n 'cos_sg2',\n 'cos_sg3',\n 'cos_sg4',\n 'cosa',\n 'cosa_s',\n 'cosa_u',\n 'cosa_v',\n 'dx',\n 'dxa',\n 'dxc',\n 'dy',\n 'dya',\n 'dyc',\n 'edge_e',\n 'edge_n',\n 'edge_s',\n 'edge_w',\n 'ks',\n 'lat',\n 'lat_agrid',\n 'lon',\n 'lon_agrid',\n 'new_from_metric_terms',\n 'p_ref',\n 'ptop',\n 'rarea',\n 'rarea_c',\n 'rdx',\n 'rdxa',\n 'rdxc',\n 'rdy',\n 'rdya',\n 'rdyc',\n 'rsin2',\n 'rsin_u',\n 'rsin_v',\n 'rsina',\n 'sin_sg1',\n 'sin_sg2',\n 'sin_sg3',\n 'sin_sg4',\n 'sina_u',\n 'sina_v']"
       },
       "execution_count": 25,
       "metadata": {}
      },
      "follow": null,
      "msg_id": null,
      "outputs": [],
      "received": null,
      "started": null,
      "status": null,
      "stderr": "",
      "stdout": "",
      "submitted": "2022-09-07T01:12:02.055289Z"
     },
     "output_type": "display_data"
    },
    {
     "data": {
      "text/plain": [
       "\u001b[0;31mOut[5:25]: \u001b[0m\n",
       "['__class__',\n",
       " '__delattr__',\n",
       " '__dict__',\n",
       " '__dir__',\n",
       " '__doc__',\n",
       " '__eq__',\n",
       " '__format__',\n",
       " '__ge__',\n",
       " '__getattribute__',\n",
       " '__gt__',\n",
       " '__hash__',\n",
       " '__init__',\n",
       " '__init_subclass__',\n",
       " '__le__',\n",
       " '__lt__',\n",
       " '__module__',\n",
       " '__ne__',\n",
       " '__new__',\n",
       " '__reduce__',\n",
       " '__reduce_ex__',\n",
       " '__repr__',\n",
       " '__setattr__',\n",
       " '__sizeof__',\n",
       " '__str__',\n",
       " '__subclasshook__',\n",
       " '__weakref__',\n",
       " '_angle_data',\n",
       " '_contravariant_data',\n",
       " '_horizontal_data',\n",
       " '_vertical_data',\n",
       " 'a11',\n",
       " 'a12',\n",
       " 'a21',\n",
       " 'a22',\n",
       " 'ak',\n",
       " 'area',\n",
       " 'area_64',\n",
       " 'bk',\n",
       " 'cos_sg1',\n",
       " 'cos_sg2',\n",
       " 'cos_sg3',\n",
       " 'cos_sg4',\n",
       " 'cosa',\n",
       " 'cosa_s',\n",
       " 'cosa_u',\n",
       " 'cosa_v',\n",
       " 'dx',\n",
       " 'dxa',\n",
       " 'dxc',\n",
       " 'dy',\n",
       " 'dya',\n",
       " 'dyc',\n",
       " 'edge_e',\n",
       " 'edge_n',\n",
       " 'edge_s',\n",
       " 'edge_w',\n",
       " 'ks',\n",
       " 'lat',\n",
       " 'lat_agrid',\n",
       " 'lon',\n",
       " 'lon_agrid',\n",
       " 'new_from_metric_terms',\n",
       " 'p_ref',\n",
       " 'ptop',\n",
       " 'rarea',\n",
       " 'rarea_c',\n",
       " 'rdx',\n",
       " 'rdxa',\n",
       " 'rdxc',\n",
       " 'rdy',\n",
       " 'rdya',\n",
       " 'rdyc',\n",
       " 'rsin2',\n",
       " 'rsin_u',\n",
       " 'rsin_v',\n",
       " 'rsina',\n",
       " 'sin_sg1',\n",
       " 'sin_sg2',\n",
       " 'sin_sg3',\n",
       " 'sin_sg4',\n",
       " 'sina_u',\n",
       " 'sina_v']"
      ]
     },
     "metadata": {
      "after": null,
      "completed": null,
      "data": {},
      "engine_id": 5,
      "engine_uuid": "fbe3ef0e-3f83dccd0f87fe5204e84d9b",
      "error": null,
      "execute_input": "dir(fortran_state.grid_data)",
      "execute_result": {
       "data": {
        "text/plain": "['__class__',\n '__delattr__',\n '__dict__',\n '__dir__',\n '__doc__',\n '__eq__',\n '__format__',\n '__ge__',\n '__getattribute__',\n '__gt__',\n '__hash__',\n '__init__',\n '__init_subclass__',\n '__le__',\n '__lt__',\n '__module__',\n '__ne__',\n '__new__',\n '__reduce__',\n '__reduce_ex__',\n '__repr__',\n '__setattr__',\n '__sizeof__',\n '__str__',\n '__subclasshook__',\n '__weakref__',\n '_angle_data',\n '_contravariant_data',\n '_horizontal_data',\n '_vertical_data',\n 'a11',\n 'a12',\n 'a21',\n 'a22',\n 'ak',\n 'area',\n 'area_64',\n 'bk',\n 'cos_sg1',\n 'cos_sg2',\n 'cos_sg3',\n 'cos_sg4',\n 'cosa',\n 'cosa_s',\n 'cosa_u',\n 'cosa_v',\n 'dx',\n 'dxa',\n 'dxc',\n 'dy',\n 'dya',\n 'dyc',\n 'edge_e',\n 'edge_n',\n 'edge_s',\n 'edge_w',\n 'ks',\n 'lat',\n 'lat_agrid',\n 'lon',\n 'lon_agrid',\n 'new_from_metric_terms',\n 'p_ref',\n 'ptop',\n 'rarea',\n 'rarea_c',\n 'rdx',\n 'rdxa',\n 'rdxc',\n 'rdy',\n 'rdya',\n 'rdyc',\n 'rsin2',\n 'rsin_u',\n 'rsin_v',\n 'rsina',\n 'sin_sg1',\n 'sin_sg2',\n 'sin_sg3',\n 'sin_sg4',\n 'sina_u',\n 'sina_v']"
       },
       "execution_count": 25,
       "metadata": {}
      },
      "follow": null,
      "msg_id": null,
      "outputs": [],
      "received": null,
      "started": null,
      "status": null,
      "stderr": "",
      "stdout": "",
      "submitted": "2022-09-07T01:12:02.055434Z"
     },
     "output_type": "display_data"
    },
    {
     "data": {
      "text/plain": [
       "\u001b[0;31mOut[0:25]: \u001b[0m\n",
       "['__class__',\n",
       " '__delattr__',\n",
       " '__dict__',\n",
       " '__dir__',\n",
       " '__doc__',\n",
       " '__eq__',\n",
       " '__format__',\n",
       " '__ge__',\n",
       " '__getattribute__',\n",
       " '__gt__',\n",
       " '__hash__',\n",
       " '__init__',\n",
       " '__init_subclass__',\n",
       " '__le__',\n",
       " '__lt__',\n",
       " '__module__',\n",
       " '__ne__',\n",
       " '__new__',\n",
       " '__reduce__',\n",
       " '__reduce_ex__',\n",
       " '__repr__',\n",
       " '__setattr__',\n",
       " '__sizeof__',\n",
       " '__str__',\n",
       " '__subclasshook__',\n",
       " '__weakref__',\n",
       " '_angle_data',\n",
       " '_contravariant_data',\n",
       " '_horizontal_data',\n",
       " '_vertical_data',\n",
       " 'a11',\n",
       " 'a12',\n",
       " 'a21',\n",
       " 'a22',\n",
       " 'ak',\n",
       " 'area',\n",
       " 'area_64',\n",
       " 'bk',\n",
       " 'cos_sg1',\n",
       " 'cos_sg2',\n",
       " 'cos_sg3',\n",
       " 'cos_sg4',\n",
       " 'cosa',\n",
       " 'cosa_s',\n",
       " 'cosa_u',\n",
       " 'cosa_v',\n",
       " 'dx',\n",
       " 'dxa',\n",
       " 'dxc',\n",
       " 'dy',\n",
       " 'dya',\n",
       " 'dyc',\n",
       " 'edge_e',\n",
       " 'edge_n',\n",
       " 'edge_s',\n",
       " 'edge_w',\n",
       " 'ks',\n",
       " 'lat',\n",
       " 'lat_agrid',\n",
       " 'lon',\n",
       " 'lon_agrid',\n",
       " 'new_from_metric_terms',\n",
       " 'p_ref',\n",
       " 'ptop',\n",
       " 'rarea',\n",
       " 'rarea_c',\n",
       " 'rdx',\n",
       " 'rdxa',\n",
       " 'rdxc',\n",
       " 'rdy',\n",
       " 'rdya',\n",
       " 'rdyc',\n",
       " 'rsin2',\n",
       " 'rsin_u',\n",
       " 'rsin_v',\n",
       " 'rsina',\n",
       " 'sin_sg1',\n",
       " 'sin_sg2',\n",
       " 'sin_sg3',\n",
       " 'sin_sg4',\n",
       " 'sina_u',\n",
       " 'sina_v']"
      ]
     },
     "metadata": {
      "after": [],
      "completed": "2022-09-07T01:12:02.064084Z",
      "data": {},
      "engine_id": 0,
      "engine_uuid": "61a51d88-6b886463acca120517578370",
      "error": null,
      "execute_input": "dir(fortran_state.grid_data)",
      "execute_result": {
       "data": {
        "text/plain": "['__class__',\n '__delattr__',\n '__dict__',\n '__dir__',\n '__doc__',\n '__eq__',\n '__format__',\n '__ge__',\n '__getattribute__',\n '__gt__',\n '__hash__',\n '__init__',\n '__init_subclass__',\n '__le__',\n '__lt__',\n '__module__',\n '__ne__',\n '__new__',\n '__reduce__',\n '__reduce_ex__',\n '__repr__',\n '__setattr__',\n '__sizeof__',\n '__str__',\n '__subclasshook__',\n '__weakref__',\n '_angle_data',\n '_contravariant_data',\n '_horizontal_data',\n '_vertical_data',\n 'a11',\n 'a12',\n 'a21',\n 'a22',\n 'ak',\n 'area',\n 'area_64',\n 'bk',\n 'cos_sg1',\n 'cos_sg2',\n 'cos_sg3',\n 'cos_sg4',\n 'cosa',\n 'cosa_s',\n 'cosa_u',\n 'cosa_v',\n 'dx',\n 'dxa',\n 'dxc',\n 'dy',\n 'dya',\n 'dyc',\n 'edge_e',\n 'edge_n',\n 'edge_s',\n 'edge_w',\n 'ks',\n 'lat',\n 'lat_agrid',\n 'lon',\n 'lon_agrid',\n 'new_from_metric_terms',\n 'p_ref',\n 'ptop',\n 'rarea',\n 'rarea_c',\n 'rdx',\n 'rdxa',\n 'rdxc',\n 'rdy',\n 'rdya',\n 'rdyc',\n 'rsin2',\n 'rsin_u',\n 'rsin_v',\n 'rsina',\n 'sin_sg1',\n 'sin_sg2',\n 'sin_sg3',\n 'sin_sg4',\n 'sina_u',\n 'sina_v']"
       },
       "execution_count": 25,
       "metadata": {}
      },
      "follow": [],
      "is_broadcast": false,
      "is_coalescing": false,
      "msg_id": "6c7ec3ca-b8eda80618455f8a9c81365c_88132_145",
      "outputs": [],
      "received": "2022-09-07T01:12:02.076485Z",
      "started": "2022-09-07T01:12:02.058399Z",
      "status": "ok",
      "stderr": "",
      "stdout": "",
      "submitted": "2022-09-07T01:12:02.054811Z"
     },
     "output_type": "display_data"
    },
    {
     "data": {
      "text/plain": [
       "\u001b[0;31mOut[4:25]: \u001b[0m\n",
       "['__class__',\n",
       " '__delattr__',\n",
       " '__dict__',\n",
       " '__dir__',\n",
       " '__doc__',\n",
       " '__eq__',\n",
       " '__format__',\n",
       " '__ge__',\n",
       " '__getattribute__',\n",
       " '__gt__',\n",
       " '__hash__',\n",
       " '__init__',\n",
       " '__init_subclass__',\n",
       " '__le__',\n",
       " '__lt__',\n",
       " '__module__',\n",
       " '__ne__',\n",
       " '__new__',\n",
       " '__reduce__',\n",
       " '__reduce_ex__',\n",
       " '__repr__',\n",
       " '__setattr__',\n",
       " '__sizeof__',\n",
       " '__str__',\n",
       " '__subclasshook__',\n",
       " '__weakref__',\n",
       " '_angle_data',\n",
       " '_contravariant_data',\n",
       " '_horizontal_data',\n",
       " '_vertical_data',\n",
       " 'a11',\n",
       " 'a12',\n",
       " 'a21',\n",
       " 'a22',\n",
       " 'ak',\n",
       " 'area',\n",
       " 'area_64',\n",
       " 'bk',\n",
       " 'cos_sg1',\n",
       " 'cos_sg2',\n",
       " 'cos_sg3',\n",
       " 'cos_sg4',\n",
       " 'cosa',\n",
       " 'cosa_s',\n",
       " 'cosa_u',\n",
       " 'cosa_v',\n",
       " 'dx',\n",
       " 'dxa',\n",
       " 'dxc',\n",
       " 'dy',\n",
       " 'dya',\n",
       " 'dyc',\n",
       " 'edge_e',\n",
       " 'edge_n',\n",
       " 'edge_s',\n",
       " 'edge_w',\n",
       " 'ks',\n",
       " 'lat',\n",
       " 'lat_agrid',\n",
       " 'lon',\n",
       " 'lon_agrid',\n",
       " 'new_from_metric_terms',\n",
       " 'p_ref',\n",
       " 'ptop',\n",
       " 'rarea',\n",
       " 'rarea_c',\n",
       " 'rdx',\n",
       " 'rdxa',\n",
       " 'rdxc',\n",
       " 'rdy',\n",
       " 'rdya',\n",
       " 'rdyc',\n",
       " 'rsin2',\n",
       " 'rsin_u',\n",
       " 'rsin_v',\n",
       " 'rsina',\n",
       " 'sin_sg1',\n",
       " 'sin_sg2',\n",
       " 'sin_sg3',\n",
       " 'sin_sg4',\n",
       " 'sina_u',\n",
       " 'sina_v']"
      ]
     },
     "metadata": {
      "after": [],
      "completed": "2022-09-07T01:12:02.064308Z",
      "data": {},
      "engine_id": 4,
      "engine_uuid": "134dfbd4-ca2f243c8f2e8f80f782cfb5",
      "error": null,
      "execute_input": "dir(fortran_state.grid_data)",
      "execute_result": {
       "data": {
        "text/plain": "['__class__',\n '__delattr__',\n '__dict__',\n '__dir__',\n '__doc__',\n '__eq__',\n '__format__',\n '__ge__',\n '__getattribute__',\n '__gt__',\n '__hash__',\n '__init__',\n '__init_subclass__',\n '__le__',\n '__lt__',\n '__module__',\n '__ne__',\n '__new__',\n '__reduce__',\n '__reduce_ex__',\n '__repr__',\n '__setattr__',\n '__sizeof__',\n '__str__',\n '__subclasshook__',\n '__weakref__',\n '_angle_data',\n '_contravariant_data',\n '_horizontal_data',\n '_vertical_data',\n 'a11',\n 'a12',\n 'a21',\n 'a22',\n 'ak',\n 'area',\n 'area_64',\n 'bk',\n 'cos_sg1',\n 'cos_sg2',\n 'cos_sg3',\n 'cos_sg4',\n 'cosa',\n 'cosa_s',\n 'cosa_u',\n 'cosa_v',\n 'dx',\n 'dxa',\n 'dxc',\n 'dy',\n 'dya',\n 'dyc',\n 'edge_e',\n 'edge_n',\n 'edge_s',\n 'edge_w',\n 'ks',\n 'lat',\n 'lat_agrid',\n 'lon',\n 'lon_agrid',\n 'new_from_metric_terms',\n 'p_ref',\n 'ptop',\n 'rarea',\n 'rarea_c',\n 'rdx',\n 'rdxa',\n 'rdxc',\n 'rdy',\n 'rdya',\n 'rdyc',\n 'rsin2',\n 'rsin_u',\n 'rsin_v',\n 'rsina',\n 'sin_sg1',\n 'sin_sg2',\n 'sin_sg3',\n 'sin_sg4',\n 'sina_u',\n 'sina_v']"
       },
       "execution_count": 25,
       "metadata": {}
      },
      "follow": [],
      "is_broadcast": false,
      "is_coalescing": false,
      "msg_id": "6c7ec3ca-b8eda80618455f8a9c81365c_88132_149",
      "outputs": [],
      "received": "2022-09-07T01:12:02.079429Z",
      "started": "2022-09-07T01:12:02.058622Z",
      "status": "ok",
      "stderr": "",
      "stdout": "",
      "submitted": "2022-09-07T01:12:02.055320Z"
     },
     "output_type": "display_data"
    },
    {
     "data": {
      "text/plain": [
       "\u001b[0;31mOut[1:25]: \u001b[0m\n",
       "['__class__',\n",
       " '__delattr__',\n",
       " '__dict__',\n",
       " '__dir__',\n",
       " '__doc__',\n",
       " '__eq__',\n",
       " '__format__',\n",
       " '__ge__',\n",
       " '__getattribute__',\n",
       " '__gt__',\n",
       " '__hash__',\n",
       " '__init__',\n",
       " '__init_subclass__',\n",
       " '__le__',\n",
       " '__lt__',\n",
       " '__module__',\n",
       " '__ne__',\n",
       " '__new__',\n",
       " '__reduce__',\n",
       " '__reduce_ex__',\n",
       " '__repr__',\n",
       " '__setattr__',\n",
       " '__sizeof__',\n",
       " '__str__',\n",
       " '__subclasshook__',\n",
       " '__weakref__',\n",
       " '_angle_data',\n",
       " '_contravariant_data',\n",
       " '_horizontal_data',\n",
       " '_vertical_data',\n",
       " 'a11',\n",
       " 'a12',\n",
       " 'a21',\n",
       " 'a22',\n",
       " 'ak',\n",
       " 'area',\n",
       " 'area_64',\n",
       " 'bk',\n",
       " 'cos_sg1',\n",
       " 'cos_sg2',\n",
       " 'cos_sg3',\n",
       " 'cos_sg4',\n",
       " 'cosa',\n",
       " 'cosa_s',\n",
       " 'cosa_u',\n",
       " 'cosa_v',\n",
       " 'dx',\n",
       " 'dxa',\n",
       " 'dxc',\n",
       " 'dy',\n",
       " 'dya',\n",
       " 'dyc',\n",
       " 'edge_e',\n",
       " 'edge_n',\n",
       " 'edge_s',\n",
       " 'edge_w',\n",
       " 'ks',\n",
       " 'lat',\n",
       " 'lat_agrid',\n",
       " 'lon',\n",
       " 'lon_agrid',\n",
       " 'new_from_metric_terms',\n",
       " 'p_ref',\n",
       " 'ptop',\n",
       " 'rarea',\n",
       " 'rarea_c',\n",
       " 'rdx',\n",
       " 'rdxa',\n",
       " 'rdxc',\n",
       " 'rdy',\n",
       " 'rdya',\n",
       " 'rdyc',\n",
       " 'rsin2',\n",
       " 'rsin_u',\n",
       " 'rsin_v',\n",
       " 'rsina',\n",
       " 'sin_sg1',\n",
       " 'sin_sg2',\n",
       " 'sin_sg3',\n",
       " 'sin_sg4',\n",
       " 'sina_u',\n",
       " 'sina_v']"
      ]
     },
     "metadata": {
      "after": [],
      "completed": "2022-09-07T01:12:02.064331Z",
      "data": {},
      "engine_id": 1,
      "engine_uuid": "d28c9b25-f306c153b70f5caf1d56062e",
      "error": null,
      "execute_input": "dir(fortran_state.grid_data)",
      "execute_result": {
       "data": {
        "text/plain": "['__class__',\n '__delattr__',\n '__dict__',\n '__dir__',\n '__doc__',\n '__eq__',\n '__format__',\n '__ge__',\n '__getattribute__',\n '__gt__',\n '__hash__',\n '__init__',\n '__init_subclass__',\n '__le__',\n '__lt__',\n '__module__',\n '__ne__',\n '__new__',\n '__reduce__',\n '__reduce_ex__',\n '__repr__',\n '__setattr__',\n '__sizeof__',\n '__str__',\n '__subclasshook__',\n '__weakref__',\n '_angle_data',\n '_contravariant_data',\n '_horizontal_data',\n '_vertical_data',\n 'a11',\n 'a12',\n 'a21',\n 'a22',\n 'ak',\n 'area',\n 'area_64',\n 'bk',\n 'cos_sg1',\n 'cos_sg2',\n 'cos_sg3',\n 'cos_sg4',\n 'cosa',\n 'cosa_s',\n 'cosa_u',\n 'cosa_v',\n 'dx',\n 'dxa',\n 'dxc',\n 'dy',\n 'dya',\n 'dyc',\n 'edge_e',\n 'edge_n',\n 'edge_s',\n 'edge_w',\n 'ks',\n 'lat',\n 'lat_agrid',\n 'lon',\n 'lon_agrid',\n 'new_from_metric_terms',\n 'p_ref',\n 'ptop',\n 'rarea',\n 'rarea_c',\n 'rdx',\n 'rdxa',\n 'rdxc',\n 'rdy',\n 'rdya',\n 'rdyc',\n 'rsin2',\n 'rsin_u',\n 'rsin_v',\n 'rsina',\n 'sin_sg1',\n 'sin_sg2',\n 'sin_sg3',\n 'sin_sg4',\n 'sina_u',\n 'sina_v']"
       },
       "execution_count": 25,
       "metadata": {}
      },
      "follow": [],
      "is_broadcast": false,
      "is_coalescing": false,
      "msg_id": "6c7ec3ca-b8eda80618455f8a9c81365c_88132_146",
      "outputs": [],
      "received": "2022-09-07T01:12:02.077423Z",
      "started": "2022-09-07T01:12:02.058677Z",
      "status": "ok",
      "stderr": "",
      "stdout": "",
      "submitted": "2022-09-07T01:12:02.055077Z"
     },
     "output_type": "display_data"
    }
   ],
   "source": [
    "dir(fortran_state.grid_data)"
   ]
  },
  {
   "cell_type": "code",
   "execution_count": null,
   "metadata": {},
   "outputs": [],
   "source": []
  },
  {
   "cell_type": "code",
   "execution_count": null,
   "metadata": {},
   "outputs": [],
   "source": []
  },
  {
   "cell_type": "code",
   "execution_count": null,
   "metadata": {},
   "outputs": [],
   "source": []
  },
  {
   "cell_type": "code",
   "execution_count": null,
   "metadata": {},
   "outputs": [],
   "source": []
  },
  {
   "cell_type": "code",
   "execution_count": null,
   "metadata": {},
   "outputs": [],
   "source": []
  },
  {
   "cell_type": "code",
   "execution_count": null,
   "metadata": {},
   "outputs": [],
   "source": [
    "from pace.util import QuantityFactory, SubtileGridSizer\n",
    "\n",
    "backend = \"numpy\"\n",
    "\n",
    "sizer = SubtileGridSizer.from_tile_params(\n",
    "    nx_tile=12,\n",
    "    ny_tile=12,\n",
    "    nz=79,\n",
    "    n_halo=3,\n",
    "    extra_dim_lengths={},\n",
    "    layout=layout,\n",
    "    tile_partitioner=partitioner.tile,\n",
    "    tile_rank=communicator.tile.rank,\n",
    ")\n",
    "\n",
    "quantity_factory = QuantityFactory.from_backend(sizer=sizer, backend=backend)"
   ]
  },
  {
   "cell_type": "code",
   "execution_count": null,
   "metadata": {},
   "outputs": [],
   "source": [
    "from datetime import datetime\n",
    "\n",
    "restart_path_1 = \"/home/ajdas/pace/restart_data/v1.0\"\n",
    "restart_time_1 = datetime.strptime(\"2016-08-11 00:00:00\", \"%Y-%m-%d %H:%M:%S\")\n",
    "fortran_data_1 = True\n",
    "restart_path_4 = \"/home/ajdas/pace/restart_data/v4.0\"\n",
    "restart_time_4 = datetime.strptime(\"2016-08-01 00:15:00\", \"%Y-%m-%d %H:%M:%S\")\n",
    "fortran_data_4 = True\n"
   ]
  },
  {
   "cell_type": "code",
   "execution_count": null,
   "metadata": {},
   "outputs": [],
   "source": [
    "%%capture\n",
    "from pace.driver.initialization import RestartConfig\n",
    "\n",
    "restart_config_1 = RestartConfig(path=restart_path_1, start_time=restart_time_1, fortran_data=fortran_data_1)\n",
    "fortran_state_1 = restart_config.get_driver_state(quantity_factory, communicator)\n",
    "restart_config_4 = RestartConfig(path=restart_path_4, start_time=restart_time_4, fortran_data=fortran_data_4)\n",
    "fortran_state_4 = restart_config.get_driver_state(quantity_factory, communicator)"
   ]
  },
  {
   "cell_type": "code",
   "execution_count": null,
   "metadata": {},
   "outputs": [],
   "source": [
    "datadir_1 = \"/home/ajdas/pace/restart_data/v1.0/\"\n",
    "datadir_4 = \"/home/ajdas/pace/restart_data/v4.0/\""
   ]
  },
  {
   "cell_type": "code",
   "execution_count": null,
   "metadata": {},
   "outputs": [],
   "source": [
    "from netCDF4 import Dataset\n",
    "import numpy as np\n",
    "import matplotlib.pyplot as plt"
   ]
  },
  {
   "cell_type": "code",
   "execution_count": null,
   "metadata": {},
   "outputs": [],
   "source": [
    "ak_driver_1 = fortran_state_1.grid_data.ak.data\n",
    "bk_driver_1 = fortran_state_1.grid_data.bk.data\n",
    "ak_driver_4 = fortran_state_1.grid_data.ak.data\n",
    "bk_driver_4 = fortran_state_1.grid_data.bk.data"
   ]
  },
  {
   "cell_type": "code",
   "execution_count": null,
   "metadata": {},
   "outputs": [],
   "source": [
    "data = Dataset(datadir_1 + \"fv_core.res.nc\", \"r\")\n",
    "ak_fort_1 = np.array(data[\"ak\"][0])\n",
    "bk_fort_1 = np.array(data[\"bk\"][0])\n",
    "data.close()\n",
    "data = Dataset(datadir_4 + \"fv_core.res.nc\", \"r\")\n",
    "ak_fort_4 = np.array(data[\"ak\"][0])\n",
    "bk_fort_4 = np.array(data[\"bk\"][0])\n",
    "data.close()"
   ]
  },
  {
   "cell_type": "code",
   "execution_count": null,
   "metadata": {},
   "outputs": [],
   "source": [
    "fIn_ser_1 = \"/home/ajdas/pace/test_data/8.1.1/v1.0/Driver-In.nc\"\n",
    "fIn_ser_4 = \"/home/ajdas/pace/test_data/8.1.1/v4.0/Driver-In.nc\"\n",
    "data = Dataset(fIn_ser_1, \"r\")\n",
    "ak_ser_1 = np.array(data[\"ak\"][0, 0])\n",
    "bk_ser_1 = np.array(data[\"bk\"][0, 0])\n",
    "data.close()\n",
    "data = Dataset(fIn_ser_4, \"r\")\n",
    "ak_ser_4 = np.array(data[\"ak\"][0, 0])\n",
    "bk_ser_4 = np.array(data[\"bk\"][0, 0])\n",
    "data.close()"
   ]
  },
  {
   "cell_type": "code",
   "execution_count": null,
   "metadata": {},
   "outputs": [],
   "source": [
    "if rank == 0:\n",
    "    fig = plt.figure(figsize = (8, 4))\n",
    "    ax_ak = fig.add_subplot(121)\n",
    "    ax_bk = fig.add_subplot(122)\n",
    "\n",
    "    ax_ak.plot(ak_driver_1, np.arange(80), c='k', lw=2, label=\"driver\")\n",
    "    ax_ak.plot(ak_fort_1, np.arange(80), c='r', lw=2, label=\"fortran\")\n",
    "    ax_ak.plot(ak_ser_1, np.arange(80), c='b', lw=2, label=\"serialized\")\n",
    "    ax_bk.plot(bk_driver_1, np.arange(80), c='k', lw=2)\n",
    "    ax_bk.plot(bk_fort_1, np.arange(80), c='r', lw=2)\n",
    "    ax_bk.plot(bk_ser_1, np.arange(80), c='b', lw=2)\n",
    "\n",
    "    ax_ak.set_title(\"ak - baroclinic 10 day\")\n",
    "    ax_bk.set_title(\"bk - baroclinic 10 day\")\n",
    "\n",
    "    ax_ak.legend(loc=1)\n",
    "\n",
    "\n",
    "    fig = plt.figure(figsize = (8, 4))\n",
    "    ax_ak = fig.add_subplot(121)\n",
    "    ax_bk = fig.add_subplot(122)\n",
    "\n",
    "    ax_ak.plot(ak_driver_4, np.arange(80), c='k', lw=2, label=\"driver\")\n",
    "    ax_ak.plot(ak_fort_4, np.arange(80), c='r', lw=2, label=\"fortran\")\n",
    "    ax_ak.plot(ak_ser_4, np.arange(80), c='b', lw=2, label=\"serialized\")\n",
    "    ax_bk.plot(bk_driver_4, np.arange(80), c='k', lw=2)\n",
    "    ax_bk.plot(bk_fort_4, np.arange(80), c='r', lw=2)\n",
    "    ax_bk.plot(bk_ser_4, np.arange(80), c='b', lw=2)\n",
    "\n",
    "    ax_ak.set_title(\"ak - standard 15 min\")\n",
    "    ax_bk.set_title(\"bk - standard 15 min\")\n",
    "\n",
    "    ax_ak.legend(loc=1)\n",
    "\n",
    "    plt.show()"
   ]
  },
  {
   "cell_type": "code",
   "execution_count": null,
   "metadata": {},
   "outputs": [],
   "source": []
  },
  {
   "cell_type": "code",
   "execution_count": null,
   "metadata": {},
   "outputs": [],
   "source": [
    "# lon_tmp = fortran_state.grid_data.lon\n",
    "# lat_tmp = fortran_state.grid_data.lat"
   ]
  },
  {
   "cell_type": "code",
   "execution_count": null,
   "metadata": {},
   "outputs": [],
   "source": [
    "# import numpy as np\n",
    "# from pace.util import Quantity\n",
    "\n",
    "# lon_driver_mt = Quantity(\n",
    "#     data = fortran_state.grid_data.lon.data * 180/np.pi,\n",
    "#     dims = (\"x_interface\", \"y_interface\"),\n",
    "#     units = \"degree\",\n",
    "#     origin = (3, 3),\n",
    "#     extent = (129, 129),\n",
    "#     gt4py_backend=backend,\n",
    "# )\n",
    "\n",
    "# lat_driver_mt = Quantity(\n",
    "#     data = fortran_state.grid_data.lat.data * 180/np.pi,\n",
    "#     dims = (\"x_interface\", \"y_interface\"),\n",
    "#     units = \"degree\",\n",
    "#     origin = (3, 3),\n",
    "#     extent = (129, 129),\n",
    "#     gt4py_backend=backend,\n",
    "# )\n",
    "\n",
    "# lona_driver_mt = Quantity(\n",
    "#     data = fortran_state.grid_data.lon_agrid.data * 180/np.pi,\n",
    "#     dims = (\"x\", \"y\"),\n",
    "#     units = \"degree\",\n",
    "#     origin = (3, 3),\n",
    "#     extent = (128, 128),\n",
    "#     gt4py_backend=backend,\n",
    "# )\n",
    "\n",
    "# lata_driver_mt = Quantity(\n",
    "#     data = fortran_state.grid_data.lat_agrid.data * 180/np.pi,\n",
    "#     dims = (\"x\", \"y\"),\n",
    "#     units = \"degree\",\n",
    "#     origin = (3, 3),\n",
    "#     extent = (128, 128),\n",
    "#     gt4py_backend=backend,\n",
    "# )\n",
    "\n",
    "# area_driver_mt = Quantity(\n",
    "#     data = fortran_state.grid_data.area.data,\n",
    "#     dims = (\"x\", \"y\"),\n",
    "#     units = \"degree\",\n",
    "#     origin = (3, 3),\n",
    "#     extent = (128, 128),\n",
    "#     gt4py_backend=backend,\n",
    "# )\n",
    "\n",
    "# lon_driver_mt_global = communicator.gather(lon_driver_mt)\n",
    "# lat_driver_mt_global = communicator.gather(lat_driver_mt)\n",
    "# lona_driver_mt_global = communicator.gather(lona_driver_mt)\n",
    "# lata_driver_mt_global = communicator.gather(lata_driver_mt)\n",
    "# area_driver_mt_global = communicator.gather(area_driver_mt)"
   ]
  },
  {
   "cell_type": "code",
   "execution_count": null,
   "metadata": {},
   "outputs": [],
   "source": [
    "# import matplotlib.pyplot as plt\n",
    "# from cartopy import crs as ccrs\n",
    "# from fv3viz import pcolormesh_cube\n",
    "\n",
    "# if rank == 0:\n",
    "#     fig = plt.figure(figsize=(12, 6))\n",
    "#     fig.patch.set_facecolor(\"white\")\n",
    "#     ax = fig.add_subplot(111, projection=ccrs.Robinson())\n",
    "#     ax.set_facecolor(\".4\")\n",
    "\n",
    "#     # plot computational mesh\n",
    "#     f1 = pcolormesh_cube(\n",
    "#         lat_driver_global.data,\n",
    "#         lon_driver_global.data,\n",
    "#         area_driver_global.data * 2e-11,\n",
    "#         cmap=\"viridis\",\n",
    "#         vmin=0,\n",
    "#         vmax=1,\n",
    "#     )\n",
    "#     plt.colorbar(f1, )\n",
    "\n",
    "#     ax.set_title(\"Grid area - driver\")\n",
    "\n",
    "\n",
    "#     fig = plt.figure(figsize=(12, 6))\n",
    "#     fig.patch.set_facecolor(\"white\")\n",
    "#     ax = fig.add_subplot(111, projection=ccrs.Robinson())\n",
    "#     ax.set_facecolor(\".4\")\n",
    "\n",
    "#     # plot computational mesh\n",
    "#     f1 = pcolormesh_cube(\n",
    "#         lat_fortran_global.data,\n",
    "#         lon_fortran_global.data,\n",
    "#         area_fortran_global.data * 2e-11,\n",
    "#         cmap=\"viridis\",\n",
    "#         vmin=0,\n",
    "#         vmax=1,\n",
    "#     )\n",
    "\n",
    "#     plt.colorbar(f1, )\n",
    "\n",
    "#     ax.set_title(\"Grid area - fortran\")\n",
    "\n",
    "\n",
    "#     fig = plt.figure(figsize=(12, 6))\n",
    "#     fig.patch.set_facecolor(\"white\")\n",
    "#     ax = fig.add_subplot(111, projection=ccrs.Robinson())\n",
    "#     ax.set_facecolor(\".4\")\n",
    "\n",
    "#     # plot computational mesh\n",
    "#     f1 = pcolormesh_cube(\n",
    "#         lat_mt_global.data,\n",
    "#         lon_mt_global.data,\n",
    "#         area_mt_global.data * 2e-11,\n",
    "#         cmap=\"viridis\",\n",
    "#         vmin=0,\n",
    "#         vmax=1,\n",
    "#     )\n",
    "\n",
    "#     plt.colorbar(f1, )\n",
    "\n",
    "#     ax.set_title(\"Grid area - metric_terms\")\n",
    "\n",
    "#     fig = plt.figure(figsize=(12, 6))\n",
    "#     fig.patch.set_facecolor(\"white\")\n",
    "#     ax = fig.add_subplot(111, projection=ccrs.Robinson())\n",
    "#     ax.set_facecolor(\".4\")\n",
    "\n",
    "#     # plot computational mesh\n",
    "#     f1 = pcolormesh_cube(\n",
    "#         lat_driver_mt_global.data,\n",
    "#         lon_driver_mt_global.data,\n",
    "#         area_driver_mt_global.data * 2e-11,\n",
    "#         cmap=\"viridis\",\n",
    "#         vmin=0,\n",
    "#         vmax=1,\n",
    "#     )\n",
    "\n",
    "#     plt.colorbar(f1, )\n",
    "\n",
    "#     ax.set_title(\"Grid area - driver w/ mod metric_terms\")\n",
    "\n",
    "#     plt.show()"
   ]
  },
  {
   "cell_type": "code",
   "execution_count": null,
   "metadata": {},
   "outputs": [],
   "source": []
  }
 ],
 "metadata": {
  "kernelspec": {
   "display_name": "Python 3.8.10 ('venv': venv)",
   "language": "python",
   "name": "python3"
  },
  "language_info": {
   "codemirror_mode": {
    "name": "ipython",
    "version": 3
   },
   "file_extension": ".py",
   "mimetype": "text/x-python",
   "name": "python",
   "nbconvert_exporter": "python",
   "pygments_lexer": "ipython3",
   "version": "3.8.10"
  },
  "orig_nbformat": 4,
  "vscode": {
   "interpreter": {
    "hash": "5aaa1d64d2aec5fc9d71d95fe114c55e361597d915cf108c460e747a228aecec"
   }
  }
 },
 "nbformat": 4,
 "nbformat_minor": 2
}
