{
 "cells": [
  {
   "cell_type": "code",
   "execution_count": 1,
   "metadata": {},
   "outputs": [
    {
     "name": "stdout",
     "output_type": "stream",
     "text": [
      "Starting 6 engines with <class 'ipyparallel.cluster.launcher.MPIEngineSetLauncher'>\n"
     ]
    },
    {
     "data": {
      "application/vnd.jupyter.widget-view+json": {
       "model_id": "549311d8a9ac4dd0a375f8a67d1103b5",
       "version_major": 2,
       "version_minor": 0
      },
      "text/plain": [
       "  0%|          | 0/6 [00:00<?, ?engine/s]"
      ]
     },
     "metadata": {},
     "output_type": "display_data"
    },
    {
     "name": "stdout",
     "output_type": "stream",
     "text": [
      "%autopx enabled\n"
     ]
    }
   ],
   "source": [
    "import ipyparallel as ipp\n",
    "\n",
    "cluster = ipp.Cluster(engines=\"mpi\", n=6).start_and_connect_sync()\n",
    "%autopx"
   ]
  },
  {
   "cell_type": "code",
   "execution_count": 2,
   "metadata": {},
   "outputs": [],
   "source": [
    "from mpi4py import MPI\n",
    "\n",
    "mpi_comm = MPI.COMM_WORLD\n",
    "rank = mpi_comm.Get_rank()"
   ]
  },
  {
   "cell_type": "code",
   "execution_count": 3,
   "metadata": {},
   "outputs": [
    {
     "data": {
      "application/vnd.jupyter.widget-view+json": {
       "model_id": "6cab53383cfe4633b4c3a01f4e591fa7",
       "version_major": 2,
       "version_minor": 0
      },
      "text/plain": [
       "%px:   0%|          | 0/6 [00:00<?, ?tasks/s]"
      ]
     },
     "metadata": {},
     "output_type": "display_data"
    }
   ],
   "source": [
    "%%capture\n",
    "from pace.util import CubedSphereCommunicator, CubedSpherePartitioner, TilePartitioner\n",
    "\n",
    "layout = (1, 1)\n",
    "partitioner = CubedSpherePartitioner(TilePartitioner(layout))\n",
    "communicator = CubedSphereCommunicator(mpi_comm, partitioner)"
   ]
  },
  {
   "cell_type": "code",
   "execution_count": 4,
   "metadata": {},
   "outputs": [],
   "source": [
    "from pace.util import QuantityFactory, SubtileGridSizer\n",
    "\n",
    "backend = \"numpy\"\n",
    "\n",
    "sizer = SubtileGridSizer.from_tile_params(\n",
    "    nx_tile=12,\n",
    "    ny_tile=12,\n",
    "    nz=79,\n",
    "    n_halo=3,\n",
    "    extra_dim_lengths={},\n",
    "    layout=layout,\n",
    "    tile_partitioner=partitioner.tile,\n",
    "    tile_rank=communicator.tile.rank,\n",
    ")\n",
    "\n",
    "quantity_factory = QuantityFactory.from_backend(sizer=sizer, backend=backend)"
   ]
  },
  {
   "cell_type": "code",
   "execution_count": null,
   "metadata": {},
   "outputs": [],
   "source": [
    "from datetime import datetime\n",
    "\n",
    "restart_path = \"/home/ajdas/pace/restart_data/v1.0\"\n",
    "restart_time = datetime.strptime(\"2016-08-11 00:00:00\", \"%Y-%m-%d %H:%M:%S\")\n",
    "fortran_data = True\n",
    "\n",
    "serial_path = \"/home/ajdas/pace/test_data/8.1.1/c12_6ranks_baroclinic_dycore_microphysics/driver/\"\n",
    "serialized_grid = True"
   ]
  },
  {
   "cell_type": "code",
   "execution_count": null,
   "metadata": {},
   "outputs": [],
   "source": [
    "# from datetime import datetime\n",
    "\n",
    "# restart_path = \"/home/ajdas/pace/restart_data/v4.0\"\n",
    "# restart_time = datetime.strptime(\"2016-08-01 00:15:00\", \"%Y-%m-%d %H:%M:%S\")\n",
    "# fortran_data = True\n",
    "\n",
    "# serial_path = \"/home/ajdas/fv3gfs-fortran/tests/serialized_test_data_generation/data/c12_6ranks_standard_restart/dycore/\"\n",
    "# serialized_grid = True"
   ]
  },
  {
   "cell_type": "code",
   "execution_count": null,
   "metadata": {},
   "outputs": [],
   "source": [
    "%%capture\n",
    "from pace.driver.initialization import RestartConfig\n",
    "\n",
    "restart_config = RestartConfig(path=restart_path, start_time=restart_time, fortran_data=fortran_data)\n",
    "fortran_state = restart_config.get_driver_state(quantity_factory, communicator)"
   ]
  },
  {
   "cell_type": "code",
   "execution_count": null,
   "metadata": {},
   "outputs": [],
   "source": [
    "import sys\n",
    "sys.path.append(\"/usr/local/serialbox/python\")\n",
    "from pace.driver.initialization import SerialboxConfig\n",
    "\n",
    "serialbox_config = SerialboxConfig(path=serial_path, serialized_grid=serialized_grid)\n",
    "serialbox_state = serialbox_config.get_driver_state(quantity_factory, communicator)"
   ]
  },
  {
   "cell_type": "code",
   "execution_count": null,
   "metadata": {},
   "outputs": [],
   "source": [
    "if mpi_rank == 0:\n",
    "    print(\"Fortran dycore:\", fortran_state.__dict__[\"dycore_state\"].__dict__.keys())\n",
    "    print(\"Serialbox dycore:\", serialbox_state.__dict__[\"dycore_state\"].__dict__.keys())\n",
    "    print()\n",
    "    print(\"Fortran physics:\", fortran_state.__dict__[\"physics_state\"].__dict__.keys())\n",
    "    print(\"Serialbox physics:\", serialbox_state.__dict__[\"physics_state\"].__dict__.keys())\n",
    "    print()\n",
    "    print(\"Fortran tendency:\", fortran_state.__dict__[\"tendency_state\"].__dict__.keys())\n",
    "    print(\"Serialbox tendency:\", serialbox_state.__dict__[\"tendency_state\"].__dict__.keys())\n",
    "    print()\n",
    "    print(\"Fortran grid data:\", fortran_state.__dict__[\"grid_data\"].__dict__.keys())\n",
    "    print(\"Serialbox grid_data:\", serialbox_state.__dict__[\"grid_data\"].__dict__.keys())\n",
    "    print()\n",
    "    print(\"Fortran damping_coefficients:\", fortran_state.__dict__[\"damping_coefficients\"].__dict__.keys())\n",
    "    print(\"Serialbox damping_coefficients:\", serialbox_state.__dict__[\"damping_coefficients\"].__dict__.keys())\n",
    "    print()\n",
    "    print(\"Fortran driver grid data:\", fortran_state.__dict__[\"driver_grid_data\"].__dict__.keys())\n",
    "    print(\"Serialbox driver grid_data:\", serialbox_state.__dict__[\"driver_grid_data\"].__dict__.keys())\n",
    "    print()"
   ]
  },
  {
   "cell_type": "markdown",
   "metadata": {},
   "source": [
    "# Compare fortran state and serialbox state\n",
    "## DYCORE"
   ]
  },
  {
   "cell_type": "code",
   "execution_count": null,
   "metadata": {},
   "outputs": [],
   "source": [
    "import numpy as np\n",
    "\n",
    "fortran_dycore = fortran_state.__dict__[\"dycore_state\"]\n",
    "serialbox_dycore = serialbox_state.__dict__[\"dycore_state\"]\n",
    "fortran_variable_list = sorted(list(fortran_dycore.__dict__.keys()))\n",
    "serialbox_variable_list = sorted(list(serialbox_dycore.__dict__.keys()))\n",
    "\n",
    "if mpi_rank == 0:\n",
    "    print(\"Fortran\")\n",
    "\n",
    "fortran_vars = {}\n",
    "for var in fortran_variable_list:\n",
    "    try:\n",
    "        fortran_vars[var] = communicator.gather(fortran_dycore.__dict__[var])\n",
    "    except AttributeError:\n",
    "        if mpi_rank == 0:\n",
    "            print(\"Cannot gather: \", var)\n",
    "            print(\"     Value: \", fortran_dycore.__dict__[var])\n",
    "\n",
    "\n",
    "if mpi_rank == 0:\n",
    "    print(\"Serialbox\")\n",
    "serialbox_vars = {}\n",
    "for var in serialbox_variable_list:\n",
    "    try:\n",
    "        serialbox_vars[var] = communicator.gather(serialbox_dycore.__dict__[var])\n",
    "    except AttributeError:\n",
    "        if mpi_rank == 0:\n",
    "            print(\"Cannot gather: \", var)\n",
    "            print(\"     Value: \", serialbox_dycore.__dict__[var])\n"
   ]
  },
  {
   "cell_type": "code",
   "execution_count": null,
   "metadata": {},
   "outputs": [],
   "source": [
    "from pace.util import Quantity\n",
    "\n",
    "fortran_lon = Quantity(data=np.zeros((19, 19)), dims=(\"x_interface\", \"y_interface\"), units=\"degrees\", origin=(3, 3), extent=(13, 13), gt4py_backend=backend)\n",
    "fortran_lon.data[:] = fortran_state.__dict__[\"grid_data\"].lon * 180/np.pi\n",
    "fortran_lat = Quantity(data=np.zeros((19, 19)), dims=(\"x_interface\", \"y_interface\"), units=\"degrees\", origin=(3, 3), extent=(13, 13), gt4py_backend=backend)\n",
    "fortran_lat.data[:] = fortran_state.__dict__[\"grid_data\"].lat * 180/np.pi\n",
    "\n",
    "serialbox_lon = Quantity(data=np.zeros((19, 19)), dims=(\"x_interface\", \"y_interface\"), units=\"degrees\", origin=(3, 3), extent=(13, 13), gt4py_backend=backend)\n",
    "serialbox_lon.data[:] = serialbox_state.__dict__[\"grid_data\"].lon * 180/np.pi\n",
    "serialbox_lat = Quantity(data=np.zeros((19, 19)), dims=(\"x_interface\", \"y_interface\"), units=\"degrees\", origin=(3, 3), extent=(13, 13), gt4py_backend=backend)\n",
    "serialbox_lat.data[:] = serialbox_state.__dict__[\"grid_data\"].lat * 180/np.pi\n",
    "\n"
   ]
  },
  {
   "cell_type": "code",
   "execution_count": null,
   "metadata": {},
   "outputs": [],
   "source": [
    "flon = communicator.gather(fortran_lon)\n",
    "flat = communicator.gather(fortran_lat)\n",
    "slon = communicator.gather(serialbox_lon)\n",
    "slat = communicator.gather(serialbox_lat)"
   ]
  },
  {
   "cell_type": "code",
   "execution_count": null,
   "metadata": {},
   "outputs": [],
   "source": [
    "import cartopy.crs as ccrs\n",
    "import matplotlib.pyplot as plt\n",
    "\n",
    "from fv3viz import pcolormesh_cube\n",
    "from matplotlib.gridspec import GridSpec\n",
    "\n",
    "sys.path.append(\"/home/ajdas/pace/examples/notebooks/\")\n",
    "import functions as funcs\n"
   ]
  },
  {
   "cell_type": "code",
   "execution_count": null,
   "metadata": {},
   "outputs": [],
   "source": [
    "savedir = '/home/ajdas/pace/restart_data/figures_comparison_fortran_serialbox/'\n",
    "\n",
    "for var in fortran_vars.keys():\n",
    "    if var in serialbox_vars.keys():\n",
    "    #if var == \"qo3mr\":\n",
    "        #print(var)\n",
    "\n",
    "        if mpi_rank == 0:\n",
    "            fvar_index = fortran_variable_list.index(var)\n",
    "            svar_index = serialbox_variable_list.index(var)\n",
    "\n",
    "            tmp = fortran_vars[var].data\n",
    "            if len(tmp.shape) == 4:\n",
    "                ffield = funcs.unstagger_coordinate(fortran_vars[var].data[:, :, :, -1])\n",
    "                sfield = funcs.unstagger_coordinate(serialbox_vars[var].data[:, :, :, -1])\n",
    "            elif len(tmp.shape) == 3:\n",
    "                ffield = funcs.unstagger_coordinate(fortran_vars[var].data[:, :, :])\n",
    "                sfield = funcs.unstagger_coordinate(serialbox_vars[var].data[:, :, :])\n",
    "            dfield = ffield - sfield\n",
    "\n",
    "\n",
    "            minvals = min(np.nanmin(ffield), np.nanmin(sfield))\n",
    "            maxvals = max(np.nanmax(ffield), np.nanmax(sfield))\n",
    "            dextrema = max(np.abs(np.nanmin(dfield)), np.abs(np.nanmax(dfield)))\n",
    "            if minvals == maxvals:\n",
    "                minvals -= .1\n",
    "                maxvals += .1\n",
    "                dextrema += .1\n",
    "\n",
    "    \n",
    "            fig = plt.figure(figsize = (20, 4))\n",
    "            fig.patch.set_facecolor('white')\n",
    "            gs = GridSpec(2, 3, width_ratios=[1,1,1], height_ratios=[1,.08])\n",
    "            fvar = fig.add_subplot(gs[0, 0], projection=ccrs.Robinson())\n",
    "            svar = fig.add_subplot(gs[0, 1], projection=ccrs.Robinson())\n",
    "            dvar = fig.add_subplot(gs[0, 2], projection=ccrs.Robinson())\n",
    "\n",
    "            cax_f = fig.add_subplot(gs[1, 0])\n",
    "            cax_s = fig.add_subplot(gs[1, 1])\n",
    "            cax_d = fig.add_subplot(gs[1, 2])\n",
    "\n",
    "            f1 = pcolormesh_cube(flat.data, flon.data, ffield, ax=fvar, vmin=minvals, vmax=maxvals)\n",
    "            f2 = pcolormesh_cube(flat.data, flon.data, sfield, ax=svar, vmin=minvals, vmax=maxvals)\n",
    "            f3 = pcolormesh_cube(flat.data, flon.data, dfield, ax=dvar, vmin=-dextrema, vmax=dextrema, cmap=\"bwr\")\n",
    "\n",
    "            plt.colorbar(f1, cax=cax_f, orientation=\"horizontal\", label=fortran_vars[var].units)\n",
    "            plt.colorbar(f2, cax=cax_s, orientation=\"horizontal\", label=fortran_vars[var].units)\n",
    "            plt.colorbar(f3, cax=cax_d, orientation=\"horizontal\", label=fortran_vars[var].units)\n",
    "\n",
    "            fvar.set_title(\"%s in fortran-restart\\nMin, max: (%.3e, %.3e)\" % (var, ffield.min(), ffield.max()))\n",
    "            svar.set_title(\"%s in serialbox-restart\\nMin, max: (%.3e, %.3e)\" % (var, sfield.min(), sfield.max()))\n",
    "            dvar.set_title(\"fortran - serialbox % s\\nMin, max: (%.3e, %.3e)\" % (var, dfield.min(), dfield.max()))\n",
    "\n",
    "            plt.savefig(savedir + \"FS_dycoreState_v0_%s.png\" % var, dpi=200, bbox_inches='tight')\n",
    "\n",
    "            plt.show()"
   ]
  },
  {
   "cell_type": "code",
   "execution_count": null,
   "metadata": {},
   "outputs": [],
   "source": [
    "from netCDF4 import Dataset\n",
    "\n",
    "restart_path = \"/home/ajdas/pace/restart_data/v1.0\"\n",
    "serial_path = \"/home/ajdas/pace/test_data/8.1.1/c12_6ranks_baroclinic_dycore_microphysics/driver/\"\n",
    "\n",
    "ser_data = Dataset(serial_path + \"Driver-In.nc\", 'r')\n",
    "pt_s = np.array(ser_data[\"pt\"][0])\n",
    "ser_data.close()\n",
    "\n",
    "pt_f = []\n",
    "for tile in range(1, 7, 1):\n",
    "    for_data = Dataset(restart_path + \"/fv_core.res.tile%s.nc\" %tile, \"r\")\n",
    "    pt_f.append(np.array(for_data[\"T\"][0]))\n",
    "    for_data.close()\n",
    "\n",
    "pt_f = np.stack(pt_f)\n",
    "\n",
    "# if mpi_rank == 0:\n",
    "#     print(delp_s.shape, delp_f.shape)"
   ]
  },
  {
   "cell_type": "code",
   "execution_count": null,
   "metadata": {},
   "outputs": [],
   "source": [
    "fig = plt.figure(figsize = (15, 4))\n",
    "ax1 = fig.add_subplot(131)\n",
    "ax2 = fig.add_subplot(132)\n",
    "ax3 = fig.add_subplot(133)\n",
    "ax1.pcolormesh(pt_s[mpi_rank, 3:-3, 3:-3, -1].T)\n",
    "ax2.pcolormesh(pt_f[mpi_rank, -1])\n",
    "ax3.pcolormesh(pt_f[mpi_rank, -1]-pt_s[mpi_rank, 3:-3, 3:-3, -1].T, cmap=\"bwr\", vmin=-3, vmax=3)\n"
   ]
  },
  {
   "cell_type": "code",
   "execution_count": null,
   "metadata": {},
   "outputs": [],
   "source": [
    "fortran_path = \"/home/ajdas/pace/restart_data/v4.0/\"\n",
    "serial_path = \"/home/ajdas/pace/test_data/8.1.1/c12_6ranks_standard_restart_15min/\"\n"
   ]
  },
  {
   "cell_type": "code",
   "execution_count": null,
   "metadata": {},
   "outputs": [],
   "source": [
    "#data = Dataset(serial_path + \"GFSPhysicsDriver-In.nc\", \"r\")\n"
   ]
  },
  {
   "cell_type": "code",
   "execution_count": null,
   "metadata": {},
   "outputs": [],
   "source": [
    "#data"
   ]
  },
  {
   "cell_type": "code",
   "execution_count": null,
   "metadata": {},
   "outputs": [],
   "source": [
    "data = Dataset(serial_path + \"GFSPhysicsDriver-In.nc\", \"r\")\n",
    "delp_s = np.array(data[\"delp\"][0])\n",
    "pt_s = np.array(data[\"pt\"][0])\n",
    "data.close()\n",
    "delp_s = delp_s[:, 3:-3, 3:-3]\n",
    "pt_s = pt_s[:, 3:-3, 3:-3]\n",
    "\n",
    "delp_f = []\n",
    "pt_f = []\n",
    "for tile in range(1, 7, 1):\n",
    "    for_data = Dataset(restart_path + \"/fv_core.res.tile%s.nc\" %tile, \"r\")\n",
    "    delp_f.append(np.array(for_data[\"delp\"][0]))\n",
    "    pt_f.append(np.array(for_data[\"T\"][0]))\n",
    "    for_data.close()\n",
    "\n",
    "delp_f = np.stack(delp_f)\n",
    "delp_f = np.transpose(delp_f, (0, 3, 2, 1))\n",
    "pt_f = np.stack(pt_f)\n",
    "pt_f = np.transpose(pt_f, (0, 3, 2, 1))\n",
    "\n",
    "if mpi_rank == 0:\n",
    "    print(delp_s.shape, delp_f.shape)"
   ]
  },
  {
   "cell_type": "code",
   "execution_count": null,
   "metadata": {},
   "outputs": [],
   "source": [
    "if mpi_rank == 0:\n",
    "    for lev in range(79):\n",
    "        print(\"F delp min, max at lev %s: %.2f, %.2f\" % (lev, np.nanmin(delp_f[:, :, :, -lev]), np.nanmax(np.nanmax(delp_f[:, :, :, -lev]))))\n",
    "        print(\"S delp min, max at lev %s: %.2f, %.2f\" % (lev, np.nanmin(delp_s[:, :, :, lev]), np.nanmax(np.nanmax(delp_s[:, :, :, lev]))))\n",
    "        print(\"   max diff at lev %s: %.2e\" % (lev, np.nanmax(np.abs(delp_f[:, :, :, -lev] - delp_s[:, :, :, lev]))))"
   ]
  },
  {
   "cell_type": "code",
   "execution_count": null,
   "metadata": {},
   "outputs": [],
   "source": [
    "if mpi_rank == 0:\n",
    "    var = \"delp\"\n",
    "    lev = 0\n",
    "\n",
    "    ffield = delp_f[:, :, :, -lev-1]\n",
    "    sfield = delp_s[:, :, :, lev]\n",
    "    dfield = ffield - sfield\n",
    "    print(ffield.min(), ffield.max())\n",
    "\n",
    "    minvals = min(np.nanmin(ffield), np.nanmin(sfield))\n",
    "    maxvals = max(np.nanmax(ffield), np.nanmax(sfield))\n",
    "    dextrema = max(np.abs(np.nanmin(dfield)), np.abs(np.nanmax(dfield)))\n",
    "    if minvals == maxvals:\n",
    "        minvals -= .1\n",
    "        maxvals += .1\n",
    "        dextrema += .1\n",
    "\n",
    "    fig = plt.figure(figsize = (20, 4))\n",
    "    fig.patch.set_facecolor('white')\n",
    "    gs = GridSpec(2, 3, width_ratios=[1,1,1], height_ratios=[1,.08])\n",
    "    fvar = fig.add_subplot(gs[0, 0], projection=ccrs.Robinson())\n",
    "    svar = fig.add_subplot(gs[0, 1], projection=ccrs.Robinson())\n",
    "    dvar = fig.add_subplot(gs[0, 2], projection=ccrs.Robinson())\n",
    "\n",
    "    cax_f = fig.add_subplot(gs[1, 0])\n",
    "    cax_s = fig.add_subplot(gs[1, 1])\n",
    "    cax_d = fig.add_subplot(gs[1, 2])\n",
    "\n",
    "    f1 = pcolormesh_cube(flat.data, flon.data, ffield, ax=fvar, vmin=minvals, vmax=maxvals)\n",
    "    f2 = pcolormesh_cube(flat.data, flon.data, sfield, ax=svar, vmin=minvals, vmax=maxvals)\n",
    "    f3 = pcolormesh_cube(flat.data, flon.data, dfield, ax=dvar, vmin=-dextrema, vmax=dextrema, cmap=\"bwr\")\n",
    "\n",
    "    plt.colorbar(f1, cax=cax_f, orientation=\"horizontal\", label=fortran_vars[var].units)\n",
    "    plt.colorbar(f2, cax=cax_s, orientation=\"horizontal\", label=fortran_vars[var].units)\n",
    "    plt.colorbar(f3, cax=cax_d, orientation=\"horizontal\", label=fortran_vars[var].units)\n",
    "\n",
    "    fvar.set_title(\"%s in fortran-restart\\nMin, max: (%.3e, %.3e)\" % (var, ffield.min(), ffield.max()))\n",
    "    svar.set_title(\"%s in serialbox-restart\\nMin, max: (%.3e, %.3e)\" % (var, sfield.min(), sfield.max()))\n",
    "    dvar.set_title(\"lev %s fortran - serialbox % s\\nMin, max: (%.3e, %.3e)\" % (lev, var, dfield.min(), dfield.max()))\n",
    "\n",
    "    #plt.savefig(savedir + \"FS_dycoreState_v0_%s.png\" % var, dpi=200, bbox_inches='tight')\n",
    "\n",
    "    plt.show()"
   ]
  },
  {
   "cell_type": "code",
   "execution_count": null,
   "metadata": {},
   "outputs": [],
   "source": [
    "if mpi_rank == 0:\n",
    "    var = \"pt\"\n",
    "    lev = 0\n",
    "\n",
    "    ffield = pt_f[:, :, :, lev]\n",
    "    sfield = pt_s[:, :, :, -lev-1]\n",
    "    dfield = ffield - sfield\n",
    "\n",
    "    minvals = min(np.nanmin(ffield), np.nanmin(sfield))\n",
    "    maxvals = max(np.nanmax(ffield), np.nanmax(sfield))\n",
    "    dextrema = max(np.abs(np.nanmin(dfield)), np.abs(np.nanmax(dfield)))\n",
    "    if minvals == maxvals:\n",
    "        minvals -= .1\n",
    "        maxvals += .1\n",
    "        dextrema += .1\n",
    "\n",
    "    fig = plt.figure(figsize = (20, 4))\n",
    "    fig.patch.set_facecolor('white')\n",
    "    gs = GridSpec(2, 3, width_ratios=[1,1,1], height_ratios=[1,.08])\n",
    "    fvar = fig.add_subplot(gs[0, 0], projection=ccrs.Robinson())\n",
    "    svar = fig.add_subplot(gs[0, 1], projection=ccrs.Robinson())\n",
    "    dvar = fig.add_subplot(gs[0, 2], projection=ccrs.Robinson())\n",
    "\n",
    "    cax_f = fig.add_subplot(gs[1, 0])\n",
    "    cax_s = fig.add_subplot(gs[1, 1])\n",
    "    cax_d = fig.add_subplot(gs[1, 2])\n",
    "\n",
    "    f1 = pcolormesh_cube(flat.data, flon.data, ffield, ax=fvar, vmin=minvals, vmax=maxvals)\n",
    "    f2 = pcolormesh_cube(flat.data, flon.data, sfield, ax=svar, vmin=minvals, vmax=maxvals)\n",
    "    f3 = pcolormesh_cube(flat.data, flon.data, dfield, ax=dvar, vmin=-dextrema, vmax=dextrema, cmap=\"bwr\")\n",
    "\n",
    "    plt.colorbar(f1, cax=cax_f, orientation=\"horizontal\", label=fortran_vars[var].units)\n",
    "    plt.colorbar(f2, cax=cax_s, orientation=\"horizontal\", label=fortran_vars[var].units)\n",
    "    plt.colorbar(f3, cax=cax_d, orientation=\"horizontal\", label=fortran_vars[var].units)\n",
    "\n",
    "    fvar.set_title(\"%s in fortran-restart\\nMin, max: (%.3e, %.3e)\" % (var, ffield.min(), ffield.max()))\n",
    "    svar.set_title(\"%s in serialbox-restart\\nMin, max: (%.3e, %.3e)\" % (var, sfield.min(), sfield.max()))\n",
    "    dvar.set_title(\"lev %s fortran - serialbox % s\\nMin, max: (%.3e, %.3e)\" % (lev, var, dfield.min(), dfield.max()))\n",
    "\n",
    "    #plt.savefig(savedir + \"FS_dycoreState_v0_%s.png\" % var, dpi=200, bbox_inches='tight')\n",
    "\n",
    "    plt.show()"
   ]
  },
  {
   "cell_type": "markdown",
   "metadata": {},
   "source": [
    "# DIFFERENT TEST CASE - standard"
   ]
  },
  {
   "cell_type": "code",
   "execution_count": 13,
   "metadata": {},
   "outputs": [],
   "source": [
    "from datetime import datetime\n",
    "\n",
    "restart_path = \"/home/ajdas/pace/restart_data/v4.0\"\n",
    "restart_time = datetime.strptime(\"2016-08-01 00:15:00\", \"%Y-%m-%d %H:%M:%S\")\n",
    "fortran_data = True\n"
   ]
  },
  {
   "cell_type": "code",
   "execution_count": 14,
   "metadata": {},
   "outputs": [],
   "source": [
    "from mpi4py import MPI\n",
    "\n",
    "mpi_comm = MPI.COMM_WORLD\n",
    "mpi_size = mpi_comm.Get_size()\n",
    "mpi_rank = mpi_comm.Get_rank()"
   ]
  },
  {
   "cell_type": "code",
   "execution_count": 15,
   "metadata": {},
   "outputs": [],
   "source": [
    "%%capture\n",
    "from pace.util import CubedSphereCommunicator, CubedSpherePartitioner, Quantity, TilePartitioner\n",
    "\n",
    "layout = (1, 1)\n",
    "partitioner = CubedSpherePartitioner(TilePartitioner(layout))\n",
    "communicator = CubedSphereCommunicator(mpi_comm, partitioner)"
   ]
  },
  {
   "cell_type": "code",
   "execution_count": 16,
   "metadata": {},
   "outputs": [],
   "source": [
    "from pace.util import QuantityFactory, SubtileGridSizer\n",
    "\n",
    "backend = \"numpy\"\n",
    "\n",
    "sizer = SubtileGridSizer.from_tile_params(\n",
    "    nx_tile=12,\n",
    "    ny_tile=12,\n",
    "    nz=79,\n",
    "    n_halo=3,\n",
    "    extra_dim_lengths={},\n",
    "    layout=layout,\n",
    "    tile_partitioner=partitioner.tile,\n",
    "    tile_rank=communicator.tile.rank,\n",
    ")\n",
    "\n",
    "quantity_factory = QuantityFactory.from_backend(sizer=sizer, backend=backend)"
   ]
  },
  {
   "cell_type": "code",
   "execution_count": 17,
   "metadata": {},
   "outputs": [],
   "source": [
    "%%capture\n",
    "from pace.driver.initialization import RestartConfig\n",
    "\n",
    "restart_config = RestartConfig(path=restart_path, start_time=restart_time, fortran_data=fortran_data)\n",
    "fortran_state = restart_config.get_driver_state(quantity_factory, communicator)"
   ]
  },
  {
   "cell_type": "code",
   "execution_count": 18,
   "metadata": {},
   "outputs": [
    {
     "data": {
      "text/plain": [
       "[stderr:5] /home/ajdas/pace/util/pace/util/grid/gnomonic.py:682: RuntimeWarning: invalid value encountered in true_divide\n",
       "  np.sum(p * q, axis=-1)\n"
      ]
     },
     "metadata": {},
     "output_type": "display_data"
    },
    {
     "data": {
      "text/plain": [
       "[stderr:2] /home/ajdas/pace/util/pace/util/grid/gnomonic.py:682: RuntimeWarning: invalid value encountered in true_divide\n",
       "  np.sum(p * q, axis=-1)\n"
      ]
     },
     "metadata": {},
     "output_type": "display_data"
    }
   ],
   "source": [
    "import pace.util.grid\n",
    "import numpy as np\n",
    "from netCDF4 import Dataset\n",
    "\n",
    "path = restart_path\n",
    "fortran_data = True\n",
    "\n",
    "metric_terms = pace.util.grid.MetricTerms(quantity_factory=quantity_factory, communicator=communicator)\n",
    "horizontal_grid_data = pace.util.grid.HorizontalGridData.new_from_metric_terms(metric_terms)\n",
    "contravariant_grid_data = pace.util.grid.ContravariantGridData.new_from_metric_terms(metric_terms)\n",
    "angle_grid_data = pace.util.grid.AngleGridData.new_from_metric_terms(metric_terms)\n",
    "\n",
    "data = Dataset(path + \"/fv_core.res.nc\", \"r\")\n",
    "ak = np.array(data[\"ak\"])\n",
    "bk = np.array(data[\"bk\"])\n",
    "data.close()\n",
    "\n",
    "ptop = 300\n",
    "ks = 0\n",
    "\n",
    "vertical_grid_data = pace.util.grid.VerticalGridData(ptop, ks, ak, bk)\n",
    "\n",
    "grid_data = pace.util.grid.GridData(horizontal_grid_data, vertical_grid_data, contravariant_grid_data, angle_grid_data)\n"
   ]
  },
  {
   "cell_type": "code",
   "execution_count": 19,
   "metadata": {},
   "outputs": [
    {
     "data": {
      "text/plain": [
       "[stdout:5] Rank: 5\n"
      ]
     },
     "metadata": {},
     "output_type": "display_data"
    },
    {
     "data": {
      "text/plain": [
       "[stdout:0] Rank: 0\n"
      ]
     },
     "metadata": {},
     "output_type": "display_data"
    },
    {
     "data": {
      "text/plain": [
       "[stdout:1] Rank: 1\n"
      ]
     },
     "metadata": {},
     "output_type": "display_data"
    },
    {
     "data": {
      "text/plain": [
       "[stdout:4] Rank: 4\n"
      ]
     },
     "metadata": {},
     "output_type": "display_data"
    },
    {
     "data": {
      "text/plain": [
       "[stdout:2] Rank: 2\n"
      ]
     },
     "metadata": {},
     "output_type": "display_data"
    },
    {
     "data": {
      "text/plain": [
       "[stdout:3] Rank: 3\n"
      ]
     },
     "metadata": {},
     "output_type": "display_data"
    }
   ],
   "source": [
    "damping_coefficients = pace.util.grid.DampingCoefficients.new_from_metric_terms(metric_terms)\n",
    "driver_grid_data = pace.util.grid.DriverGridData.new_from_metric_terms(metric_terms)\n",
    "dycore_state = pace.fv3core.DycoreState.init_zeros(quantity_factory=quantity_factory)\n",
    "backend_uses_gpu = pace.dsl.gt4py_utils.is_gpu_backend(dycore_state.u.metadata.gt4py_backend)\n",
    "\n",
    "dycore_state = pace.driver.state._overwrite_state_from_fortran_restart(\n",
    "            path,\n",
    "            communicator,\n",
    "            dycore_state,\n",
    "            \"restart_dycore_state\",\n",
    "            backend_uses_gpu,\n",
    "        )\n"
   ]
  },
  {
   "cell_type": "code",
   "execution_count": 20,
   "metadata": {},
   "outputs": [],
   "source": [
    "ser_datadir = \"/home/ajdas/pace/test_data/8.1.1/v4.0/\"\n",
    "\n",
    "data = Dataset(ser_datadir + \"Driver-In.nc\", \"r\")\n",
    "pt = np.array(data[\"pt\"][0, :, 3:-3, 3:-3])\n",
    "delp = np.array(data[\"delp\"][0, :, 3:-3, 3:-3])\n",
    "data.close()\n",
    "\n",
    "data = Dataset(ser_datadir + \"GridGrid-Out.nc\", \"r\")\n",
    "lon = np.array(data[\"grid\"][0, :, 3:-3, 3:-3, 0])\n",
    "lat = np.array(data[\"grid\"][0, :, 3:-3, 3:-3, 1])\n",
    "data.close()\n"
   ]
  },
  {
   "cell_type": "code",
   "execution_count": 21,
   "metadata": {},
   "outputs": [],
   "source": [
    "pt_driver = dycore_state.pt\n",
    "delp_driver = dycore_state.delp\n",
    "\n",
    "lon_driver = Quantity(\n",
    "    data = grid_data.lon.data,\n",
    "    dims=(\"x_interface\", \"y_interface\"),\n",
    "    units=\"rad\",\n",
    "    origin=(3, 3),\n",
    "    extent=(13, 13),\n",
    "    gt4py_backend=\"numpy\",\n",
    ")\n",
    "\n",
    "import copy as cp\n",
    "lat_driver = cp.deepcopy(lon_driver)\n",
    "lat_driver.data[:] = grid_data.lat.data\n",
    "\n",
    "\n",
    "pt_driver_g = communicator.gather(pt_driver)\n",
    "delp_driver_g = communicator.gather(delp_driver)\n",
    "\n",
    "lon_driver_g = communicator.gather(lon_driver)\n",
    "lat_driver_g = communicator.gather(lat_driver)"
   ]
  },
  {
   "cell_type": "code",
   "execution_count": 32,
   "metadata": {},
   "outputs": [],
   "source": [
    "lon_fs = cp.deepcopy(lon_driver)\n",
    "lon_fs.data[:] = fortran_state.grid_data.lon.data\n",
    "lat_fs = cp.deepcopy(lon_driver)\n",
    "lat_fs.data[:] = fortran_state.grid_data.lat.data\n",
    "\n",
    "pt_fs = fortran_state.dycore_state.pt\n",
    "pt_fs_g = communicator.gather(pt_fs)\n"
   ]
  },
  {
   "cell_type": "code",
   "execution_count": 33,
   "metadata": {},
   "outputs": [
    {
     "data": {
      "text/plain": [
       "[output:0]"
      ]
     },
     "metadata": {},
     "output_type": "display_data"
    },
    {
     "data": {
      "image/png": "[encoded data removed]",
      "text/plain": [
       "<Figure size 864x432 with 2 Axes>"
      ]
     },
     "metadata": {
      "engine": 0
     },
     "output_type": "display_data"
    },
    {
     "data": {
      "application/vnd.jupyter.widget-view+json": {
       "model_id": "185d0f270a834f10bbce81a2b3b1bf5a",
       "version_major": 2,
       "version_minor": 0
      },
      "text/plain": [
       "%px:   0%|          | 0/6 [00:00<?, ?tasks/s]"
      ]
     },
     "metadata": {},
     "output_type": "display_data"
    },
    {
     "data": {
      "text/plain": [
       "[output:0]"
      ]
     },
     "metadata": {},
     "output_type": "display_data"
    },
    {
     "data": {
      "image/png": "[encoded data removed]",
      "text/plain": [
       "<Figure size 864x432 with 2 Axes>"
      ]
     },
     "metadata": {
      "engine": 0
     },
     "output_type": "display_data"
    }
   ],
   "source": [
    "import matplotlib.pyplot as plt\n",
    "from cartopy import crs as ccrs\n",
    "from fv3viz import pcolormesh_cube\n",
    "\n",
    "if rank == 0:\n",
    "    lon_g = np.rad2deg(lon)\n",
    "    lat_g = np.rad2deg(lat)\n",
    "    lonD_g = np.rad2deg(lon_driver_g.view[:])\n",
    "    latD_g = np.rad2deg(lon_driver_g.view[:])\n",
    "\n",
    "    pt_driver_p = pt_driver_g.view[:]\n",
    "    delp_driver_p = delp_driver_g.view[:]\n",
    "\n",
    "    pt_fs_p = pt_fs_g.view[:]\n",
    "\n",
    "    fig = plt.figure(figsize=(12, 6))\n",
    "    fig.patch.set_facecolor(\"white\")\n",
    "    ax = fig.add_subplot(111, projection=ccrs.Robinson(central_longitude=180))\n",
    "    ax.set_facecolor(\".4\")\n",
    "    ax.set_global()\n",
    "    \n",
    "    gl = ax.gridlines(crs=ccrs.PlateCarree(), draw_labels=True,\n",
    "                  linewidth=2, color='gray', alpha=0.5, linestyle='--', xlocs=np.arange(-180, 181, 60), ylocs=np.arange(-90, 91, 30))\n",
    "\n",
    "    ax.set_title(\"Serialized pt lev -1 (standard)\")\n",
    "\n",
    "    f1 = pcolormesh_cube(\n",
    "        lat_g,\n",
    "        lon_g,\n",
    "        pt[:, :, :, -1],\n",
    "        cmap=\"viridis\",\n",
    "    )\n",
    "\n",
    "    plt.colorbar(f1, label=\"K\")\n",
    "\n",
    "\n",
    "    fig = plt.figure(figsize=(12, 6))\n",
    "    fig.patch.set_facecolor(\"white\")\n",
    "    ax = fig.add_subplot(111, projection=ccrs.Robinson(central_longitude=180))\n",
    "    ax.set_facecolor(\".4\")\n",
    "    ax.set_global()\n",
    "    \n",
    "    gl = ax.gridlines(crs=ccrs.PlateCarree(), draw_labels=True,\n",
    "                  linewidth=2, color='gray', alpha=0.5, linestyle='--', xlocs=np.arange(-180, 181, 60), ylocs=np.arange(-90, 91, 30))\n",
    "\n",
    "    ax.set_title(\"Fortran restart pt lev -1 (standard)\")\n",
    "\n",
    "    f1 = pcolormesh_cube(\n",
    "        latD_g,\n",
    "        lonD_g,\n",
    "        pt_fs_p[:, :, :, -1],\n",
    "        cmap=\"viridis\",\n",
    "    )\n",
    "\n",
    "    plt.colorbar(f1, label=\"K\")\n",
    "\n",
    "    \n",
    "    plt.show()\n"
   ]
  },
  {
   "cell_type": "code",
   "execution_count": 39,
   "metadata": {},
   "outputs": [
    {
     "data": {
      "text/plain": [
       "\u001b[0;31mOut[0:38]: \u001b[0m358.28298505985214"
      ]
     },
     "metadata": {
      "after": null,
      "completed": null,
      "data": {},
      "engine_id": 0,
      "engine_uuid": "21fb3cc8-1cfe37305ae5fede2b0773d2",
      "error": null,
      "execute_input": "lonD_g.max()",
      "execute_result": {
       "data": {
        "text/plain": "358.28298505985214"
       },
       "execution_count": 38,
       "metadata": {}
      },
      "follow": null,
      "msg_id": null,
      "outputs": [],
      "received": null,
      "started": null,
      "status": null,
      "stderr": "",
      "stdout": "",
      "submitted": "2022-09-08T22:51:35.763868Z"
     },
     "output_type": "display_data"
    },
    {
     "name": "stderr",
     "output_type": "stream",
     "text": [
      "[1:execute]\n",
      "\u001b[0;31m---------------------------------------------------------------------------\u001b[0m\n",
      "\u001b[0;31mNameError\u001b[0m                                 Traceback (most recent call last)\n",
      "Input \u001b[0;32mIn [38]\u001b[0m, in \u001b[0;36m<cell line: 1>\u001b[0;34m()\u001b[0m\n",
      "\u001b[0;32m----> 1\u001b[0m lonD_g\u001b[38;5;241m.\u001b[39mmax()\n",
      "\n",
      "\u001b[0;31mNameError\u001b[0m: name 'lonD_g' is not defined\n",
      "[3:execute]\n",
      "\u001b[0;31m---------------------------------------------------------------------------\u001b[0m\n",
      "\u001b[0;31mNameError\u001b[0m                                 Traceback (most recent call last)\n",
      "Input \u001b[0;32mIn [38]\u001b[0m, in \u001b[0;36m<cell line: 1>\u001b[0;34m()\u001b[0m\n",
      "\u001b[0;32m----> 1\u001b[0m lonD_g\u001b[38;5;241m.\u001b[39mmax()\n",
      "\n",
      "\u001b[0;31mNameError\u001b[0m: name 'lonD_g' is not defined\n",
      "[5:execute]\n",
      "\u001b[0;31m---------------------------------------------------------------------------\u001b[0m\n",
      "\u001b[0;31mNameError\u001b[0m                                 Traceback (most recent call last)\n",
      "Input \u001b[0;32mIn [38]\u001b[0m, in \u001b[0;36m<cell line: 1>\u001b[0;34m()\u001b[0m\n",
      "\u001b[0;32m----> 1\u001b[0m lonD_g\u001b[38;5;241m.\u001b[39mmax()\n",
      "\n",
      "\u001b[0;31mNameError\u001b[0m: name 'lonD_g' is not defined\n",
      "[2:execute]\n",
      "\u001b[0;31m---------------------------------------------------------------------------\u001b[0m\n",
      "\u001b[0;31mNameError\u001b[0m                                 Traceback (most recent call last)\n",
      "Input \u001b[0;32mIn [38]\u001b[0m, in \u001b[0;36m<cell line: 1>\u001b[0;34m()\u001b[0m\n",
      "\u001b[0;32m----> 1\u001b[0m lonD_g\u001b[38;5;241m.\u001b[39mmax()\n",
      "\n",
      "\u001b[0;31mNameError\u001b[0m: name 'lonD_g' is not defined\n",
      "[4:execute] NameError: name 'lonD_g' is not defined\n"
     ]
    },
    {
     "ename": "AlreadyDisplayedError",
     "evalue": "5 errors",
     "output_type": "error",
     "traceback": [
      "5 errors"
     ]
    }
   ],
   "source": [
    "lonD_g.max()"
   ]
  },
  {
   "cell_type": "code",
   "execution_count": null,
   "metadata": {},
   "outputs": [],
   "source": []
  }
 ],
 "metadata": {
  "kernelspec": {
   "display_name": "Python 3.8.10 ('venv': venv)",
   "language": "python",
   "name": "python3"
  },
  "language_info": {
   "codemirror_mode": {
    "name": "ipython",
    "version": 3
   },
   "file_extension": ".py",
   "mimetype": "text/x-python",
   "name": "python",
   "nbconvert_exporter": "python",
   "pygments_lexer": "ipython3",
   "version": "3.8.10"
  },
  "orig_nbformat": 4,
  "vscode": {
   "interpreter": {
    "hash": "5aaa1d64d2aec5fc9d71d95fe114c55e361597d915cf108c460e747a228aecec"
   }
  }
 },
 "nbformat": 4,
 "nbformat_minor": 2
}
