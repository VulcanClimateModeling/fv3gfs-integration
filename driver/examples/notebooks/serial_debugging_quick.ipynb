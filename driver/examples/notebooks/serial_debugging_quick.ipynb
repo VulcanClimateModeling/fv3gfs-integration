{
 "cells": [
  {
   "cell_type": "markdown",
   "id": "caab6e9e",
   "metadata": {},
   "source": [
    "# Running Pace in a Notebook\n",
    "\n",
    "We can run the same Pace code as runs on a massively parallel supercomputer on a laptop in a Jupyter notebook!"
   ]
  },
  {
   "cell_type": "code",
   "execution_count": 1,
   "id": "ee1201d3",
   "metadata": {},
   "outputs": [
    {
     "data": {
      "text/html": [
       "<link href=\"https://fonts.googleapis.com/icon?family=Material+Icons\" rel=\"stylesheet\"><script src=\"https://spcl.github.io/dace/webclient2/dist/sdfv.js\"></script>\n",
       "<link href=\"https://spcl.github.io/dace/webclient2/sdfv.css\" rel=\"stylesheet\">\n"
      ],
      "text/plain": [
       "<IPython.core.display.HTML object>"
      ]
     },
     "metadata": {},
     "output_type": "display_data"
    }
   ],
   "source": [
    "import pace.util\n",
    "from datetime import timedelta\n",
    "import pace.driver\n",
    "import fv3core.stencils.d2a2c_vect\n",
    "import yaml\n",
    "import dacite\n",
    "import copy\n",
    "import subprocess\n",
    "import matplotlib.pyplot as plt  # pip install matplotlib"
   ]
  },
  {
   "cell_type": "markdown",
   "id": "b9298bdc",
   "metadata": {},
   "source": [
    "## Define the Driver Configuration\n",
    "\n",
    "We will be using a modified version of the baroclinic instability case on a C12 grid."
   ]
  },
  {
   "cell_type": "code",
   "execution_count": 2,
   "id": "9ed813d4",
   "metadata": {},
   "outputs": [],
   "source": [
    "with open(\"../configs/baroclinic_c12.yaml\", \"r\") as f:\n",
    "    base_config = yaml.safe_load(f)\n",
    "read_config = copy.deepcopy(base_config)\n",
    "read_config[\"diagnostics_config\"] = {}\n",
    "read_config[\"comm_config\"] = {\n",
    "    \"type\": \"read\",\n",
    "    \"config\": {\n",
    "        \"path\": \"comm\",\n",
    "        \"rank\": 0\n",
    "    }\n",
    "}\n",
    "driver_config = pace.driver.DriverConfig.from_dict(read_config)"
   ]
  },
  {
   "cell_type": "markdown",
   "id": "b043fb7a",
   "metadata": {},
   "source": [
    "## Create a Driver\n",
    "\n",
    "A Driver only needs one argument - its configuration dataclass, which can be created from a dict (or a yaml file on disk)."
   ]
  },
  {
   "cell_type": "code",
   "execution_count": 3,
   "id": "54cdc027",
   "metadata": {},
   "outputs": [],
   "source": [
    "driver = pace.driver.Driver(config=driver_config)"
   ]
  },
  {
   "cell_type": "markdown",
   "id": "d2c250db",
   "metadata": {},
   "source": [
    "## Some preparation"
   ]
  },
  {
   "cell_type": "markdown",
   "id": "eebc9cce",
   "metadata": {},
   "source": [
    "### Copy the initial state for later"
   ]
  },
  {
   "cell_type": "code",
   "execution_count": 4,
   "id": "b6764e1d",
   "metadata": {},
   "outputs": [],
   "source": [
    "dycore_state = driver.state.dycore_state\n",
    "initial_state = copy.deepcopy(dycore_state)"
   ]
  },
  {
   "cell_type": "markdown",
   "id": "8d46d268",
   "metadata": {},
   "source": [
    "### define a plotting helper function"
   ]
  },
  {
   "cell_type": "markdown",
   "id": "ad36b7d5",
   "metadata": {},
   "source": [
    "We'll look at level 50 of the model's 79 levels, somewhere in the middle of the troposphere."
   ]
  },
  {
   "cell_type": "code",
   "execution_count": 5,
   "id": "7600cdee",
   "metadata": {},
   "outputs": [],
   "source": [
    "def plot(state, varname):\n",
    "    data = getattr(state, varname)\n",
    "    # temporary workaround for bug where view goes out-of-sync with storage\n",
    "    data.view._data = data.storage.data\n",
    "    plt.figure(figsize=(5, 5))\n",
    "    # imshow by default puts x on the left and y on the bottom axis, so we transpose\n",
    "    # view by default selects the compute domain, ignoring halos\n",
    "    im = plt.imshow(data.view[:, :, 50].T)\n",
    "    plt.xlabel(\"x\")\n",
    "    plt.ylabel(\"y\")\n",
    "    plt.colorbar(im)\n",
    "    plt.title(f\"{varname} ({data.units})\")"
   ]
  },
  {
   "cell_type": "markdown",
   "id": "a9c9b893",
   "metadata": {},
   "source": [
    "## Demo 1: Stepping the model forward"
   ]
  },
  {
   "cell_type": "markdown",
   "id": "6c0f69c9",
   "metadata": {},
   "source": [
    "### plot before and after stepping"
   ]
  },
  {
   "cell_type": "markdown",
   "id": "ce2841f4",
   "metadata": {},
   "source": [
    "Here we focus on the pressure thickness of each layer (same as mass), \"delp\"."
   ]
  },
  {
   "cell_type": "code",
   "execution_count": 6,
   "id": "00d9d714",
   "metadata": {
    "scrolled": false
   },
   "outputs": [
    {
     "name": "stdout",
     "output_type": "stream",
     "text": [
      "FV Setup\n",
      "Adjust pt\n",
      "DynCore\n",
      "TracerAdvection\n",
      "Remapping\n",
      "Omega\n",
      "Neg Adj 3\n",
      "CubedToLatLon\n"
     ]
    },
    {
     "data": {
      "image/png": "[encoded data removed]",
      "text/plain": [
       "<Figure size 360x360 with 2 Axes>"
      ]
     },
     "metadata": {
      "needs_background": "light"
     },
     "output_type": "display_data"
    },
    {
     "data": {
      "image/png": "[encoded data removed]",
      "text/plain": [
       "<Figure size 360x360 with 2 Axes>"
      ]
     },
     "metadata": {
      "needs_background": "light"
     },
     "output_type": "display_data"
    }
   ],
   "source": [
    "plot(dycore_state, \"delp\")\n",
    "driver.step(timedelta(minutes=15))\n",
    "plot(dycore_state, \"delp\")"
   ]
  },
  {
   "cell_type": "markdown",
   "id": "919542ab",
   "metadata": {},
   "source": [
    "## Demo 2: Regridding Component"
   ]
  },
  {
   "cell_type": "markdown",
   "id": "b083f1f9",
   "metadata": {},
   "source": [
    "The reader-comm driver will play back communications exactly as they occurred when the reference data was created, so we cannot run communication code different from what happened at that time. But we can run code that does not rely on communications. For example, let's look at how the d-grid winds (`u` and `v`) are remapped to a-grid and c-grid winds by `DGrid2AGrid2CGridVectors`."
   ]
  },
  {
   "cell_type": "markdown",
   "id": "42450480",
   "metadata": {},
   "source": [
    "### Initialize component from driver settings"
   ]
  },
  {
   "cell_type": "code",
   "execution_count": null,
   "id": "401fdab2",
   "metadata": {},
   "outputs": [],
   "source": [
    "d2a2c = fv3core.stencils.d2a2c_vect.DGrid2AGrid2CGridVectors(\n",
    "    stencil_factory=driver.stencil_factory,\n",
    "    grid_data=driver.state.grid_data,\n",
    "    nested=False,\n",
    "    grid_type=0,\n",
    "    dord4=True\n",
    ")"
   ]
  },
  {
   "cell_type": "markdown",
   "id": "4175ecc9",
   "metadata": {},
   "source": [
    "### Call it on a copy of the initial state"
   ]
  },
  {
   "cell_type": "code",
   "execution_count": null,
   "id": "4e89132c",
   "metadata": {},
   "outputs": [],
   "source": [
    "remap_state = copy.deepcopy(initial_state)"
   ]
  },
  {
   "cell_type": "code",
   "execution_count": null,
   "id": "66fdab55",
   "metadata": {},
   "outputs": [],
   "source": [
    "# need temporaries for c-grid contravariant wind multiplied by timestep\n",
    "utc = driver.quantity_factory.zeros(\n",
    "    dims=[pace.util.X_DIM, pace.util.Y_DIM, pace.util.Z_DIM], units=\"m/s\"\n",
    ")\n",
    "vtc = driver.quantity_factory.zeros(\n",
    "    dims=[pace.util.X_DIM, pace.util.Y_DIM, pace.util.Z_DIM], units=\"m/s\"\n",
    ")\n",
    "d2a2c(\n",
    "    uc=remap_state.uc,\n",
    "    vc=remap_state.vc,\n",
    "    u=remap_state.u,\n",
    "    v=remap_state.v,\n",
    "    ua=remap_state.ua,\n",
    "    va=remap_state.va,\n",
    "    utc=utc,\n",
    "    vtc=vtc\n",
    ")"
   ]
  },
  {
   "cell_type": "markdown",
   "id": "cc253f2c",
   "metadata": {},
   "source": [
    "### Look at re-gridded \"meridional\" winds"
   ]
  },
  {
   "cell_type": "markdown",
   "id": "5054ef9e",
   "metadata": {},
   "source": [
    "`v` is the wind parallel to tile y-edges, is really meridional.\n",
    "\n",
    "`va` is wind perpendicular to transport faces, gains nonzero component.\n",
    "\n",
    "`vc` is wind parallel to tile y-edges but defined on gridcell edges, is poorly defined on tile edges"
   ]
  },
  {
   "cell_type": "code",
   "execution_count": null,
   "id": "609d5346",
   "metadata": {},
   "outputs": [],
   "source": [
    "plot(remap_state, \"v\")\n",
    "plot(remap_state, \"va\")\n",
    "plot(remap_state, \"vc\")"
   ]
  },
  {
   "cell_type": "markdown",
   "id": "0ee186d9",
   "metadata": {},
   "source": [
    "![Cubed-sphere grid](https://www.researchgate.net/profile/David-Williamson-4/publication/224017908/figure/fig3/AS:651142501498881@1532255878448/A-cubed-sphere-grid-obtained-by-projecting-a-Cartesian-coordinate-system-on-each-face.png)"
   ]
  }
 ],
 "metadata": {
  "kernelspec": {
   "display_name": "Python 3 (ipykernel)",
   "language": "python",
   "name": "python3"
  },
  "language_info": {
   "codemirror_mode": {
    "name": "ipython",
    "version": 3
   },
   "file_extension": ".py",
   "mimetype": "text/x-python",
   "name": "python",
   "nbconvert_exporter": "python",
   "pygments_lexer": "ipython3",
   "version": "3.8.13"
  }
 },
 "nbformat": 4,
 "nbformat_minor": 5
}
