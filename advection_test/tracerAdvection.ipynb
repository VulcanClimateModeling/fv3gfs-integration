{
 "cells": [
  {
   "cell_type": "markdown",
   "metadata": {},
   "source": [
    "# Tracer Advection Stencil\n",
    "\n",
    "#### 1. Start a parallel cluster"
   ]
  },
  {
   "cell_type": "code",
   "execution_count": 1,
   "metadata": {},
   "outputs": [
    {
     "data": {
      "text/html": [
       "<link href=\"https://fonts.googleapis.com/icon?family=Material+Icons\" rel=\"stylesheet\"><script src=\"https://spcl.github.io/dace/webclient2/dist/sdfv.js\"></script>\n",
       "<link href=\"https://spcl.github.io/dace/webclient2/sdfv.css\" rel=\"stylesheet\">\n"
      ],
      "text/plain": [
       "<IPython.core.display.HTML object>"
      ]
     },
     "metadata": {},
     "output_type": "display_data"
    },
    {
     "name": "stdout",
     "output_type": "stream",
     "text": [
      "Starting 6 engines with <class 'ipyparallel.cluster.launcher.MPIEngineSetLauncher'>\n"
     ]
    },
    {
     "data": {
      "application/vnd.jupyter.widget-view+json": {
       "model_id": "057424120fdb4005946a093bffc53d02",
       "version_major": 2,
       "version_minor": 0
      },
      "text/plain": [
       "  0%|          | 0/6 [00:00<?, ?engine/s]"
      ]
     },
     "metadata": {},
     "output_type": "display_data"
    }
   ],
   "source": [
    "from functions import show_clusters\n",
    "\n",
    "import ipyparallel as ipp\n",
    "import time\n",
    "\n",
    "cluster = ipp.Cluster(engines='mpi', n=6).start_and_connect_sync()\n"
   ]
  },
  {
   "cell_type": "code",
   "execution_count": 2,
   "metadata": {},
   "outputs": [
    {
     "name": "stdout",
     "output_type": "stream",
     "text": [
      "cluster_id        state    cluster_file\n",
      "1657836418-enmz  running   /home/ajdas/.ipython/profile_default/security/cluster-1657836418-enmz.json\n"
     ]
    }
   ],
   "source": [
    "time.sleep(15)\n",
    "show_clusters()"
   ]
  },
  {
   "cell_type": "code",
   "execution_count": 3,
   "metadata": {},
   "outputs": [
    {
     "name": "stdout",
     "output_type": "stream",
     "text": [
      "%autopx enabled\n"
     ]
    }
   ],
   "source": [
    "%autopx"
   ]
  },
  {
   "cell_type": "markdown",
   "metadata": {},
   "source": [
    "#### 2. Configure the domain"
   ]
  },
  {
   "cell_type": "code",
   "execution_count": 6,
   "metadata": {},
   "outputs": [],
   "source": [
    "%%capture\n",
    "from mpi4py import MPI\n",
    "import functions as func\n",
    "import importlib\n",
    "importlib.reload(func)\n",
    "\n",
    "\n",
    "mpi_comm = MPI.COMM_WORLD\n",
    "mpi_size = mpi_comm.Get_size()\n",
    "mpi_rank = mpi_comm.Get_rank()\n",
    "\n",
    "backend = 'numpy'\n",
    "layout = (1, 1)\n",
    "nx, ny, nz, nhalo = 100, 100, 79, 3\n",
    "dimensions = {'nx': nx, 'ny': ny, 'nx1': nx+1, 'ny1': ny+1, 'nz': nz, 'nhalo': nhalo, 'tile': mpi_size, 'nxhalo': nx+2*nhalo, 'nyhalo': ny+2*nhalo}\n",
    "units = {'dist': 'm', 'coord': 'degrees', 'qvapor': 'kg/kg', 'psi': 'kg/m/s', 'wind': 'm/s', 'courant': '', 'areaflux': 'm2', 'qflux': 'kg/m2', 'pressure': 'Pa'}\n",
    "origins = {'halo': (0, 0), 'compute_2d': (dimensions['nhalo'], dimensions['nhalo']), 'compute_3d': (dimensions['nhalo'], dimensions['nhalo'], 0)}\n",
    "\n",
    "\n",
    "configuration = func.configure_domain(layout, mpi_comm, dimensions, backend=backend)"
   ]
  },
  {
   "cell_type": "markdown",
   "metadata": {},
   "source": [
    "#### 2a. Gather domain coordinates"
   ]
  },
  {
   "cell_type": "code",
   "execution_count": 7,
   "metadata": {},
   "outputs": [],
   "source": [
    "from pace.util import Quantity\n",
    "import numpy as np\n",
    "\n",
    "dx_halo =  Quantity(configuration['grid_data'].dx.data, ('x_halo', 'y_halo'), units['dist'], origins['halo'], (dimensions['nxhalo'], dimensions['nyhalo']), backend)\n",
    "dy_halo =  Quantity(configuration['grid_data'].dy.data, ('x_halo', 'y_halo'), units['dist'], origins['halo'], (dimensions['nxhalo'], dimensions['nyhalo']), backend)\n",
    "dxa_halo =  Quantity(configuration['grid_data'].dxa.data, ('x_halo', 'y_halo'), units['dist'], origins['halo'], (dimensions['nxhalo'], dimensions['nyhalo']), backend)\n",
    "dya_halo =  Quantity(configuration['grid_data'].dya.data, ('x_halo', 'y_halo'), units['dist'], origins['halo'], (dimensions['nxhalo'], dimensions['nyhalo']), backend)\n",
    "dxc_halo =  Quantity(configuration['grid_data'].dxc.data, ('x_halo', 'y_halo'), units['dist'], origins['halo'], (dimensions['nxhalo'], dimensions['nyhalo']), backend)\n",
    "dyc_halo =  Quantity(configuration['grid_data'].dyc.data, ('x_halo', 'y_halo'), units['dist'], origins['halo'], (dimensions['nxhalo'], dimensions['nyhalo']), backend)\n",
    "dx_global = configuration['communicator'].gather(dx_halo)\n",
    "dy_global = configuration['communicator'].gather(dy_halo)\n",
    "dxa_global = configuration['communicator'].gather(dxa_halo)\n",
    "dya_global = configuration['communicator'].gather(dya_halo)\n",
    "dxc_global = configuration['communicator'].gather(dxc_halo)\n",
    "dyc_global = configuration['communicator'].gather(dyc_halo)\n",
    "\n",
    "lona_halo =  Quantity(configuration['grid_data'].lon_agrid.data * 180 / np.pi, ('x_halo', 'y_halo'), units['coord'], origins['halo'], (dimensions['nxhalo'], dimensions['nyhalo']), backend)\n",
    "lata_halo =  Quantity(configuration['grid_data'].lat_agrid.data * 180 / np.pi, ('x_halo', 'y_halo'), units['coord'], origins['halo'], (dimensions['nxhalo'], dimensions['nyhalo']), backend)\n",
    "lona_global = configuration['communicator'].gather(lona_halo)\n",
    "lata_global = configuration['communicator'].gather(lata_halo)"
   ]
  },
  {
   "cell_type": "markdown",
   "metadata": {},
   "source": [
    "#### 2b. Save coordinates to netCDF file\n",
    "\n",
    "Convert below markdown cell to code."
   ]
  },
  {
   "cell_type": "markdown",
   "metadata": {},
   "source": [
    "```\n",
    "import functions as func\n",
    "\n",
    "\n",
    "lon_halo =  Quantity(configuration['grid_data'].lon.data * 180 / np.pi, ('x_halo', 'y_halo'), units['coord'], origins['halo'], (dimensions['nxhalo'], dimensions['nyhalo']), backend)\n",
    "lat_halo =  Quantity(configuration['grid_data'].lat.data * 180 / np.pi, ('x_halo', 'y_halo'), units['coord'], origins['halo'], (dimensions['nxhalo'], dimensions['nyhalo']), backend)\n",
    "\n",
    "\n",
    "lon_global = configuration['communicator'].gather(lon_halo)\n",
    "lat_global = configuration['communicator'].gather(lat_halo)\n",
    "\n",
    "fOut = 'coordinates.nc'\n",
    "variables = {'dx': dx_global, 'dy': dy_global, \n",
    "             'dxa': dxa_global, 'dya': dya_global, \n",
    "             'dxc': dxc_global, 'dyc': dyc_global, \n",
    "             'lon': lon_global, 'lat': lat_global, \n",
    "             'lona': lona_global, 'lata': lata_global}\n",
    "\n",
    "if mpi_rank == 0:\n",
    "    func.store_coordinates(fOut, dimensions, variables)\n",
    "```"
   ]
  },
  {
   "cell_type": "markdown",
   "metadata": {},
   "source": [
    "#### 3. Create initial conditions on a plane\n",
    "\n",
    "#### 3a. Create water vapor initial condition"
   ]
  },
  {
   "cell_type": "code",
   "execution_count": 40,
   "metadata": {},
   "outputs": [
    {
     "data": {
      "text/plain": [
       "[stdout:0] Centering gaussian on lon=351.01, lat=1.01\n"
      ]
     },
     "metadata": {},
     "output_type": "display_data"
    }
   ],
   "source": [
    "if mpi_rank == 0:\n",
    "    gaussian_multiplier = func.create_gaussianMultiplier(np.deg2rad(lona_global.data), np.deg2rad(lata_global.data), dimensions, center_tile=0)\n",
    "else:\n",
    "    gaussian_multiplier = np.zeros((dimensions['tile'], dimensions['nxhalo'], dimensions['nyhalo']))\n",
    "\n",
    "mpi_comm.Bcast(gaussian_multiplier, root=0)\n",
    "qvapor_2d = Quantity(gaussian_multiplier[mpi_rank], ('x', 'y'), units['qvapor'], origins['compute_2d'], (dimensions['nx'], dimensions['ny']), backend)\n",
    "qvapor_global = configuration['communicator'].gather(qvapor_2d)"
   ]
  },
  {
   "cell_type": "markdown",
   "metadata": {},
   "source": [
    "#### 3b. Run coordinates through streamfunction generation"
   ]
  },
  {
   "cell_type": "code",
   "execution_count": 41,
   "metadata": {},
   "outputs": [],
   "source": [
    "psi, psi_staggered = func.calculate_streamfunction_testCase1(np.deg2rad(lona_halo.data), np.deg2rad(lata_halo.data), dimensions)\n",
    "\n",
    "psi_halo = Quantity(psi, ('x_halo', 'y_halo'), units['psi'], origins['halo'], (dimensions['nxhalo'], dimensions['nyhalo']), backend)\n",
    "psi = Quantity(psi, ('x', 'y'), units['psi'], origins['compute_2d'], (dimensions['nx'], dimensions['ny']), backend)\n",
    "psi_staggered_halo = Quantity(psi_staggered, ('x_halo', 'y_halo'), units['psi'], origins['halo'], (dimensions['nxhalo'], dimensions['nyhalo']), backend)\n",
    "psi_staggered  = Quantity(psi_staggered, ('x_interface', 'y_interface'), units['psi'], origins['compute_2d'], (dimensions['nx1'], dimensions['ny1']), backend)\n",
    "\n",
    "psi_global = configuration['communicator'].gather(psi)\n",
    "psi_staggered_global = configuration['communicator'].gather(psi_staggered)"
   ]
  },
  {
   "cell_type": "markdown",
   "metadata": {},
   "source": [
    "#### 3c. Calculate winds from streamfunction\n",
    "\n",
    "`ua`, `va` - winds on cell centers\n",
    "`uc`, `vc` - covariant winds on C-grid"
   ]
  },
  {
   "cell_type": "code",
   "execution_count": 42,
   "metadata": {},
   "outputs": [],
   "source": [
    "ua, va = func.calculate_windsFromStreamfunction_grid(psi_halo, dxa_halo, dya_halo, dimensions, grid='A')\n",
    "\n",
    "ua_2d = Quantity(ua, ('x', 'y'), units['wind'], origins['compute_2d'], (dimensions['nx'], dimensions['ny']), backend)\n",
    "va_2d = Quantity(va, ('x', 'y'), units['wind'], origins['compute_2d'], (dimensions['nx'], dimensions['ny']), backend)\n",
    "\n",
    "ua_global = configuration['communicator'].gather(ua_2d)\n",
    "va_global = configuration['communicator'].gather(va_2d)"
   ]
  },
  {
   "cell_type": "code",
   "execution_count": 43,
   "metadata": {},
   "outputs": [],
   "source": [
    "uc, vc = func.calculate_windsFromStreamfunction_grid(psi_staggered_halo, dx_halo, dy_halo, dimensions, grid='C')\n",
    "\n",
    "uc_2d = Quantity(uc, ('x', 'y_interface'), units['wind'], origins['compute_2d'], (dimensions['nx'], dimensions['ny1']), backend)\n",
    "vc_2d = Quantity(vc, ('x_interface', 'y'), units['wind'], origins['compute_2d'], (dimensions['nx1'], dimensions['ny']), backend)\n",
    "\n",
    "uc_global = configuration['communicator'].gather(uc_2d)\n",
    "vc_global = configuration['communicator'].gather(vc_2d)"
   ]
  },
  {
   "cell_type": "code",
   "execution_count": 44,
   "metadata": {},
   "outputs": [],
   "source": [
    "ud, vd = func.calculate_windsFromStreamfunction_grid(psi_halo, dx_halo, dy_halo, dimensions, grid='D')\n",
    "\n",
    "ud_2d = Quantity(ud, ('x_interface', 'y'), units['wind'], origins['compute_2d'], (dimensions['nx1'], dimensions['ny']), backend)\n",
    "vd_2d = Quantity(vd, ('x', 'y_interface'), units['wind'], origins['compute_2d'], (dimensions['nx'], dimensions['ny1']), backend)\n",
    "\n",
    "ud_global = configuration['communicator'].gather(ud_2d)\n",
    "vd_global = configuration['communicator'].gather(vd_2d)"
   ]
  },
  {
   "cell_type": "markdown",
   "metadata": {},
   "source": [
    "#### 3d. Find pressure distribution consistent with velocity field ?????\n",
    "\n",
    "$$\n",
    "\\nabla ^2 p = 2 \\rho \\left[ \\frac{\\partial u}{\\partial x} \\frac{\\partial v}{\\partial y} - \\frac{\\partial v}{\\partial x} \\frac{\\partial u}{\\partial y} \\right]\n",
    "$$"
   ]
  },
  {
   "cell_type": "markdown",
   "metadata": {},
   "source": [
    "#### 3d. Plot initial conditions and save data to file\n",
    "To show plotted images, uncomment the second cell below"
   ]
  },
  {
   "cell_type": "code",
   "execution_count": 45,
   "metadata": {},
   "outputs": [],
   "source": [
    "# %%capture capt --no-stderr --no-stdout\n",
    "# fOut = 'initialize_winds.nc'\n",
    "\n",
    "# lona =  Quantity(configuration['grid_data'].lon_agrid.data * 180 / np.pi, ('x_interface', 'y_interface'), units['coord'], origins['compute_2d'], (dimensions['nx1'], dimensions['ny1']), backend)\n",
    "# lata =  Quantity(configuration['grid_data'].lat_agrid.data * 180 / np.pi, ('x_interface', 'y_interface'), units['coord'], origins['compute_2d'], (dimensions['nx1'], dimensions['ny1']), backend)\n",
    "# lon_global = configuration['communicator'].gather(lona)\n",
    "# lat_global = configuration['communicator'].gather(lata)\n",
    "\n",
    "# if mpi_rank == 0:\n",
    "#     variables = {'lon': lon_global.data, 'lat': lat_global.data, 'ua': ua_global.data, 'va': va_global.data, 'psi': psi_global.data, 'qvapor': qvapor_global.data}\n",
    "\n",
    "#     func.plot_projection_field(variables['lon'], variables['lat'], variables['qvapor'], vmin=-0, vmax=1, cmap='viridis', title='q_vapor init', units=units['qvapor'])\n",
    "#     func.plot_projection_field(variables['lon'], variables['lat'], variables['ua'], vmin=-40, vmax=40, cmap='bwr', title='ua init', units=units['wind'])\n",
    "#     func.plot_projection_field(variables['lon'], variables['lat'], variables['va'], vmin=-40, vmax=40, cmap='bwr', title='va init', units=units['wind'])\n",
    "#     func.plot_projection_field(variables['lon'], variables['lat'], variables['psi'], vmin=-3e8, vmax=3e8, cmap='bwr', title='psi init', units=units['psi'])\n",
    "\n",
    "#     func.write_initialCondition_toFile(fOut, variables, dimensions, units)"
   ]
  },
  {
   "cell_type": "code",
   "execution_count": 46,
   "metadata": {},
   "outputs": [],
   "source": [
    "# capt()"
   ]
  },
  {
   "cell_type": "markdown",
   "metadata": {},
   "source": [
    "#### 4. Prepare flux stencil\n",
    "\n",
    "#### 4a. Extend initial conditions into the vertical"
   ]
  },
  {
   "cell_type": "code",
   "execution_count": 48,
   "metadata": {},
   "outputs": [],
   "source": [
    "dimensions['nz'] = 1\n",
    "\n",
    "empty = np.zeros((dimensions['nxhalo']+1, dimensions['nyhalo']+1, dimensions['nz']+1))\n",
    "\n",
    "qvapor_3d = np.copy(empty)\n",
    "uc_3d = np.copy(empty)\n",
    "vc_3d = np.copy(empty)\n",
    "qvapor_3d[:-1, :-1, 0] = qvapor_2d.data\n",
    "uc_3d[:-1, :-1, 0] = uc_2d.data\n",
    "vc_3d[:-1, :-1, 0] = vc_2d.data\n",
    "\n",
    "qvapor = Quantity(qvapor_3d, ('x', 'y', 'z'), units['qvapor'], origins['compute_3d'], (dimensions['nx'], dimensions['ny'], dimensions['nz']), backend)\n",
    "qvapor_init = Quantity(qvapor_3d, ('x', 'y', 'z'), units['qvapor'], origins['compute_3d'], (dimensions['nx'], dimensions['ny'], dimensions['nz']), backend)\n",
    "uc = Quantity(uc_3d, ('x', 'y_interface', 'z'), units['wind'], origins['compute_3d'], (dimensions['nx'], dimensions['ny1'], dimensions['nz']), backend)\n",
    "vc = Quantity(vc_3d, ('x_interface', 'y', 'z'), units['wind'], origins['compute_3d'], (dimensions['nx1'], dimensions['ny'], dimensions['nz']), backend)"
   ]
  },
  {
   "cell_type": "markdown",
   "metadata": {},
   "source": [
    "#### 4b. Prepare data for flux calculation\n",
    "\n",
    "- use the function `FiniteVolumeFluxPrep`\n",
    "    - requires `uc` and `vc` from (3c). \n",
    "    - requires some empty arrays to be filled in:\n",
    "        - `crx` and `cry` are the dimensionless Courant numbers on C-grid points.\n",
    "        - `xaf` and `yaf` are are fluxes of area in m2.\n",
    "        - `ucc` and `vcc` are the contravariant velocities on C-grid points\n",
    "        - `dt` is the acoustic time step."
   ]
  },
  {
   "cell_type": "code",
   "execution_count": 50,
   "metadata": {},
   "outputs": [],
   "source": [
    "%%capture capt\n",
    "from fv3core.stencils.fxadv import FiniteVolumeFluxPrep\n",
    "\n",
    "fvf_prep = FiniteVolumeFluxPrep(configuration['stencil_factory'], configuration['grid_data'])\n",
    "\n",
    "crx = Quantity(empty, ('x_interface', 'y', 'z'), units['courant'], origins['compute_3d'], (dimensions['nx1'], dimensions['ny'], dimensions['nz']), backend)\n",
    "cry = Quantity(empty, ('x', 'y_interface', 'z'), units['courant'], origins['compute_3d'], (dimensions['nx'], dimensions['ny1'], dimensions['nz']), backend)\n",
    "\n",
    "xaf = Quantity(empty, ('x_interface', 'y', 'z'), units['areaflux'], origins['compute_3d'], (dimensions['nx1'], dimensions['ny'], dimensions['nz']), backend)\n",
    "yaf = Quantity(empty, ('x', 'y_interface', 'z'), units['areaflux'], origins['compute_3d'], (dimensions['nx'], dimensions['ny1'], dimensions['nz']), backend)\n",
    "\n",
    "ucv = Quantity(empty, ('x_interface', 'y', 'z'), units['wind'], origins['compute_3d'], (dimensions['nx1'], dimensions['ny'], dimensions['nz']), backend)\n",
    "vcv = Quantity(empty, ('x', 'y_interface', 'z'), units['wind'], origins['compute_3d'], (dimensions['nx'], dimensions['ny1'], dimensions['nz']), backend)\n",
    "\n",
    "\n",
    "dt_acoustic = 300.\n",
    "\n",
    "fvfp = fvf_prep(uc, vc, crx, cry, xaf, yaf, ucv, vcv, dt_acoustic)\n",
    "\n",
    "print()\n",
    "print('UC min, mean, max: %.2f %.2f %.2f' % (np.nanmin(uc), np.nanmean(uc), np.nanmax(uc)))\n",
    "print('UCV min, mean, max: %.2f %.2f %.2f' % (np.nanmin(ucv), np.nanmean(ucv), np.nanmax(ucv)))\n",
    "print()\n",
    "print('VC min, mean, max: %.2f %.2f %.2f' % (np.nanmin(vc), np.nanmean(vc), np.nanmax(vc)))\n",
    "print('VCV min, mean, max: %.2f %.2f %.2f' % (np.nanmin(vcv), np.nanmean(vcv), np.nanmax(vcv)))\n",
    "print()\n",
    "print('X-Courant min, mean, max: %.2f %.2f %.2f' % (np.nanmin(crx), np.nanmean(crx), np.nanmax(crx)))\n",
    "print('Y-Courant min, mean, max: %.2f %.2f %.2f' % (np.nanmin(cry), np.nanmean(cry), np.nanmax(cry)))\n",
    "print()\n",
    "print('X-area flux min, mean, max: %.2f %.2f %.2f' % (np.nanmin(xaf), np.nanmean(xaf), np.nanmax(xaf)))\n",
    "print('X-area flux min, mean, max: %.2f %.2f %.2f' % (np.nanmin(yaf), np.nanmean(yaf), np.nanmax(yaf)))"
   ]
  },
  {
   "cell_type": "markdown",
   "metadata": {},
   "source": [
    "#### (4c) Hack mass flux?\n",
    "\n",
    "xaf is the flux of area in x direction (dx*dy)\n",
    "yaf is the flux of area in y direction (dx*dy)\n",
    "\n",
    "to get mass flux -- \n",
    "for now -- assume mass flux is area flux."
   ]
  },
  {
   "cell_type": "markdown",
   "metadata": {},
   "source": [
    "#### (4d) Create finite volume transport stencil\n",
    "\n",
    "- use the function `FiniteVolumeTransport` \n",
    "    - takes in the tracer `qvap` to be transported.\n",
    "    - takes in the `crx` and `cry` Courant numbers, `xaf` and `yaf` area fluxes from previous step.\n",
    "    - requires some empty arrays to be filled in:\n",
    "        - `qfx` and `qfy` are the output fluxes of the tracer to be transported -- i think kg/m2?\n",
    "        \n",
    "- also takes in mass fluxes (optional) -- where would I find those?\n",
    "\n",
    "- do I actually need the `qfx`, `qfy` that are output? I don't think so ..."
   ]
  },
  {
   "cell_type": "code",
   "execution_count": 73,
   "metadata": {},
   "outputs": [],
   "source": [
    "%%capture capt\n",
    "from fv3core.stencils.fvtp2d import FiniteVolumeTransport\n",
    "\n",
    "grid_type = 0\n",
    "hord = 6\n",
    "\n",
    "qfx = Quantity(empty, ('x', 'y_interface', 'z'), units['qflux'], origins['compute_3d'], (dimensions['nx'], dimensions['ny1'], dimensions['nz']), backend)\n",
    "qfy = Quantity(empty, ('x_interface', 'y', 'z'), units['qflux'], origins['compute_3d'], (dimensions['nx1'], dimensions['ny'], dimensions['nz']), backend)\n",
    "\n",
    "tracers = {'qvapor': qvapor}\n",
    "\n",
    "fvtp2d = FiniteVolumeTransport(configuration['stencil_factory'], configuration['grid_data'], configuration['damping_coefficients'], grid_type, hord)\n",
    "fvTransport = fvtp2d(tracers['qvapor'], crx, cry, xaf, yaf, qfx, qfy)\n",
    "\n",
    "print('Q-flux-x min, mean, max: %.2f %.2f %.2f' % (np.nanmin(qfx), np.nanmean(qfx), np.nanmax(qfx)))\n",
    "print('Q-flux-y min, mean, max: %.2f %.2f %.2f' % (np.nanmin(qfy), np.nanmean(qfy), np.nanmax(qfy)))\n",
    "\n",
    "delp = Quantity(np.ones(empty.shape)*1000, ('x', 'y', 'z'), units['pressure'], origins['compute_3d'], (dimensions['nx'], dimensions['ny'], dimensions['nz']), backend)"
   ]
  },
  {
   "cell_type": "markdown",
   "metadata": {},
   "source": [
    "#### 5. Perform tracer advection"
   ]
  },
  {
   "cell_type": "code",
   "execution_count": 74,
   "metadata": {},
   "outputs": [
    {
     "data": {
      "text/plain": [
       "[stdout:2] \n",
       "Step 0 tracers |differece| min, mean, max: -2.84e-270 -1.65e-274 3.70e-273\n",
       "\n",
       "Step 1 tracers |differece| min, mean, max: -1.89e-270 -8.27e-275 3.28e-288\n",
       "\n",
       "Step 2 tracers |differece| min, mean, max: -1.04e-317 2.97e-317 6.79e-313\n",
       "\n",
       "Step 3 tracers |differece| min, mean, max: 0.00e+00 0.00e+00 0.00e+00\n",
       "\n",
       "Step 4 tracers |differece| min, mean, max: 0.00e+00 0.00e+00 0.00e+00\n",
       "\n",
       "Step 5 tracers |differece| min, mean, max: 0.00e+00 0.00e+00 0.00e+00\n",
       "\n",
       "Step 6 tracers |differece| min, mean, max: 0.00e+00 0.00e+00 0.00e+00\n",
       "\n",
       "Step 7 tracers |differece| min, mean, max: 0.00e+00 0.00e+00 0.00e+00\n",
       "\n",
       "Step 8 tracers |differece| min, mean, max: 0.00e+00 0.00e+00 0.00e+00\n",
       "\n",
       "Step 9 tracers |differece| min, mean, max: 0.00e+00 0.00e+00 0.00e+00\n"
      ]
     },
     "metadata": {},
     "output_type": "display_data"
    },
    {
     "data": {
      "text/plain": [
       "[stdout:3] \n",
       "Step 0 tracers |differece| min, mean, max: 0.00e+00 0.00e+00 0.00e+00\n",
       "\n",
       "Step 1 tracers |differece| min, mean, max: 0.00e+00 0.00e+00 0.00e+00\n",
       "\n",
       "Step 2 tracers |differece| min, mean, max: 0.00e+00 0.00e+00 0.00e+00\n",
       "\n",
       "Step 3 tracers |differece| min, mean, max: 0.00e+00 0.00e+00 0.00e+00\n",
       "\n",
       "Step 4 tracers |differece| min, mean, max: 0.00e+00 0.00e+00 0.00e+00\n",
       "\n",
       "Step 5 tracers |differece| min, mean, max: 0.00e+00 0.00e+00 0.00e+00\n",
       "\n",
       "Step 6 tracers |differece| min, mean, max: 0.00e+00 0.00e+00 0.00e+00\n",
       "\n",
       "Step 7 tracers |differece| min, mean, max: 0.00e+00 0.00e+00 0.00e+00\n",
       "\n",
       "Step 8 tracers |differece| min, mean, max: 0.00e+00 0.00e+00 0.00e+00\n",
       "\n",
       "Step 9 tracers |differece| min, mean, max: 0.00e+00 0.00e+00 0.00e+00\n"
      ]
     },
     "metadata": {},
     "output_type": "display_data"
    },
    {
     "data": {
      "text/plain": [
       "[stdout:4] \n",
       "Step 0 tracers |differece| min, mean, max: 0.00e+00 0.00e+00 0.00e+00\n",
       "\n",
       "Step 1 tracers |differece| min, mean, max: 0.00e+00 0.00e+00 0.00e+00\n",
       "\n",
       "Step 2 tracers |differece| min, mean, max: 0.00e+00 0.00e+00 0.00e+00\n",
       "\n",
       "Step 3 tracers |differece| min, mean, max: 0.00e+00 0.00e+00 0.00e+00\n",
       "\n",
       "Step 4 tracers |differece| min, mean, max: 0.00e+00 0.00e+00 0.00e+00\n",
       "\n",
       "Step 5 tracers |differece| min, mean, max: 0.00e+00 0.00e+00 0.00e+00\n",
       "\n",
       "Step 6 tracers |differece| min, mean, max: 0.00e+00 0.00e+00 0.00e+00\n",
       "\n",
       "Step 7 tracers |differece| min, mean, max: 0.00e+00 0.00e+00 0.00e+00\n",
       "\n",
       "Step 8 tracers |differece| min, mean, max: 0.00e+00 0.00e+00 0.00e+00\n",
       "\n",
       "Step 9 tracers |differece| min, mean, max: 0.00e+00 0.00e+00 0.00e+00\n"
      ]
     },
     "metadata": {},
     "output_type": "display_data"
    },
    {
     "data": {
      "text/plain": [
       "[stdout:0] \n",
       "Step 0 tracers |differece| min, mean, max: 0.00e+00 6.78e-271 7.75e-267\n",
       "\n",
       "Step 1 tracers |differece| min, mean, max: 0.00e+00 0.00e+00 0.00e+00\n",
       "\n",
       "Step 2 tracers |differece| min, mean, max: 0.00e+00 0.00e+00 0.00e+00\n",
       "\n",
       "Step 3 tracers |differece| min, mean, max: 0.00e+00 0.00e+00 0.00e+00\n",
       "\n",
       "Step 4 tracers |differece| min, mean, max: 0.00e+00 0.00e+00 0.00e+00\n",
       "\n",
       "Step 5 tracers |differece| min, mean, max: 0.00e+00 0.00e+00 0.00e+00\n",
       "\n",
       "Step 6 tracers |differece| min, mean, max: 0.00e+00 0.00e+00 0.00e+00\n",
       "\n",
       "Step 7 tracers |differece| min, mean, max: 0.00e+00 0.00e+00 0.00e+00\n",
       "\n",
       "Step 8 tracers |differece| min, mean, max: 0.00e+00 0.00e+00 0.00e+00\n",
       "\n",
       "Step 9 tracers |differece| min, mean, max: 0.00e+00 0.00e+00 0.00e+00\n"
      ]
     },
     "metadata": {},
     "output_type": "display_data"
    },
    {
     "data": {
      "text/plain": [
       "[stdout:1] \n",
       "Step 0 tracers |differece| min, mean, max: -3.60e-240 2.95e-235 3.86e-231\n",
       "\n",
       "Step 1 tracers |differece| min, mean, max: -7.44e-265 3.08e-267 2.38e-263\n",
       "\n",
       "Step 2 tracers |differece| min, mean, max: -4.73e-271 -2.07e-275 5.73e-298\n",
       "\n",
       "Step 3 tracers |differece| min, mean, max: -1.55e-317 2.05e-320 2.49e-316\n",
       "\n",
       "Step 4 tracers |differece| min, mean, max: 0.00e+00 0.00e+00 0.00e+00\n",
       "\n",
       "Step 5 tracers |differece| min, mean, max: 0.00e+00 0.00e+00 0.00e+00\n",
       "\n",
       "Step 6 tracers |differece| min, mean, max: 0.00e+00 0.00e+00 0.00e+00\n",
       "\n",
       "Step 7 tracers |differece| min, mean, max: 0.00e+00 0.00e+00 0.00e+00\n",
       "\n",
       "Step 8 tracers |differece| min, mean, max: 0.00e+00 0.00e+00 0.00e+00\n",
       "\n",
       "Step 9 tracers |differece| min, mean, max: 0.00e+00 0.00e+00 0.00e+00\n"
      ]
     },
     "metadata": {},
     "output_type": "display_data"
    },
    {
     "data": {
      "text/plain": [
       "[stdout:5] \n",
       "Step 0 tracers |differece| min, mean, max: -6.61e-280 6.83e-271 7.75e-267\n",
       "\n",
       "Step 1 tracers |differece| min, mean, max: -7.47e-301 5.74e-291 1.31e-286\n",
       "\n",
       "Step 2 tracers |differece| min, mean, max: 0.00e+00 1.15e-291 2.63e-287\n",
       "\n",
       "Step 3 tracers |differece| min, mean, max: 0.00e+00 0.00e+00 0.00e+00\n",
       "\n",
       "Step 4 tracers |differece| min, mean, max: 0.00e+00 0.00e+00 0.00e+00\n",
       "\n",
       "Step 5 tracers |differece| min, mean, max: 0.00e+00 0.00e+00 0.00e+00\n",
       "\n",
       "Step 6 tracers |differece| min, mean, max: 0.00e+00 0.00e+00 0.00e+00\n",
       "\n",
       "Step 7 tracers |differece| min, mean, max: 0.00e+00 0.00e+00 0.00e+00\n",
       "\n",
       "Step 8 tracers |differece| min, mean, max: 0.00e+00 0.00e+00 0.00e+00\n",
       "\n",
       "Step 9 tracers |differece| min, mean, max: 0.00e+00 0.00e+00 0.00e+00\n"
      ]
     },
     "metadata": {},
     "output_type": "display_data"
    }
   ],
   "source": [
    "#%%capture capt\n",
    "from fv3core.stencils.tracer_2d_1l import TracerAdvection\n",
    "\n",
    "import copy as cp\n",
    "\n",
    "tracAdv = TracerAdvection(configuration['stencil_factory'], fvtp2d, configuration['grid_data'], configuration['communicator'], tracers)\n",
    "nSteps_adv = 10\n",
    "\n",
    "dt = 1200.\n",
    "\n",
    "crx_init = cp.deepcopy(crx)\n",
    "cry_init = cp.deepcopy(cry)\n",
    "for step in range(nSteps_adv):\n",
    "    tmp = cp.deepcopy(tracers) # get pre-step value\n",
    "    adv = tracAdv(tracers, delp, xaf, yaf, crx, cry, dt)\n",
    "\n",
    "    crx = cp.deepcopy(crx_init)\n",
    "    cry = cp.deepcopy(cry_init)\n",
    "\n",
    "    diff = tracers['qvapor'].data - tmp['qvapor'].data\n",
    "\n",
    "    print()\n",
    "    print('Step %s tracers |differece| min, mean, max: %.2e %.2e %.2e' % (step, np.nanmin(diff), np.nanmean(diff), np.nanmax(diff)))"
   ]
  },
  {
   "cell_type": "code",
   "execution_count": 61,
   "metadata": {},
   "outputs": [],
   "source": [
    "lona =  Quantity(configuration['grid_data'].lon_agrid.data * 180 / np.pi, ('x_interface', 'y_interface'), units['coord'], origins['compute_2d'], (dimensions['nx1'], dimensions['ny1']), backend)\n",
    "lata =  Quantity(configuration['grid_data'].lat_agrid.data * 180 / np.pi, ('x_interface', 'y_interface'), units['coord'], origins['compute_2d'], (dimensions['nx1'], dimensions['ny1']), backend)\n",
    "lon_global = configuration['communicator'].gather(lona)\n",
    "lat_global = configuration['communicator'].gather(lata)"
   ]
  },
  {
   "cell_type": "code",
   "execution_count": 62,
   "metadata": {},
   "outputs": [],
   "source": [
    "qvapor_init = configuration['communicator'].gather(qvapor_init)\n",
    "qvapor_final = configuration['communicator'].gather(qvapor)\n"
   ]
  },
  {
   "cell_type": "code",
   "execution_count": 72,
   "metadata": {},
   "outputs": [
    {
     "data": {
      "application/vnd.jupyter.widget-view+json": {
       "model_id": "3e91fdd36e654ed791396d416c887f4d",
       "version_major": 2,
       "version_minor": 0
      },
      "text/plain": [
       "%px:   0%|          | 0/6 [00:00<?, ?tasks/s]"
      ]
     },
     "metadata": {},
     "output_type": "display_data"
    },
    {
     "data": {
      "text/plain": [
       "[output:0]"
      ]
     },
     "metadata": {},
     "output_type": "display_data"
    },
    {
     "data": {
      "image/png": "[encoded data removed]",
      "text/plain": [
       "<Figure size 576x288 with 2 Axes>"
      ]
     },
     "metadata": {
      "engine": 0
     },
     "output_type": "display_data"
    },
    {
     "data": {
      "text/plain": [
       "[output:0]"
      ]
     },
     "metadata": {},
     "output_type": "display_data"
    },
    {
     "data": {
      "image/png": "[encoded data removed]",
      "text/plain": [
       "<Figure size 576x288 with 2 Axes>"
      ]
     },
     "metadata": {
      "engine": 0
     },
     "output_type": "display_data"
    },
    {
     "data": {
      "text/plain": [
       "[output:0]"
      ]
     },
     "metadata": {},
     "output_type": "display_data"
    },
    {
     "data": {
      "image/png": "[encoded data removed]",
      "text/plain": [
       "<Figure size 576x288 with 2 Axes>"
      ]
     },
     "metadata": {
      "engine": 0
     },
     "output_type": "display_data"
    }
   ],
   "source": [
    "if mpi_rank == 0:\n",
    "    variables = {'lon': lon_global.data, 'lat': lat_global.data, 'q_start': qvapor_init.data[:, :, :, 0], 'q_end': qvapor_final.data[:, :, :, 0]}\n",
    "    #func.plot_projection_field(variables['lon'], variables['lat'], variables['q_start'], vmin=-0, vmax=1, cmap='viridis', title='q_vapor init', units=units['qvapor'])\n",
    "    #func.plot_projection_field(variables['lon'], variables['lat'], variables['q_end'], vmin=-0, vmax=1, cmap='viridis', title='q_vapor after tracerAdvection', units=units['qvapor'])\n",
    "    func.plot_projection_field(variables['lon'], variables['lat'], variables['q_end'] - variables['q_start'], vmin=-1, vmax=1, cmap='bwr', title='q_vapor after - before tracerAdvection', units=units['qvapor'])"
   ]
  },
  {
   "cell_type": "code",
   "execution_count": null,
   "metadata": {},
   "outputs": [],
   "source": []
  }
 ],
 "metadata": {
  "kernelspec": {
   "display_name": "Python 3.8.10 ('venv': venv)",
   "language": "python",
   "name": "python3"
  },
  "language_info": {
   "codemirror_mode": {
    "name": "ipython",
    "version": 3
   },
   "file_extension": ".py",
   "mimetype": "text/x-python",
   "name": "python",
   "nbconvert_exporter": "python",
   "pygments_lexer": "ipython3",
   "version": "3.8.10"
  },
  "orig_nbformat": 4,
  "vscode": {
   "interpreter": {
    "hash": "5aaa1d64d2aec5fc9d71d95fe114c55e361597d915cf108c460e747a228aecec"
   }
  }
 },
 "nbformat": 4,
 "nbformat_minor": 2
}
