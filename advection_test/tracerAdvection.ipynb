{
 "cells": [
  {
   "cell_type": "markdown",
   "metadata": {},
   "source": [
    "# Tracer Advection Stencil\n",
    "\n",
    "## Start a parallel cluster"
   ]
  },
  {
   "cell_type": "code",
   "execution_count": 1,
   "metadata": {},
   "outputs": [
    {
     "name": "stdout",
     "output_type": "stream",
     "text": [
      "Starting 6 engines with <class 'ipyparallel.cluster.launcher.MPIEngineSetLauncher'>\n"
     ]
    },
    {
     "data": {
      "application/vnd.jupyter.widget-view+json": {
       "model_id": "793b79eb082e4678b67d930d88c80054",
       "version_major": 2,
       "version_minor": 0
      },
      "text/plain": [
       "  0%|          | 0/6 [00:00<?, ?engine/s]"
      ]
     },
     "metadata": {},
     "output_type": "display_data"
    }
   ],
   "source": [
    "import ipyparallel as ipp\n",
    "\n",
    "cluster = ipp.Cluster(engines='mpi', n=6).start_and_connect_sync()"
   ]
  },
  {
   "cell_type": "code",
   "execution_count": 2,
   "metadata": {},
   "outputs": [
    {
     "name": "stdout",
     "output_type": "stream",
     "text": [
      "%autopx enabled\n"
     ]
    }
   ],
   "source": [
    "%autopx"
   ]
  },
  {
   "cell_type": "markdown",
   "metadata": {},
   "source": [
    "## Input parameters"
   ]
  },
  {
   "cell_type": "code",
   "execution_count": 48,
   "metadata": {},
   "outputs": [],
   "source": [
    "%%capture\n",
    "from mpi4py import MPI\n",
    "import copy as cp\n",
    "import functions as func\n",
    "import numpy as np\n",
    "import os\n",
    "import importlib\n",
    "importlib.reload(func)\n",
    "\n",
    "\n",
    "mpi_comm = MPI.COMM_WORLD\n",
    "\n",
    "backend = 'numpy'\n",
    "layout = (1, 1)\n",
    "nx, ny, nz, nhalo = 101, 101, 80, 3   # number of points in x, y, z dimensions, halos\n",
    "nx, ny, nz, nhalo = 12, 12, 79, 3     # number of points in x, y, z dimensions, halos\n",
    "\n",
    "dt_acoustic = 300.                    # acoustic time step in seconds\n",
    "advection_timestep = 3600.            # advection time step\n",
    "nSteps_advection = 500                # number of advection steps to be run\n",
    "print_advectionProgress = True        # True: print timestep differences on rank 0\n",
    "plot_output = True                    # True: plot output \n",
    "figure_everyNsteps = 100              # how often to plot a figure\n",
    "write_initialCondition = True         # True: write out initial condition and coordinate system\n",
    "\n",
    "# finite volume transport options\n",
    "grid_type = 0                         # cubed-sphere\n",
    "hord = 6                              # horizontal advection order\n",
    "\n",
    "# initial condition adjustables\n",
    "pressure_base = 10                    # pressure thickness of layer in Pa\n",
    "smoke_base = 1                        # maximum smoke amount\n",
    "smoke_center_tile = 0                 # rank of tile on which to center the gaussian tracer\n",
    "density = 1                           # density of air for mass flux\n",
    "\n",
    "\n",
    "######-------- this can be left alone --------######\n",
    "# frequency of storing and plotting tracer state\n",
    "if figure_everyNsteps > nSteps_advection:\n",
    "    figure_everyNsteps = nSteps_advection\n",
    "\n",
    "tracer_archive_frequency = figure_everyNsteps\n",
    "\n",
    "pwd = os.getcwd()\n",
    "nx_effective, ny_effective, nz_effective = nx + 1, ny + 1, nz + 1"
   ]
  },
  {
   "cell_type": "markdown",
   "metadata": {},
   "source": [
    "## Prepare state for advection"
   ]
  },
  {
   "cell_type": "code",
   "execution_count": 50,
   "metadata": {},
   "outputs": [
    {
     "data": {
      "application/vnd.jupyter.widget-view+json": {
       "model_id": "ab11481099ea4883a9ae933088eb3310",
       "version_major": 2,
       "version_minor": 0
      },
      "text/plain": [
       "%px:   0%|          | 0/6 [00:00<?, ?tasks/s]"
      ]
     },
     "metadata": {},
     "output_type": "display_data"
    }
   ],
   "source": [
    "%%capture\n",
    "dimensions, units, origins, rank = func.define_dimensionsUnitsOrigins(nx_effective, ny_effective, nz_effective, nhalo, mpi_comm)\n",
    "smoke_dict = {'center_tile': smoke_center_tile, 'rank': rank, 'smoke_base': smoke_base}\n",
    "pressure_dict = {'pressure_base': pressure_base}\n",
    "fvt_dict = {'grid_type': grid_type, 'hord': hord}\n",
    "\n",
    "configuration = func.configure_domain(layout, mpi_comm, dimensions, backend=backend)\n",
    "initialState = func.create_initialState_testCase1(configuration['grid_data'], dimensions, units, origins, \n",
    "                                                  backend, smoke_dict, pressure_dict)\n",
    "\n",
    "tracAdv_data, tracAdv = func.prepare_everythingForAdvection(configuration, initialState['uC'], initialState['vC'], \n",
    "                                                            initialState['delp'], {'smoke': initialState['smoke']}, \n",
    "                                                            density, dimensions, units, origins, backend, \n",
    "                                                            fvt_dict, dt_acoustic=dt_acoustic)\n",
    "                                                            \n",
    "tracAdv_dataInit = cp.deepcopy(tracAdv_data)\n",
    "\n",
    "\n",
    "if write_initialCondition:\n",
    "    saveDir = pwd + '/data/'\n",
    "    fOut = saveDir + 'initialState_%sx%s.nc' % (dimensions['nx']-1, dimensions['ny']-1)\n",
    "            \n",
    "    func.write_initialCondition_toFile(fOut, initialState, dimensions, units, origins, backend, configuration, rank)\n"
   ]
  },
  {
   "cell_type": "markdown",
   "metadata": {},
   "source": [
    "## Advection loop"
   ]
  },
  {
   "cell_type": "code",
   "execution_count": 5,
   "metadata": {},
   "outputs": [
    {
     "data": {
      "application/vnd.jupyter.widget-view+json": {
       "model_id": "835784fb995c480b877df2096bad5061",
       "version_major": 2,
       "version_minor": 0
      },
      "text/plain": [
       "%px:   0%|          | 0/6 [00:00<?, ?tasks/s]"
      ]
     },
     "metadata": {},
     "output_type": "display_data"
    },
    {
     "data": {
      "text/plain": [
       "[stdout:0] Step: 100\n",
       "Step: 200\n",
       "Step: 300\n",
       "Step: 400\n",
       "Step: 500\n"
      ]
     },
     "metadata": {},
     "output_type": "display_data"
    }
   ],
   "source": [
    "#%%capture\n",
    "tracer_archive = [cp.deepcopy(tracAdv_data['tracers']['smoke'])]\n",
    "timestep_archive = [0]\n",
    "for step in range(nSteps_advection):    \n",
    "    if (rank == 0) and (step+1)%100 == 0 and print_advectionProgress:\n",
    "        print('Step: %d' % (step+1))\n",
    "    #tracAdv_data = func.run_advectionStepWithReset(tracAdv_dataInit, tracAdv_data, tracAdv, advection_timestep, mpi_rank=rank)\n",
    "    tracAdv_data = func.run_advectionStepWithReset(tracAdv_dataInit, tracAdv_data, tracAdv, advection_timestep)\n",
    "\n",
    "    if (step+1)%tracer_archive_frequency == 0:\n",
    "        tracer_archive.append(cp.deepcopy(tracAdv_data['tracers']['smoke']))\n",
    "        timestep_archive.append(step+1)"
   ]
  },
  {
   "cell_type": "markdown",
   "metadata": {},
   "source": [
    "## Plot output"
   ]
  },
  {
   "cell_type": "code",
   "execution_count": 6,
   "metadata": {},
   "outputs": [
    {
     "data": {
      "text/plain": [
       "[stdout:0] Plotting time step 0 / 500\n",
       "Plotting time step 100 / 500\n",
       "Plotting time step 200 / 500\n",
       "Plotting time step 300 / 500\n",
       "Plotting time step 400 / 500\n",
       "Plotting time step 500 / 500\n"
      ]
     },
     "metadata": {},
     "output_type": "display_data"
    }
   ],
   "source": [
    "#%%capture\n",
    "if plot_output:\n",
    "    lon, lat = func.get_lonLat_edges(configuration['grid_data'], dimensions, units, origins, backend)\n",
    "    lon_global = configuration['communicator'].gather(lon)\n",
    "    lat_global = configuration['communicator'].gather(lat)\n",
    "    smoke_global = []\n",
    "    for step in range(len(timestep_archive)):\n",
    "        smoke_global.append(configuration['communicator'].gather(tracer_archive[step]))\n",
    "\n",
    "    if rank == 0:\n",
    "        saveDir = pwd + '/figs/'\n",
    "        fOut = saveDir + 'advection_step_'\n",
    "        \n",
    "        if not os.path.isdir(saveDir):\n",
    "            os.mkdir(saveDir)\n",
    "        else:\n",
    "            fls = os.listdir(saveDir)\n",
    "            if len(fls) > 0:\n",
    "                for fl in fls:\n",
    "                    os.remove(saveDir + fl)\n",
    "\n",
    "        smoke_global = np.squeeze(np.stack(smoke_global))\n",
    "        for plotStep in range(len(timestep_archive)):\n",
    "            print('Plotting time step %s / %s' % (timestep_archive[plotStep], nSteps_advection))\n",
    "            func.plot_projection_field(lon_global.data, lat_global.data, smoke_global[plotStep], \n",
    "                                       cmap='viridis', vmin=0, vmax=1, units='kg', \n",
    "                                       title='Smoke after %s advection steps' % timestep_archive[plotStep], \n",
    "                                       fSave=fOut+'{:03d}'.format(timestep_archive[plotStep]) + '.png')"
   ]
  },
  {
   "cell_type": "code",
   "execution_count": 7,
   "metadata": {},
   "outputs": [
    {
     "name": "stdout",
     "output_type": "stream",
     "text": [
      "%autopx disabled\n"
     ]
    }
   ],
   "source": [
    "%autopx"
   ]
  },
  {
   "cell_type": "code",
   "execution_count": 8,
   "metadata": {},
   "outputs": [],
   "source": [
    "cluster.shutdown()"
   ]
  },
  {
   "cell_type": "code",
   "execution_count": null,
   "metadata": {},
   "outputs": [],
   "source": []
  }
 ],
 "metadata": {
  "kernelspec": {
   "display_name": "Python 3.8.10 ('venv': venv)",
   "language": "python",
   "name": "python3"
  },
  "language_info": {
   "codemirror_mode": {
    "name": "ipython",
    "version": 3
   },
   "file_extension": ".py",
   "mimetype": "text/x-python",
   "name": "python",
   "nbconvert_exporter": "python",
   "pygments_lexer": "ipython3",
   "version": "3.8.10"
  },
  "orig_nbformat": 4,
  "vscode": {
   "interpreter": {
    "hash": "5aaa1d64d2aec5fc9d71d95fe114c55e361597d915cf108c460e747a228aecec"
   }
  }
 },
 "nbformat": 4,
 "nbformat_minor": 2
}
