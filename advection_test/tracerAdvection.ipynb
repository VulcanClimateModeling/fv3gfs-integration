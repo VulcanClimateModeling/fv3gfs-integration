{
 "cells": [
  {
   "cell_type": "markdown",
   "metadata": {},
   "source": [
    "# Tracer Advection Stencil"
   ]
  },
  {
   "cell_type": "markdown",
   "metadata": {},
   "source": [
    "### Start a parallel cluster"
   ]
  },
  {
   "cell_type": "code",
   "execution_count": null,
   "metadata": {},
   "outputs": [],
   "source": [
    "import ipyparallel as ipp\n",
    "\n",
    "cluster = ipp.Cluster(engines=\"mpi\", n=6).start_and_connect_sync()\n",
    "%autopx"
   ]
  },
  {
   "cell_type": "markdown",
   "metadata": {},
   "source": [
    "### Input parameters"
   ]
  },
  {
   "cell_type": "code",
   "execution_count": null,
   "metadata": {},
   "outputs": [],
   "source": [
    "%%capture\n",
    "nx = 100\n",
    "ny = 100\n",
    "nhalo = 3\n",
    "\"\"\" (int): number of points and halo points in each direction \"\"\"\n",
    "timestep = 900.0\n",
    "\"\"\" (int): advection time step in seconds \"\"\"\n",
    "nDays = 12\n",
    "\"\"\" (int): number of days to advect for \"\"\"\n",
    "\n",
    "test_case = \"b\"\n",
    "\"\"\" (string): a: fortran test_case1; b: less dispersive \"\"\"\n",
    "print_advectionProgress = True\n",
    "\"\"\" (bool): prints out a message every 100th timestep \"\"\"\n",
    "plot_outputDuring = False\n",
    "\"\"\" (bool): plot output as advection is active (super slow!) \"\"\"\n",
    "plot_outputAfter = False\n",
    "\"\"\" (bool): plot output after advection is complete (slow) \"\"\"\n",
    "plot_jupyterAnimation = True\n",
    "\"\"\" (bool): plot an interactive animation after advection is done (slow) \"\"\"\n",
    "figure_everyNhours = 6\n",
    "\"\"\" (int): number of model hours between figures \"\"\"\n",
    "write_initialCondition = True\n",
    "\"\"\" (bool): creates a netCDF file with initial state \"\"\"\n",
    "plot_gridLayout = True\n",
    "\"\"\" (bool): plots and saves grid layout to file grid_map.png \"\"\"\n",
    "show_figures = False\n",
    "\"\"\" (bool): shows figures inside Jupyter notebook \"\"\"\n",
    "\n",
    "\n",
    "# initial condition adjustables\n",
    "pressure_base = 10\n",
    "\"\"\" (float): pressure of layer in Pa \"\"\"\n",
    "tracer_base = 1.0\n",
    "\"\"\" (float): maximum tracer amount \"\"\"\n",
    "tracer_target_tile = 0\n",
    "\"\"\" (int): rank of tile on which to center the tracer (0-5) \"\"\"\n",
    "density = 1\n",
    "\"\"\" (float): air density \"\"\""
   ]
  },
  {
   "cell_type": "markdown",
   "metadata": {},
   "source": [
    "#### Configured based on input parameters"
   ]
  },
  {
   "cell_type": "code",
   "execution_count": null,
   "metadata": {},
   "outputs": [],
   "source": [
    "%%capture\n",
    "from mpi4py import MPI\n",
    "import copy as cp\n",
    "import functions as func\n",
    "import os\n",
    "\n",
    "mpi_comm = MPI.COMM_WORLD\n",
    "\n",
    "nSeconds = nDays * 86400 + timestep * 5\n",
    "figure_everyNsteps = int(3600 / timestep * figure_everyNhours)\n",
    "nSteps_advection = int(nSeconds / timestep + 1)\n",
    "\n",
    "if figure_everyNsteps > nSteps_advection:\n",
    "    figure_everyNsteps = nSteps_advection\n",
    "\n",
    "pwd = os.getcwd()\n",
    "\n",
    "namelistDict = func.store_namelist_variables(locals())"
   ]
  },
  {
   "cell_type": "markdown",
   "metadata": {},
   "source": [
    "### Prepare everything for advection"
   ]
  },
  {
   "cell_type": "code",
   "execution_count": null,
   "metadata": {},
   "outputs": [],
   "source": [
    "metadata, rank = func.define_metadata(namelistDict, mpi_comm)\n",
    "tracer_dict = {\n",
    "    \"target_tile\": tracer_target_tile,\n",
    "    \"rank\": rank,\n",
    "    \"tracer_base\": tracer_base,\n",
    "}\n",
    "\n",
    "configuration = func.configure_domain(mpi_comm, metadata[\"dimensions\"])\n",
    "if plot_gridLayout:\n",
    "    func.plot_grid(configuration, metadata, rank, show=show_figures)\n",
    "\n",
    "if test_case == \"a\":\n",
    "    initialState = func.create_initialstate_testcase1a(\n",
    "        configuration[\"grid_data\"], metadata, tracer_dict, pressure_base\n",
    "    )\n",
    "elif test_case == \"b\":\n",
    "    initialState = func.create_initialstate_testcase1b(\n",
    "        configuration[\"grid_data\"], metadata, tracer_dict, pressure_base\n",
    "    )\n",
    "\n",
    "tracAdv_data, tracAdv = func.prepare_everything_for_advection(\n",
    "    configuration, initialState, metadata, density, timestep\n",
    ")\n",
    "tracAdv_dataInit = cp.deepcopy(tracAdv_data)\n",
    "\n",
    "if write_initialCondition:\n",
    "    fOut = pwd + \"/data/\" + \"initialState_%sx%s_%s.nc\" % (nx, ny, test_case)\n",
    "    func.write_initial_condition_tofile(\n",
    "        fOut, initialState, metadata, configuration, rank\n",
    "    )\n",
    "\n",
    "if plot_outputDuring or plot_outputAfter:\n",
    "    plotDict_tracer = {\n",
    "        \"vmin\": 0,\n",
    "        \"vmax\": 1,\n",
    "        \"units\": \"\",\n",
    "        \"title\": \"Tracer concentration\",\n",
    "        \"cmap\": \"viridis\",\n",
    "    }"
   ]
  },
  {
   "cell_type": "markdown",
   "metadata": {},
   "source": [
    "### Advection loop"
   ]
  },
  {
   "cell_type": "code",
   "execution_count": null,
   "metadata": {},
   "outputs": [],
   "source": [
    "tracer_archive = [cp.deepcopy(tracAdv_data[\"tracers\"][\"tracer\"])]\n",
    "timestep_archive = [0]\n",
    "\n",
    "for step in range(nSteps_advection):\n",
    "    if (rank == 0) and (step + 1) % 100 == 0 and print_advectionProgress:\n",
    "        print(\"Step: %d\" % (step + 1))\n",
    "\n",
    "    if plot_outputDuring and (step) % figure_everyNsteps == 0:\n",
    "        tracer_global = configuration[\"communicator\"].gather(\n",
    "            tracAdv_data[\"tracers\"][\"tracer\"]\n",
    "        )\n",
    "        fOut = (\n",
    "            pwd\n",
    "            + \"/figs/\"\n",
    "            + \"tracerAdvection_%s_%06.2f.png\" % (test_case, (step * timestep) / 60 / 60)\n",
    "        )\n",
    "        plotDict_tracer[\"title\"] = \"Tracer state @ hour: %.2f\" % (\n",
    "            (step * timestep) / 60 / 60\n",
    "        )\n",
    "        func.plot_projection_field(\n",
    "            configuration,\n",
    "            metadata,\n",
    "            tracer_global,\n",
    "            plotDict_tracer,\n",
    "            rank,\n",
    "            fOut,\n",
    "            show=show_figures,\n",
    "        )\n",
    "\n",
    "    tracAdv_data = func.run_advection_step_with_reset(\n",
    "        tracAdv_dataInit, tracAdv_data, tracAdv, timestep\n",
    "    )\n",
    "\n",
    "    tracer_archive.append(cp.deepcopy(tracAdv_data[\"tracers\"][\"tracer\"]))\n",
    "    timestep_archive.append(step + 1)"
   ]
  },
  {
   "cell_type": "code",
   "execution_count": null,
   "metadata": {},
   "outputs": [],
   "source": [
    "if plot_jupyterAnimation:\n",
    "    func.plot_tracer_animation(\n",
    "        configuration,\n",
    "        metadata,\n",
    "        tracer_archive,\n",
    "        rank,\n",
    "        plotDict_tracer,\n",
    "        figure_everyNsteps,\n",
    "        timestep,\n",
    "    )"
   ]
  },
  {
   "cell_type": "code",
   "execution_count": null,
   "metadata": {},
   "outputs": [],
   "source": [
    "if plot_outputAfter:\n",
    "    for step in range(0, nSteps_advection, figure_everyNsteps):\n",
    "        tracer_global = configuration[\"communicator\"].gather(tracer_archive[step])\n",
    "        fOut = (\n",
    "            pwd\n",
    "            + \"/figs/\"\n",
    "            + \"tracerAdvection_%s_%06.2f.png\" % (test_case, (step * timestep) / 60 / 60)\n",
    "        )\n",
    "        plotDict_tracer[\"title\"] = \"Tracer state @ hour: %.2f\" % (\n",
    "            (step * timestep) / 60 / 60\n",
    "        )\n",
    "        func.plot_projection_field(\n",
    "            configuration,\n",
    "            metadata,\n",
    "            tracer_global,\n",
    "            plotDict_tracer,\n",
    "            rank,\n",
    "            fOut,\n",
    "            show=show_figures,\n",
    "        )"
   ]
  },
  {
   "cell_type": "code",
   "execution_count": null,
   "metadata": {},
   "outputs": [],
   "source": []
  },
  {
   "cell_type": "code",
   "execution_count": null,
   "metadata": {},
   "outputs": [],
   "source": [
    "%autopx"
   ]
  },
  {
   "cell_type": "code",
   "execution_count": null,
   "metadata": {},
   "outputs": [],
   "source": [
    "cluster.shutdown()"
   ]
  },
  {
   "cell_type": "code",
   "execution_count": null,
   "metadata": {},
   "outputs": [],
   "source": []
  }
 ],
 "metadata": {
  "kernelspec": {
   "display_name": "Python 3.8.10 ('venv': venv)",
   "language": "python",
   "name": "python3"
  },
  "language_info": {
   "codemirror_mode": {
    "name": "ipython",
    "version": 3
   },
   "file_extension": ".py",
   "mimetype": "text/x-python",
   "name": "python",
   "nbconvert_exporter": "python",
   "pygments_lexer": "ipython3",
   "version": "3.8.10"
  },
  "orig_nbformat": 4,
  "vscode": {
   "interpreter": {
    "hash": "5aaa1d64d2aec5fc9d71d95fe114c55e361597d915cf108c460e747a228aecec"
   }
  }
 },
 "nbformat": 4,
 "nbformat_minor": 2
}
