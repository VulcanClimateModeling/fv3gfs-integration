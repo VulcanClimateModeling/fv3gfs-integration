{
 "cells": [
  {
   "cell_type": "markdown",
   "metadata": {},
   "source": [
    "# Tracer Advection Stencil\n",
    "\n",
    "#### 1. Start a parallel cluster"
   ]
  },
  {
   "cell_type": "code",
   "execution_count": 1,
   "metadata": {},
   "outputs": [
    {
     "data": {
      "text/html": [
       "<link href=\"https://fonts.googleapis.com/icon?family=Material+Icons\" rel=\"stylesheet\"><script src=\"https://spcl.github.io/dace/webclient2/dist/sdfv.js\"></script>\n",
       "<link href=\"https://spcl.github.io/dace/webclient2/sdfv.css\" rel=\"stylesheet\">\n"
      ],
      "text/plain": [
       "<IPython.core.display.HTML object>"
      ]
     },
     "metadata": {},
     "output_type": "display_data"
    },
    {
     "name": "stdout",
     "output_type": "stream",
     "text": [
      "Starting 6 engines with <class 'ipyparallel.cluster.launcher.MPIEngineSetLauncher'>\n"
     ]
    },
    {
     "data": {
      "application/vnd.jupyter.widget-view+json": {
       "model_id": "a11edf736e634fe987fc0652752abfbc",
       "version_major": 2,
       "version_minor": 0
      },
      "text/plain": [
       "  0%|          | 0/6 [00:00<?, ?engine/s]"
      ]
     },
     "metadata": {},
     "output_type": "display_data"
    }
   ],
   "source": [
    "from functions import show_clusters\n",
    "\n",
    "import ipyparallel as ipp\n",
    "\n",
    "cluster = ipp.Cluster(engines='mpi', n=6).start_and_connect_sync()\n"
   ]
  },
  {
   "cell_type": "code",
   "execution_count": null,
   "metadata": {},
   "outputs": [],
   "source": []
  },
  {
   "cell_type": "code",
   "execution_count": 2,
   "metadata": {},
   "outputs": [
    {
     "name": "stdout",
     "output_type": "stream",
     "text": [
      "%autopx enabled\n"
     ]
    }
   ],
   "source": [
    "%autopx"
   ]
  },
  {
   "cell_type": "markdown",
   "metadata": {},
   "source": [
    "#### 2. Configure the domain"
   ]
  },
  {
   "cell_type": "code",
   "execution_count": 3,
   "metadata": {},
   "outputs": [
    {
     "data": {
      "application/vnd.jupyter.widget-view+json": {
       "model_id": "57db79fc4bc143b58a8ad77c7245c011",
       "version_major": 2,
       "version_minor": 0
      },
      "text/plain": [
       "%px:   0%|          | 0/6 [00:00<?, ?tasks/s]"
      ]
     },
     "metadata": {},
     "output_type": "display_data"
    }
   ],
   "source": [
    "%%capture\n",
    "from mpi4py import MPI\n",
    "import functions as func\n",
    "import importlib\n",
    "importlib.reload(func)\n",
    "\n",
    "\n",
    "mpi_comm = MPI.COMM_WORLD\n",
    "mpi_size = mpi_comm.Get_size()\n",
    "mpi_rank = mpi_comm.Get_rank()\n",
    "\n",
    "backend = 'numpy'\n",
    "layout = (1, 1)\n",
    "nx, ny, nz, nhalo = 101, 101, 80, 3\n",
    "dimensions = {'nx': nx, 'ny': ny, 'nx1': nx+1, 'ny1': ny+1, 'nz': nz, 'nhalo': nhalo, 'tile': mpi_size, 'nxhalo': nx+2*nhalo, 'nyhalo': ny+2*nhalo}\n",
    "units = {'dist': 'm', 'coord': 'degrees', 'qvapor': 'kg/kg', 'psi': 'kg/m/s', 'wind': 'm/s', 'courant': '', 'areaflux': 'm2', 'qflux': 'kg/m2', 'pressure': 'Pa'}\n",
    "origins = {'halo': (0, 0), 'compute_2d': (dimensions['nhalo'], dimensions['nhalo']), 'compute_3d': (dimensions['nhalo'], dimensions['nhalo'], 0)}\n",
    "\n",
    "\n",
    "configuration = func.configure_domain(layout, mpi_comm, dimensions, backend=backend)"
   ]
  },
  {
   "cell_type": "markdown",
   "metadata": {},
   "source": [
    "#### 2a. Gather domain coordinates"
   ]
  },
  {
   "cell_type": "code",
   "execution_count": 4,
   "metadata": {},
   "outputs": [],
   "source": [
    "from pace.util import Quantity\n",
    "import numpy as np\n",
    "\n",
    "dx_halo =  Quantity(configuration['grid_data'].dx.data, ('x_halo', 'y_halo'), units['dist'], origins['halo'], (dimensions['nxhalo'], dimensions['nyhalo']), backend)\n",
    "dy_halo =  Quantity(configuration['grid_data'].dy.data, ('x_halo', 'y_halo'), units['dist'], origins['halo'], (dimensions['nxhalo'], dimensions['nyhalo']), backend)\n",
    "dxa_halo =  Quantity(configuration['grid_data'].dxa.data, ('x_halo', 'y_halo'), units['dist'], origins['halo'], (dimensions['nxhalo'], dimensions['nyhalo']), backend)\n",
    "dya_halo =  Quantity(configuration['grid_data'].dya.data, ('x_halo', 'y_halo'), units['dist'], origins['halo'], (dimensions['nxhalo'], dimensions['nyhalo']), backend)\n",
    "dxc_halo =  Quantity(configuration['grid_data'].dxc.data, ('x_halo', 'y_halo'), units['dist'], origins['halo'], (dimensions['nxhalo'], dimensions['nyhalo']), backend)\n",
    "dyc_halo =  Quantity(configuration['grid_data'].dyc.data, ('x_halo', 'y_halo'), units['dist'], origins['halo'], (dimensions['nxhalo'], dimensions['nyhalo']), backend)\n",
    "\n",
    "lona_halo =  Quantity(configuration['grid_data'].lon_agrid.data * 180 / np.pi, ('x_halo', 'y_halo'), units['coord'], origins['halo'], (dimensions['nxhalo'], dimensions['nyhalo']), backend)\n",
    "lata_halo =  Quantity(configuration['grid_data'].lat_agrid.data * 180 / np.pi, ('x_halo', 'y_halo'), units['coord'], origins['halo'], (dimensions['nxhalo'], dimensions['nyhalo']), backend)\n",
    "lona_global = configuration['communicator'].gather(lona_halo)\n",
    "lata_global = configuration['communicator'].gather(lata_halo)"
   ]
  },
  {
   "cell_type": "markdown",
   "metadata": {},
   "source": [
    "#### 3. Create initial conditions on a plane\n",
    "\n",
    "#### 3a. Create water vapor initial condition"
   ]
  },
  {
   "cell_type": "code",
   "execution_count": 5,
   "metadata": {},
   "outputs": [
    {
     "data": {
      "text/plain": [
       "[stdout:0] Centering gaussian on lon=350.50, lat=0.50\n"
      ]
     },
     "metadata": {},
     "output_type": "display_data"
    }
   ],
   "source": [
    "if mpi_rank == 0:\n",
    "    gaussian_multiplier = func.create_gaussianMultiplier(np.deg2rad(lona_global.data), np.deg2rad(lata_global.data), dimensions, center_tile=0)\n",
    "else:\n",
    "    gaussian_multiplier = np.zeros((dimensions['tile'], dimensions['nxhalo'], dimensions['nyhalo']))\n",
    "\n",
    "mpi_comm.Bcast(gaussian_multiplier, root=0)\n",
    "qvapor_2d = Quantity(gaussian_multiplier[mpi_rank], ('x', 'y'), units['qvapor'], origins['compute_2d'], (dimensions['nx'], dimensions['ny']), backend)\n"
   ]
  },
  {
   "cell_type": "markdown",
   "metadata": {},
   "source": [
    "#### 3b. Create pressure thickness initial condition"
   ]
  },
  {
   "cell_type": "code",
   "execution_count": 6,
   "metadata": {},
   "outputs": [],
   "source": [
    "delp_2d = Quantity(np.ones(qvapor_2d.data.shape)*10, ('x', 'y'), units['pressure'], origins['compute_2d'], (dimensions['nx'], dimensions['ny']), backend)\n"
   ]
  },
  {
   "cell_type": "markdown",
   "metadata": {},
   "source": [
    "#### 3c. Run coordinates through streamfunction generation"
   ]
  },
  {
   "cell_type": "code",
   "execution_count": 7,
   "metadata": {},
   "outputs": [],
   "source": [
    "psi, psi_staggered = func.calculate_streamfunction_testCase1(np.deg2rad(lona_halo.data), np.deg2rad(lata_halo.data), dimensions)\n",
    "\n",
    "psi_halo = Quantity(psi, ('x_halo', 'y_halo'), units['psi'], origins['halo'], (dimensions['nxhalo'], dimensions['nyhalo']), backend)\n",
    "psi = Quantity(psi, ('x', 'y'), units['psi'], origins['compute_2d'], (dimensions['nx'], dimensions['ny']), backend)\n",
    "psi_staggered_halo = Quantity(psi_staggered, ('x_halo', 'y_halo'), units['psi'], origins['halo'], (dimensions['nxhalo'], dimensions['nyhalo']), backend)\n",
    "psi_staggered  = Quantity(psi_staggered, ('x_interface', 'y_interface'), units['psi'], origins['compute_2d'], (dimensions['nx1'], dimensions['ny1']), backend)"
   ]
  },
  {
   "cell_type": "markdown",
   "metadata": {},
   "source": [
    "#### 3d. Calculate winds from streamfunction\n",
    "\n",
    "`ua`, `va` - winds on cell centers\n",
    "`uc`, `vc` - covariant winds on C-grid"
   ]
  },
  {
   "cell_type": "code",
   "execution_count": 8,
   "metadata": {},
   "outputs": [],
   "source": [
    "ua, va = func.calculate_windsFromStreamfunction_grid(psi_halo, dxa_halo, dya_halo, dimensions, grid='A')\n",
    "\n",
    "ua_2d = Quantity(ua, ('x', 'y'), units['wind'], origins['compute_2d'], (dimensions['nx'], dimensions['ny']), backend)\n",
    "va_2d = Quantity(va, ('x', 'y'), units['wind'], origins['compute_2d'], (dimensions['nx'], dimensions['ny']), backend)"
   ]
  },
  {
   "cell_type": "code",
   "execution_count": 9,
   "metadata": {},
   "outputs": [],
   "source": [
    "uc, vc = func.calculate_windsFromStreamfunction_grid(psi_staggered_halo, dx_halo, dy_halo, dimensions, grid='C')\n",
    "\n",
    "uc_2d = Quantity(uc, ('x', 'y_interface'), units['wind'], origins['compute_2d'], (dimensions['nx'], dimensions['ny1']), backend)\n",
    "vc_2d = Quantity(vc, ('x_interface', 'y'), units['wind'], origins['compute_2d'], (dimensions['nx1'], dimensions['ny']), backend)"
   ]
  },
  {
   "cell_type": "code",
   "execution_count": 10,
   "metadata": {},
   "outputs": [],
   "source": [
    "ud, vd = func.calculate_windsFromStreamfunction_grid(psi_halo, dx_halo, dy_halo, dimensions, grid='D')\n",
    "\n",
    "ud_2d = Quantity(ud, ('x_interface', 'y'), units['wind'], origins['compute_2d'], (dimensions['nx1'], dimensions['ny']), backend)\n",
    "vd_2d = Quantity(vd, ('x', 'y_interface'), units['wind'], origins['compute_2d'], (dimensions['nx'], dimensions['ny1']), backend)"
   ]
  },
  {
   "cell_type": "markdown",
   "metadata": {},
   "source": [
    "#### 4. Prepare flux stencil\n",
    "\n",
    "#### 4a. Extend initial conditions into the vertical"
   ]
  },
  {
   "cell_type": "code",
   "execution_count": 11,
   "metadata": {},
   "outputs": [
    {
     "data": {
      "text/plain": [
       "[stdout:0] (107, 107, 2)\n"
      ]
     },
     "metadata": {},
     "output_type": "display_data"
    },
    {
     "data": {
      "text/plain": [
       "[stdout:1] (107, 107, 2)\n"
      ]
     },
     "metadata": {},
     "output_type": "display_data"
    },
    {
     "data": {
      "text/plain": [
       "[stdout:2] (107, 107, 2)\n"
      ]
     },
     "metadata": {},
     "output_type": "display_data"
    },
    {
     "data": {
      "text/plain": [
       "[stdout:4] (107, 107, 2)\n"
      ]
     },
     "metadata": {},
     "output_type": "display_data"
    },
    {
     "data": {
      "text/plain": [
       "[stdout:3] (107, 107, 2)\n"
      ]
     },
     "metadata": {},
     "output_type": "display_data"
    },
    {
     "data": {
      "text/plain": [
       "[stdout:5] (107, 107, 2)\n"
      ]
     },
     "metadata": {},
     "output_type": "display_data"
    }
   ],
   "source": [
    "dimensions['nz'] = 1\n",
    "\n",
    "empty = np.zeros((dimensions['nxhalo'], dimensions['nyhalo'], dimensions['nz']+1))\n",
    "print(empty.shape)\n",
    "\n",
    "qvapor_3d = np.copy(empty)\n",
    "uc_3d = np.copy(empty)\n",
    "vc_3d = np.copy(empty)\n",
    "delp_3d = np.copy(empty)\n",
    "qvapor_3d[:, :, 0] = qvapor_2d.data\n",
    "uc_3d[:, :, 0] = uc_2d.data\n",
    "vc_3d[:, :, 0] = vc_2d.data\n",
    "delp_3d[:, :, 0] = delp_2d.data\n",
    "\n",
    "qvapor = Quantity(qvapor_3d, ('x', 'y', 'z'), units['qvapor'], origins['compute_3d'], (dimensions['nx'], dimensions['ny'], dimensions['nz']), backend)\n",
    "qvapor_init = Quantity(qvapor_3d, ('x', 'y', 'z'), units['qvapor'], origins['compute_3d'], (dimensions['nx'], dimensions['ny'], dimensions['nz']), backend)\n",
    "uc = Quantity(uc_3d, ('x', 'y_interface', 'z'), units['wind'], origins['compute_3d'], (dimensions['nx'], dimensions['ny1'], dimensions['nz']), backend)\n",
    "vc = Quantity(vc_3d, ('x_interface', 'y', 'z'), units['wind'], origins['compute_3d'], (dimensions['nx1'], dimensions['ny'], dimensions['nz']), backend)\n",
    "delp = Quantity(delp_3d, ('x_interface', 'y', 'z'), units['wind'], origins['compute_3d'], (dimensions['nx1'], dimensions['ny'], dimensions['nz']), backend)"
   ]
  },
  {
   "cell_type": "markdown",
   "metadata": {},
   "source": [
    "#### 4b. Prepare data for flux calculation\n",
    "\n",
    "- use the function `FiniteVolumeFluxPrep`\n",
    "    - requires `uc` and `vc` from (3c). \n",
    "    - requires some empty arrays to be filled in:\n",
    "        - `crx` and `cry` are the dimensionless Courant numbers on C-grid points.\n",
    "        - `xaf` and `yaf` are are fluxes of area in m2.\n",
    "        - `ucc` and `vcc` are the contravariant velocities on C-grid points\n",
    "        - `dt` is the acoustic time step."
   ]
  },
  {
   "cell_type": "code",
   "execution_count": 12,
   "metadata": {},
   "outputs": [],
   "source": [
    "%%capture capt\n",
    "from fv3core.stencils.fxadv import FiniteVolumeFluxPrep\n",
    "\n",
    "fvf_prep = FiniteVolumeFluxPrep(configuration['stencil_factory'], configuration['grid_data'])\n",
    "\n",
    "crx = Quantity(empty, ('x_interface', 'y', 'z'), units['courant'], origins['compute_3d'], (dimensions['nx1'], dimensions['ny'], dimensions['nz']), backend)\n",
    "cry = Quantity(empty, ('x', 'y_interface', 'z'), units['courant'], origins['compute_3d'], (dimensions['nx'], dimensions['ny1'], dimensions['nz']), backend)\n",
    "\n",
    "xaf = Quantity(empty, ('x_interface', 'y', 'z'), units['areaflux'], origins['compute_3d'], (dimensions['nx1'], dimensions['ny'], dimensions['nz']), backend)\n",
    "yaf = Quantity(empty, ('x', 'y_interface', 'z'), units['areaflux'], origins['compute_3d'], (dimensions['nx'], dimensions['ny1'], dimensions['nz']), backend)\n",
    "\n",
    "ucv = Quantity(empty, ('x_interface', 'y', 'z'), units['wind'], origins['compute_3d'], (dimensions['nx1'], dimensions['ny'], dimensions['nz']), backend)\n",
    "vcv = Quantity(empty, ('x', 'y_interface', 'z'), units['wind'], origins['compute_3d'], (dimensions['nx'], dimensions['ny1'], dimensions['nz']), backend)\n",
    "\n",
    "\n",
    "dt_acoustic = 300.\n",
    "\n",
    "fvfp = fvf_prep(uc, vc, crx, cry, xaf, yaf, ucv, vcv, dt_acoustic)\n",
    "\n",
    "print()\n",
    "print('UC min, mean, max: %.2f %.2f %.2f' % (np.nanmin(uc), np.nanmean(uc), np.nanmax(uc)))\n",
    "print('UCV min, mean, max: %.2f %.2f %.2f' % (np.nanmin(ucv), np.nanmean(ucv), np.nanmax(ucv)))\n",
    "print()\n",
    "print('VC min, mean, max: %.2f %.2f %.2f' % (np.nanmin(vc), np.nanmean(vc), np.nanmax(vc)))\n",
    "print('VCV min, mean, max: %.2f %.2f %.2f' % (np.nanmin(vcv), np.nanmean(vcv), np.nanmax(vcv)))\n",
    "print()\n",
    "print('X-Courant min, mean, max: %.2f %.2f %.2f' % (np.nanmin(crx), np.nanmean(crx), np.nanmax(crx)))\n",
    "print('Y-Courant min, mean, max: %.2f %.2f %.2f' % (np.nanmin(cry), np.nanmean(cry), np.nanmax(cry)))\n",
    "print()\n",
    "print('X-area flux min, mean, max: %.2f %.2f %.2f' % (np.nanmin(xaf), np.nanmean(xaf), np.nanmax(xaf)))\n",
    "print('X-area flux min, mean, max: %.2f %.2f %.2f' % (np.nanmin(yaf), np.nanmean(yaf), np.nanmax(yaf)))"
   ]
  },
  {
   "cell_type": "markdown",
   "metadata": {},
   "source": [
    "#### (4c) Create finite volume transport stencil\n",
    "\n",
    "- use the function `FiniteVolumeTransport` \n",
    "    - takes in the tracer `qvap` to be transported.\n",
    "    - takes in the `crx` and `cry` Courant numbers, `xaf` and `yaf` area fluxes from previous step.\n",
    "    - requires some empty arrays to be filled in:\n",
    "        - `qfx` and `qfy` are the output fluxes of the tracer to be transported -- i think kg/m2?\n",
    "        \n",
    "- also takes in mass fluxes (optional) -- where would I find those?\n",
    "\n",
    "- do I actually need the `qfx`, `qfy` that are output? Yes - for updating mass fluxes"
   ]
  },
  {
   "cell_type": "code",
   "execution_count": 13,
   "metadata": {},
   "outputs": [],
   "source": [
    "#%%capture capt\n",
    "from fv3core.stencils.fvtp2d import FiniteVolumeTransport\n",
    "import copy as cp\n",
    "\n",
    "grid_type = 0\n",
    "hord = 6\n",
    "dt = 1800.\n",
    "density = 1\n",
    "\n",
    "fvtp2d = FiniteVolumeTransport(configuration['stencil_factory'], configuration['grid_data'], configuration['damping_coefficients'], grid_type, hord)\n",
    "\n",
    "\n",
    "mfxd = Quantity(empty, ('x_interface', 'y', 'z'), units['wind'], origins['compute_3d'], (dimensions['nx1'], dimensions['ny'], dimensions['nz']), backend)\n",
    "mfyd = Quantity(empty, ('x', 'y_interface', 'z'), units['wind'], origins['compute_3d'], (dimensions['nx'], dimensions['ny1'], dimensions['nz']), backend)\n",
    "\n",
    "mfxd.data[:] = xaf.data[:] * delp.data[:] * density\n",
    "mfyd.data[:] = yaf.data[:] * delp.data[:] * density\n"
   ]
  },
  {
   "cell_type": "code",
   "execution_count": 14,
   "metadata": {},
   "outputs": [],
   "source": [
    "# mfxd_global = configuration['communicator'].gather(mfxd)\n",
    "# mfyd_global = configuration['communicator'].gather(mfyd)\n",
    "# if mpi_rank == 0:\n",
    "\n",
    "#     mfxd_global = func.unstagger_coord(mfxd_global.data[:, :, :, 0])\n",
    "#     mfyd_global = func.unstagger_coord(mfyd_global.data[:, :, :, 0])\n",
    "#     variables = {'lon': lon_global.data, 'lat': lat_global.data, 'mfxd': mfxd_global.data[:, :, :, 0], 'mfyd': mfyd_global.data[:, :, :, 0]}\n",
    "\n",
    "#     #func.plot_projection_field(variables['lon'], variables['lat'], mfyd_global, vmin=-1e11, vmax=1e11, cmap='bwr', title='mfxd')"
   ]
  },
  {
   "cell_type": "code",
   "execution_count": null,
   "metadata": {},
   "outputs": [],
   "source": []
  },
  {
   "cell_type": "code",
   "execution_count": 15,
   "metadata": {},
   "outputs": [],
   "source": [
    "# #%%capture capt\n",
    "# from fv3core.stencils.fvtp2d import FiniteVolumeTransport\n",
    "# import copy as cp\n",
    "\n",
    "# grid_type = 0\n",
    "# hord = 6\n",
    "# dt = 1800.\n",
    "\n",
    "# delp.data[:] += qvapor.data[:]\n",
    "\n",
    "# qfx = Quantity(empty, ('x_interface', 'y', 'z'), units['wind'], origins['compute_3d'], (dimensions['nx1'], dimensions['ny'], dimensions['nz']), backend)\n",
    "# qfy = Quantity(empty, ('x', 'y_interface', 'z'), units['wind'], origins['compute_3d'], (dimensions['nx'], dimensions['ny1'], dimensions['nz']), backend)\n",
    "\n",
    "# fvtp2d = FiniteVolumeTransport(configuration['stencil_factory'], configuration['grid_data'], configuration['damping_coefficients'], grid_type, hord)\n",
    "# fvTransport = fvtp2d(qvapor, crx, cry, xaf, yaf, qfx, qfy, mass=delp)\n",
    "\n",
    "\n"
   ]
  },
  {
   "cell_type": "code",
   "execution_count": 16,
   "metadata": {},
   "outputs": [],
   "source": [
    "from fv3core.stencils.tracer_2d_1l import TracerAdvection\n",
    "\n",
    "tracers = {'qvapor': qvapor}\n",
    "tracers_init = {'qvapor': qvapor_init}\n",
    "tracAdv = TracerAdvection(configuration['stencil_factory'], fvtp2d, configuration['grid_data'], configuration['communicator'], tracers)\n",
    "\n",
    "#mfxd = Quantity(empty, ('x_interface', 'y', 'z'), units['pressure'], origins['compute_3d'], (dimensions['nx1'], dimensions['ny'], dimensions['nz']), backend)\n",
    "#mfyd = Quantity(empty, ('x', 'y_interface', 'z'), units['pressure'], origins['compute_3d'], (dimensions['nx'], dimensions['ny1'], dimensions['nz']), backend)\n",
    "#delp_tmp = Quantity(empty, ('x', 'y', 'z'), units['pressure'], origins['compute_3d'], (dimensions['nx'], dimensions['ny'], dimensions['nz']), backend)\n",
    "\n",
    "# mfxd.data[:] += (xaf.data[:] * delp.data[:] * dt/dt_acoustic)\n",
    "# mfyd.data[:] += (yaf.data[:] * delp.data[:] * dt/dt_acoustic)\n",
    "# delp_tmp.data[1:-1, 1:-1, 0] += delp.data[1:-1, 1:-1, 0] + (mfxd.data[1:-1, 1:-1, 0] - mfxd.data[2:, 1:-1, 0] + mfyd.data[1:-1, 1:-1, 0] - mfyd.data[1:-1, 2:, 0]) * configuration['grid_data'].rarea.data[1:-1, 1:-1]\n",
    "# delp_tmp.data[:, 0, :]= delp_tmp.data[:, 1, :]\n",
    "# delp_tmp.data[:, -1, :]= delp_tmp.data[:, -2, :]\n",
    "# delp_tmp.data[0, :, :] = delp_tmp.data[1, :, :]\n",
    "# delp_tmp.data[-1, :, :] = delp_tmp.data[-2, :, :]\n",
    "# mfxd.data[:] += qfx.data[:]\n",
    "# mfyd.data[:] += qfy.data[:]\n",
    "\n"
   ]
  },
  {
   "cell_type": "code",
   "execution_count": null,
   "metadata": {},
   "outputs": [],
   "source": []
  },
  {
   "cell_type": "code",
   "execution_count": 17,
   "metadata": {},
   "outputs": [
    {
     "data": {
      "text/plain": [
       "\u001b[0;31mOut[1:15]: \u001b[0m(107, 107, 2)"
      ]
     },
     "metadata": {
      "after": [],
      "completed": "2022-07-18T22:52:09.400444Z",
      "data": {},
      "engine_id": 1,
      "engine_uuid": "7355884c-8922ab9aa27c63c06a3f0ad2",
      "error": null,
      "execute_input": "tracers['qvapor'].data.shape",
      "execute_result": {
       "data": {
        "text/plain": "(107, 107, 2)"
       },
       "execution_count": 15,
       "metadata": {}
      },
      "follow": [],
      "is_broadcast": false,
      "is_coalescing": false,
      "msg_id": "bb9835ba-0334f2de3e49cc3626c82155_1750_86",
      "outputs": [],
      "received": "2022-07-18T22:52:09.402568Z",
      "started": "2022-07-18T22:52:09.396943Z",
      "status": "ok",
      "stderr": "",
      "stdout": "",
      "submitted": "2022-07-18T22:52:09.393089Z"
     },
     "output_type": "display_data"
    },
    {
     "data": {
      "text/plain": [
       "\u001b[0;31mOut[5:15]: \u001b[0m(107, 107, 2)"
      ]
     },
     "metadata": {
      "after": [],
      "completed": "2022-07-18T22:52:09.400842Z",
      "data": {},
      "engine_id": 5,
      "engine_uuid": "29997cb9-5368e7b7273e5d879c386729",
      "error": null,
      "execute_input": "tracers['qvapor'].data.shape",
      "execute_result": {
       "data": {
        "text/plain": "(107, 107, 2)"
       },
       "execution_count": 15,
       "metadata": {}
      },
      "follow": [],
      "is_broadcast": false,
      "is_coalescing": false,
      "msg_id": "bb9835ba-0334f2de3e49cc3626c82155_1750_90",
      "outputs": [],
      "received": "2022-07-18T22:52:09.404606Z",
      "started": "2022-07-18T22:52:09.397131Z",
      "status": "ok",
      "stderr": "",
      "stdout": "",
      "submitted": "2022-07-18T22:52:09.393411Z"
     },
     "output_type": "display_data"
    },
    {
     "data": {
      "text/plain": [
       "\u001b[0;31mOut[2:15]: \u001b[0m(107, 107, 2)"
      ]
     },
     "metadata": {
      "after": null,
      "completed": null,
      "data": {},
      "engine_id": 2,
      "engine_uuid": "5af959a2-c3b598d112adcfa0fbe23388",
      "error": null,
      "execute_input": "tracers['qvapor'].data.shape",
      "execute_result": {
       "data": {
        "text/plain": "(107, 107, 2)"
       },
       "execution_count": 15,
       "metadata": {}
      },
      "follow": null,
      "msg_id": null,
      "outputs": [],
      "received": null,
      "started": null,
      "status": null,
      "stderr": "",
      "stdout": "",
      "submitted": "2022-07-18T22:52:09.393244Z"
     },
     "output_type": "display_data"
    },
    {
     "data": {
      "text/plain": [
       "\u001b[0;31mOut[4:15]: \u001b[0m(107, 107, 2)"
      ]
     },
     "metadata": {
      "after": [],
      "completed": "2022-07-18T22:52:09.401201Z",
      "data": {},
      "engine_id": 4,
      "engine_uuid": "f3458871-fe4da3a1912b2f7a73f2450d",
      "error": null,
      "execute_input": "tracers['qvapor'].data.shape",
      "execute_result": {
       "data": {
        "text/plain": "(107, 107, 2)"
       },
       "execution_count": 15,
       "metadata": {}
      },
      "follow": [],
      "is_broadcast": false,
      "is_coalescing": false,
      "msg_id": "bb9835ba-0334f2de3e49cc3626c82155_1750_89",
      "outputs": [],
      "received": "2022-07-18T22:52:09.408303Z",
      "started": "2022-07-18T22:52:09.397209Z",
      "status": "ok",
      "stderr": "",
      "stdout": "",
      "submitted": "2022-07-18T22:52:09.393340Z"
     },
     "output_type": "display_data"
    },
    {
     "data": {
      "text/plain": [
       "\u001b[0;31mOut[0:15]: \u001b[0m(107, 107, 2)"
      ]
     },
     "metadata": {
      "after": [],
      "completed": "2022-07-18T22:52:09.401111Z",
      "data": {},
      "engine_id": 0,
      "engine_uuid": "30d74bb8-716564496d116e039e0a75d0",
      "error": null,
      "execute_input": "tracers['qvapor'].data.shape",
      "execute_result": {
       "data": {
        "text/plain": "(107, 107, 2)"
       },
       "execution_count": 15,
       "metadata": {}
      },
      "follow": [],
      "is_broadcast": false,
      "is_coalescing": false,
      "msg_id": "bb9835ba-0334f2de3e49cc3626c82155_1750_85",
      "outputs": [],
      "received": "2022-07-18T22:52:09.406653Z",
      "started": "2022-07-18T22:52:09.397092Z",
      "status": "ok",
      "stderr": "",
      "stdout": "",
      "submitted": "2022-07-18T22:52:09.392887Z"
     },
     "output_type": "display_data"
    },
    {
     "data": {
      "text/plain": [
       "\u001b[0;31mOut[3:15]: \u001b[0m(107, 107, 2)"
      ]
     },
     "metadata": {
      "after": [],
      "completed": "2022-07-18T22:52:09.401540Z",
      "data": {},
      "engine_id": 3,
      "engine_uuid": "bc730d4b-6f3c88c1eb90054a21f110a4",
      "error": null,
      "execute_input": "tracers['qvapor'].data.shape",
      "execute_result": {
       "data": {
        "text/plain": "(107, 107, 2)"
       },
       "execution_count": 15,
       "metadata": {}
      },
      "follow": [],
      "is_broadcast": false,
      "is_coalescing": false,
      "msg_id": "bb9835ba-0334f2de3e49cc3626c82155_1750_88",
      "outputs": [],
      "received": "2022-07-18T22:52:09.411567Z",
      "started": "2022-07-18T22:52:09.397156Z",
      "status": "ok",
      "stderr": "",
      "stdout": "",
      "submitted": "2022-07-18T22:52:09.393274Z"
     },
     "output_type": "display_data"
    }
   ],
   "source": [
    "tracers['qvapor'].data.shape"
   ]
  },
  {
   "cell_type": "markdown",
   "metadata": {},
   "source": [
    "#### 5. Perform tracer advection -- no updates"
   ]
  },
  {
   "cell_type": "code",
   "execution_count": 18,
   "metadata": {},
   "outputs": [
    {
     "data": {
      "text/plain": [
       "[stdout:0] \n",
       "step   1: timestep diff min = -6.84e-02; max = 6.84e-02; init diff min = -6.84e-02; max = 6.84e-02\n",
       "step   2: timestep diff min = -6.84e-02; max = 6.84e-02; init diff min = -1.37e-01; max = 1.36e-01\n",
       "step   3: timestep diff min = -6.83e-02; max = 6.84e-02; init diff min = -2.04e-01; max = 2.04e-01\n",
       "step   4: timestep diff min = -6.84e-02; max = 6.83e-02; init diff min = -2.71e-01; max = 2.70e-01\n",
       "step   5: timestep diff min = -6.84e-02; max = 6.83e-02; init diff min = -3.35e-01; max = 3.36e-01\n",
       "step   6: timestep diff min = -6.85e-02; max = 6.84e-02; init diff min = -4.00e-01; max = 3.99e-01\n",
       "step   7: timestep diff min = -6.85e-02; max = 6.84e-02; init diff min = -4.61e-01; max = 4.60e-01\n",
       "step   8: timestep diff min = -6.84e-02; max = 6.85e-02; init diff min = -5.21e-01; max = 5.21e-01\n",
       "step   9: timestep diff min = -6.83e-02; max = 6.85e-02; init diff min = -5.78e-01; max = 5.77e-01\n",
       "step  10: timestep diff min = -6.84e-02; max = 6.84e-02; init diff min = -6.32e-01; max = 6.33e-01\n",
       "step  11: timestep diff min = -6.84e-02; max = 6.84e-02; init diff min = -6.84e-01; max = 6.83e-01\n",
       "step  12: timestep diff min = -6.85e-02; max = 6.83e-02; init diff min = -7.31e-01; max = 7.32e-01\n",
       "step  13: timestep diff min = -6.85e-02; max = 6.83e-02; init diff min = -7.77e-01; max = 7.77e-01\n",
       "step  14: timestep diff min = -6.84e-02; max = 6.83e-02; init diff min = -8.18e-01; max = 8.17e-01\n",
       "step  15: timestep diff min = -6.83e-02; max = 6.84e-02; init diff min = -8.55e-01; max = 8.56e-01\n",
       "step  16: timestep diff min = -6.83e-02; max = 6.84e-02; init diff min = -8.89e-01; max = 8.87e-01\n",
       "step  17: timestep diff min = -6.84e-02; max = 6.84e-02; init diff min = -9.16e-01; max = 9.19e-01\n",
       "step  18: timestep diff min = -6.85e-02; max = 6.84e-02; init diff min = -9.43e-01; max = 9.42e-01\n",
       "step  19: timestep diff min = -6.85e-02; max = 6.84e-02; init diff min = -9.61e-01; max = 9.64e-01\n",
       "step  20: timestep diff min = -6.84e-02; max = 6.84e-02; init diff min = -9.78e-01; max = 9.79e-01\n",
       "step  21: timestep diff min = -6.83e-02; max = 6.84e-02; init diff min = -9.90e-01; max = 9.90e-01\n",
       "step  22: timestep diff min = -6.83e-02; max = 6.84e-02; init diff min = -9.95e-01; max = 9.98e-01\n",
       "step  23: timestep diff min = -6.84e-02; max = 6.83e-02; init diff min = -1.00e+00; max = 9.99e-01\n",
       "step  24: timestep diff min = -6.85e-02; max = 6.83e-02; init diff min = -1.00e+00; max = 9.99e-01\n",
       "step  25: timestep diff min = -6.85e-02; max = 6.83e-02; init diff min = -1.00e+00; max = 9.99e-01\n",
       "step  26: timestep diff min = -6.84e-02; max = 6.83e-02; init diff min = -1.00e+00; max = 1.00e+00\n",
       "step  27: timestep diff min = -6.84e-02; max = 6.83e-02; init diff min = -1.00e+00; max = 1.00e+00\n",
       "step  28: timestep diff min = -6.83e-02; max = 6.83e-02; init diff min = -1.00e+00; max = 1.00e+00\n",
       "step  29: timestep diff min = -6.83e-02; max = 6.83e-02; init diff min = -1.00e+00; max = 1.00e+00\n",
       "step  30: timestep diff min = -6.84e-02; max = 6.83e-02; init diff min = -1.00e+00; max = 1.00e+00\n"
      ]
     },
     "metadata": {},
     "output_type": "display_data"
    }
   ],
   "source": [
    "#%%capture capt\n",
    "\n",
    "nSteps_adv = 30\n",
    "\n",
    "crx_init = cp.deepcopy(crx)\n",
    "cry_init = cp.deepcopy(cry)\n",
    "mfxd_init = cp.deepcopy(mfxd)\n",
    "mfyd_init = cp.deepcopy(mfyd)\n",
    "delp_init = cp.deepcopy(delp)\n",
    "diff_minMax = []\n",
    "tracers_store = []\n",
    "for step in range(nSteps_adv):\n",
    "    tmp = cp.deepcopy(tracers) # get pre-step value\n",
    "\n",
    "    tracAdv(tracers, delp, mfxd, mfyd, crx, cry, dt)\n",
    "\n",
    "    delp = cp.deepcopy(delp_init)\n",
    "    mfxd = cp.deepcopy(mfxd_init)\n",
    "    mfyd = cp.deepcopy(mfyd_init)\n",
    "    crx = cp.deepcopy(crx_init)\n",
    "    cry = cp.deepcopy(cry_init)\n",
    "    tracers_store.append(cp.deepcopy(tracers['qvapor']))\n",
    "\n",
    "\n",
    "\n",
    "    diff = tracers['qvapor'].data - tmp['qvapor'].data\n",
    "    diff_init = tracers['qvapor'].data - tracers_init['qvapor'].data\n",
    "    diff_minMax.append('step %3s: timestep diff min = %.2e; max = %.2e; init diff min = %.2e; max = %.2e' % (step+1, np.nanmin(diff), np.nanmax(diff), np.nanmin(diff_init), np.nanmax(diff_init)))\n",
    "\n",
    "    # if mpi_rank == 0 and (step)%10 == 0:\n",
    "    #     qvapor_global = configuration['communicator'].gather(tracers['qvapor'])\n",
    "    #     variables = {'lon': lon_global.data, 'lat': lat_global.data, 'q': qvapor_global.data}\n",
    "    #     func.plot_projection_field(variables['lon'], variables['lat'], variables['q'], vmin=0, vmax=1, cmap='viridis', title='q_vapor step %s' % step, units=units['qvapor'])\n",
    "\n",
    "\n",
    "if mpi_rank == 0: \n",
    "    print()\n",
    "    print('\\n'.join(diff_minMax))"
   ]
  },
  {
   "cell_type": "markdown",
   "metadata": {},
   "source": [
    "Tracer advection -- updating fluxes?"
   ]
  },
  {
   "cell_type": "code",
   "execution_count": 19,
   "metadata": {},
   "outputs": [],
   "source": [
    "lona =  Quantity(configuration['grid_data'].lon_agrid.data * 180 / np.pi, ('x_interface', 'y_interface'), units['coord'], origins['compute_2d'], (dimensions['nx1'], dimensions['ny1']), backend)\n",
    "lata =  Quantity(configuration['grid_data'].lat_agrid.data * 180 / np.pi, ('x_interface', 'y_interface'), units['coord'], origins['compute_2d'], (dimensions['nx1'], dimensions['ny1']), backend)\n",
    "lon_global = configuration['communicator'].gather(lona)\n",
    "lat_global = configuration['communicator'].gather(lata)\n"
   ]
  },
  {
   "cell_type": "code",
   "execution_count": null,
   "metadata": {},
   "outputs": [],
   "source": [
    "\n",
    "if mpi_rank == 0:\n",
    "    variables = {'lon': lon_global.data, 'lat': lat_global.data, 'q_start': qvapor_start.data[:, :, :, 0], 'q_end': qvapor_end.data[:, :, :, 0]}\n",
    "    func.plot_projection_field(variables['lon'], variables['lat'], variables['q_start'], vmin=-0, vmax=1, cmap='viridis', title='q_vapor init', units=units['qvapor'])\n",
    "    func.plot_projection_field(variables['lon'], variables['lat'], variables['q_end'], vmin=-0, vmax=1, cmap='viridis', title='q_vapor after tracerAdvection', units=units['qvapor'])\n",
    "    func.plot_projection_field(variables['lon'], variables['lat'], (variables['q_end'] - variables['q_start']), vmin=-1e0, vmax=1e0, cmap='bwr', title='q_vapor after - before tracerAdvection', units='kg/kg')"
   ]
  },
  {
   "cell_type": "code",
   "execution_count": 33,
   "metadata": {},
   "outputs": [
    {
     "data": {
      "text/plain": [
       "\u001b[0;31mOut[1:30]: \u001b[0m<module 'functions' from '/home/ajdas/pace/advection_test/functions.py'>"
      ]
     },
     "metadata": {
      "after": null,
      "completed": null,
      "data": {},
      "engine_id": 1,
      "engine_uuid": "7355884c-8922ab9aa27c63c06a3f0ad2",
      "error": null,
      "execute_input": "importlib.reload(func)",
      "execute_result": {
       "data": {
        "text/plain": "<module 'functions' from '/home/ajdas/pace/advection_test/functions.py'>"
       },
       "execution_count": 30,
       "metadata": {}
      },
      "follow": null,
      "msg_id": null,
      "outputs": [],
      "received": null,
      "started": null,
      "status": null,
      "stderr": "",
      "stdout": "",
      "submitted": "2022-07-18T23:24:42.680852Z"
     },
     "output_type": "display_data"
    },
    {
     "data": {
      "text/plain": [
       "\u001b[0;31mOut[3:30]: \u001b[0m<module 'functions' from '/home/ajdas/pace/advection_test/functions.py'>"
      ]
     },
     "metadata": {
      "after": null,
      "completed": null,
      "data": {},
      "engine_id": 3,
      "engine_uuid": "bc730d4b-6f3c88c1eb90054a21f110a4",
      "error": null,
      "execute_input": "importlib.reload(func)",
      "execute_result": {
       "data": {
        "text/plain": "<module 'functions' from '/home/ajdas/pace/advection_test/functions.py'>"
       },
       "execution_count": 30,
       "metadata": {}
      },
      "follow": null,
      "msg_id": null,
      "outputs": [],
      "received": null,
      "started": null,
      "status": null,
      "stderr": "",
      "stdout": "",
      "submitted": "2022-07-18T23:24:42.681018Z"
     },
     "output_type": "display_data"
    },
    {
     "data": {
      "text/plain": [
       "\u001b[0;31mOut[2:30]: \u001b[0m<module 'functions' from '/home/ajdas/pace/advection_test/functions.py'>"
      ]
     },
     "metadata": {
      "after": null,
      "completed": null,
      "data": {},
      "engine_id": 2,
      "engine_uuid": "5af959a2-c3b598d112adcfa0fbe23388",
      "error": null,
      "execute_input": "importlib.reload(func)",
      "execute_result": {
       "data": {
        "text/plain": "<module 'functions' from '/home/ajdas/pace/advection_test/functions.py'>"
       },
       "execution_count": 30,
       "metadata": {}
      },
      "follow": null,
      "msg_id": null,
      "outputs": [],
      "received": null,
      "started": null,
      "status": null,
      "stderr": "",
      "stdout": "",
      "submitted": "2022-07-18T23:24:42.680936Z"
     },
     "output_type": "display_data"
    },
    {
     "data": {
      "text/plain": [
       "\u001b[0;31mOut[5:30]: \u001b[0m<module 'functions' from '/home/ajdas/pace/advection_test/functions.py'>"
      ]
     },
     "metadata": {
      "after": null,
      "completed": null,
      "data": {},
      "engine_id": 5,
      "engine_uuid": "29997cb9-5368e7b7273e5d879c386729",
      "error": null,
      "execute_input": "importlib.reload(func)",
      "execute_result": {
       "data": {
        "text/plain": "<module 'functions' from '/home/ajdas/pace/advection_test/functions.py'>"
       },
       "execution_count": 30,
       "metadata": {}
      },
      "follow": null,
      "msg_id": null,
      "outputs": [],
      "received": null,
      "started": null,
      "status": null,
      "stderr": "",
      "stdout": "",
      "submitted": "2022-07-18T23:24:42.681158Z"
     },
     "output_type": "display_data"
    },
    {
     "data": {
      "text/plain": [
       "\u001b[0;31mOut[0:30]: \u001b[0m<module 'functions' from '/home/ajdas/pace/advection_test/functions.py'>"
      ]
     },
     "metadata": {
      "after": [],
      "completed": "2022-07-18T23:24:42.693723Z",
      "data": {},
      "engine_id": 0,
      "engine_uuid": "30d74bb8-716564496d116e039e0a75d0",
      "error": null,
      "execute_input": "importlib.reload(func)",
      "execute_result": {
       "data": {
        "text/plain": "<module 'functions' from '/home/ajdas/pace/advection_test/functions.py'>"
       },
       "execution_count": 30,
       "metadata": {}
      },
      "follow": [],
      "is_broadcast": false,
      "is_coalescing": false,
      "msg_id": "bb9835ba-0334f2de3e49cc3626c82155_1750_175",
      "outputs": [],
      "received": "2022-07-18T23:24:42.698954Z",
      "started": "2022-07-18T23:24:42.684001Z",
      "status": "ok",
      "stderr": "",
      "stdout": "",
      "submitted": "2022-07-18T23:24:42.680505Z"
     },
     "output_type": "display_data"
    },
    {
     "data": {
      "text/plain": [
       "\u001b[0;31mOut[4:30]: \u001b[0m<module 'functions' from '/home/ajdas/pace/advection_test/functions.py'>"
      ]
     },
     "metadata": {
      "after": [],
      "completed": "2022-07-18T23:24:42.693928Z",
      "data": {},
      "engine_id": 4,
      "engine_uuid": "f3458871-fe4da3a1912b2f7a73f2450d",
      "error": null,
      "execute_input": "importlib.reload(func)",
      "execute_result": {
       "data": {
        "text/plain": "<module 'functions' from '/home/ajdas/pace/advection_test/functions.py'>"
       },
       "execution_count": 30,
       "metadata": {}
      },
      "follow": [],
      "is_broadcast": false,
      "is_coalescing": false,
      "msg_id": "bb9835ba-0334f2de3e49cc3626c82155_1750_179",
      "outputs": [],
      "received": "2022-07-18T23:24:42.701059Z",
      "started": "2022-07-18T23:24:42.684195Z",
      "status": "ok",
      "stderr": "",
      "stdout": "",
      "submitted": "2022-07-18T23:24:42.681051Z"
     },
     "output_type": "display_data"
    }
   ],
   "source": []
  },
  {
   "cell_type": "code",
   "execution_count": 35,
   "metadata": {},
   "outputs": [
    {
     "data": {
      "application/vnd.jupyter.widget-view+json": {
       "model_id": "350c189ea61d4941b2dc8798fb424ef0",
       "version_major": 2,
       "version_minor": 0
      },
      "text/plain": [
       "%px:   0%|          | 0/6 [00:00<?, ?tasks/s]"
      ]
     },
     "metadata": {},
     "output_type": "display_data"
    }
   ],
   "source": [
    "importlib.reload(func)\n",
    "qvapor_global = []\n",
    "for step in range(len(tracers_store)):\n",
    "    qvapor_global.append(configuration['communicator'].gather(tracers_store[step]))\n",
    "\n",
    "saveDir = '/home/ajdas/pace/advection_test/figs/'\n",
    "fOut = saveDir + 'advection_step_'\n",
    "\n",
    "if mpi_rank == 0:\n",
    "    qvapor_global = np.stack(qvapor_global)[:, :, :, :, 0]\n",
    "    variables = {'lon': lon_global.data, 'lat': lat_global.data, 'q': qvapor_global}\n",
    "\n",
    "    #for step in range(len(tracers_store)):\n",
    "    for step in range(1):\n",
    "        func.plot_projection_field(variables['lon'], variables['lat'], variables['q'][step], vmin=-0, vmax=1, cmap='viridis', title='q_vapor advection step %03d' % step, units=units['qvapor'], fSave=fOut+'{:03d}'.format(step) + '.png')\n"
   ]
  },
  {
   "cell_type": "code",
   "execution_count": 26,
   "metadata": {},
   "outputs": [],
   "source": [
    "tmp = np.stack(qvapor_global)"
   ]
  },
  {
   "cell_type": "code",
   "execution_count": 27,
   "metadata": {},
   "outputs": [
    {
     "data": {
      "text/plain": [
       "\u001b[0;31mOut[0:25]: \u001b[0m(30, 6, 101, 101, 1)"
      ]
     },
     "metadata": {
      "after": [],
      "completed": "2022-07-18T22:55:13.351522Z",
      "data": {},
      "engine_id": 0,
      "engine_uuid": "30d74bb8-716564496d116e039e0a75d0",
      "error": null,
      "execute_input": "tmp.shape",
      "execute_result": {
       "data": {
        "text/plain": "(30, 6, 101, 101, 1)"
       },
       "execution_count": 25,
       "metadata": {}
      },
      "follow": [],
      "is_broadcast": false,
      "is_coalescing": false,
      "msg_id": "bb9835ba-0334f2de3e49cc3626c82155_1750_145",
      "outputs": [],
      "received": "2022-07-18T22:55:13.353562Z",
      "started": "2022-07-18T22:55:13.347487Z",
      "status": "ok",
      "stderr": "",
      "stdout": "",
      "submitted": "2022-07-18T22:55:13.344093Z"
     },
     "output_type": "display_data"
    },
    {
     "data": {
      "text/plain": [
       "\u001b[0;31mOut[2:25]: \u001b[0m(30,)"
      ]
     },
     "metadata": {
      "after": [],
      "completed": "2022-07-18T22:55:13.351622Z",
      "data": {},
      "engine_id": 2,
      "engine_uuid": "5af959a2-c3b598d112adcfa0fbe23388",
      "error": null,
      "execute_input": "tmp.shape",
      "execute_result": {
       "data": {
        "text/plain": "(30,)"
       },
       "execution_count": 25,
       "metadata": {}
      },
      "follow": [],
      "is_broadcast": false,
      "is_coalescing": false,
      "msg_id": "bb9835ba-0334f2de3e49cc3626c82155_1750_147",
      "outputs": [],
      "received": "2022-07-18T22:55:13.355500Z",
      "started": "2022-07-18T22:55:13.348109Z",
      "status": "ok",
      "stderr": "",
      "stdout": "",
      "submitted": "2022-07-18T22:55:13.344784Z"
     },
     "output_type": "display_data"
    },
    {
     "data": {
      "text/plain": [
       "\u001b[0;31mOut[4:25]: \u001b[0m(30,)"
      ]
     },
     "metadata": {
      "after": [],
      "completed": "2022-07-18T22:55:13.351940Z",
      "data": {},
      "engine_id": 4,
      "engine_uuid": "f3458871-fe4da3a1912b2f7a73f2450d",
      "error": null,
      "execute_input": "tmp.shape",
      "execute_result": {
       "data": {
        "text/plain": "(30,)"
       },
       "execution_count": 25,
       "metadata": {}
      },
      "follow": [],
      "is_broadcast": false,
      "is_coalescing": false,
      "msg_id": "bb9835ba-0334f2de3e49cc3626c82155_1750_149",
      "outputs": [],
      "received": "2022-07-18T22:55:13.357509Z",
      "started": "2022-07-18T22:55:13.348340Z",
      "status": "ok",
      "stderr": "",
      "stdout": "",
      "submitted": "2022-07-18T22:55:13.344926Z"
     },
     "output_type": "display_data"
    },
    {
     "data": {
      "text/plain": [
       "\u001b[0;31mOut[1:25]: \u001b[0m(30,)"
      ]
     },
     "metadata": {
      "after": [],
      "completed": "2022-07-18T22:55:13.352028Z",
      "data": {},
      "engine_id": 1,
      "engine_uuid": "7355884c-8922ab9aa27c63c06a3f0ad2",
      "error": null,
      "execute_input": "tmp.shape",
      "execute_result": {
       "data": {
        "text/plain": "(30,)"
       },
       "execution_count": 25,
       "metadata": {}
      },
      "follow": [],
      "is_broadcast": false,
      "is_coalescing": false,
      "msg_id": "bb9835ba-0334f2de3e49cc3626c82155_1750_146",
      "outputs": [],
      "received": "2022-07-18T22:55:13.359281Z",
      "started": "2022-07-18T22:55:13.348328Z",
      "status": "ok",
      "stderr": "",
      "stdout": "",
      "submitted": "2022-07-18T22:55:13.344662Z"
     },
     "output_type": "display_data"
    },
    {
     "data": {
      "text/plain": [
       "\u001b[0;31mOut[5:25]: \u001b[0m(30,)"
      ]
     },
     "metadata": {
      "after": [],
      "completed": "2022-07-18T22:55:13.352218Z",
      "data": {},
      "engine_id": 5,
      "engine_uuid": "29997cb9-5368e7b7273e5d879c386729",
      "error": null,
      "execute_input": "tmp.shape",
      "execute_result": {
       "data": {
        "text/plain": "(30,)"
       },
       "execution_count": 25,
       "metadata": {}
      },
      "follow": [],
      "is_broadcast": false,
      "is_coalescing": false,
      "msg_id": "bb9835ba-0334f2de3e49cc3626c82155_1750_150",
      "outputs": [],
      "received": "2022-07-18T22:55:13.361053Z",
      "started": "2022-07-18T22:55:13.348669Z",
      "status": "ok",
      "stderr": "",
      "stdout": "",
      "submitted": "2022-07-18T22:55:13.344995Z"
     },
     "output_type": "display_data"
    },
    {
     "data": {
      "text/plain": [
       "\u001b[0;31mOut[3:25]: \u001b[0m(30,)"
      ]
     },
     "metadata": {
      "after": [],
      "completed": "2022-07-18T22:55:13.352408Z",
      "data": {},
      "engine_id": 3,
      "engine_uuid": "bc730d4b-6f3c88c1eb90054a21f110a4",
      "error": null,
      "execute_input": "tmp.shape",
      "execute_result": {
       "data": {
        "text/plain": "(30,)"
       },
       "execution_count": 25,
       "metadata": {}
      },
      "follow": [],
      "is_broadcast": false,
      "is_coalescing": false,
      "msg_id": "bb9835ba-0334f2de3e49cc3626c82155_1750_148",
      "outputs": [],
      "received": "2022-07-18T22:55:13.362880Z",
      "started": "2022-07-18T22:55:13.348607Z",
      "status": "ok",
      "stderr": "",
      "stdout": "",
      "submitted": "2022-07-18T22:55:13.344860Z"
     },
     "output_type": "display_data"
    }
   ],
   "source": [
    "tmp.shape"
   ]
  },
  {
   "cell_type": "code",
   "execution_count": 30,
   "metadata": {},
   "outputs": [],
   "source": [
    "save = '3'"
   ]
  },
  {
   "cell_type": "code",
   "execution_count": 31,
   "metadata": {},
   "outputs": [
    {
     "ename": "SyntaxError",
     "evalue": "invalid syntax (798931604.py, line 1)",
     "output_type": "error",
     "traceback": [
      "\u001b[0;36m  Input \u001b[0;32mIn [31]\u001b[0;36m\u001b[0m\n\u001b[0;31m    if save not None:\u001b[0m\n\u001b[0m                ^\u001b[0m\n\u001b[0;31mSyntaxError\u001b[0m\u001b[0;31m:\u001b[0m invalid syntax\n"
     ]
    }
   ],
   "source": [
    "if save not None:\n",
    "    print(save)"
   ]
  },
  {
   "cell_type": "code",
   "execution_count": null,
   "metadata": {},
   "outputs": [],
   "source": []
  },
  {
   "cell_type": "code",
   "execution_count": null,
   "metadata": {},
   "outputs": [],
   "source": []
  },
  {
   "cell_type": "code",
   "execution_count": null,
   "metadata": {},
   "outputs": [],
   "source": [
    "%autopx"
   ]
  },
  {
   "cell_type": "code",
   "execution_count": null,
   "metadata": {},
   "outputs": [],
   "source": [
    "cluster.shutdown()"
   ]
  },
  {
   "cell_type": "code",
   "execution_count": null,
   "metadata": {},
   "outputs": [],
   "source": []
  }
 ],
 "metadata": {
  "kernelspec": {
   "display_name": "Python 3.8.10 ('venv': venv)",
   "language": "python",
   "name": "python3"
  },
  "language_info": {
   "codemirror_mode": {
    "name": "ipython",
    "version": 3
   },
   "file_extension": ".py",
   "mimetype": "text/x-python",
   "name": "python",
   "nbconvert_exporter": "python",
   "pygments_lexer": "ipython3",
   "version": "3.8.10"
  },
  "orig_nbformat": 4,
  "vscode": {
   "interpreter": {
    "hash": "5aaa1d64d2aec5fc9d71d95fe114c55e361597d915cf108c460e747a228aecec"
   }
  }
 },
 "nbformat": 4,
 "nbformat_minor": 2
}
