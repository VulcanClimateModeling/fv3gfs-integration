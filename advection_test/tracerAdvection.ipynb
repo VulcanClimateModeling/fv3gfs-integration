{
 "cells": [
  {
   "cell_type": "markdown",
   "metadata": {},
   "source": [
    "# Tracer Advection Stencil\n",
    "\n",
    "## Start a parallel cluster"
   ]
  },
  {
   "cell_type": "code",
   "execution_count": null,
   "metadata": {},
   "outputs": [],
   "source": [
    "import ipyparallel as ipp\n",
    "\n",
    "cluster = ipp.Cluster(engines='mpi', n=6).start_and_connect_sync()\n",
    "%autopx\n"
   ]
  },
  {
   "cell_type": "markdown",
   "metadata": {},
   "source": [
    "## Input parameters"
   ]
  },
  {
   "cell_type": "code",
   "execution_count": null,
   "metadata": {},
   "outputs": [],
   "source": [
    "%%capture\n",
    "from mpi4py import MPI\n",
    "import copy as cp\n",
    "import functions as func\n",
    "import numpy as np\n",
    "import importlib\n",
    "\n",
    "importlib.reload(func)\n",
    "\n",
    "mpi_comm = MPI.COMM_WORLD\n",
    "\n",
    "backend = 'numpy'\n",
    "layout = (1, 1)\n",
    "nx, ny, nz, nhalo = 101, 101, 80, 3\n",
    "\n",
    "dt_acoustic = 300.\n",
    "advection_timestep = 3600.\n",
    "nSteps_advection = 10\n",
    "print_advectionProgress = True\n",
    "plot_output = True\n",
    "figure_everyNsteps = 50\n",
    "\n",
    "if figure_everyNsteps > nSteps_advection:\n",
    "    figure_everyNsteps = nSteps_advection\n",
    "\n",
    "tracer_archive_frequency = figure_everyNsteps\n",
    "\n",
    "grid_type = 0\n",
    "hord = 6\n",
    "\n",
    "pressure_base = 10\n",
    "smoke_base = 1\n",
    "smoke_center_tile = 0\n",
    "density = 1"
   ]
  },
  {
   "cell_type": "markdown",
   "metadata": {},
   "source": [
    "## Prepare state for advection"
   ]
  },
  {
   "cell_type": "code",
   "execution_count": null,
   "metadata": {},
   "outputs": [],
   "source": [
    "%%capture\n",
    "dimensions, units, origins, rank = func.define_dimensionsUnitsOrigins(nx, ny, nz, nhalo, mpi_comm)\n",
    "smoke_dict = {'center_tile': smoke_center_tile, 'rank': rank, 'smoke_base': smoke_base}\n",
    "pressure_dict = {'pressure_base': pressure_base}\n",
    "fvt_dict = {'grid_type': grid_type, 'hord': hord}\n",
    "\n",
    "configuration = func.configure_domain(layout, mpi_comm, dimensions, backend=backend)\n",
    "initialState = func.create_initialState_testCase1(configuration['grid_data'], dimensions, units, origins, backend, smoke_dict, pressure_dict)\n",
    "tracAdv_data, tracAdv = func.prepare_everythingForAdvection(configuration, initialState['uC'], initialState['vC'], initialState['delp'], {'smoke': initialState['smoke']}, density, dimensions, units, origins, backend, fvt_dict, dt_acoustic=dt_acoustic)\n",
    "tracAdv_dataInit = cp.deepcopy(tracAdv_data)"
   ]
  },
  {
   "cell_type": "markdown",
   "metadata": {},
   "source": [
    "## Advection loop"
   ]
  },
  {
   "cell_type": "code",
   "execution_count": null,
   "metadata": {},
   "outputs": [],
   "source": [
    "%%capture\n",
    "tracer_archive = [cp.deepcopy(tracAdv_data['tracers']['smoke'])]\n",
    "timestep_archive = [0]\n",
    "for step in range(nSteps_advection):    \n",
    "    if (rank == 0) and (step+1)%100 == 0 and print_advectionProgress:\n",
    "        print('Step: %d' % (step+1))\n",
    "    #tracAdv_data = func.run_advectionStepWithReset(tracAdv_dataInit, tracAdv_data, tracAdv, advection_timestep, mpi_rank=rank)\n",
    "    tracAdv_data = func.run_advectionStepWithReset(tracAdv_dataInit, tracAdv_data, tracAdv, advection_timestep)\n",
    "\n",
    "    if (step+1)%tracer_archive_frequency == 0:\n",
    "        tracer_archive.append(cp.deepcopy(tracAdv_data['tracers']['smoke']))\n",
    "        timestep_archive.append(step+1)"
   ]
  },
  {
   "cell_type": "code",
   "execution_count": null,
   "metadata": {},
   "outputs": [],
   "source": [
    "#%%capture\n",
    "if plot_output:\n",
    "    lon, lat = func.get_lonLat_agrid(configuration['grid_data'], dimensions, units, origins, backend)\n",
    "    lon_global = configuration['communicator'].gather(lon)\n",
    "    lat_global = configuration['communicator'].gather(lat)\n",
    "    smoke_global = []\n",
    "    for step in range(len(timestep_archive)):\n",
    "        smoke_global.append(configuration['communicator'].gather(tracer_archive[step]))\n",
    "\n",
    "    saveDir = '/home/ajdas/pace/advection_test/figs/'\n",
    "    fOut = saveDir + 'advection_step_'\n",
    "\n",
    "    if rank == 0:\n",
    "        smoke_global = np.squeeze(np.stack(smoke_global))\n",
    "        for plotStep in range(len(timestep_archive)):\n",
    "            print('Plotting time step %s / %s' % (timestep_archive[plotStep], nSteps_advection))\n",
    "            func.plot_projection_field(lon_global.data, lat_global.data, smoke_global[plotStep], \n",
    "                                       cmap='viridis', vmin=0, vmax=1, units='kg', \n",
    "                                       title='Smoke after %s advection steps' % timestep_archive[plotStep], \n",
    "                                       fSave=fOut+'{:03d}'.format(timestep_archive[plotStep]) + '.png')"
   ]
  },
  {
   "cell_type": "code",
   "execution_count": null,
   "metadata": {},
   "outputs": [],
   "source": [
    "%autopx"
   ]
  },
  {
   "cell_type": "code",
   "execution_count": null,
   "metadata": {},
   "outputs": [],
   "source": [
    "cluster.shutdown()"
   ]
  },
  {
   "cell_type": "code",
   "execution_count": null,
   "metadata": {},
   "outputs": [],
   "source": []
  }
 ],
 "metadata": {
  "kernelspec": {
   "display_name": "Python 3.8.10 ('venv': venv)",
   "language": "python",
   "name": "python3"
  },
  "language_info": {
   "codemirror_mode": {
    "name": "ipython",
    "version": 3
   },
   "file_extension": ".py",
   "mimetype": "text/x-python",
   "name": "python",
   "nbconvert_exporter": "python",
   "pygments_lexer": "ipython3",
   "version": "3.8.10"
  },
  "orig_nbformat": 4,
  "vscode": {
   "interpreter": {
    "hash": "5aaa1d64d2aec5fc9d71d95fe114c55e361597d915cf108c460e747a228aecec"
   }
  }
 },
 "nbformat": 4,
 "nbformat_minor": 2
}
