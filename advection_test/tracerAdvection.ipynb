{
 "cells": [
  {
   "cell_type": "markdown",
   "metadata": {},
   "source": [
    "# Standalone Tracer Advection\n",
    "\n",
    "This notebook demonstrates the computation of 2-dimensional tracer advection implemented in (?pace?). Tracer advection is performed over a single model layer with predefined thickness of 10 Pa, a Gaussian tracer distribution that is centered on `tracer_center`), and a known wind field.\n",
    "\n",
    "The mass continuity equation for a conserved scalar mass density $Q$ and horizontal vector velocity $\\mathbf{v}$ is\n",
    "\n",
    "$$\n",
    "\\frac{\\partial Q}{\\partial t} + \\nabla \\cdot (Q\\mathbf{v}) = 0\n",
    "$$\n",
    "\n",
    "We can then use the Divergence theorem to integrate about a quadrilateral grid cell of area $\\Delta A$, while simultaneously integrating in time from $t^n$ to $t^{n+1} = t^n + \\Delta t$ to express the governing equation in finite (control)-volume form:\n",
    "\n",
    "$$\n",
    "\\begin{aligned}\n",
    "\\begin{split}\n",
    "Q^{n+1} & = Q^{n} - \\frac{1}{A} \\int^{t + \\Delta t}_t \\oint Q \\, \\mathbf{v} \\cdot \\vec{n} \\, dl \\, dt \\\\\n",
    "& = Q^{n} + F[Q, \\~u^*] + G[Q, \\~v^*] \\\\\n",
    "\\end{split}\n",
    "\\end{aligned}\n",
    "$$\n",
    "where the $F$ and $G$ terms represent time-integrated flux divergences along grid-cell faces in x and y directions."
   ]
  },
  {
   "cell_type": "markdown",
   "metadata": {},
   "source": [
    "### Start a parallel cluster"
   ]
  },
  {
   "cell_type": "code",
   "execution_count": null,
   "metadata": {},
   "outputs": [],
   "source": [
    "import ipyparallel as ipp\n",
    "\n",
    "cluster = ipp.Cluster(engines=\"mpi\", n=6).start_and_connect_sync()\n",
    "%autopx"
   ]
  },
  {
   "cell_type": "markdown",
   "metadata": {},
   "source": [
    "### Input parameters\n",
    "\n",
    "To set up an FV3 grid on 6 tiles, all you need to define `nx`, `ny` and `nhalo` (these apply to single-tile dimensions). The `timestep` and `nDays` parameters are used in trace advection, where 12 is the number of days it takes for the tracer to propagate around the globe with test case initial conditions.\n",
    "\n",
    "There are currently two test cases defined:\n",
    "- <b>a</b>: same configuration as test_case1 in fortran\n",
    "- <b>b</b>: as in fortran test_case1, but with slightly weaker winds away from the equator, which leads to less dissipation after full rotation."
   ]
  },
  {
   "cell_type": "code",
   "execution_count": null,
   "metadata": {},
   "outputs": [],
   "source": [
    "%%capture\n",
    "nx = 100\n",
    "ny = 100\n",
    "\"\"\" (int): number of points per tile in each direction \"\"\"\n",
    "timestep = 900.0\n",
    "\"\"\" (int): advection time step in seconds \"\"\"\n",
    "nDays = 12\n",
    "\"\"\" (int): number of days to advect for \"\"\"\n",
    "\n",
    "test_case = \"a\"\n",
    "\"\"\" (string): \n",
    "    - a: fortran test_case1; \n",
    "    - b: similar to a, but less dispersive;  \n",
    "    - c: south-north; \n",
    "    - d: wiggling along the equator \"\"\"\n",
    "print_advectionProgress = True\n",
    "\"\"\" (bool): prints out a message every 100th timestep \"\"\"\n",
    "plot_outputDuring = True\n",
    "\"\"\" (bool): plot output as advection is active (super slow!) \"\"\"\n",
    "plot_outputAfter = False\n",
    "\"\"\" (bool): plot output after advection is complete (slow) \"\"\"\n",
    "plot_jupyterAnimation = True\n",
    "\"\"\" (bool): plot an interactive animation after advection is done (slow) \"\"\"\n",
    "figure_everyNhours = 6\n",
    "\"\"\" (int): number of model hours between figures \"\"\"\n",
    "write_initialCondition = True\n",
    "\"\"\" (bool): creates a netCDF file with initial state \"\"\"\n",
    "plot_gridLayout = True\n",
    "\"\"\" (bool): plots and saves grid layout to file grid_map.png \"\"\"\n",
    "show_figures = False\n",
    "\"\"\" (bool): shows figures inside Jupyter notebook \"\"\"\n",
    "\n",
    "tracer_center = (0., 0.)\n",
    "\"\"\" (float, float): longitude and latitude of tracer centerpoint\"\"\""
   ]
  },
  {
   "cell_type": "markdown",
   "metadata": {},
   "source": [
    "### Configure based on input parameters"
   ]
  },
  {
   "cell_type": "code",
   "execution_count": null,
   "metadata": {},
   "outputs": [],
   "source": [
    "%%capture\n",
    "from mpi4py import MPI\n",
    "import copy as cp\n",
    "import functions as func\n",
    "import os\n",
    "\n",
    "mpi_comm = MPI.COMM_WORLD\n",
    "\n",
    "nSeconds = nDays * 86400\n",
    "figure_everyNsteps = int(3600 / timestep * figure_everyNhours)\n",
    "nSteps_advection = int(nSeconds / timestep + 1)\n",
    "\n",
    "if figure_everyNsteps > nSteps_advection:\n",
    "    figure_everyNsteps = nSteps_advection\n",
    "\n",
    "pwd = os.getcwd()\n",
    "\n",
    "write_coordinates = True\n",
    "\n",
    "namelistDict = func.store_namelist_variables(locals())\n",
    "\n",
    "plotDict_tracer = {\n",
    "    \"vmin\": 0,\n",
    "    \"vmax\": 1,\n",
    "    \"units\": \"\",\n",
    "    \"title\": \"Tracer concentration\",\n",
    "    \"cmap\": \"viridis\",\n",
    "}"
   ]
  },
  {
   "cell_type": "markdown",
   "metadata": {},
   "source": [
    "### Prepare state for advection\n",
    "\n",
    "This section steps through everything that is needed in order to run tracer advection. \n",
    "\n",
    "1. The domain is configured based on the input `nx`, `ny` and `nhalo` points.\n",
    "    - The `configuration` dictionary stores all the constructs (I think?) that are needed to initialize stencils.\n",
    "<br> <br>\n",
    "\n",
    "2. The initial state fields are created based on chosen test case.\n",
    "    - The `initialState` dictionary stores `delp`, `uC`, `vC` and `tracer` information required for advection.\n",
    "<br> <br>\n",
    "\n",
    "3. The initial state fields are converted into inputs that tracer advection requires.\n",
    "    - The `tracAdv_data` dictionary stores Courant numbers `crx` and `cry`, mass fluxes `mfxd` and `mfyd`, pressure thickness `delp` and tracer concentration dictionary `tracers`."
   ]
  },
  {
   "cell_type": "code",
   "execution_count": null,
   "metadata": {},
   "outputs": [],
   "source": [
    "metadata, rank = func.define_metadata(namelistDict, mpi_comm)\n",
    "\n",
    "tracer_dict = {\n",
    "    \"center\": tracer_center,\n",
    "}\n",
    "\n",
    "configuration = func.configure_domain(mpi_comm, metadata[\"dimensions\"])\n",
    "if plot_gridLayout:\n",
    "    func.plot_grid(configuration, metadata, rank, show=show_figures)\n",
    "if write_coordinates:\n",
    "    fOut = pwd + \"/data/coordinateVariables_%sx%s.nc\" % (nx, ny)\n",
    "    func.write_coordinate_variables_tofile(fOut, metadata, configuration, rank)\n",
    "\n",
    "initialState = func.create_initial_state(\n",
    "    configuration[\"grid_data\"], metadata, tracer_center, test_case\n",
    ")\n",
    "\n",
    "tracAdv_data, tracAdv = func.prepare_everything_for_advection(\n",
    "    configuration, initialState, metadata, timestep\n",
    ")\n",
    "tracAdv_dataInit = cp.deepcopy(tracAdv_data)\n",
    "\n",
    "\n",
    "if write_initialCondition:\n",
    "    saveDir = pwd + \"/data/\"\n",
    "    fOut = saveDir + \"initialState_%sx%s_%s.nc\" % (nx, ny, test_case)\n",
    "\n",
    "    func.write_initial_condition_tofile(\n",
    "        fOut, initialState, metadata, configuration, rank\n",
    "    )"
   ]
  },
  {
   "cell_type": "markdown",
   "metadata": {},
   "source": [
    "## Advection loop\n",
    "\n",
    "This section loops through tracer advection for the specificed number of steps (`nSteps_advection`) that are determined by the requested duration (`nDays`) and given time step (`timestep`). After every time step, the instantaneous tracer state is stored in `tracer_archive`.\n",
    "\n",
    "You can choose to plot the instantaneous tracer during computation if `plot_outputDuring=True`, but this is very slow. Better plotting options are in the next section."
   ]
  },
  {
   "cell_type": "code",
   "execution_count": null,
   "metadata": {},
   "outputs": [],
   "source": [
    "tracer_archive = [cp.deepcopy(tracAdv_dataInit[\"tracers\"][\"tracer\"])]\n",
    "timestep_archive = [0]\n",
    "all_data = [cp.deepcopy(tracAdv_dataInit)]\n",
    "\n",
    "for step in range(nSteps_advection):\n",
    "    if (rank == 0) and (step + 1) % figure_everyNsteps == 0 and print_advectionProgress:\n",
    "        print(\"Step: %d\" % (step + 1))\n",
    "        #print('%.3e %.3e' % (tracer_archive[-1].data.min(), tracer_archive[-1].data.max()))\n",
    "\n",
    "    if plot_outputDuring and (step) % figure_everyNsteps == 0:\n",
    "\n",
    "        tracer_global = configuration[\"communicator\"].gather(tracer_archive[step])\n",
    "\n",
    "        fOut = (\n",
    "            pwd\n",
    "            + \"/figs/\"\n",
    "            + \"tracerAdvection_%s_%06.2f.png\" % (test_case, (step * timestep) / 60 / 60)\n",
    "        )\n",
    "        plotDict_tracer[\"title\"] = \"Tracer state (%s) @ hour: %.2f\" % (\n",
    "            test_case, (step * timestep) / 60 / 60\n",
    "        )\n",
    "        func.plot_projection_field(\n",
    "            configuration,\n",
    "            metadata,\n",
    "            tracer_global,\n",
    "            plotDict_tracer,\n",
    "            rank,\n",
    "            fOut,\n",
    "            show=show_figures,\n",
    "        )\n",
    "\n",
    "    tracAdv_data = func.run_advection_step_with_reset(\n",
    "        tracAdv_dataInit, tracAdv_data, tracAdv, timestep\n",
    "    )\n",
    "    all_data.append(tracAdv_data)\n",
    "\n",
    "    tracer_archive.append(cp.deepcopy(tracAdv_data[\"tracers\"][\"tracer\"]))\n",
    "    timestep_archive.append(step + 1)\n",
    "\n",
    "print(\"Done!\")\n"
   ]
  },
  {
   "cell_type": "markdown",
   "metadata": {},
   "source": [
    "### Animation and Plotting\n",
    "\n",
    "These sections run if `plot_jupyterAnimation` and `plot_outputAfter` are set to `True`.\n",
    "\n",
    "- `plot_jupyterAnimation` creates an interactive interface where you can click through and play through the time progression of tracer advection.\n",
    "- `plot_outputAfter` plots individual frames into the `/figs/` folder. "
   ]
  },
  {
   "cell_type": "code",
   "execution_count": null,
   "metadata": {},
   "outputs": [],
   "source": [
    "if plot_jupyterAnimation:\n",
    "    func.plot_tracer_animation(\n",
    "        configuration,\n",
    "        metadata,\n",
    "        tracer_archive,\n",
    "        rank,\n",
    "        plotDict_tracer,\n",
    "        figure_everyNsteps,\n",
    "        timestep, frames=\"all\"\n",
    "    )"
   ]
  },
  {
   "cell_type": "code",
   "execution_count": null,
   "metadata": {},
   "outputs": [],
   "source": [
    "if plot_outputAfter:\n",
    "    for step in range(0, nSteps_advection, figure_everyNsteps):\n",
    "        tracer_global = configuration[\"communicator\"].gather(tracer_archive[step])\n",
    "        fOut = (\n",
    "            pwd\n",
    "            + \"/figs/\"\n",
    "            + \"tracerAdvection_%s_%06.2f.png\" % (test_case, (step * timestep) / 60 / 60)\n",
    "        )\n",
    "        plotDict_tracer[\"title\"] = \"Tracer state @ hour: %.2f\" % (\n",
    "            (step * timestep) / 60 / 60\n",
    "        )\n",
    "        func.plot_projection_field(\n",
    "            configuration,\n",
    "            metadata,\n",
    "            tracer_global,\n",
    "            plotDict_tracer,\n",
    "            rank,\n",
    "            fOut,\n",
    "            show=show_figures,\n",
    "        )"
   ]
  },
  {
   "cell_type": "code",
   "execution_count": null,
   "metadata": {},
   "outputs": [],
   "source": [
    "#%autopx"
   ]
  },
  {
   "cell_type": "code",
   "execution_count": null,
   "metadata": {},
   "outputs": [],
   "source": [
    "#cluster.shutdown()"
   ]
  },
  {
   "cell_type": "code",
   "execution_count": null,
   "metadata": {},
   "outputs": [],
   "source": []
  }
 ],
 "metadata": {
  "kernelspec": {
   "display_name": "Python 3.8.10 ('venv': venv)",
   "language": "python",
   "name": "python3"
  },
  "language_info": {
   "codemirror_mode": {
    "name": "ipython",
    "version": 3
   },
   "file_extension": ".py",
   "mimetype": "text/x-python",
   "name": "python",
   "nbconvert_exporter": "python",
   "pygments_lexer": "ipython3",
   "version": "3.8.10"
  },
  "orig_nbformat": 4,
  "vscode": {
   "interpreter": {
    "hash": "5aaa1d64d2aec5fc9d71d95fe114c55e361597d915cf108c460e747a228aecec"
   }
  }
 },
 "nbformat": 4,
 "nbformat_minor": 2
}
