{
 "cells": [
  {
   "cell_type": "markdown",
   "metadata": {},
   "source": [
    "# Tracer Advection Stencil\n",
    "\n",
    "#### 1. Start a parallel cluster"
   ]
  },
  {
   "cell_type": "code",
   "execution_count": 2,
   "metadata": {},
   "outputs": [
    {
     "data": {
      "text/html": [
       "<link href=\"https://fonts.googleapis.com/icon?family=Material+Icons\" rel=\"stylesheet\"><script src=\"https://spcl.github.io/dace/webclient2/dist/sdfv.js\"></script>\n",
       "<link href=\"https://spcl.github.io/dace/webclient2/sdfv.css\" rel=\"stylesheet\">\n"
      ],
      "text/plain": [
       "<IPython.core.display.HTML object>"
      ]
     },
     "metadata": {},
     "output_type": "display_data"
    },
    {
     "name": "stdout",
     "output_type": "stream",
     "text": [
      "Starting 6 engines with <class 'ipyparallel.cluster.launcher.MPIEngineSetLauncher'>\n"
     ]
    },
    {
     "data": {
      "application/vnd.jupyter.widget-view+json": {
       "model_id": "aa2febd583c44f1b903f44b8f3f03a2d",
       "version_major": 2,
       "version_minor": 0
      },
      "text/plain": [
       "  0%|          | 0/6 [00:00<?, ?engine/s]"
      ]
     },
     "metadata": {},
     "output_type": "display_data"
    }
   ],
   "source": [
    "from functions import show_clusters\n",
    "\n",
    "import ipyparallel as ipp\n",
    "\n",
    "cluster = ipp.Cluster(engines='mpi', n=6).start_and_connect_sync()\n"
   ]
  },
  {
   "cell_type": "code",
   "execution_count": 3,
   "metadata": {},
   "outputs": [
    {
     "name": "stdout",
     "output_type": "stream",
     "text": [
      "cluster_id        state    cluster_file\n",
      "1657903669-p0fh  running   /home/ajdas/.ipython/profile_default/security/cluster-1657903669-p0fh.json\n",
      "1657903328-mh0p  running   /home/ajdas/.ipython/profile_default/security/cluster-1657903328-mh0p.json\n"
     ]
    }
   ],
   "source": [
    "show_clusters()"
   ]
  },
  {
   "cell_type": "code",
   "execution_count": 4,
   "metadata": {},
   "outputs": [
    {
     "name": "stdout",
     "output_type": "stream",
     "text": [
      "%autopx enabled\n"
     ]
    }
   ],
   "source": [
    "%autopx"
   ]
  },
  {
   "cell_type": "markdown",
   "metadata": {},
   "source": [
    "#### 2. Configure the domain"
   ]
  },
  {
   "cell_type": "code",
   "execution_count": 440,
   "metadata": {},
   "outputs": [],
   "source": [
    "%%capture\n",
    "from mpi4py import MPI\n",
    "import functions as func\n",
    "import importlib\n",
    "importlib.reload(func)\n",
    "\n",
    "\n",
    "mpi_comm = MPI.COMM_WORLD\n",
    "mpi_size = mpi_comm.Get_size()\n",
    "mpi_rank = mpi_comm.Get_rank()\n",
    "\n",
    "backend = 'numpy'\n",
    "layout = (1, 1)\n",
    "nx, ny, nz, nhalo = 100, 100, 79, 3\n",
    "dimensions = {'nx': nx, 'ny': ny, 'nx1': nx+1, 'ny1': ny+1, 'nz': nz, 'nhalo': nhalo, 'tile': mpi_size, 'nxhalo': nx+2*nhalo, 'nyhalo': ny+2*nhalo}\n",
    "units = {'dist': 'm', 'coord': 'degrees', 'qvapor': 'kg/kg', 'psi': 'kg/m/s', 'wind': 'm/s', 'courant': '', 'areaflux': 'm2', 'qflux': 'kg/m2', 'pressure': 'Pa'}\n",
    "origins = {'halo': (0, 0), 'compute_2d': (dimensions['nhalo'], dimensions['nhalo']), 'compute_3d': (dimensions['nhalo'], dimensions['nhalo'], 0)}\n",
    "\n",
    "\n",
    "configuration = func.configure_domain(layout, mpi_comm, dimensions, backend=backend)"
   ]
  },
  {
   "cell_type": "markdown",
   "metadata": {},
   "source": [
    "#### 2a. Gather domain coordinates"
   ]
  },
  {
   "cell_type": "code",
   "execution_count": 441,
   "metadata": {},
   "outputs": [],
   "source": [
    "from pace.util import Quantity\n",
    "import numpy as np\n",
    "\n",
    "dx_halo =  Quantity(configuration['grid_data'].dx.data, ('x_halo', 'y_halo'), units['dist'], origins['halo'], (dimensions['nxhalo'], dimensions['nyhalo']), backend)\n",
    "dy_halo =  Quantity(configuration['grid_data'].dy.data, ('x_halo', 'y_halo'), units['dist'], origins['halo'], (dimensions['nxhalo'], dimensions['nyhalo']), backend)\n",
    "dxa_halo =  Quantity(configuration['grid_data'].dxa.data, ('x_halo', 'y_halo'), units['dist'], origins['halo'], (dimensions['nxhalo'], dimensions['nyhalo']), backend)\n",
    "dya_halo =  Quantity(configuration['grid_data'].dya.data, ('x_halo', 'y_halo'), units['dist'], origins['halo'], (dimensions['nxhalo'], dimensions['nyhalo']), backend)\n",
    "dxc_halo =  Quantity(configuration['grid_data'].dxc.data, ('x_halo', 'y_halo'), units['dist'], origins['halo'], (dimensions['nxhalo'], dimensions['nyhalo']), backend)\n",
    "dyc_halo =  Quantity(configuration['grid_data'].dyc.data, ('x_halo', 'y_halo'), units['dist'], origins['halo'], (dimensions['nxhalo'], dimensions['nyhalo']), backend)\n",
    "\n",
    "lona_halo =  Quantity(configuration['grid_data'].lon_agrid.data * 180 / np.pi, ('x_halo', 'y_halo'), units['coord'], origins['halo'], (dimensions['nxhalo'], dimensions['nyhalo']), backend)\n",
    "lata_halo =  Quantity(configuration['grid_data'].lat_agrid.data * 180 / np.pi, ('x_halo', 'y_halo'), units['coord'], origins['halo'], (dimensions['nxhalo'], dimensions['nyhalo']), backend)\n",
    "lona_global = configuration['communicator'].gather(lona_halo)\n",
    "lata_global = configuration['communicator'].gather(lata_halo)"
   ]
  },
  {
   "cell_type": "markdown",
   "metadata": {},
   "source": [
    "#### 3. Create initial conditions on a plane\n",
    "\n",
    "#### 3a. Create water vapor initial condition"
   ]
  },
  {
   "cell_type": "code",
   "execution_count": 442,
   "metadata": {},
   "outputs": [
    {
     "data": {
      "text/plain": [
       "[stdout:0] Centering gaussian on lon=351.01, lat=1.01\n"
      ]
     },
     "metadata": {},
     "output_type": "display_data"
    }
   ],
   "source": [
    "if mpi_rank == 0:\n",
    "    gaussian_multiplier = func.create_gaussianMultiplier(np.deg2rad(lona_global.data), np.deg2rad(lata_global.data), dimensions, center_tile=0)\n",
    "else:\n",
    "    gaussian_multiplier = np.zeros((dimensions['tile'], dimensions['nxhalo'], dimensions['nyhalo']))\n",
    "\n",
    "mpi_comm.Bcast(gaussian_multiplier, root=0)\n",
    "qvapor_2d = Quantity(gaussian_multiplier[mpi_rank], ('x', 'y'), units['qvapor'], origins['compute_2d'], (dimensions['nx'], dimensions['ny']), backend)\n"
   ]
  },
  {
   "cell_type": "markdown",
   "metadata": {},
   "source": [
    "#### 3b. Create pressure thickness initial condition"
   ]
  },
  {
   "cell_type": "code",
   "execution_count": 443,
   "metadata": {},
   "outputs": [],
   "source": [
    "delp_2d = Quantity(np.ones(qvapor_2d.data.shape)*10, ('x', 'y'), units['pressure'], origins['compute_2d'], (dimensions['nx'], dimensions['ny']), backend)"
   ]
  },
  {
   "cell_type": "markdown",
   "metadata": {},
   "source": [
    "#### 3c. Run coordinates through streamfunction generation"
   ]
  },
  {
   "cell_type": "code",
   "execution_count": 444,
   "metadata": {},
   "outputs": [],
   "source": [
    "psi, psi_staggered = func.calculate_streamfunction_testCase1(np.deg2rad(lona_halo.data), np.deg2rad(lata_halo.data), dimensions)\n",
    "\n",
    "psi_halo = Quantity(psi, ('x_halo', 'y_halo'), units['psi'], origins['halo'], (dimensions['nxhalo'], dimensions['nyhalo']), backend)\n",
    "psi = Quantity(psi, ('x', 'y'), units['psi'], origins['compute_2d'], (dimensions['nx'], dimensions['ny']), backend)\n",
    "psi_staggered_halo = Quantity(psi_staggered, ('x_halo', 'y_halo'), units['psi'], origins['halo'], (dimensions['nxhalo'], dimensions['nyhalo']), backend)\n",
    "psi_staggered  = Quantity(psi_staggered, ('x_interface', 'y_interface'), units['psi'], origins['compute_2d'], (dimensions['nx1'], dimensions['ny1']), backend)"
   ]
  },
  {
   "cell_type": "markdown",
   "metadata": {},
   "source": [
    "#### 3d. Calculate winds from streamfunction\n",
    "\n",
    "`ua`, `va` - winds on cell centers\n",
    "`uc`, `vc` - covariant winds on C-grid"
   ]
  },
  {
   "cell_type": "code",
   "execution_count": 445,
   "metadata": {},
   "outputs": [],
   "source": [
    "ua, va = func.calculate_windsFromStreamfunction_grid(psi_halo, dxa_halo, dya_halo, dimensions, grid='A')\n",
    "\n",
    "ua_2d = Quantity(ua, ('x', 'y'), units['wind'], origins['compute_2d'], (dimensions['nx'], dimensions['ny']), backend)\n",
    "va_2d = Quantity(va, ('x', 'y'), units['wind'], origins['compute_2d'], (dimensions['nx'], dimensions['ny']), backend)"
   ]
  },
  {
   "cell_type": "code",
   "execution_count": 446,
   "metadata": {},
   "outputs": [],
   "source": [
    "uc, vc = func.calculate_windsFromStreamfunction_grid(psi_staggered_halo, dx_halo, dy_halo, dimensions, grid='C')\n",
    "\n",
    "uc_2d = Quantity(uc, ('x', 'y_interface'), units['wind'], origins['compute_2d'], (dimensions['nx'], dimensions['ny1']), backend)\n",
    "vc_2d = Quantity(vc, ('x_interface', 'y'), units['wind'], origins['compute_2d'], (dimensions['nx1'], dimensions['ny']), backend)"
   ]
  },
  {
   "cell_type": "code",
   "execution_count": 447,
   "metadata": {},
   "outputs": [],
   "source": [
    "ud, vd = func.calculate_windsFromStreamfunction_grid(psi_halo, dx_halo, dy_halo, dimensions, grid='D')\n",
    "\n",
    "ud_2d = Quantity(ud, ('x_interface', 'y'), units['wind'], origins['compute_2d'], (dimensions['nx1'], dimensions['ny']), backend)\n",
    "vd_2d = Quantity(vd, ('x', 'y_interface'), units['wind'], origins['compute_2d'], (dimensions['nx'], dimensions['ny1']), backend)"
   ]
  },
  {
   "cell_type": "markdown",
   "metadata": {},
   "source": [
    "#### 4. Prepare flux stencil\n",
    "\n",
    "#### 4a. Extend initial conditions into the vertical"
   ]
  },
  {
   "cell_type": "code",
   "execution_count": 448,
   "metadata": {},
   "outputs": [],
   "source": [
    "dimensions['nz'] = 1\n",
    "\n",
    "empty = np.zeros((dimensions['nxhalo']+1, dimensions['nyhalo']+1, dimensions['nz']+1))\n",
    "\n",
    "qvapor_3d = np.copy(empty)\n",
    "uc_3d = np.copy(empty)\n",
    "vc_3d = np.copy(empty)\n",
    "delp_3d = np.copy(empty)\n",
    "qvapor_3d[:-1, :-1, 0] = qvapor_2d.data\n",
    "uc_3d[:-1, :-1, 0] = uc_2d.data\n",
    "vc_3d[:-1, :-1, 0] = vc_2d.data\n",
    "delp_3d[:-1, :-1, 0] = delp_2d.data\n",
    "\n",
    "qvapor = Quantity(qvapor_3d, ('x', 'y', 'z'), units['qvapor'], origins['compute_3d'], (dimensions['nx'], dimensions['ny'], dimensions['nz']), backend)\n",
    "qvapor_init = Quantity(qvapor_3d, ('x', 'y', 'z'), units['qvapor'], origins['compute_3d'], (dimensions['nx'], dimensions['ny'], dimensions['nz']), backend)\n",
    "uc = Quantity(uc_3d, ('x', 'y_interface', 'z'), units['wind'], origins['compute_3d'], (dimensions['nx'], dimensions['ny1'], dimensions['nz']), backend)\n",
    "vc = Quantity(vc_3d, ('x_interface', 'y', 'z'), units['wind'], origins['compute_3d'], (dimensions['nx1'], dimensions['ny'], dimensions['nz']), backend)\n",
    "delp = Quantity(delp_3d, ('x_interface', 'y', 'z'), units['wind'], origins['compute_3d'], (dimensions['nx1'], dimensions['ny'], dimensions['nz']), backend)"
   ]
  },
  {
   "cell_type": "markdown",
   "metadata": {},
   "source": [
    "#### 4b. Prepare data for flux calculation\n",
    "\n",
    "- use the function `FiniteVolumeFluxPrep`\n",
    "    - requires `uc` and `vc` from (3c). \n",
    "    - requires some empty arrays to be filled in:\n",
    "        - `crx` and `cry` are the dimensionless Courant numbers on C-grid points.\n",
    "        - `xaf` and `yaf` are are fluxes of area in m2.\n",
    "        - `ucc` and `vcc` are the contravariant velocities on C-grid points\n",
    "        - `dt` is the acoustic time step."
   ]
  },
  {
   "cell_type": "code",
   "execution_count": 449,
   "metadata": {},
   "outputs": [],
   "source": [
    "%%capture capt\n",
    "from fv3core.stencils.fxadv import FiniteVolumeFluxPrep\n",
    "\n",
    "fvf_prep = FiniteVolumeFluxPrep(configuration['stencil_factory'], configuration['grid_data'])\n",
    "\n",
    "crx = Quantity(empty, ('x_interface', 'y', 'z'), units['courant'], origins['compute_3d'], (dimensions['nx1'], dimensions['ny'], dimensions['nz']), backend)\n",
    "cry = Quantity(empty, ('x', 'y_interface', 'z'), units['courant'], origins['compute_3d'], (dimensions['nx'], dimensions['ny1'], dimensions['nz']), backend)\n",
    "\n",
    "xaf = Quantity(empty, ('x_interface', 'y', 'z'), units['areaflux'], origins['compute_3d'], (dimensions['nx1'], dimensions['ny'], dimensions['nz']), backend)\n",
    "yaf = Quantity(empty, ('x', 'y_interface', 'z'), units['areaflux'], origins['compute_3d'], (dimensions['nx'], dimensions['ny1'], dimensions['nz']), backend)\n",
    "\n",
    "ucv = Quantity(empty, ('x_interface', 'y', 'z'), units['wind'], origins['compute_3d'], (dimensions['nx1'], dimensions['ny'], dimensions['nz']), backend)\n",
    "vcv = Quantity(empty, ('x', 'y_interface', 'z'), units['wind'], origins['compute_3d'], (dimensions['nx'], dimensions['ny1'], dimensions['nz']), backend)\n",
    "\n",
    "\n",
    "dt_acoustic = 100.\n",
    "\n",
    "fvfp = fvf_prep(uc, vc, crx, cry, xaf, yaf, ucv, vcv, dt_acoustic)\n",
    "\n",
    "print()\n",
    "print('UC min, mean, max: %.2f %.2f %.2f' % (np.nanmin(uc), np.nanmean(uc), np.nanmax(uc)))\n",
    "print('UCV min, mean, max: %.2f %.2f %.2f' % (np.nanmin(ucv), np.nanmean(ucv), np.nanmax(ucv)))\n",
    "print()\n",
    "print('VC min, mean, max: %.2f %.2f %.2f' % (np.nanmin(vc), np.nanmean(vc), np.nanmax(vc)))\n",
    "print('VCV min, mean, max: %.2f %.2f %.2f' % (np.nanmin(vcv), np.nanmean(vcv), np.nanmax(vcv)))\n",
    "print()\n",
    "print('X-Courant min, mean, max: %.2f %.2f %.2f' % (np.nanmin(crx), np.nanmean(crx), np.nanmax(crx)))\n",
    "print('Y-Courant min, mean, max: %.2f %.2f %.2f' % (np.nanmin(cry), np.nanmean(cry), np.nanmax(cry)))\n",
    "print()\n",
    "print('X-area flux min, mean, max: %.2f %.2f %.2f' % (np.nanmin(xaf), np.nanmean(xaf), np.nanmax(xaf)))\n",
    "print('X-area flux min, mean, max: %.2f %.2f %.2f' % (np.nanmin(yaf), np.nanmean(yaf), np.nanmax(yaf)))"
   ]
  },
  {
   "cell_type": "code",
   "execution_count": null,
   "metadata": {},
   "outputs": [],
   "source": []
  },
  {
   "cell_type": "markdown",
   "metadata": {},
   "source": [
    "#### (4c) Create finite volume transport stencil\n",
    "\n",
    "- use the function `FiniteVolumeTransport` \n",
    "    - takes in the tracer `qvap` to be transported.\n",
    "    - takes in the `crx` and `cry` Courant numbers, `xaf` and `yaf` area fluxes from previous step.\n",
    "    - requires some empty arrays to be filled in:\n",
    "        - `qfx` and `qfy` are the output fluxes of the tracer to be transported -- i think kg/m2?\n",
    "        \n",
    "- also takes in mass fluxes (optional) -- where would I find those?\n",
    "\n",
    "- do I actually need the `qfx`, `qfy` that are output? I don't think so ..."
   ]
  },
  {
   "cell_type": "code",
   "execution_count": 450,
   "metadata": {},
   "outputs": [],
   "source": [
    "%%capture capt\n",
    "from fv3core.stencils.fvtp2d import FiniteVolumeTransport\n",
    "import copy as cp\n",
    "\n",
    "grid_type = 0\n",
    "hord = 6\n",
    "\n",
    "fvtp2d = FiniteVolumeTransport(configuration['stencil_factory'], configuration['grid_data'], configuration['damping_coefficients'], grid_type, hord)"
   ]
  },
  {
   "cell_type": "code",
   "execution_count": 451,
   "metadata": {},
   "outputs": [],
   "source": [
    "from fv3core.stencils.tracer_2d_1l import TracerAdvection\n",
    "\n",
    "tracers = {'qvapor': qvapor}\n",
    "tracers_init = {'qvapor': qvapor_init}\n",
    "tracAdv = TracerAdvection(configuration['stencil_factory'], fvtp2d, configuration['grid_data'], configuration['communicator'], tracers)\n",
    "\n",
    "dt = 1800.\n",
    "\n",
    "delp = Quantity(np.ones(empty.shape)*10, ('x', 'y', 'z'), units['pressure'], origins['compute_3d'], (dimensions['nx'], dimensions['ny'], dimensions['nz']), backend)\n",
    "\n",
    "#mfx = Quantity(xaf.data * delp.data, ('x', 'y', 'z'), units['pressure'], origins['compute_3d'], (dimensions['nx'], dimensions['ny'], dimensions['nz']), backend)\n",
    "#mfy = Quantity(yaf.data * delp.data, ('x', 'y', 'z'), units['pressure'], origins['compute_3d'], (dimensions['nx'], dimensions['ny'], dimensions['nz']), backend)\n",
    "\n",
    "mfx = Quantity(xaf.data * delp.data * (dt/dt_acoustic), ('x', 'y', 'z'), units['pressure'], origins['compute_3d'], (dimensions['nx'], dimensions['ny'], dimensions['nz']), backend)\n",
    "mfy = Quantity(yaf.data * delp.data * (dt/dt_acoustic), ('x', 'y', 'z'), units['pressure'], origins['compute_3d'], (dimensions['nx'], dimensions['ny'], dimensions['nz']), backend)\n",
    "\n",
    "\n"
   ]
  },
  {
   "cell_type": "code",
   "execution_count": null,
   "metadata": {},
   "outputs": [],
   "source": []
  },
  {
   "cell_type": "markdown",
   "metadata": {},
   "source": [
    "#### 5. Perform tracer advection -- no updates"
   ]
  },
  {
   "cell_type": "code",
   "execution_count": 452,
   "metadata": {},
   "outputs": [
    {
     "data": {
      "text/plain": [
       "[stdout:0] \n",
       "step   1: timestep diff min = -4.12e-01; max = 4.19e-01; init diff min = -4.12e-01; max = 4.19e-01\n",
       "step   2: timestep diff min = -1.51e-01; max = 1.94e-01; init diff min = -5.42e-01; max = 5.51e-01\n",
       "step   3: timestep diff min = -5.06e-02; max = 8.09e-02; init diff min = -5.81e-01; max = 5.92e-01\n",
       "step   4: timestep diff min = -1.69e-02; max = 2.98e-02; init diff min = -5.95e-01; max = 6.05e-01\n",
       "step   5: timestep diff min = -5.63e-03; max = 1.01e-02; init diff min = -5.99e-01; max = 6.10e-01\n",
       "step   6: timestep diff min = -1.88e-03; max = 3.35e-03; init diff min = -6.01e-01; max = 6.11e-01\n",
       "step   7: timestep diff min = -6.26e-04; max = 1.11e-03; init diff min = -6.01e-01; max = 6.12e-01\n",
       "step   8: timestep diff min = -2.09e-04; max = 3.71e-04; init diff min = -6.02e-01; max = 6.12e-01\n",
       "step   9: timestep diff min = -6.95e-05; max = 1.24e-04; init diff min = -6.02e-01; max = 6.12e-01\n",
       "step  10: timestep diff min = -2.32e-05; max = 4.12e-05; init diff min = -6.02e-01; max = 6.12e-01\n"
      ]
     },
     "metadata": {},
     "output_type": "display_data"
    }
   ],
   "source": [
    "#%%capture capt\n",
    "\n",
    "nSteps_adv = 10\n",
    "\n",
    "crx_init = cp.deepcopy(crx)\n",
    "cry_init = cp.deepcopy(cry)\n",
    "diff_minMax = []\n",
    "for step in range(nSteps_adv):\n",
    "    tmp = cp.deepcopy(tracers) # get pre-step value\n",
    "    #adv = tracAdv(tracers, delp, xaf, yaf, crx, cry, dt)\n",
    "    adv = tracAdv(tracers, delp, mfx, mfy, crx, cry, dt)\n",
    "\n",
    "    crx = cp.deepcopy(crx_init)\n",
    "    cry = cp.deepcopy(cry_init)\n",
    "\n",
    "    diff = tracers['qvapor'].data - tmp['qvapor'].data\n",
    "    diff_init = tracers['qvapor'].data - tracers_init['qvapor'].data\n",
    "    diff_minMax.append('step %3s: timestep diff min = %.2e; max = %.2e; init diff min = %.2e; max = %.2e' % (step+1, np.nanmin(diff), np.nanmax(diff), np.nanmin(diff_init), np.nanmax(diff_init)))\n",
    "\n",
    "if mpi_rank == 0: \n",
    "    print()\n",
    "    print('\\n'.join(diff_minMax))"
   ]
  },
  {
   "cell_type": "markdown",
   "metadata": {},
   "source": [
    "Tracer advection -- updating fluxes?"
   ]
  },
  {
   "cell_type": "code",
   "execution_count": 416,
   "metadata": {},
   "outputs": [],
   "source": [
    "lona =  Quantity(configuration['grid_data'].lon_agrid.data * 180 / np.pi, ('x_interface', 'y_interface'), units['coord'], origins['compute_2d'], (dimensions['nx1'], dimensions['ny1']), backend)\n",
    "lata =  Quantity(configuration['grid_data'].lat_agrid.data * 180 / np.pi, ('x_interface', 'y_interface'), units['coord'], origins['compute_2d'], (dimensions['nx1'], dimensions['ny1']), backend)\n",
    "lon_global = configuration['communicator'].gather(lona)\n",
    "lat_global = configuration['communicator'].gather(lata)\n",
    "qvapor_start = configuration['communicator'].gather(qvapor_init)\n",
    "qvapor_end = configuration['communicator'].gather(qvapor)"
   ]
  },
  {
   "cell_type": "code",
   "execution_count": 420,
   "metadata": {},
   "outputs": [
    {
     "data": {
      "application/vnd.jupyter.widget-view+json": {
       "model_id": "f08f562be72640368a65e9c7cccbc645",
       "version_major": 2,
       "version_minor": 0
      },
      "text/plain": [
       "%px:   0%|          | 0/6 [00:00<?, ?tasks/s]"
      ]
     },
     "metadata": {},
     "output_type": "display_data"
    },
    {
     "data": {
      "text/plain": [
       "[output:0]"
      ]
     },
     "metadata": {},
     "output_type": "display_data"
    },
    {
     "data": {
      "image/png": "[encoded data removed]",
      "text/plain": [
       "<Figure size 576x288 with 2 Axes>"
      ]
     },
     "metadata": {
      "engine": 0
     },
     "output_type": "display_data"
    },
    {
     "data": {
      "text/plain": [
       "[output:0]"
      ]
     },
     "metadata": {},
     "output_type": "display_data"
    },
    {
     "data": {
      "image/png": "[encoded data removed]",
      "text/plain": [
       "<Figure size 576x288 with 2 Axes>"
      ]
     },
     "metadata": {
      "engine": 0
     },
     "output_type": "display_data"
    },
    {
     "data": {
      "text/plain": [
       "[output:0]"
      ]
     },
     "metadata": {},
     "output_type": "display_data"
    },
    {
     "data": {
      "image/png": "[encoded data removed]",
      "text/plain": [
       "<Figure size 576x288 with 2 Axes>"
      ]
     },
     "metadata": {
      "engine": 0
     },
     "output_type": "display_data"
    }
   ],
   "source": [
    "\n",
    "if mpi_rank == 0:\n",
    "    variables = {'lon': lon_global.data, 'lat': lat_global.data, 'q_start': qvapor_start.data[:, :, :, 0], 'q_end': qvapor_end.data[:, :, :, 0]}\n",
    "    func.plot_projection_field(variables['lon'], variables['lat'], variables['q_start'], vmin=-0, vmax=1, cmap='viridis', title='q_vapor init', units=units['qvapor'])\n",
    "    func.plot_projection_field(variables['lon'], variables['lat'], variables['q_end'], vmin=-0, vmax=1, cmap='viridis', title='q_vapor after tracerAdvection', units=units['qvapor'])\n",
    "    func.plot_projection_field(variables['lon'], variables['lat'], (variables['q_end'] - variables['q_start']), vmin=-.5, vmax=.5, cmap='bwr', title='q_vapor after - before tracerAdvection', units='kg/kg')"
   ]
  },
  {
   "cell_type": "code",
   "execution_count": null,
   "metadata": {},
   "outputs": [],
   "source": []
  },
  {
   "cell_type": "code",
   "execution_count": null,
   "metadata": {},
   "outputs": [],
   "source": []
  }
 ],
 "metadata": {
  "kernelspec": {
   "display_name": "Python 3.8.10 ('venv': venv)",
   "language": "python",
   "name": "python3"
  },
  "language_info": {
   "codemirror_mode": {
    "name": "ipython",
    "version": 3
   },
   "file_extension": ".py",
   "mimetype": "text/x-python",
   "name": "python",
   "nbconvert_exporter": "python",
   "pygments_lexer": "ipython3",
   "version": "3.8.10"
  },
  "orig_nbformat": 4,
  "vscode": {
   "interpreter": {
    "hash": "5aaa1d64d2aec5fc9d71d95fe114c55e361597d915cf108c460e747a228aecec"
   }
  }
 },
 "nbformat": 4,
 "nbformat_minor": 2
}
