{
 "cells": [
  {
   "cell_type": "markdown",
   "metadata": {},
   "source": [
    "# Tracer Advection Stencil\n",
    "\n",
    "## Start a parallel cluster"
   ]
  },
  {
   "cell_type": "code",
   "execution_count": 1,
   "metadata": {},
   "outputs": [
    {
     "data": {
      "text/html": [
       "<link href=\"https://fonts.googleapis.com/icon?family=Material+Icons\" rel=\"stylesheet\"><script src=\"https://spcl.github.io/dace/webclient2/dist/sdfv.js\"></script>\n",
       "<link href=\"https://spcl.github.io/dace/webclient2/sdfv.css\" rel=\"stylesheet\">\n"
      ],
      "text/plain": [
       "<IPython.core.display.HTML object>"
      ]
     },
     "metadata": {},
     "output_type": "display_data"
    },
    {
     "name": "stdout",
     "output_type": "stream",
     "text": [
      "Starting 6 engines with <class 'ipyparallel.cluster.launcher.MPIEngineSetLauncher'>\n"
     ]
    },
    {
     "data": {
      "application/vnd.jupyter.widget-view+json": {
       "model_id": "a66db141d4714edca882737ee052290e",
       "version_major": 2,
       "version_minor": 0
      },
      "text/plain": [
       "  0%|          | 0/6 [00:00<?, ?engine/s]"
      ]
     },
     "metadata": {},
     "output_type": "display_data"
    }
   ],
   "source": [
    "from functions import show_clusters\n",
    "\n",
    "import ipyparallel as ipp\n",
    "\n",
    "cluster = ipp.Cluster(engines='mpi', n=6).start_and_connect_sync()\n"
   ]
  },
  {
   "cell_type": "code",
   "execution_count": 2,
   "metadata": {},
   "outputs": [
    {
     "name": "stdout",
     "output_type": "stream",
     "text": [
      "%autopx enabled\n"
     ]
    }
   ],
   "source": [
    "%autopx"
   ]
  },
  {
   "cell_type": "markdown",
   "metadata": {},
   "source": [
    "## Input parameters"
   ]
  },
  {
   "cell_type": "code",
   "execution_count": 421,
   "metadata": {},
   "outputs": [],
   "source": [
    "%%capture\n",
    "from mpi4py import MPI\n",
    "import copy as cp\n",
    "import functions as func\n",
    "import numpy as np\n",
    "import importlib\n",
    "\n",
    "importlib.reload(func)\n",
    "\n",
    "mpi_comm = MPI.COMM_WORLD\n",
    "\n",
    "backend = 'numpy'\n",
    "layout = (1, 1)\n",
    "nx, ny, nz, nhalo = 101, 101, 80, 3\n",
    "\n",
    "dt_acoustic = 300.\n",
    "advection_timestep = 3600.\n",
    "nSteps_advection = 2000\n",
    "print_advectionProgress = True\n",
    "plot_output = True\n",
    "figure_everyNsteps = 50\n",
    "\n",
    "tracer_archive_frequency = figure_everyNsteps\n",
    "\n",
    "grid_type = 0\n",
    "hord = 6\n",
    "\n",
    "pressure_base = 10\n",
    "smoke_base = 1\n",
    "smoke_center_tile = 0\n",
    "density = 1"
   ]
  },
  {
   "cell_type": "code",
   "execution_count": 422,
   "metadata": {},
   "outputs": [],
   "source": [
    "%%capture\n",
    "dimensions, units, origins, rank = func.define_dimensionsUnitsOrigins(nx, ny, nz, nhalo, mpi_comm)\n",
    "smoke_dict = {'center_tile': smoke_center_tile, 'rank': rank, 'smoke_base': smoke_base}\n",
    "pressure_dict = {'pressure_base': pressure_base}\n",
    "fvt_dict = {'grid_type': grid_type, 'hord': hord}\n",
    "\n",
    "configuration = func.configure_domain(layout, mpi_comm, dimensions, backend=backend)\n",
    "initialState = func.create_initialState_testCase1(configuration['grid_data'], dimensions, units, origins, backend, smoke_dict, pressure_dict)\n",
    "tracAdv_data, tracAdv = func.prepare_everythingForAdvection(configuration, initialState['uC'], initialState['vC'], initialState['delp'], {'smoke': initialState['smoke']}, density, dimensions, units, origins, backend, fvt_dict, dt_acoustic=dt_acoustic)\n",
    "tracAdv_dataInit = cp.deepcopy(tracAdv_data)"
   ]
  },
  {
   "cell_type": "markdown",
   "metadata": {},
   "source": [
    "## Advection loop"
   ]
  },
  {
   "cell_type": "code",
   "execution_count": 423,
   "metadata": {},
   "outputs": [
    {
     "data": {
      "text/plain": [
       "[stdout:0] Step: 10\n",
       "Step: 20\n",
       "Step: 30\n",
       "Step: 40\n",
       "Step: 50\n",
       "Step: 60\n",
       "Step: 70\n",
       "Step: 80\n",
       "Step: 90\n",
       "Step: 100\n",
       "Step: 110\n",
       "Step: 120\n",
       "Step: 130\n",
       "Step: 140\n",
       "Step: 150\n",
       "Step: 160\n",
       "Step: 170\n",
       "Step: 180\n",
       "Step: 190\n",
       "Step: 200\n",
       "Step: 210\n",
       "Step: 220\n",
       "Step: 230\n",
       "Step: 240\n",
       "Step: 250\n",
       "Step: 260\n",
       "Step: 270\n",
       "Step: 280\n",
       "Step: 290\n",
       "Step: 300\n",
       "Step: 310\n",
       "Step: 320\n",
       "Step: 330\n",
       "Step: 340\n",
       "Step: 350\n",
       "Step: 360\n",
       "Step: 370\n",
       "Step: 380\n",
       "Step: 390\n",
       "Step: 400\n",
       "Step: 410\n",
       "Step: 420\n",
       "Step: 430\n",
       "Step: 440\n",
       "Step: 450\n",
       "Step: 460\n",
       "Step: 470\n",
       "Step: 480\n",
       "Step: 490\n",
       "Step: 500\n",
       "Step: 510\n",
       "Step: 520\n",
       "Step: 530\n",
       "Step: 540\n",
       "Step: 550\n",
       "Step: 560\n",
       "Step: 570\n",
       "Step: 580\n",
       "Step: 590\n",
       "Step: 600\n",
       "Step: 610\n",
       "Step: 620\n",
       "Step: 630\n",
       "Step: 640\n",
       "Step: 650\n",
       "Step: 660\n",
       "Step: 670\n",
       "Step: 680\n",
       "Step: 690\n",
       "Step: 700\n",
       "Step: 710\n",
       "Step: 720\n",
       "Step: 730\n",
       "Step: 740\n",
       "Step: 750\n",
       "Step: 760\n",
       "Step: 770\n",
       "Step: 780\n",
       "Step: 790\n",
       "Step: 800\n",
       "Step: 810\n",
       "Step: 820\n",
       "Step: 830\n",
       "Step: 840\n",
       "Step: 850\n",
       "Step: 860\n",
       "Step: 870\n",
       "Step: 880\n",
       "Step: 890\n",
       "Step: 900\n",
       "Step: 910\n",
       "Step: 920\n",
       "Step: 930\n",
       "Step: 940\n",
       "Step: 950\n",
       "Step: 960\n",
       "Step: 970\n",
       "Step: 980\n",
       "Step: 990\n",
       "Step: 1000\n",
       "Step: 1010\n",
       "Step: 1020\n",
       "Step: 1030\n",
       "Step: 1040\n",
       "Step: 1050\n",
       "Step: 1060\n",
       "Step: 1070\n",
       "Step: 1080\n",
       "Step: 1090\n",
       "Step: 1100\n",
       "Step: 1110\n",
       "Step: 1120\n",
       "Step: 1130\n",
       "Step: 1140\n",
       "Step: 1150\n",
       "Step: 1160\n",
       "Step: 1170\n",
       "Step: 1180\n",
       "Step: 1190\n",
       "Step: 1200\n",
       "Step: 1210\n",
       "Step: 1220\n",
       "Step: 1230\n",
       "Step: 1240\n",
       "Step: 1250\n",
       "Step: 1260\n",
       "Step: 1270\n",
       "Step: 1280\n",
       "Step: 1290\n",
       "Step: 1300\n",
       "Step: 1310\n",
       "Step: 1320\n",
       "Step: 1330\n",
       "Step: 1340\n",
       "Step: 1350\n",
       "Step: 1360\n",
       "Step: 1370\n",
       "Step: 1380\n",
       "Step: 1390\n",
       "Step: 1400\n",
       "Step: 1410\n",
       "Step: 1420\n",
       "Step: 1430\n",
       "Step: 1440\n",
       "Step: 1450\n",
       "Step: 1460\n",
       "Step: 1470\n",
       "Step: 1480\n",
       "Step: 1490\n",
       "Step: 1500\n",
       "Step: 1510\n",
       "Step: 1520\n",
       "Step: 1530\n",
       "Step: 1540\n",
       "Step: 1550\n",
       "Step: 1560\n",
       "Step: 1570\n",
       "Step: 1580\n",
       "Step: 1590\n",
       "Step: 1600\n",
       "Step: 1610\n",
       "Step: 1620\n",
       "Step: 1630\n",
       "Step: 1640\n",
       "Step: 1650\n",
       "Step: 1660\n",
       "Step: 1670\n",
       "Step: 1680\n",
       "Step: 1690\n",
       "Step: 1700\n",
       "Step: 1710\n",
       "Step: 1720\n",
       "Step: 1730\n",
       "Step: 1740\n",
       "Step: 1750\n",
       "Step: 1760\n",
       "Step: 1770\n",
       "Step: 1780\n",
       "Step: 1790\n",
       "Step: 1800\n",
       "Step: 1810\n",
       "Step: 1820\n",
       "Step: 1830\n",
       "Step: 1840\n",
       "Step: 1850\n",
       "Step: 1860\n",
       "Step: 1870\n",
       "Step: 1880\n",
       "Step: 1890\n",
       "Step: 1900\n",
       "Step: 1910\n",
       "Step: 1920\n",
       "Step: 1930\n",
       "Step: 1940\n",
       "Step: 1950\n",
       "Step: 1960\n",
       "Step: 1970\n",
       "Step: 1980\n",
       "Step: 1990\n",
       "Step: 2000\n"
      ]
     },
     "metadata": {},
     "output_type": "display_data"
    },
    {
     "data": {
      "application/vnd.jupyter.widget-view+json": {
       "model_id": "c710cc71ae2a4ecbbcda4440146eba07",
       "version_major": 2,
       "version_minor": 0
      },
      "text/plain": [
       "%px:   0%|          | 0/6 [00:00<?, ?tasks/s]"
      ]
     },
     "metadata": {},
     "output_type": "display_data"
    }
   ],
   "source": [
    "tracer_archive = [cp.deepcopy(tracAdv_data['tracers']['smoke'])]\n",
    "timestep_archive = [0]\n",
    "for step in range(nSteps_advection):    \n",
    "    if (rank == 0) and (step+1)%10 == 0 and print_advectionProgress:\n",
    "        print('Step: %d' % (step+1))\n",
    "    #tracAdv_data = func.run_advectionStepWithReset(tracAdv_dataInit, tracAdv_data, tracAdv, advection_timestep, mpi_rank=rank)\n",
    "    tracAdv_data = func.run_advectionStepWithReset(tracAdv_dataInit, tracAdv_data, tracAdv, advection_timestep)\n",
    "\n",
    "    if (step+1)%tracer_archive_frequency == 0:\n",
    "        tracer_archive.append(cp.deepcopy(tracAdv_data['tracers']['smoke']))\n",
    "        timestep_archive.append(step+1)"
   ]
  },
  {
   "cell_type": "markdown",
   "metadata": {},
   "source": [
    "Tracer advection -- updating fluxes?"
   ]
  },
  {
   "cell_type": "code",
   "execution_count": 424,
   "metadata": {},
   "outputs": [
    {
     "data": {
      "application/vnd.jupyter.widget-view+json": {
       "model_id": "f7aa228889c046b48a44f125f2e7e0ac",
       "version_major": 2,
       "version_minor": 0
      },
      "text/plain": [
       "%px:   0%|          | 0/6 [00:00<?, ?tasks/s]"
      ]
     },
     "metadata": {},
     "output_type": "display_data"
    }
   ],
   "source": [
    "%%capture\n",
    "if plot_output:\n",
    "    lon, lat = func.get_lonLat_agrid(configuration['grid_data'], dimensions, units, origins, backend)\n",
    "    lon_global = configuration['communicator'].gather(lon)\n",
    "    lat_global = configuration['communicator'].gather(lat)\n",
    "    smoke_global = []\n",
    "    for step in range(len(timestep_archive)):\n",
    "        smoke_global.append(configuration['communicator'].gather(tracer_archive[step]))\n",
    "\n",
    "    saveDir = '/home/ajdas/pace/advection_test/figs/'\n",
    "    fOut = saveDir + 'advection_step_'\n",
    "\n",
    "    if rank == 0:\n",
    "        smoke_global = np.squeeze(np.stack(smoke_global))\n",
    "        for plotStep in range(len(timestep_archive)):\n",
    "            print(plotStep, timestep_archive[plotStep])\n",
    "            func.plot_projection_field(lon_global.data, lat_global.data, smoke_global[plotStep], \n",
    "                                       cmap='viridis', vmin=0, vmax=1, units='kg', \n",
    "                                       title='Smoke after %s advection steps' % timestep_archive[plotStep], \n",
    "                                       fSave=fOut+'{:03d}'.format(timestep_archive[plotStep]) + '.png')"
   ]
  },
  {
   "cell_type": "code",
   "execution_count": null,
   "metadata": {},
   "outputs": [],
   "source": []
  },
  {
   "cell_type": "code",
   "execution_count": null,
   "metadata": {},
   "outputs": [],
   "source": []
  },
  {
   "cell_type": "code",
   "execution_count": null,
   "metadata": {},
   "outputs": [],
   "source": []
  },
  {
   "cell_type": "code",
   "execution_count": null,
   "metadata": {},
   "outputs": [],
   "source": []
  },
  {
   "cell_type": "code",
   "execution_count": null,
   "metadata": {},
   "outputs": [],
   "source": []
  },
  {
   "cell_type": "code",
   "execution_count": null,
   "metadata": {},
   "outputs": [],
   "source": [
    "%autopx"
   ]
  },
  {
   "cell_type": "code",
   "execution_count": null,
   "metadata": {},
   "outputs": [],
   "source": [
    "cluster.shutdown()"
   ]
  },
  {
   "cell_type": "code",
   "execution_count": null,
   "metadata": {},
   "outputs": [],
   "source": []
  }
 ],
 "metadata": {
  "kernelspec": {
   "display_name": "Python 3.8.10 ('venv': venv)",
   "language": "python",
   "name": "python3"
  },
  "language_info": {
   "codemirror_mode": {
    "name": "ipython",
    "version": 3
   },
   "file_extension": ".py",
   "mimetype": "text/x-python",
   "name": "python",
   "nbconvert_exporter": "python",
   "pygments_lexer": "ipython3",
   "version": "3.8.10"
  },
  "orig_nbformat": 4,
  "vscode": {
   "interpreter": {
    "hash": "5aaa1d64d2aec5fc9d71d95fe114c55e361597d915cf108c460e747a228aecec"
   }
  }
 },
 "nbformat": 4,
 "nbformat_minor": 2
}
