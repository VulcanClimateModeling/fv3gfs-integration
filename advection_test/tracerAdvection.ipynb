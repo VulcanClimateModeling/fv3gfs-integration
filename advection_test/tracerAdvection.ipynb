{
 "cells": [
  {
   "cell_type": "markdown",
   "metadata": {},
   "source": [
    "# Tracer Advection Stencil"
   ]
  },
  {
   "cell_type": "markdown",
   "metadata": {},
   "source": [
    "### Start a parallel cluster"
   ]
  },
  {
   "cell_type": "code",
   "execution_count": null,
   "metadata": {},
   "outputs": [
    {
     "name": "stdout",
     "output_type": "stream",
     "text": [
      "Starting 6 engines with <class 'ipyparallel.cluster.launcher.MPIEngineSetLauncher'>\n"
     ]
    },
    {
     "data": {
      "application/vnd.jupyter.widget-view+json": {
       "model_id": "704538e57c0c463099b491e9e1f1f083",
       "version_major": 2,
       "version_minor": 0
      },
      "text/plain": [
       "  0%|          | 0/6 [00:00<?, ?engine/s]"
      ]
     },
     "metadata": {},
     "output_type": "display_data"
    }
   ],
   "source": [
    "import ipyparallel as ipp\n",
    "\n",
    "cluster = ipp.Cluster(engines='mpi', n=6).start_and_connect_sync()"
   ]
  },
  {
   "cell_type": "code",
   "execution_count": null,
   "metadata": {},
   "outputs": [],
   "source": [
    "%autopx"
   ]
  },
  {
   "cell_type": "markdown",
   "metadata": {},
   "source": [
    "### Input parameters"
   ]
  },
  {
   "cell_type": "code",
   "execution_count": null,
   "metadata": {},
   "outputs": [],
   "source": [
    "%%capture\n",
    "from mpi4py import MPI\n",
    "import copy as cp\n",
    "import functions as func\n",
    "import numpy as np\n",
    "import os\n",
    "#import importlib\n",
    "#importlib.reload(func)\n",
    "\n",
    "\n",
    "mpi_comm = MPI.COMM_WORLD\n",
    "\n",
    "backend = 'numpy'\n",
    "layout = (1, 1)\n",
    "nx, ny, nz, nhalo = 100, 100, 79, 3        # number of points in x, y, z dimensions, halos\n",
    "nDays = 12\n",
    "timestep = 900.                            # time step in seconds\n",
    "\n",
    "test_case = 'b'                            # a: fortran test_case1; b; less dispersive\n",
    "print_advectionProgress = True             # True: print timestep differences on rank 0\n",
    "plot_output = True                         # True: plot output \n",
    "figure_everyNsteps = int(3600/timestep*6)  # how often to plot a figure (in hours)\n",
    "write_initialCondition = True              # True: write out initial condition and coordinate system\n",
    "\n",
    "# initial condition adjustables\n",
    "pressure_base = 10                         # pressure thickness of layer in Pa\n",
    "smoke_base = 1                             # maximum smoke amount\n",
    "smoke_center_tile = 0                      # rank of tile on which to center the gaussian tracer\n",
    "density = 1                                # density of air for mass flux\n",
    "\n",
    "# finite volume transport options\n",
    "grid_type = 0                              # cubed-sphere\n",
    "hord = 6                                   # horizontal advection order\n",
    "\n",
    "######-------- this can be left alone --------######\n",
    "# frequency of storing and plotting tracer state\n",
    "nSeconds = nDays * 86400 + timestep*5      \n",
    "nSteps_advection = int(nSeconds/timestep + 1)\n",
    "\n",
    "tracer_archive_frequency = 1               # store tracer state after every time step\n",
    "\n",
    "pwd = os.getcwd()\n",
    "nx_effective, ny_effective, nz_effective = nx + 1, ny + 1, nz + 1\n",
    "\n",
    "if figure_everyNsteps > nSteps_advection:\n",
    "    figure_everyNsteps = nSteps_advection"
   ]
  },
  {
   "cell_type": "markdown",
   "metadata": {},
   "source": [
    "## Prepare state for advection"
   ]
  },
  {
   "cell_type": "code",
   "execution_count": null,
   "metadata": {},
   "outputs": [],
   "source": [
    "%%capture\n",
    "dimensions, units, origins, rank = func.define_dimensionsUnitsOrigins(nx_effective, ny_effective, nz_effective, nhalo, mpi_comm)\n",
    "smoke_dict = {'center_tile': smoke_center_tile, 'rank': rank, 'smoke_base': smoke_base}\n",
    "pressure_dict = {'pressure_base': pressure_base}\n",
    "fvt_dict = {'grid_type': grid_type, 'hord': hord}\n",
    "\n",
    "configuration = func.configure_domain(layout, mpi_comm, dimensions, backend=backend)\n",
    "if test_case == 'a':\n",
    "    initialState = func.create_initialState_testCase1a(configuration['grid_data'], dimensions, units, origins, \n",
    "                                                       backend, smoke_dict, pressure_dict)\n",
    "elif test_case == 'b':\n",
    "    initialState = func.create_initialState_testCase1b(configuration['grid_data'], dimensions, units, origins, \n",
    "                                                       backend, smoke_dict, pressure_dict)\n",
    "\n",
    "tracAdv_data, tracAdv = func.prepare_everythingForAdvection(configuration, initialState['uC'], initialState['vC'], \n",
    "                                                            initialState['delp'], {'smoke': initialState['smoke']}, \n",
    "                                                            density, dimensions, units, origins, backend, \n",
    "                                                            fvt_dict, dt_acoustic=timestep)\n",
    "                                                            \n",
    "tracAdv_dataInit = cp.deepcopy(tracAdv_data)\n",
    "\n",
    "\n",
    "if write_initialCondition:\n",
    "    saveDir = pwd + '/data/'\n",
    "    fOut = saveDir + 'initialState_%sx%s_%s.nc' % (dimensions['nx']-1, dimensions['ny']-1, test_case)\n",
    "            \n",
    "    func.write_initialCondition_toFile(fOut, initialState, dimensions, units, origins, backend, configuration, rank)\n"
   ]
  },
  {
   "cell_type": "markdown",
   "metadata": {},
   "source": [
    "## Advection loop"
   ]
  },
  {
   "cell_type": "code",
   "execution_count": null,
   "metadata": {},
   "outputs": [],
   "source": [
    "tracer_archive = [cp.deepcopy(tracAdv_data['tracers']['smoke'])]\n",
    "timestep_archive = [0]\n",
    "for step in range(nSteps_advection):    \n",
    "    if (rank == 0) and (step+1)%100 == 0 and print_advectionProgress:\n",
    "        print('Step: %d' % (step+1))\n",
    "    #tracAdv_data = func.run_advectionStepWithReset(tracAdv_dataInit, tracAdv_data, tracAdv, timestep, mpi_rank=rank)\n",
    "    tracAdv_data = func.run_advectionStepWithReset(tracAdv_dataInit, tracAdv_data, tracAdv, timestep)\n",
    "\n",
    "    if (step+1)%tracer_archive_frequency == 0:\n",
    "        tracer_archive.append(cp.deepcopy(tracAdv_data['tracers']['smoke']))\n",
    "        timestep_archive.append(step+1)"
   ]
  },
  {
   "cell_type": "markdown",
   "metadata": {},
   "source": [
    "## Plot output"
   ]
  },
  {
   "cell_type": "code",
   "execution_count": null,
   "metadata": {},
   "outputs": [],
   "source": [
    "#%%capture\n",
    "if plot_output:\n",
    "    lon, lat = func.get_lonLat_edges(configuration['grid_data'], dimensions, units, origins, backend)\n",
    "    lon_global = configuration['communicator'].gather(lon)\n",
    "    lat_global = configuration['communicator'].gather(lat)\n",
    "    smoke_global = []\n",
    "    for step in range(len(timestep_archive)):\n",
    "        smoke_global.append(configuration['communicator'].gather(tracer_archive[step]))\n",
    "\n",
    "    if rank == 0:\n",
    "        saveDir = pwd + '/figs/'\n",
    "        \n",
    "        if not os.path.isdir(saveDir):\n",
    "            os.mkdir(saveDir)\n",
    "\n",
    "        smoke_global = np.squeeze(np.stack(smoke_global))\n",
    "        for plotStep in range(0, len(timestep_archive), figure_everyNsteps):\n",
    "            print('Plotting time step %s / %s' % (timestep_archive[plotStep], nSteps_advection))\n",
    "            fOut = saveDir + 'advection_step_' + test_case\n",
    "            fOut_diff = saveDir + 'advection_step_diff_' + test_case\n",
    "            func.plot_projection_field(lon_global.data, lat_global.data, smoke_global[plotStep], \n",
    "                                        cmap='viridis', vmin=0, vmax=1, units='kg', \n",
    "                                        title='Tracer after %.2f days - case %s' % \n",
    "                                                ((timestep_archive[plotStep] * timestep)/60/60/24, test_case), \n",
    "                                        fSave=fOut+'{:06.2f}'.format((timestep_archive[plotStep] * timestep)/60/60) + '.png')\n",
    "            func.plot_projection_field(lon_global.data, lat_global.data, smoke_global[plotStep] - smoke_global[0], \n",
    "                                        cmap='bwr', vmin=-1, vmax=1, units='kg', \n",
    "                                        title='Tracer difference from initial state after %.2f days - case %s' % \n",
    "                                                ((timestep_archive[plotStep] * timestep)/60/60/24, test_case), \n",
    "                                        fSave=fOut_diff+'{:06.2f}'.format((timestep_archive[plotStep] * timestep)/60/60) + '.png')"
   ]
  },
  {
   "cell_type": "code",
   "execution_count": null,
   "metadata": {},
   "outputs": [],
   "source": [
    "#%autopx"
   ]
  },
  {
   "cell_type": "code",
   "execution_count": null,
   "metadata": {},
   "outputs": [],
   "source": [
    "#cluster.shutdown()"
   ]
  },
  {
   "cell_type": "code",
   "execution_count": null,
   "metadata": {},
   "outputs": [],
   "source": []
  }
 ],
 "metadata": {
  "kernelspec": {
   "display_name": "Python 3.8.10 ('venv': venv)",
   "language": "python",
   "name": "python3"
  },
  "language_info": {
   "codemirror_mode": {
    "name": "ipython",
    "version": 3
   },
   "file_extension": ".py",
   "mimetype": "text/x-python",
   "name": "python",
   "nbconvert_exporter": "python",
   "pygments_lexer": "ipython3",
   "version": "3.8.10"
  },
  "orig_nbformat": 4,
  "vscode": {
   "interpreter": {
    "hash": "5aaa1d64d2aec5fc9d71d95fe114c55e361597d915cf108c460e747a228aecec"
   }
  }
 },
 "nbformat": 4,
 "nbformat_minor": 2
}
