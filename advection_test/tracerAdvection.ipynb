{
 "cells": [
  {
   "cell_type": "markdown",
   "metadata": {},
   "source": [
    "# Tracer Advection Stencil\n",
    "\n",
    "#### 1. Start a parallel cluster"
   ]
  },
  {
   "cell_type": "code",
   "execution_count": 1,
   "metadata": {},
   "outputs": [
    {
     "data": {
      "text/html": [
       "<link href=\"https://fonts.googleapis.com/icon?family=Material+Icons\" rel=\"stylesheet\"><script src=\"https://spcl.github.io/dace/webclient2/dist/sdfv.js\"></script>\n",
       "<link href=\"https://spcl.github.io/dace/webclient2/sdfv.css\" rel=\"stylesheet\">\n"
      ],
      "text/plain": [
       "<IPython.core.display.HTML object>"
      ]
     },
     "metadata": {},
     "output_type": "display_data"
    },
    {
     "name": "stdout",
     "output_type": "stream",
     "text": [
      "Starting 6 engines with <class 'ipyparallel.cluster.launcher.MPIEngineSetLauncher'>\n"
     ]
    },
    {
     "data": {
      "application/vnd.jupyter.widget-view+json": {
       "model_id": "2d286db1c5644a7d9491446995db9d2b",
       "version_major": 2,
       "version_minor": 0
      },
      "text/plain": [
       "  0%|          | 0/6 [00:00<?, ?engine/s]"
      ]
     },
     "metadata": {},
     "output_type": "display_data"
    }
   ],
   "source": [
    "from functions import show_clusters\n",
    "\n",
    "import ipyparallel as ipp\n",
    "import time\n",
    "\n",
    "cluster = ipp.Cluster(engines='mpi', n=6).start_and_connect_sync()\n"
   ]
  },
  {
   "cell_type": "code",
   "execution_count": 3,
   "metadata": {},
   "outputs": [
    {
     "name": "stdout",
     "output_type": "stream",
     "text": [
      "cluster_id        state    cluster_file\n",
      "1657815598-o3vt  running   /home/ajdas/.ipython/profile_default/security/cluster-1657815598-o3vt.json\n",
      "%autopx enabled\n"
     ]
    }
   ],
   "source": [
    "time.sleep(15)\n",
    "show_clusters()\n",
    "%autopx"
   ]
  },
  {
   "cell_type": "markdown",
   "metadata": {},
   "source": [
    "#### 2. Configure the domain"
   ]
  },
  {
   "cell_type": "code",
   "execution_count": 243,
   "metadata": {},
   "outputs": [
    {
     "data": {
      "text/plain": [
       "[stderr:2] /home/ajdas/pace/pace-util/pace/util/grid/gnomonic.py:681: RuntimeWarning: invalid value encountered in true_divide\n",
       "  np.sum(p * q, axis=-1)\n"
      ]
     },
     "metadata": {},
     "output_type": "display_data"
    },
    {
     "data": {
      "text/plain": [
       "[stderr:5] /home/ajdas/pace/pace-util/pace/util/grid/gnomonic.py:681: RuntimeWarning: invalid value encountered in true_divide\n",
       "  np.sum(p * q, axis=-1)\n"
      ]
     },
     "metadata": {},
     "output_type": "display_data"
    }
   ],
   "source": [
    "importlib.reload(func)\n",
    "#%%capture\n",
    "from mpi4py import MPI\n",
    "import functions as func\n",
    "import importlib\n",
    "importlib.reload(func)\n",
    "\n",
    "\n",
    "mpi_comm = MPI.COMM_WORLD\n",
    "mpi_size = mpi_comm.Get_size()\n",
    "mpi_rank = mpi_comm.Get_rank()\n",
    "\n",
    "backend = 'numpy'\n",
    "layout = (1, 1)\n",
    "nx, ny, nz, nhalo = 100, 100, 79, 3\n",
    "dimensions = {'nx': nx, 'ny': ny, 'nx1': nx+1, 'ny1': ny+1, 'nz': nz, 'nhalo': nhalo, 'tile': mpi_size, 'nxhalo': nx+2*nhalo, 'nyhalo': ny+2*nhalo}\n",
    "units = {'dist': 'm', 'coord': 'degrees', 'qvapor': 'kg/kg', 'psi': 'kg/m/s', 'wind': 'm/s', 'courant': '', 'areaflux': 'm2', 'qflux': 'kg/m2'}\n",
    "origins = {'halo': (0, 0), 'compute_2d': (dimensions['nhalo'], dimensions['nhalo']), 'compute_3d': (dimensions['nhalo'], dimensions['nhalo'], 0)}\n",
    "\n",
    "\n",
    "configuration = func.configure_domain(layout, mpi_comm, dimensions, backend=backend)"
   ]
  },
  {
   "cell_type": "code",
   "execution_count": null,
   "metadata": {},
   "outputs": [],
   "source": []
  },
  {
   "cell_type": "markdown",
   "metadata": {},
   "source": [
    "#### 2a. Gather domain coordinates"
   ]
  },
  {
   "cell_type": "code",
   "execution_count": 244,
   "metadata": {},
   "outputs": [],
   "source": [
    "from pace.util import Quantity\n",
    "import numpy as np\n",
    "\n",
    "dx_halo =  Quantity(configuration['grid_data'].dx.data, ('x_halo', 'y_halo'), units['dist'], origins['halo'], (dimensions['nxhalo'], dimensions['nyhalo']), backend)\n",
    "dy_halo =  Quantity(configuration['grid_data'].dy.data, ('x_halo', 'y_halo'), units['dist'], origins['halo'], (dimensions['nxhalo'], dimensions['nyhalo']), backend)\n",
    "dxa_halo =  Quantity(configuration['grid_data'].dxa.data, ('x_halo', 'y_halo'), units['dist'], origins['halo'], (dimensions['nxhalo'], dimensions['nyhalo']), backend)\n",
    "dya_halo =  Quantity(configuration['grid_data'].dya.data, ('x_halo', 'y_halo'), units['dist'], origins['halo'], (dimensions['nxhalo'], dimensions['nyhalo']), backend)\n",
    "dxc_halo =  Quantity(configuration['grid_data'].dxc.data, ('x_halo', 'y_halo'), units['dist'], origins['halo'], (dimensions['nxhalo'], dimensions['nyhalo']), backend)\n",
    "dyc_halo =  Quantity(configuration['grid_data'].dyc.data, ('x_halo', 'y_halo'), units['dist'], origins['halo'], (dimensions['nxhalo'], dimensions['nyhalo']), backend)\n",
    "dx_global = configuration['communicator'].gather(dx_halo)\n",
    "dy_global = configuration['communicator'].gather(dy_halo)\n",
    "dxa_global = configuration['communicator'].gather(dxa_halo)\n",
    "dya_global = configuration['communicator'].gather(dya_halo)\n",
    "dxc_global = configuration['communicator'].gather(dxc_halo)\n",
    "dyc_global = configuration['communicator'].gather(dyc_halo)\n",
    "\n",
    "lona_halo =  Quantity(configuration['grid_data'].lon_agrid.data * 180 / np.pi, ('x_halo', 'y_halo'), units['coord'], origins['halo'], (dimensions['nxhalo'], dimensions['nyhalo']), backend)\n",
    "lata_halo =  Quantity(configuration['grid_data'].lat_agrid.data * 180 / np.pi, ('x_halo', 'y_halo'), units['coord'], origins['halo'], (dimensions['nxhalo'], dimensions['nyhalo']), backend)\n",
    "lona_global = configuration['communicator'].gather(lona_halo)\n",
    "lata_global = configuration['communicator'].gather(lata_halo)"
   ]
  },
  {
   "cell_type": "markdown",
   "metadata": {},
   "source": [
    "#### 2b. Save coordinates to netCDF file\n",
    "\n",
    "Convert below markdown cell to code."
   ]
  },
  {
   "cell_type": "markdown",
   "metadata": {},
   "source": [
    "```\n",
    "import functions as func\n",
    "\n",
    "\n",
    "lon_halo =  Quantity(configuration['grid_data'].lon.data * 180 / np.pi, ('x_halo', 'y_halo'), units['coord'], origins['halo'], (dimensions['nxhalo'], dimensions['nyhalo']), backend)\n",
    "lat_halo =  Quantity(configuration['grid_data'].lat.data * 180 / np.pi, ('x_halo', 'y_halo'), units['coord'], origins['halo'], (dimensions['nxhalo'], dimensions['nyhalo']), backend)\n",
    "\n",
    "\n",
    "lon_global = configuration['communicator'].gather(lon_halo)\n",
    "lat_global = configuration['communicator'].gather(lat_halo)\n",
    "\n",
    "fOut = 'coordinates.nc'\n",
    "variables = {'dx': dx_global, 'dy': dy_global, \n",
    "             'dxa': dxa_global, 'dya': dya_global, \n",
    "             'dxc': dxc_global, 'dyc': dyc_global, \n",
    "             'lon': lon_global, 'lat': lat_global, \n",
    "             'lona': lona_global, 'lata': lata_global}\n",
    "\n",
    "if mpi_rank == 0:\n",
    "    func.store_coordinates(fOut, dimensions, variables)\n",
    "```"
   ]
  },
  {
   "cell_type": "markdown",
   "metadata": {},
   "source": [
    "#### 3. Create initial conditions on a plane\n",
    "\n",
    "#### 3a. Create water vapor initial condition"
   ]
  },
  {
   "cell_type": "code",
   "execution_count": 261,
   "metadata": {},
   "outputs": [
    {
     "data": {
      "text/plain": [
       "[stdout:0] Centering gaussian on lon=351.01, lat=1.01\n"
      ]
     },
     "metadata": {},
     "output_type": "display_data"
    }
   ],
   "source": [
    "if mpi_rank == 0:\n",
    "    gaussian_multiplier = func.create_gaussianMultiplier(np.deg2rad(lona_global.data), np.deg2rad(lata_global.data), dimensions, center_tile=0)\n",
    "else:\n",
    "    gaussian_multiplier = np.zeros((dimensions['tile'], dimensions['nxhalo'], dimensions['nyhalo']))\n",
    "\n",
    "mpi_comm.Bcast(gaussian_multiplier, root=0)\n",
    "qvapor = Quantity(gaussian_multiplier[mpi_rank], ('x', 'y'), units['qvapor'], origins['compute_2d'], (dimensions['nx'], dimensions['ny']), backend)\n",
    "qvapor_global = configuration['communicator'].gather(qvapor)"
   ]
  },
  {
   "cell_type": "markdown",
   "metadata": {},
   "source": [
    "#### 3b. Run coordinates through streamfunction generation"
   ]
  },
  {
   "cell_type": "code",
   "execution_count": 262,
   "metadata": {},
   "outputs": [],
   "source": [
    "psi, psi_staggered = func.calculate_streamfunction_testCase1(np.deg2rad(lona_halo.data), np.deg2rad(lata_halo.data), dimensions)\n",
    "\n",
    "psi_halo = Quantity(psi, ('x_halo', 'y_halo'), units['psi'], origins['halo'], (dimensions['nxhalo'], dimensions['nyhalo']), backend)\n",
    "psi = Quantity(psi, ('x', 'y'), units['psi'], origins['compute_2d'], (dimensions['nx'], dimensions['ny']), backend)\n",
    "psi_staggered_halo = Quantity(psi_staggered, ('x_halo', 'y_halo'), units['psi'], origins['halo'], (dimensions['nxhalo'], dimensions['nyhalo']), backend)\n",
    "psi_staggered  = Quantity(psi_staggered, ('x_interface', 'y_interface'), units['psi'], origins['compute_2d'], (dimensions['nx1'], dimensions['ny1']), backend)\n",
    "\n",
    "psi_global = configuration['communicator'].gather(psi)\n",
    "psi_staggered_global = configuration['communicator'].gather(psi_staggered)"
   ]
  },
  {
   "cell_type": "markdown",
   "metadata": {},
   "source": [
    "#### 3c. Calculate winds from streamfunction\n",
    "\n",
    "`ua`, `va` - winds on cell centers\n",
    "`uc`, `vc` - covariant winds on C-grid"
   ]
  },
  {
   "cell_type": "code",
   "execution_count": 263,
   "metadata": {},
   "outputs": [],
   "source": [
    "ua, va = func.calculate_windsFromStreamfunction_grid(psi_halo, dxa_halo, dya_halo, dimensions, grid='A')\n",
    "\n",
    "ua = Quantity(ua, ('x', 'y'), units['wind'], origins['compute_2d'], (dimensions['nx'], dimensions['ny']), backend)\n",
    "va = Quantity(va, ('x', 'y'), units['wind'], origins['compute_2d'], (dimensions['nx'], dimensions['ny']), backend)\n",
    "\n",
    "ua_global = configuration['communicator'].gather(ua)\n",
    "va_global = configuration['communicator'].gather(va)"
   ]
  },
  {
   "cell_type": "code",
   "execution_count": 264,
   "metadata": {},
   "outputs": [],
   "source": [
    "uc, vc = func.calculate_windsFromStreamfunction_grid(psi_staggered_halo, dx_halo, dy_halo, dimensions, grid='C')\n",
    "\n",
    "uc = Quantity(uc, ('x', 'y_interface'), units['wind'], origins['compute_2d'], (dimensions['nx'], dimensions['ny1']), backend)\n",
    "vc = Quantity(vc, ('x_interface', 'y'), units['wind'], origins['compute_2d'], (dimensions['nx1'], dimensions['ny']), backend)\n",
    "\n",
    "uc_global = configuration['communicator'].gather(uc)\n",
    "vc_global = configuration['communicator'].gather(vc)"
   ]
  },
  {
   "cell_type": "code",
   "execution_count": 265,
   "metadata": {},
   "outputs": [],
   "source": [
    "ud, vd = func.calculate_windsFromStreamfunction_grid(psi_halo, dx_halo, dy_halo, dimensions, grid='D')\n",
    "\n",
    "ud = Quantity(ud, ('x_interface', 'y'), units['wind'], origins['compute_2d'], (dimensions['nx1'], dimensions['ny']), backend)\n",
    "vd = Quantity(vd, ('x', 'y_interface'), units['wind'], origins['compute_2d'], (dimensions['nx'], dimensions['ny1']), backend)\n",
    "\n",
    "ud_global = configuration['communicator'].gather(ud)\n",
    "vd_global = configuration['communicator'].gather(vd)"
   ]
  },
  {
   "cell_type": "markdown",
   "metadata": {},
   "source": [
    "#### 3d. Find pressure distribution consistent with velocity field ?????\n",
    "\n",
    "$$\n",
    "\\nabla ^2 p = 2 \\rho \\left[ \\frac{\\partial u}{\\partial x} \\frac{\\partial v}{\\partial y} - \\frac{\\partial v}{\\partial x} \\frac{\\partial u}{\\partial y} \\right]\n",
    "$$"
   ]
  },
  {
   "cell_type": "markdown",
   "metadata": {},
   "source": [
    "#### 3d. Plot initial conditions and save data to file\n",
    "To show plotted images, uncomment the second cell below"
   ]
  },
  {
   "cell_type": "code",
   "execution_count": 266,
   "metadata": {},
   "outputs": [
    {
     "data": {
      "application/vnd.jupyter.widget-view+json": {
       "model_id": "2960e042ff7945f6bd3695dd7c06fe0d",
       "version_major": 2,
       "version_minor": 0
      },
      "text/plain": [
       "%px:   0%|          | 0/6 [00:00<?, ?tasks/s]"
      ]
     },
     "metadata": {},
     "output_type": "display_data"
    }
   ],
   "source": [
    "# %%capture capt --no-stderr --no-stdout\n",
    "# fOut = 'initialize_winds.nc'\n",
    "\n",
    "# lona =  Quantity(configuration['grid_data'].lon_agrid.data * 180 / np.pi, ('x_interface', 'y_interface'), units['coord'], origins['compute_2d'], (dimensions['nx1'], dimensions['ny1']), backend)\n",
    "# lata =  Quantity(configuration['grid_data'].lat_agrid.data * 180 / np.pi, ('x_interface', 'y_interface'), units['coord'], origins['compute_2d'], (dimensions['nx1'], dimensions['ny1']), backend)\n",
    "# lon_global = configuration['communicator'].gather(lona)\n",
    "# lat_global = configuration['communicator'].gather(lata)\n",
    "\n",
    "# if mpi_rank == 0:\n",
    "#     variables = {'lon': lon_global.data, 'lat': lat_global.data, 'ua': ua_global.data, 'va': va_global.data, 'psi': psi_global.data, 'qvapor': qvapor_global.data}\n",
    "\n",
    "#     func.plot_projection_field(variables['lon'], variables['lat'], variables['qvapor'], vmin=-0, vmax=1, cmap='viridis', title='q_vapor init', units=units['qvapor'])\n",
    "#     func.plot_projection_field(variables['lon'], variables['lat'], variables['ua'], vmin=-40, vmax=40, cmap='bwr', title='ua init', units=units['wind'])\n",
    "#     func.plot_projection_field(variables['lon'], variables['lat'], variables['va'], vmin=-40, vmax=40, cmap='bwr', title='va init', units=units['wind'])\n",
    "#     func.plot_projection_field(variables['lon'], variables['lat'], variables['psi'], vmin=-3e8, vmax=3e8, cmap='bwr', title='psi init', units=units['psi'])\n",
    "\n",
    "#     func.write_initialCondition_toFile(fOut, variables, dimensions, units)"
   ]
  },
  {
   "cell_type": "code",
   "execution_count": 267,
   "metadata": {},
   "outputs": [],
   "source": [
    "# capt()"
   ]
  },
  {
   "cell_type": "markdown",
   "metadata": {},
   "source": [
    "#### 4. Prepare flux stencil\n",
    "\n",
    "#### 4a. Extend initial conditions into the vertical"
   ]
  },
  {
   "cell_type": "code",
   "execution_count": 268,
   "metadata": {},
   "outputs": [],
   "source": [
    "dimensions['nz'] = 1\n",
    "\n",
    "empty = np.zeros((dimensions['nxhalo']+1, dimensions['nyhalo']+1, dimensions['nz']+1))\n",
    "\n",
    "qvapor_3d = np.copy(empty)\n",
    "uc_3d = np.copy(empty)\n",
    "vc_3d = np.copy(empty)\n",
    "qvapor_3d[:-1, :-1, 0] = qvapor\n",
    "uc_3d[:-1, :-1, 0] = uc\n",
    "vc_3d[:-1, :-1, 0] = vc\n",
    "\n",
    "qvapor = Quantity(qvapor_3d, ('x', 'y', 'z'), units['qvapor'], origins['compute_3d'], (dimensions['nx'], dimensions['ny'], dimensions['nz']), backend)\n",
    "uc = Quantity(uc_3d, ('x', 'y_interface', 'z'), units['wind'], origins['compute_3d'], (dimensions['nx'], dimensions['ny1'], dimensions['nz']), backend)\n",
    "vc = Quantity(vc_3d, ('x_interface', 'y', 'z'), units['wind'], origins['compute_3d'], (dimensions['nx1'], dimensions['ny'], dimensions['nz']), backend)"
   ]
  },
  {
   "cell_type": "markdown",
   "metadata": {},
   "source": [
    "#### 4b. Prepare data for flux calculation\n",
    "\n",
    "- use the function `FiniteVolumeFluxPrep`\n",
    "    - requires `uc` and `vc` from (3c). \n",
    "    - requires some empty arrays to be filled in:\n",
    "        - `crx` and `cry` are the dimensionless Courant numbers on C-grid points.\n",
    "        - `xaf` and `yaf` are are fluxes of area in m2.\n",
    "        - `ucc` and `vcc` are the contravariant velocities on C-grid points\n",
    "        - `dt` is the acoustic time step."
   ]
  },
  {
   "cell_type": "code",
   "execution_count": 207,
   "metadata": {},
   "outputs": [],
   "source": [
    "%%capture capt\n",
    "from fv3core.stencils.fxadv import FiniteVolumeFluxPrep\n",
    "\n",
    "fvf_prep = FiniteVolumeFluxPrep(configuration['stencil_factory'], configuration['grid_data'])\n",
    "\n",
    "crx = Quantity(empty, ('x_interface', 'y', 'z'), units['courant'], origins['compute_3d'], (dimensions['nx1'], dimensions['ny'], dimensions['nz']), backend)\n",
    "cry = Quantity(empty, ('x', 'y_interface', 'z'), units['courant'], origins['compute_3d'], (dimensions['nx'], dimensions['ny1'], dimensions['nz']), backend)\n",
    "\n",
    "xaf = Quantity(empty, ('x_interface', 'y', 'z'), units['areaflux'], origins['compute_3d'], (dimensions['nx1'], dimensions['ny'], dimensions['nz']), backend)\n",
    "yaf = Quantity(empty, ('x', 'y_interface', 'z'), units['areaflux'], origins['compute_3d'], (dimensions['nx'], dimensions['ny1'], dimensions['nz']), backend)\n",
    "\n",
    "ucv = Quantity(empty, ('x_interface', 'y', 'z'), units['wind'], origins['compute_3d'], (dimensions['nx1'], dimensions['ny'], dimensions['nz']), backend)\n",
    "vcv = Quantity(empty, ('x', 'y_interface', 'z'), units['wind'], origins['compute_3d'], (dimensions['nx'], dimensions['ny1'], dimensions['nz']), backend)\n",
    "\n",
    "\n",
    "dt_acoustic = 300.\n",
    "\n",
    "fvfp = fvf_prep(uc, vc, crx, cry, xaf, yaf, ucv, vcv, dt_acoustic)\n",
    "\n",
    "print()\n",
    "print('UC min, mean, max: %.2f %.2f %.2f' % (np.nanmin(uc), np.nanmean(uc), np.nanmax(uc)))\n",
    "print('UCV min, mean, max: %.2f %.2f %.2f' % (np.nanmin(ucv), np.nanmean(ucv), np.nanmax(ucv)))\n",
    "print()\n",
    "print('VC min, mean, max: %.2f %.2f %.2f' % (np.nanmin(vc), np.nanmean(vc), np.nanmax(vc)))\n",
    "print('VCV min, mean, max: %.2f %.2f %.2f' % (np.nanmin(vcv), np.nanmean(vcv), np.nanmax(vcv)))\n",
    "print()\n",
    "print('X-Courant min, mean, max: %.2f %.2f %.2f' % (np.nanmin(crx), np.nanmean(crx), np.nanmax(crx)))\n",
    "print('Y-Courant min, mean, max: %.2f %.2f %.2f' % (np.nanmin(cry), np.nanmean(cry), np.nanmax(cry)))\n",
    "print()\n",
    "print('X-area flux min, mean, max: %.2f %.2f %.2f' % (np.nanmin(xaf), np.nanmean(xaf), np.nanmax(xaf)))\n",
    "print('X-area flux min, mean, max: %.2f %.2f %.2f' % (np.nanmin(yaf), np.nanmean(yaf), np.nanmax(yaf)))"
   ]
  },
  {
   "cell_type": "markdown",
   "metadata": {},
   "source": [
    "#### (4c) Hack mass flux?\n",
    "\n",
    "xaf is the flux of area in x direction (dx*dy)\n",
    "yaf is the flux of area in y direction (dx*dy)\n",
    "\n",
    "to get mass flux -- \n",
    "for now -- assume mass flux is area flux."
   ]
  },
  {
   "cell_type": "markdown",
   "metadata": {},
   "source": [
    "#### (4d) Create finite volume transport stencil\n",
    "\n",
    "- use the function `FiniteVolumeTransport` \n",
    "    - takes in the tracer `qvap` to be transported.\n",
    "    - takes in the `crx` and `cry` Courant numbers, `xaf` and `yaf` area fluxes from previous step.\n",
    "    - requires some empty arrays to be filled in:\n",
    "        - `qfx` and `qfy` are the output fluxes of the tracer to be transported -- i think kg/m2?\n",
    "        \n",
    "- also takes in mass fluxes (optional) -- where would I find those?\n",
    "\n",
    "- do I actually need the `qfx`, `qfy` that are output? I don't think so ..."
   ]
  },
  {
   "cell_type": "code",
   "execution_count": 208,
   "metadata": {},
   "outputs": [
    {
     "name": "stderr",
     "output_type": "stream",
     "text": [
      "[5:execute]\n",
      "\u001b[0;31m---------------------------------------------------------------------------\u001b[0m\n",
      "\u001b[0;31mValueError\u001b[0m                                Traceback (most recent call last)\n",
      "Input \u001b[0;32mIn [202]\u001b[0m, in \u001b[0;36m<cell line: 13>\u001b[0;34m()\u001b[0m\n",
      "\u001b[1;32m     10\u001b[0m tracers \u001b[38;5;241m=\u001b[39m {\u001b[38;5;124m'\u001b[39m\u001b[38;5;124mqvapor\u001b[39m\u001b[38;5;124m'\u001b[39m: qvapor}\n",
      "\u001b[1;32m     12\u001b[0m fvtp2d \u001b[38;5;241m=\u001b[39m FiniteVolumeTransport(configuration[\u001b[38;5;124m'\u001b[39m\u001b[38;5;124mstencil_factory\u001b[39m\u001b[38;5;124m'\u001b[39m], configuration[\u001b[38;5;124m'\u001b[39m\u001b[38;5;124mgrid_data\u001b[39m\u001b[38;5;124m'\u001b[39m], configuration[\u001b[38;5;124m'\u001b[39m\u001b[38;5;124mdamping_coefficients\u001b[39m\u001b[38;5;124m'\u001b[39m], grid_type, hord)\n",
      "\u001b[0;32m---> 13\u001b[0m fvTransport \u001b[38;5;241m=\u001b[39m fvtp2d(tracers[\u001b[38;5;124m'\u001b[39m\u001b[38;5;124mqvapor\u001b[39m\u001b[38;5;124m'\u001b[39m], crx, cry, xaf, yaf, qfx, qfy)\n",
      "\n",
      "File \u001b[0;32m~/pace/fv3core/fv3core/stencils/fvtp2d.py:300\u001b[0m, in \u001b[0;36mFiniteVolumeTransport.__call__\u001b[0;34m(self, q, crx, cry, x_area_flux, y_area_flux, q_x_flux, q_y_flux, x_mass_flux, y_mass_flux, mass)\u001b[0m\n",
      "\u001b[1;32m    294\u001b[0m     y_unit_flux \u001b[38;5;241m=\u001b[39m y_mass_flux\n",
      "\u001b[1;32m    296\u001b[0m \u001b[38;5;66;03m# TODO: consider whether to refactor xppm/yppm to output fluxes by also taking\u001b[39;00m\n",
      "\u001b[1;32m    297\u001b[0m \u001b[38;5;66;03m# y_area_flux as an input (flux = area_flux * advected_mean), since a flux is\u001b[39;00m\n",
      "\u001b[1;32m    298\u001b[0m \u001b[38;5;66;03m# easier to understand than the current output. This would be like merging\u001b[39;00m\n",
      "\u001b[1;32m    299\u001b[0m \u001b[38;5;66;03m# yppm with q_i_stencil and xppm with q_j_stencil.\u001b[39;00m\n",
      "\u001b[0;32m--> 300\u001b[0m \u001b[38;5;28;43mself\u001b[39;49m\u001b[38;5;241;43m.\u001b[39;49m\u001b[43m_copy_corners_y\u001b[49m\u001b[43m(\u001b[49m\u001b[43mq\u001b[49m\u001b[43m)\u001b[49m\n",
      "\u001b[1;32m    301\u001b[0m \u001b[38;5;28mself\u001b[39m\u001b[38;5;241m.\u001b[39my_piecewise_parabolic_inner(q, cry, \u001b[38;5;28mself\u001b[39m\u001b[38;5;241m.\u001b[39m_q_y_advected_mean)\n",
      "\u001b[1;32m    302\u001b[0m \u001b[38;5;66;03m# q_y_advected_mean is 1/Delta_area * curly-F, where curly-F is defined in\u001b[39;00m\n",
      "\u001b[1;32m    303\u001b[0m \u001b[38;5;66;03m# equation 4.3 of the FV3 documentation and Delta_area is the advected area\u001b[39;00m\n",
      "\u001b[1;32m    304\u001b[0m \u001b[38;5;66;03m# (y_area_flux)\u001b[39;00m\n",
      "\n",
      "File \u001b[0;32m~/pace/stencils/pace/stencils/corners.py:60\u001b[0m, in \u001b[0;36mCopyCorners.__call__\u001b[0;34m(self, field)\u001b[0m\n",
      "\u001b[1;32m     55\u001b[0m \u001b[38;5;28;01mdef\u001b[39;00m \u001b[38;5;21m__call__\u001b[39m(\u001b[38;5;28mself\u001b[39m, field: FloatField):\n",
      "\u001b[1;32m     56\u001b[0m     \u001b[38;5;124;03m\"\"\"\u001b[39;00m\n",
      "\u001b[1;32m     57\u001b[0m \u001b[38;5;124;03m    Fills cell quantity field using corners from itself and multipliers\u001b[39;00m\n",
      "\u001b[1;32m     58\u001b[0m \u001b[38;5;124;03m    in the dirction specified initialization of the instance of this class.\u001b[39;00m\n",
      "\u001b[1;32m     59\u001b[0m \u001b[38;5;124;03m    \"\"\"\u001b[39;00m\n",
      "\u001b[0;32m---> 60\u001b[0m     \u001b[38;5;28;43mself\u001b[39;49m\u001b[38;5;241;43m.\u001b[39;49m\u001b[43m_copy_corners\u001b[49m\u001b[43m(\u001b[49m\u001b[43mfield\u001b[49m\u001b[43m,\u001b[49m\u001b[43m \u001b[49m\u001b[43mfield\u001b[49m\u001b[43m)\u001b[49m\n",
      "\n",
      "File \u001b[0;32m~/pace/dsl/pace/dsl/stencil.py:373\u001b[0m, in \u001b[0;36mFrozenStencil.__call__\u001b[0;34m(self, *args, **kwargs)\u001b[0m\n",
      "\u001b[1;32m    371\u001b[0m     \u001b[38;5;28;01mif\u001b[39;00m __debug__ \u001b[38;5;129;01mand\u001b[39;00m \u001b[38;5;124m\"\u001b[39m\u001b[38;5;124mdomain\u001b[39m\u001b[38;5;124m\"\u001b[39m \u001b[38;5;129;01min\u001b[39;00m kwargs:\n",
      "\u001b[1;32m    372\u001b[0m         \u001b[38;5;28;01mraise\u001b[39;00m \u001b[38;5;167;01mTypeError\u001b[39;00m(\u001b[38;5;124m\"\u001b[39m\u001b[38;5;124mdomain cannot be passed to FrozenStencil call\u001b[39m\u001b[38;5;124m\"\u001b[39m)\n",
      "\u001b[0;32m--> 373\u001b[0m     \u001b[38;5;28;43mself\u001b[39;49m\u001b[38;5;241;43m.\u001b[39;49m\u001b[43mstencil_object\u001b[49m\u001b[43m(\u001b[49m\n",
      "\u001b[1;32m    374\u001b[0m \u001b[43m        \u001b[49m\u001b[38;5;241;43m*\u001b[39;49m\u001b[43margs\u001b[49m\u001b[43m,\u001b[49m\n",
      "\u001b[1;32m    375\u001b[0m \u001b[43m        \u001b[49m\u001b[38;5;241;43m*\u001b[39;49m\u001b[38;5;241;43m*\u001b[39;49m\u001b[43mkwargs\u001b[49m\u001b[43m,\u001b[49m\n",
      "\u001b[1;32m    376\u001b[0m \u001b[43m        \u001b[49m\u001b[43morigin\u001b[49m\u001b[38;5;241;43m=\u001b[39;49m\u001b[38;5;28;43mself\u001b[39;49m\u001b[38;5;241;43m.\u001b[39;49m\u001b[43m_field_origins\u001b[49m\u001b[43m,\u001b[49m\n",
      "\u001b[1;32m    377\u001b[0m \u001b[43m        \u001b[49m\u001b[43mdomain\u001b[49m\u001b[38;5;241;43m=\u001b[39;49m\u001b[38;5;28;43mself\u001b[39;49m\u001b[38;5;241;43m.\u001b[39;49m\u001b[43mdomain\u001b[49m\u001b[43m,\u001b[49m\n",
      "\u001b[1;32m    378\u001b[0m \u001b[43m        \u001b[49m\u001b[43mvalidate_args\u001b[49m\u001b[38;5;241;43m=\u001b[39;49m\u001b[38;5;28;43;01mTrue\u001b[39;49;00m\u001b[43m,\u001b[49m\n",
      "\u001b[1;32m    379\u001b[0m \u001b[43m    \u001b[49m\u001b[43m)\u001b[49m\n",
      "\u001b[1;32m    380\u001b[0m \u001b[38;5;28;01melse\u001b[39;00m:\n",
      "\u001b[1;32m    381\u001b[0m     args_as_kwargs \u001b[38;5;241m=\u001b[39m \u001b[38;5;28mdict\u001b[39m(\u001b[38;5;28mzip\u001b[39m(\u001b[38;5;28mself\u001b[39m\u001b[38;5;241m.\u001b[39m_argument_names, args))\n",
      "\n",
      "File \u001b[0;32m~/pace/advection_test/.gt_cache_000005/py38_1013/numpy/pace/stencils/corners/copy_corners_y_stencil_defn/m_copy_corners_y_stencil_defn__numpy_f86aa2a12e.py:80\u001b[0m, in \u001b[0;36mcopy_corners_y_stencil_defn____numpy_f86aa2a12e.__call__\u001b[0;34m(self, q_in, q_out, domain, origin, validate_args, exec_info)\u001b[0m\n",
      "\u001b[1;32m     76\u001b[0m parameter_args\u001b[38;5;241m=\u001b[39m\u001b[38;5;28mdict\u001b[39m()\n",
      "\u001b[1;32m     77\u001b[0m \u001b[38;5;66;03m# assert that all required values have been provided\u001b[39;00m\n",
      "\u001b[0;32m---> 80\u001b[0m \u001b[38;5;28;43mself\u001b[39;49m\u001b[38;5;241;43m.\u001b[39;49m\u001b[43m_call_run\u001b[49m\u001b[43m(\u001b[49m\n",
      "\u001b[1;32m     81\u001b[0m \u001b[43m    \u001b[49m\u001b[43mfield_args\u001b[49m\u001b[38;5;241;43m=\u001b[39;49m\u001b[43mfield_args\u001b[49m\u001b[43m,\u001b[49m\n",
      "\u001b[1;32m     82\u001b[0m \u001b[43m    \u001b[49m\u001b[43mparameter_args\u001b[49m\u001b[38;5;241;43m=\u001b[39;49m\u001b[43mparameter_args\u001b[49m\u001b[43m,\u001b[49m\n",
      "\u001b[1;32m     83\u001b[0m \u001b[43m    \u001b[49m\u001b[43mdomain\u001b[49m\u001b[38;5;241;43m=\u001b[39;49m\u001b[43mdomain\u001b[49m\u001b[43m,\u001b[49m\n",
      "\u001b[1;32m     84\u001b[0m \u001b[43m    \u001b[49m\u001b[43morigin\u001b[49m\u001b[38;5;241;43m=\u001b[39;49m\u001b[43morigin\u001b[49m\u001b[43m,\u001b[49m\n",
      "\u001b[1;32m     85\u001b[0m \u001b[43m    \u001b[49m\u001b[43mvalidate_args\u001b[49m\u001b[38;5;241;43m=\u001b[39;49m\u001b[43mvalidate_args\u001b[49m\u001b[43m,\u001b[49m\n",
      "\u001b[1;32m     86\u001b[0m \u001b[43m    \u001b[49m\u001b[43mexec_info\u001b[49m\u001b[38;5;241;43m=\u001b[39;49m\u001b[43mexec_info\u001b[49m\u001b[43m,\u001b[49m\n",
      "\u001b[1;32m     87\u001b[0m \u001b[43m\u001b[49m\u001b[43m)\u001b[49m\n",
      "\u001b[1;32m     90\u001b[0m \u001b[38;5;28;01mif\u001b[39;00m exec_info \u001b[38;5;129;01mis\u001b[39;00m \u001b[38;5;129;01mnot\u001b[39;00m \u001b[38;5;28;01mNone\u001b[39;00m:\n",
      "\u001b[1;32m     91\u001b[0m     exec_info[\u001b[38;5;124m\"\u001b[39m\u001b[38;5;124mcall_end_time\u001b[39m\u001b[38;5;124m\"\u001b[39m] \u001b[38;5;241m=\u001b[39m time\u001b[38;5;241m.\u001b[39mperf_counter()\n",
      "\n",
      "File \u001b[0;32m~/pace/external/gt4py/src/gt4py/stencil_object.py:513\u001b[0m, in \u001b[0;36mStencilObject._call_run\u001b[0;34m(self, field_args, parameter_args, domain, origin, validate_args, exec_info)\u001b[0m\n",
      "\u001b[1;32m    510\u001b[0m         domain \u001b[38;5;241m=\u001b[39m \u001b[38;5;28mself\u001b[39m\u001b[38;5;241m.\u001b[39m_get_max_domain(field_args, origin)\n",
      "\u001b[1;32m    512\u001b[0m     \u001b[38;5;28;01mif\u001b[39;00m validate_args:\n",
      "\u001b[0;32m--> 513\u001b[0m         \u001b[38;5;28;43mself\u001b[39;49m\u001b[38;5;241;43m.\u001b[39;49m\u001b[43m_validate_args\u001b[49m\u001b[43m(\u001b[49m\u001b[43mfield_args\u001b[49m\u001b[43m,\u001b[49m\u001b[43m \u001b[49m\u001b[43mparameter_args\u001b[49m\u001b[43m,\u001b[49m\u001b[43m \u001b[49m\u001b[43mdomain\u001b[49m\u001b[43m,\u001b[49m\u001b[43m \u001b[49m\u001b[43morigin\u001b[49m\u001b[43m)\u001b[49m\n",
      "\u001b[1;32m    515\u001b[0m     \u001b[38;5;28mtype\u001b[39m(\u001b[38;5;28mself\u001b[39m)\u001b[38;5;241m.\u001b[39m_domain_origin_cache[cache_key] \u001b[38;5;241m=\u001b[39m (domain, origin)\n",
      "\u001b[1;32m    516\u001b[0m \u001b[38;5;28;01melse\u001b[39;00m:\n",
      "\n",
      "File \u001b[0;32m~/pace/external/gt4py/src/gt4py/stencil_object.py:327\u001b[0m, in \u001b[0;36mStencilObject._validate_args\u001b[0;34m(self, field_args, param_args, domain, origin)\u001b[0m\n",
      "\u001b[1;32m    324\u001b[0m     \u001b[38;5;28;01mraise\u001b[39;00m \u001b[38;5;167;01mValueError\u001b[39;00m(\u001b[38;5;124mf\u001b[39m\u001b[38;5;124m\"\u001b[39m\u001b[38;5;124mCompute domain contains zero sizes \u001b[39m\u001b[38;5;124m'\u001b[39m\u001b[38;5;132;01m{\u001b[39;00mdomain\u001b[38;5;132;01m}\u001b[39;00m\u001b[38;5;124m'\u001b[39m\u001b[38;5;124m)\u001b[39m\u001b[38;5;124m\"\u001b[39m)\n",
      "\u001b[1;32m    326\u001b[0m \u001b[38;5;28;01mif\u001b[39;00m \u001b[38;5;129;01mnot\u001b[39;00m domain \u001b[38;5;241m<\u001b[39m\u001b[38;5;241m=\u001b[39m (max_domain \u001b[38;5;241m:=\u001b[39m \u001b[38;5;28mself\u001b[39m\u001b[38;5;241m.\u001b[39m_get_max_domain(field_args, origin, squeeze\u001b[38;5;241m=\u001b[39m\u001b[38;5;28;01mFalse\u001b[39;00m)):\n",
      "\u001b[0;32m--> 327\u001b[0m     \u001b[38;5;28;01mraise\u001b[39;00m \u001b[38;5;167;01mValueError\u001b[39;00m(\n",
      "\u001b[1;32m    328\u001b[0m         \u001b[38;5;124mf\u001b[39m\u001b[38;5;124m\"\u001b[39m\u001b[38;5;124mCompute domain too large (provided: \u001b[39m\u001b[38;5;132;01m{\u001b[39;00mdomain\u001b[38;5;132;01m}\u001b[39;00m\u001b[38;5;124m, maximum: \u001b[39m\u001b[38;5;132;01m{\u001b[39;00mmax_domain\u001b[38;5;132;01m}\u001b[39;00m\u001b[38;5;124m)\u001b[39m\u001b[38;5;124m\"\u001b[39m\n",
      "\u001b[1;32m    329\u001b[0m     )\n",
      "\u001b[1;32m    331\u001b[0m \u001b[38;5;28;01mif\u001b[39;00m domain[\u001b[38;5;241m2\u001b[39m] \u001b[38;5;241m<\u001b[39m \u001b[38;5;28mself\u001b[39m\u001b[38;5;241m.\u001b[39mdomain_info\u001b[38;5;241m.\u001b[39mmin_sequential_axis_size:\n",
      "\u001b[1;32m    332\u001b[0m     \u001b[38;5;28;01mraise\u001b[39;00m \u001b[38;5;167;01mValueError\u001b[39;00m(\n",
      "\u001b[1;32m    333\u001b[0m         \u001b[38;5;124mf\u001b[39m\u001b[38;5;124m\"\u001b[39m\u001b[38;5;124mCompute domain too small. Sequential axis is \u001b[39m\u001b[38;5;132;01m{\u001b[39;00mdomain[\u001b[38;5;241m2\u001b[39m]\u001b[38;5;132;01m}\u001b[39;00m\u001b[38;5;124m, but must be at least \u001b[39m\u001b[38;5;132;01m{\u001b[39;00m\u001b[38;5;28mself\u001b[39m\u001b[38;5;241m.\u001b[39mdomain_info\u001b[38;5;241m.\u001b[39mmin_sequential_axis_size\u001b[38;5;132;01m}\u001b[39;00m\u001b[38;5;124m.\u001b[39m\u001b[38;5;124m\"\u001b[39m\n",
      "\u001b[1;32m    334\u001b[0m     )\n",
      "\n",
      "\u001b[0;31mValueError\u001b[0m: Compute domain too large (provided: (105, 105, 2), maximum: (106, 106, 1))\n",
      "[3:execute]\n",
      "\u001b[0;31m---------------------------------------------------------------------------\u001b[0m\n",
      "\u001b[0;31mValueError\u001b[0m                                Traceback (most recent call last)\n",
      "Input \u001b[0;32mIn [202]\u001b[0m, in \u001b[0;36m<cell line: 13>\u001b[0;34m()\u001b[0m\n",
      "\u001b[1;32m     10\u001b[0m tracers \u001b[38;5;241m=\u001b[39m {\u001b[38;5;124m'\u001b[39m\u001b[38;5;124mqvapor\u001b[39m\u001b[38;5;124m'\u001b[39m: qvapor}\n",
      "\u001b[1;32m     12\u001b[0m fvtp2d \u001b[38;5;241m=\u001b[39m FiniteVolumeTransport(configuration[\u001b[38;5;124m'\u001b[39m\u001b[38;5;124mstencil_factory\u001b[39m\u001b[38;5;124m'\u001b[39m], configuration[\u001b[38;5;124m'\u001b[39m\u001b[38;5;124mgrid_data\u001b[39m\u001b[38;5;124m'\u001b[39m], configuration[\u001b[38;5;124m'\u001b[39m\u001b[38;5;124mdamping_coefficients\u001b[39m\u001b[38;5;124m'\u001b[39m], grid_type, hord)\n",
      "\u001b[0;32m---> 13\u001b[0m fvTransport \u001b[38;5;241m=\u001b[39m fvtp2d(tracers[\u001b[38;5;124m'\u001b[39m\u001b[38;5;124mqvapor\u001b[39m\u001b[38;5;124m'\u001b[39m], crx, cry, xaf, yaf, qfx, qfy)\n",
      "\n",
      "File \u001b[0;32m~/pace/fv3core/fv3core/stencils/fvtp2d.py:300\u001b[0m, in \u001b[0;36mFiniteVolumeTransport.__call__\u001b[0;34m(self, q, crx, cry, x_area_flux, y_area_flux, q_x_flux, q_y_flux, x_mass_flux, y_mass_flux, mass)\u001b[0m\n",
      "\u001b[1;32m    294\u001b[0m     y_unit_flux \u001b[38;5;241m=\u001b[39m y_mass_flux\n",
      "\u001b[1;32m    296\u001b[0m \u001b[38;5;66;03m# TODO: consider whether to refactor xppm/yppm to output fluxes by also taking\u001b[39;00m\n",
      "\u001b[1;32m    297\u001b[0m \u001b[38;5;66;03m# y_area_flux as an input (flux = area_flux * advected_mean), since a flux is\u001b[39;00m\n",
      "\u001b[1;32m    298\u001b[0m \u001b[38;5;66;03m# easier to understand than the current output. This would be like merging\u001b[39;00m\n",
      "\u001b[1;32m    299\u001b[0m \u001b[38;5;66;03m# yppm with q_i_stencil and xppm with q_j_stencil.\u001b[39;00m\n",
      "\u001b[0;32m--> 300\u001b[0m \u001b[38;5;28;43mself\u001b[39;49m\u001b[38;5;241;43m.\u001b[39;49m\u001b[43m_copy_corners_y\u001b[49m\u001b[43m(\u001b[49m\u001b[43mq\u001b[49m\u001b[43m)\u001b[49m\n",
      "\u001b[1;32m    301\u001b[0m \u001b[38;5;28mself\u001b[39m\u001b[38;5;241m.\u001b[39my_piecewise_parabolic_inner(q, cry, \u001b[38;5;28mself\u001b[39m\u001b[38;5;241m.\u001b[39m_q_y_advected_mean)\n",
      "\u001b[1;32m    302\u001b[0m \u001b[38;5;66;03m# q_y_advected_mean is 1/Delta_area * curly-F, where curly-F is defined in\u001b[39;00m\n",
      "\u001b[1;32m    303\u001b[0m \u001b[38;5;66;03m# equation 4.3 of the FV3 documentation and Delta_area is the advected area\u001b[39;00m\n",
      "\u001b[1;32m    304\u001b[0m \u001b[38;5;66;03m# (y_area_flux)\u001b[39;00m\n",
      "\n",
      "File \u001b[0;32m~/pace/stencils/pace/stencils/corners.py:60\u001b[0m, in \u001b[0;36mCopyCorners.__call__\u001b[0;34m(self, field)\u001b[0m\n",
      "\u001b[1;32m     55\u001b[0m \u001b[38;5;28;01mdef\u001b[39;00m \u001b[38;5;21m__call__\u001b[39m(\u001b[38;5;28mself\u001b[39m, field: FloatField):\n",
      "\u001b[1;32m     56\u001b[0m     \u001b[38;5;124;03m\"\"\"\u001b[39;00m\n",
      "\u001b[1;32m     57\u001b[0m \u001b[38;5;124;03m    Fills cell quantity field using corners from itself and multipliers\u001b[39;00m\n",
      "\u001b[1;32m     58\u001b[0m \u001b[38;5;124;03m    in the dirction specified initialization of the instance of this class.\u001b[39;00m\n",
      "\u001b[1;32m     59\u001b[0m \u001b[38;5;124;03m    \"\"\"\u001b[39;00m\n",
      "\u001b[0;32m---> 60\u001b[0m     \u001b[38;5;28;43mself\u001b[39;49m\u001b[38;5;241;43m.\u001b[39;49m\u001b[43m_copy_corners\u001b[49m\u001b[43m(\u001b[49m\u001b[43mfield\u001b[49m\u001b[43m,\u001b[49m\u001b[43m \u001b[49m\u001b[43mfield\u001b[49m\u001b[43m)\u001b[49m\n",
      "\n",
      "File \u001b[0;32m~/pace/dsl/pace/dsl/stencil.py:373\u001b[0m, in \u001b[0;36mFrozenStencil.__call__\u001b[0;34m(self, *args, **kwargs)\u001b[0m\n",
      "\u001b[1;32m    371\u001b[0m     \u001b[38;5;28;01mif\u001b[39;00m __debug__ \u001b[38;5;129;01mand\u001b[39;00m \u001b[38;5;124m\"\u001b[39m\u001b[38;5;124mdomain\u001b[39m\u001b[38;5;124m\"\u001b[39m \u001b[38;5;129;01min\u001b[39;00m kwargs:\n",
      "\u001b[1;32m    372\u001b[0m         \u001b[38;5;28;01mraise\u001b[39;00m \u001b[38;5;167;01mTypeError\u001b[39;00m(\u001b[38;5;124m\"\u001b[39m\u001b[38;5;124mdomain cannot be passed to FrozenStencil call\u001b[39m\u001b[38;5;124m\"\u001b[39m)\n",
      "\u001b[0;32m--> 373\u001b[0m     \u001b[38;5;28;43mself\u001b[39;49m\u001b[38;5;241;43m.\u001b[39;49m\u001b[43mstencil_object\u001b[49m\u001b[43m(\u001b[49m\n",
      "\u001b[1;32m    374\u001b[0m \u001b[43m        \u001b[49m\u001b[38;5;241;43m*\u001b[39;49m\u001b[43margs\u001b[49m\u001b[43m,\u001b[49m\n",
      "\u001b[1;32m    375\u001b[0m \u001b[43m        \u001b[49m\u001b[38;5;241;43m*\u001b[39;49m\u001b[38;5;241;43m*\u001b[39;49m\u001b[43mkwargs\u001b[49m\u001b[43m,\u001b[49m\n",
      "\u001b[1;32m    376\u001b[0m \u001b[43m        \u001b[49m\u001b[43morigin\u001b[49m\u001b[38;5;241;43m=\u001b[39;49m\u001b[38;5;28;43mself\u001b[39;49m\u001b[38;5;241;43m.\u001b[39;49m\u001b[43m_field_origins\u001b[49m\u001b[43m,\u001b[49m\n",
      "\u001b[1;32m    377\u001b[0m \u001b[43m        \u001b[49m\u001b[43mdomain\u001b[49m\u001b[38;5;241;43m=\u001b[39;49m\u001b[38;5;28;43mself\u001b[39;49m\u001b[38;5;241;43m.\u001b[39;49m\u001b[43mdomain\u001b[49m\u001b[43m,\u001b[49m\n",
      "\u001b[1;32m    378\u001b[0m \u001b[43m        \u001b[49m\u001b[43mvalidate_args\u001b[49m\u001b[38;5;241;43m=\u001b[39;49m\u001b[38;5;28;43;01mTrue\u001b[39;49;00m\u001b[43m,\u001b[49m\n",
      "\u001b[1;32m    379\u001b[0m \u001b[43m    \u001b[49m\u001b[43m)\u001b[49m\n",
      "\u001b[1;32m    380\u001b[0m \u001b[38;5;28;01melse\u001b[39;00m:\n",
      "\u001b[1;32m    381\u001b[0m     args_as_kwargs \u001b[38;5;241m=\u001b[39m \u001b[38;5;28mdict\u001b[39m(\u001b[38;5;28mzip\u001b[39m(\u001b[38;5;28mself\u001b[39m\u001b[38;5;241m.\u001b[39m_argument_names, args))\n",
      "\n",
      "File \u001b[0;32m~/pace/advection_test/.gt_cache_000003/py38_1013/numpy/pace/stencils/corners/copy_corners_y_stencil_defn/m_copy_corners_y_stencil_defn__numpy_f86aa2a12e.py:80\u001b[0m, in \u001b[0;36mcopy_corners_y_stencil_defn____numpy_f86aa2a12e.__call__\u001b[0;34m(self, q_in, q_out, domain, origin, validate_args, exec_info)\u001b[0m\n",
      "\u001b[1;32m     76\u001b[0m parameter_args\u001b[38;5;241m=\u001b[39m\u001b[38;5;28mdict\u001b[39m()\n",
      "\u001b[1;32m     77\u001b[0m \u001b[38;5;66;03m# assert that all required values have been provided\u001b[39;00m\n",
      "\u001b[0;32m---> 80\u001b[0m \u001b[38;5;28;43mself\u001b[39;49m\u001b[38;5;241;43m.\u001b[39;49m\u001b[43m_call_run\u001b[49m\u001b[43m(\u001b[49m\n",
      "\u001b[1;32m     81\u001b[0m \u001b[43m    \u001b[49m\u001b[43mfield_args\u001b[49m\u001b[38;5;241;43m=\u001b[39;49m\u001b[43mfield_args\u001b[49m\u001b[43m,\u001b[49m\n",
      "\u001b[1;32m     82\u001b[0m \u001b[43m    \u001b[49m\u001b[43mparameter_args\u001b[49m\u001b[38;5;241;43m=\u001b[39;49m\u001b[43mparameter_args\u001b[49m\u001b[43m,\u001b[49m\n",
      "\u001b[1;32m     83\u001b[0m \u001b[43m    \u001b[49m\u001b[43mdomain\u001b[49m\u001b[38;5;241;43m=\u001b[39;49m\u001b[43mdomain\u001b[49m\u001b[43m,\u001b[49m\n",
      "\u001b[1;32m     84\u001b[0m \u001b[43m    \u001b[49m\u001b[43morigin\u001b[49m\u001b[38;5;241;43m=\u001b[39;49m\u001b[43morigin\u001b[49m\u001b[43m,\u001b[49m\n",
      "\u001b[1;32m     85\u001b[0m \u001b[43m    \u001b[49m\u001b[43mvalidate_args\u001b[49m\u001b[38;5;241;43m=\u001b[39;49m\u001b[43mvalidate_args\u001b[49m\u001b[43m,\u001b[49m\n",
      "\u001b[1;32m     86\u001b[0m \u001b[43m    \u001b[49m\u001b[43mexec_info\u001b[49m\u001b[38;5;241;43m=\u001b[39;49m\u001b[43mexec_info\u001b[49m\u001b[43m,\u001b[49m\n",
      "\u001b[1;32m     87\u001b[0m \u001b[43m\u001b[49m\u001b[43m)\u001b[49m\n",
      "\u001b[1;32m     90\u001b[0m \u001b[38;5;28;01mif\u001b[39;00m exec_info \u001b[38;5;129;01mis\u001b[39;00m \u001b[38;5;129;01mnot\u001b[39;00m \u001b[38;5;28;01mNone\u001b[39;00m:\n",
      "\u001b[1;32m     91\u001b[0m     exec_info[\u001b[38;5;124m\"\u001b[39m\u001b[38;5;124mcall_end_time\u001b[39m\u001b[38;5;124m\"\u001b[39m] \u001b[38;5;241m=\u001b[39m time\u001b[38;5;241m.\u001b[39mperf_counter()\n",
      "\n",
      "File \u001b[0;32m~/pace/external/gt4py/src/gt4py/stencil_object.py:513\u001b[0m, in \u001b[0;36mStencilObject._call_run\u001b[0;34m(self, field_args, parameter_args, domain, origin, validate_args, exec_info)\u001b[0m\n",
      "\u001b[1;32m    510\u001b[0m         domain \u001b[38;5;241m=\u001b[39m \u001b[38;5;28mself\u001b[39m\u001b[38;5;241m.\u001b[39m_get_max_domain(field_args, origin)\n",
      "\u001b[1;32m    512\u001b[0m     \u001b[38;5;28;01mif\u001b[39;00m validate_args:\n",
      "\u001b[0;32m--> 513\u001b[0m         \u001b[38;5;28;43mself\u001b[39;49m\u001b[38;5;241;43m.\u001b[39;49m\u001b[43m_validate_args\u001b[49m\u001b[43m(\u001b[49m\u001b[43mfield_args\u001b[49m\u001b[43m,\u001b[49m\u001b[43m \u001b[49m\u001b[43mparameter_args\u001b[49m\u001b[43m,\u001b[49m\u001b[43m \u001b[49m\u001b[43mdomain\u001b[49m\u001b[43m,\u001b[49m\u001b[43m \u001b[49m\u001b[43morigin\u001b[49m\u001b[43m)\u001b[49m\n",
      "\u001b[1;32m    515\u001b[0m     \u001b[38;5;28mtype\u001b[39m(\u001b[38;5;28mself\u001b[39m)\u001b[38;5;241m.\u001b[39m_domain_origin_cache[cache_key] \u001b[38;5;241m=\u001b[39m (domain, origin)\n",
      "\u001b[1;32m    516\u001b[0m \u001b[38;5;28;01melse\u001b[39;00m:\n",
      "\n",
      "File \u001b[0;32m~/pace/external/gt4py/src/gt4py/stencil_object.py:327\u001b[0m, in \u001b[0;36mStencilObject._validate_args\u001b[0;34m(self, field_args, param_args, domain, origin)\u001b[0m\n",
      "\u001b[1;32m    324\u001b[0m     \u001b[38;5;28;01mraise\u001b[39;00m \u001b[38;5;167;01mValueError\u001b[39;00m(\u001b[38;5;124mf\u001b[39m\u001b[38;5;124m\"\u001b[39m\u001b[38;5;124mCompute domain contains zero sizes \u001b[39m\u001b[38;5;124m'\u001b[39m\u001b[38;5;132;01m{\u001b[39;00mdomain\u001b[38;5;132;01m}\u001b[39;00m\u001b[38;5;124m'\u001b[39m\u001b[38;5;124m)\u001b[39m\u001b[38;5;124m\"\u001b[39m)\n",
      "\u001b[1;32m    326\u001b[0m \u001b[38;5;28;01mif\u001b[39;00m \u001b[38;5;129;01mnot\u001b[39;00m domain \u001b[38;5;241m<\u001b[39m\u001b[38;5;241m=\u001b[39m (max_domain \u001b[38;5;241m:=\u001b[39m \u001b[38;5;28mself\u001b[39m\u001b[38;5;241m.\u001b[39m_get_max_domain(field_args, origin, squeeze\u001b[38;5;241m=\u001b[39m\u001b[38;5;28;01mFalse\u001b[39;00m)):\n",
      "\u001b[0;32m--> 327\u001b[0m     \u001b[38;5;28;01mraise\u001b[39;00m \u001b[38;5;167;01mValueError\u001b[39;00m(\n",
      "\u001b[1;32m    328\u001b[0m         \u001b[38;5;124mf\u001b[39m\u001b[38;5;124m\"\u001b[39m\u001b[38;5;124mCompute domain too large (provided: \u001b[39m\u001b[38;5;132;01m{\u001b[39;00mdomain\u001b[38;5;132;01m}\u001b[39;00m\u001b[38;5;124m, maximum: \u001b[39m\u001b[38;5;132;01m{\u001b[39;00mmax_domain\u001b[38;5;132;01m}\u001b[39;00m\u001b[38;5;124m)\u001b[39m\u001b[38;5;124m\"\u001b[39m\n",
      "\u001b[1;32m    329\u001b[0m     )\n",
      "\u001b[1;32m    331\u001b[0m \u001b[38;5;28;01mif\u001b[39;00m domain[\u001b[38;5;241m2\u001b[39m] \u001b[38;5;241m<\u001b[39m \u001b[38;5;28mself\u001b[39m\u001b[38;5;241m.\u001b[39mdomain_info\u001b[38;5;241m.\u001b[39mmin_sequential_axis_size:\n",
      "\u001b[1;32m    332\u001b[0m     \u001b[38;5;28;01mraise\u001b[39;00m \u001b[38;5;167;01mValueError\u001b[39;00m(\n",
      "\u001b[1;32m    333\u001b[0m         \u001b[38;5;124mf\u001b[39m\u001b[38;5;124m\"\u001b[39m\u001b[38;5;124mCompute domain too small. Sequential axis is \u001b[39m\u001b[38;5;132;01m{\u001b[39;00mdomain[\u001b[38;5;241m2\u001b[39m]\u001b[38;5;132;01m}\u001b[39;00m\u001b[38;5;124m, but must be at least \u001b[39m\u001b[38;5;132;01m{\u001b[39;00m\u001b[38;5;28mself\u001b[39m\u001b[38;5;241m.\u001b[39mdomain_info\u001b[38;5;241m.\u001b[39mmin_sequential_axis_size\u001b[38;5;132;01m}\u001b[39;00m\u001b[38;5;124m.\u001b[39m\u001b[38;5;124m\"\u001b[39m\n",
      "\u001b[1;32m    334\u001b[0m     )\n",
      "\n",
      "\u001b[0;31mValueError\u001b[0m: Compute domain too large (provided: (105, 105, 2), maximum: (106, 106, 1))\n",
      "[2:execute]\n",
      "\u001b[0;31m---------------------------------------------------------------------------\u001b[0m\n",
      "\u001b[0;31mValueError\u001b[0m                                Traceback (most recent call last)\n",
      "Input \u001b[0;32mIn [202]\u001b[0m, in \u001b[0;36m<cell line: 13>\u001b[0;34m()\u001b[0m\n",
      "\u001b[1;32m     10\u001b[0m tracers \u001b[38;5;241m=\u001b[39m {\u001b[38;5;124m'\u001b[39m\u001b[38;5;124mqvapor\u001b[39m\u001b[38;5;124m'\u001b[39m: qvapor}\n",
      "\u001b[1;32m     12\u001b[0m fvtp2d \u001b[38;5;241m=\u001b[39m FiniteVolumeTransport(configuration[\u001b[38;5;124m'\u001b[39m\u001b[38;5;124mstencil_factory\u001b[39m\u001b[38;5;124m'\u001b[39m], configuration[\u001b[38;5;124m'\u001b[39m\u001b[38;5;124mgrid_data\u001b[39m\u001b[38;5;124m'\u001b[39m], configuration[\u001b[38;5;124m'\u001b[39m\u001b[38;5;124mdamping_coefficients\u001b[39m\u001b[38;5;124m'\u001b[39m], grid_type, hord)\n",
      "\u001b[0;32m---> 13\u001b[0m fvTransport \u001b[38;5;241m=\u001b[39m fvtp2d(tracers[\u001b[38;5;124m'\u001b[39m\u001b[38;5;124mqvapor\u001b[39m\u001b[38;5;124m'\u001b[39m], crx, cry, xaf, yaf, qfx, qfy)\n",
      "\n",
      "File \u001b[0;32m~/pace/fv3core/fv3core/stencils/fvtp2d.py:300\u001b[0m, in \u001b[0;36mFiniteVolumeTransport.__call__\u001b[0;34m(self, q, crx, cry, x_area_flux, y_area_flux, q_x_flux, q_y_flux, x_mass_flux, y_mass_flux, mass)\u001b[0m\n",
      "\u001b[1;32m    294\u001b[0m     y_unit_flux \u001b[38;5;241m=\u001b[39m y_mass_flux\n",
      "\u001b[1;32m    296\u001b[0m \u001b[38;5;66;03m# TODO: consider whether to refactor xppm/yppm to output fluxes by also taking\u001b[39;00m\n",
      "\u001b[1;32m    297\u001b[0m \u001b[38;5;66;03m# y_area_flux as an input (flux = area_flux * advected_mean), since a flux is\u001b[39;00m\n",
      "\u001b[1;32m    298\u001b[0m \u001b[38;5;66;03m# easier to understand than the current output. This would be like merging\u001b[39;00m\n",
      "\u001b[1;32m    299\u001b[0m \u001b[38;5;66;03m# yppm with q_i_stencil and xppm with q_j_stencil.\u001b[39;00m\n",
      "\u001b[0;32m--> 300\u001b[0m \u001b[38;5;28;43mself\u001b[39;49m\u001b[38;5;241;43m.\u001b[39;49m\u001b[43m_copy_corners_y\u001b[49m\u001b[43m(\u001b[49m\u001b[43mq\u001b[49m\u001b[43m)\u001b[49m\n",
      "\u001b[1;32m    301\u001b[0m \u001b[38;5;28mself\u001b[39m\u001b[38;5;241m.\u001b[39my_piecewise_parabolic_inner(q, cry, \u001b[38;5;28mself\u001b[39m\u001b[38;5;241m.\u001b[39m_q_y_advected_mean)\n",
      "\u001b[1;32m    302\u001b[0m \u001b[38;5;66;03m# q_y_advected_mean is 1/Delta_area * curly-F, where curly-F is defined in\u001b[39;00m\n",
      "\u001b[1;32m    303\u001b[0m \u001b[38;5;66;03m# equation 4.3 of the FV3 documentation and Delta_area is the advected area\u001b[39;00m\n",
      "\u001b[1;32m    304\u001b[0m \u001b[38;5;66;03m# (y_area_flux)\u001b[39;00m\n",
      "\n",
      "File \u001b[0;32m~/pace/stencils/pace/stencils/corners.py:60\u001b[0m, in \u001b[0;36mCopyCorners.__call__\u001b[0;34m(self, field)\u001b[0m\n",
      "\u001b[1;32m     55\u001b[0m \u001b[38;5;28;01mdef\u001b[39;00m \u001b[38;5;21m__call__\u001b[39m(\u001b[38;5;28mself\u001b[39m, field: FloatField):\n",
      "\u001b[1;32m     56\u001b[0m     \u001b[38;5;124;03m\"\"\"\u001b[39;00m\n",
      "\u001b[1;32m     57\u001b[0m \u001b[38;5;124;03m    Fills cell quantity field using corners from itself and multipliers\u001b[39;00m\n",
      "\u001b[1;32m     58\u001b[0m \u001b[38;5;124;03m    in the dirction specified initialization of the instance of this class.\u001b[39;00m\n",
      "\u001b[1;32m     59\u001b[0m \u001b[38;5;124;03m    \"\"\"\u001b[39;00m\n",
      "\u001b[0;32m---> 60\u001b[0m     \u001b[38;5;28;43mself\u001b[39;49m\u001b[38;5;241;43m.\u001b[39;49m\u001b[43m_copy_corners\u001b[49m\u001b[43m(\u001b[49m\u001b[43mfield\u001b[49m\u001b[43m,\u001b[49m\u001b[43m \u001b[49m\u001b[43mfield\u001b[49m\u001b[43m)\u001b[49m\n",
      "\n",
      "File \u001b[0;32m~/pace/dsl/pace/dsl/stencil.py:373\u001b[0m, in \u001b[0;36mFrozenStencil.__call__\u001b[0;34m(self, *args, **kwargs)\u001b[0m\n",
      "\u001b[1;32m    371\u001b[0m     \u001b[38;5;28;01mif\u001b[39;00m __debug__ \u001b[38;5;129;01mand\u001b[39;00m \u001b[38;5;124m\"\u001b[39m\u001b[38;5;124mdomain\u001b[39m\u001b[38;5;124m\"\u001b[39m \u001b[38;5;129;01min\u001b[39;00m kwargs:\n",
      "\u001b[1;32m    372\u001b[0m         \u001b[38;5;28;01mraise\u001b[39;00m \u001b[38;5;167;01mTypeError\u001b[39;00m(\u001b[38;5;124m\"\u001b[39m\u001b[38;5;124mdomain cannot be passed to FrozenStencil call\u001b[39m\u001b[38;5;124m\"\u001b[39m)\n",
      "\u001b[0;32m--> 373\u001b[0m     \u001b[38;5;28;43mself\u001b[39;49m\u001b[38;5;241;43m.\u001b[39;49m\u001b[43mstencil_object\u001b[49m\u001b[43m(\u001b[49m\n",
      "\u001b[1;32m    374\u001b[0m \u001b[43m        \u001b[49m\u001b[38;5;241;43m*\u001b[39;49m\u001b[43margs\u001b[49m\u001b[43m,\u001b[49m\n",
      "\u001b[1;32m    375\u001b[0m \u001b[43m        \u001b[49m\u001b[38;5;241;43m*\u001b[39;49m\u001b[38;5;241;43m*\u001b[39;49m\u001b[43mkwargs\u001b[49m\u001b[43m,\u001b[49m\n",
      "\u001b[1;32m    376\u001b[0m \u001b[43m        \u001b[49m\u001b[43morigin\u001b[49m\u001b[38;5;241;43m=\u001b[39;49m\u001b[38;5;28;43mself\u001b[39;49m\u001b[38;5;241;43m.\u001b[39;49m\u001b[43m_field_origins\u001b[49m\u001b[43m,\u001b[49m\n",
      "\u001b[1;32m    377\u001b[0m \u001b[43m        \u001b[49m\u001b[43mdomain\u001b[49m\u001b[38;5;241;43m=\u001b[39;49m\u001b[38;5;28;43mself\u001b[39;49m\u001b[38;5;241;43m.\u001b[39;49m\u001b[43mdomain\u001b[49m\u001b[43m,\u001b[49m\n",
      "\u001b[1;32m    378\u001b[0m \u001b[43m        \u001b[49m\u001b[43mvalidate_args\u001b[49m\u001b[38;5;241;43m=\u001b[39;49m\u001b[38;5;28;43;01mTrue\u001b[39;49;00m\u001b[43m,\u001b[49m\n",
      "\u001b[1;32m    379\u001b[0m \u001b[43m    \u001b[49m\u001b[43m)\u001b[49m\n",
      "\u001b[1;32m    380\u001b[0m \u001b[38;5;28;01melse\u001b[39;00m:\n",
      "\u001b[1;32m    381\u001b[0m     args_as_kwargs \u001b[38;5;241m=\u001b[39m \u001b[38;5;28mdict\u001b[39m(\u001b[38;5;28mzip\u001b[39m(\u001b[38;5;28mself\u001b[39m\u001b[38;5;241m.\u001b[39m_argument_names, args))\n",
      "\n",
      "File \u001b[0;32m~/pace/advection_test/.gt_cache_000002/py38_1013/numpy/pace/stencils/corners/copy_corners_y_stencil_defn/m_copy_corners_y_stencil_defn__numpy_f86aa2a12e.py:80\u001b[0m, in \u001b[0;36mcopy_corners_y_stencil_defn____numpy_f86aa2a12e.__call__\u001b[0;34m(self, q_in, q_out, domain, origin, validate_args, exec_info)\u001b[0m\n",
      "\u001b[1;32m     76\u001b[0m parameter_args\u001b[38;5;241m=\u001b[39m\u001b[38;5;28mdict\u001b[39m()\n",
      "\u001b[1;32m     77\u001b[0m \u001b[38;5;66;03m# assert that all required values have been provided\u001b[39;00m\n",
      "\u001b[0;32m---> 80\u001b[0m \u001b[38;5;28;43mself\u001b[39;49m\u001b[38;5;241;43m.\u001b[39;49m\u001b[43m_call_run\u001b[49m\u001b[43m(\u001b[49m\n",
      "\u001b[1;32m     81\u001b[0m \u001b[43m    \u001b[49m\u001b[43mfield_args\u001b[49m\u001b[38;5;241;43m=\u001b[39;49m\u001b[43mfield_args\u001b[49m\u001b[43m,\u001b[49m\n",
      "\u001b[1;32m     82\u001b[0m \u001b[43m    \u001b[49m\u001b[43mparameter_args\u001b[49m\u001b[38;5;241;43m=\u001b[39;49m\u001b[43mparameter_args\u001b[49m\u001b[43m,\u001b[49m\n",
      "\u001b[1;32m     83\u001b[0m \u001b[43m    \u001b[49m\u001b[43mdomain\u001b[49m\u001b[38;5;241;43m=\u001b[39;49m\u001b[43mdomain\u001b[49m\u001b[43m,\u001b[49m\n",
      "\u001b[1;32m     84\u001b[0m \u001b[43m    \u001b[49m\u001b[43morigin\u001b[49m\u001b[38;5;241;43m=\u001b[39;49m\u001b[43morigin\u001b[49m\u001b[43m,\u001b[49m\n",
      "\u001b[1;32m     85\u001b[0m \u001b[43m    \u001b[49m\u001b[43mvalidate_args\u001b[49m\u001b[38;5;241;43m=\u001b[39;49m\u001b[43mvalidate_args\u001b[49m\u001b[43m,\u001b[49m\n",
      "\u001b[1;32m     86\u001b[0m \u001b[43m    \u001b[49m\u001b[43mexec_info\u001b[49m\u001b[38;5;241;43m=\u001b[39;49m\u001b[43mexec_info\u001b[49m\u001b[43m,\u001b[49m\n",
      "\u001b[1;32m     87\u001b[0m \u001b[43m\u001b[49m\u001b[43m)\u001b[49m\n",
      "\u001b[1;32m     90\u001b[0m \u001b[38;5;28;01mif\u001b[39;00m exec_info \u001b[38;5;129;01mis\u001b[39;00m \u001b[38;5;129;01mnot\u001b[39;00m \u001b[38;5;28;01mNone\u001b[39;00m:\n",
      "\u001b[1;32m     91\u001b[0m     exec_info[\u001b[38;5;124m\"\u001b[39m\u001b[38;5;124mcall_end_time\u001b[39m\u001b[38;5;124m\"\u001b[39m] \u001b[38;5;241m=\u001b[39m time\u001b[38;5;241m.\u001b[39mperf_counter()\n",
      "\n",
      "File \u001b[0;32m~/pace/external/gt4py/src/gt4py/stencil_object.py:513\u001b[0m, in \u001b[0;36mStencilObject._call_run\u001b[0;34m(self, field_args, parameter_args, domain, origin, validate_args, exec_info)\u001b[0m\n",
      "\u001b[1;32m    510\u001b[0m         domain \u001b[38;5;241m=\u001b[39m \u001b[38;5;28mself\u001b[39m\u001b[38;5;241m.\u001b[39m_get_max_domain(field_args, origin)\n",
      "\u001b[1;32m    512\u001b[0m     \u001b[38;5;28;01mif\u001b[39;00m validate_args:\n",
      "\u001b[0;32m--> 513\u001b[0m         \u001b[38;5;28;43mself\u001b[39;49m\u001b[38;5;241;43m.\u001b[39;49m\u001b[43m_validate_args\u001b[49m\u001b[43m(\u001b[49m\u001b[43mfield_args\u001b[49m\u001b[43m,\u001b[49m\u001b[43m \u001b[49m\u001b[43mparameter_args\u001b[49m\u001b[43m,\u001b[49m\u001b[43m \u001b[49m\u001b[43mdomain\u001b[49m\u001b[43m,\u001b[49m\u001b[43m \u001b[49m\u001b[43morigin\u001b[49m\u001b[43m)\u001b[49m\n",
      "\u001b[1;32m    515\u001b[0m     \u001b[38;5;28mtype\u001b[39m(\u001b[38;5;28mself\u001b[39m)\u001b[38;5;241m.\u001b[39m_domain_origin_cache[cache_key] \u001b[38;5;241m=\u001b[39m (domain, origin)\n",
      "\u001b[1;32m    516\u001b[0m \u001b[38;5;28;01melse\u001b[39;00m:\n",
      "\n",
      "File \u001b[0;32m~/pace/external/gt4py/src/gt4py/stencil_object.py:327\u001b[0m, in \u001b[0;36mStencilObject._validate_args\u001b[0;34m(self, field_args, param_args, domain, origin)\u001b[0m\n",
      "\u001b[1;32m    324\u001b[0m     \u001b[38;5;28;01mraise\u001b[39;00m \u001b[38;5;167;01mValueError\u001b[39;00m(\u001b[38;5;124mf\u001b[39m\u001b[38;5;124m\"\u001b[39m\u001b[38;5;124mCompute domain contains zero sizes \u001b[39m\u001b[38;5;124m'\u001b[39m\u001b[38;5;132;01m{\u001b[39;00mdomain\u001b[38;5;132;01m}\u001b[39;00m\u001b[38;5;124m'\u001b[39m\u001b[38;5;124m)\u001b[39m\u001b[38;5;124m\"\u001b[39m)\n",
      "\u001b[1;32m    326\u001b[0m \u001b[38;5;28;01mif\u001b[39;00m \u001b[38;5;129;01mnot\u001b[39;00m domain \u001b[38;5;241m<\u001b[39m\u001b[38;5;241m=\u001b[39m (max_domain \u001b[38;5;241m:=\u001b[39m \u001b[38;5;28mself\u001b[39m\u001b[38;5;241m.\u001b[39m_get_max_domain(field_args, origin, squeeze\u001b[38;5;241m=\u001b[39m\u001b[38;5;28;01mFalse\u001b[39;00m)):\n",
      "\u001b[0;32m--> 327\u001b[0m     \u001b[38;5;28;01mraise\u001b[39;00m \u001b[38;5;167;01mValueError\u001b[39;00m(\n",
      "\u001b[1;32m    328\u001b[0m         \u001b[38;5;124mf\u001b[39m\u001b[38;5;124m\"\u001b[39m\u001b[38;5;124mCompute domain too large (provided: \u001b[39m\u001b[38;5;132;01m{\u001b[39;00mdomain\u001b[38;5;132;01m}\u001b[39;00m\u001b[38;5;124m, maximum: \u001b[39m\u001b[38;5;132;01m{\u001b[39;00mmax_domain\u001b[38;5;132;01m}\u001b[39;00m\u001b[38;5;124m)\u001b[39m\u001b[38;5;124m\"\u001b[39m\n",
      "\u001b[1;32m    329\u001b[0m     )\n",
      "\u001b[1;32m    331\u001b[0m \u001b[38;5;28;01mif\u001b[39;00m domain[\u001b[38;5;241m2\u001b[39m] \u001b[38;5;241m<\u001b[39m \u001b[38;5;28mself\u001b[39m\u001b[38;5;241m.\u001b[39mdomain_info\u001b[38;5;241m.\u001b[39mmin_sequential_axis_size:\n",
      "\u001b[1;32m    332\u001b[0m     \u001b[38;5;28;01mraise\u001b[39;00m \u001b[38;5;167;01mValueError\u001b[39;00m(\n",
      "\u001b[1;32m    333\u001b[0m         \u001b[38;5;124mf\u001b[39m\u001b[38;5;124m\"\u001b[39m\u001b[38;5;124mCompute domain too small. Sequential axis is \u001b[39m\u001b[38;5;132;01m{\u001b[39;00mdomain[\u001b[38;5;241m2\u001b[39m]\u001b[38;5;132;01m}\u001b[39;00m\u001b[38;5;124m, but must be at least \u001b[39m\u001b[38;5;132;01m{\u001b[39;00m\u001b[38;5;28mself\u001b[39m\u001b[38;5;241m.\u001b[39mdomain_info\u001b[38;5;241m.\u001b[39mmin_sequential_axis_size\u001b[38;5;132;01m}\u001b[39;00m\u001b[38;5;124m.\u001b[39m\u001b[38;5;124m\"\u001b[39m\n",
      "\u001b[1;32m    334\u001b[0m     )\n",
      "\n",
      "\u001b[0;31mValueError\u001b[0m: Compute domain too large (provided: (105, 105, 2), maximum: (106, 106, 1))\n",
      "[0:execute]\n",
      "\u001b[0;31m---------------------------------------------------------------------------\u001b[0m\n",
      "\u001b[0;31mValueError\u001b[0m                                Traceback (most recent call last)\n",
      "Input \u001b[0;32mIn [202]\u001b[0m, in \u001b[0;36m<cell line: 13>\u001b[0;34m()\u001b[0m\n",
      "\u001b[1;32m     10\u001b[0m tracers \u001b[38;5;241m=\u001b[39m {\u001b[38;5;124m'\u001b[39m\u001b[38;5;124mqvapor\u001b[39m\u001b[38;5;124m'\u001b[39m: qvapor}\n",
      "\u001b[1;32m     12\u001b[0m fvtp2d \u001b[38;5;241m=\u001b[39m FiniteVolumeTransport(configuration[\u001b[38;5;124m'\u001b[39m\u001b[38;5;124mstencil_factory\u001b[39m\u001b[38;5;124m'\u001b[39m], configuration[\u001b[38;5;124m'\u001b[39m\u001b[38;5;124mgrid_data\u001b[39m\u001b[38;5;124m'\u001b[39m], configuration[\u001b[38;5;124m'\u001b[39m\u001b[38;5;124mdamping_coefficients\u001b[39m\u001b[38;5;124m'\u001b[39m], grid_type, hord)\n",
      "\u001b[0;32m---> 13\u001b[0m fvTransport \u001b[38;5;241m=\u001b[39m fvtp2d(tracers[\u001b[38;5;124m'\u001b[39m\u001b[38;5;124mqvapor\u001b[39m\u001b[38;5;124m'\u001b[39m], crx, cry, xaf, yaf, qfx, qfy)\n",
      "\n",
      "File \u001b[0;32m~/pace/fv3core/fv3core/stencils/fvtp2d.py:300\u001b[0m, in \u001b[0;36mFiniteVolumeTransport.__call__\u001b[0;34m(self, q, crx, cry, x_area_flux, y_area_flux, q_x_flux, q_y_flux, x_mass_flux, y_mass_flux, mass)\u001b[0m\n",
      "\u001b[1;32m    294\u001b[0m     y_unit_flux \u001b[38;5;241m=\u001b[39m y_mass_flux\n",
      "\u001b[1;32m    296\u001b[0m \u001b[38;5;66;03m# TODO: consider whether to refactor xppm/yppm to output fluxes by also taking\u001b[39;00m\n",
      "\u001b[1;32m    297\u001b[0m \u001b[38;5;66;03m# y_area_flux as an input (flux = area_flux * advected_mean), since a flux is\u001b[39;00m\n",
      "\u001b[1;32m    298\u001b[0m \u001b[38;5;66;03m# easier to understand than the current output. This would be like merging\u001b[39;00m\n",
      "\u001b[1;32m    299\u001b[0m \u001b[38;5;66;03m# yppm with q_i_stencil and xppm with q_j_stencil.\u001b[39;00m\n",
      "\u001b[0;32m--> 300\u001b[0m \u001b[38;5;28;43mself\u001b[39;49m\u001b[38;5;241;43m.\u001b[39;49m\u001b[43m_copy_corners_y\u001b[49m\u001b[43m(\u001b[49m\u001b[43mq\u001b[49m\u001b[43m)\u001b[49m\n",
      "\u001b[1;32m    301\u001b[0m \u001b[38;5;28mself\u001b[39m\u001b[38;5;241m.\u001b[39my_piecewise_parabolic_inner(q, cry, \u001b[38;5;28mself\u001b[39m\u001b[38;5;241m.\u001b[39m_q_y_advected_mean)\n",
      "\u001b[1;32m    302\u001b[0m \u001b[38;5;66;03m# q_y_advected_mean is 1/Delta_area * curly-F, where curly-F is defined in\u001b[39;00m\n",
      "\u001b[1;32m    303\u001b[0m \u001b[38;5;66;03m# equation 4.3 of the FV3 documentation and Delta_area is the advected area\u001b[39;00m\n",
      "\u001b[1;32m    304\u001b[0m \u001b[38;5;66;03m# (y_area_flux)\u001b[39;00m\n",
      "\n",
      "File \u001b[0;32m~/pace/stencils/pace/stencils/corners.py:60\u001b[0m, in \u001b[0;36mCopyCorners.__call__\u001b[0;34m(self, field)\u001b[0m\n",
      "\u001b[1;32m     55\u001b[0m \u001b[38;5;28;01mdef\u001b[39;00m \u001b[38;5;21m__call__\u001b[39m(\u001b[38;5;28mself\u001b[39m, field: FloatField):\n",
      "\u001b[1;32m     56\u001b[0m     \u001b[38;5;124;03m\"\"\"\u001b[39;00m\n",
      "\u001b[1;32m     57\u001b[0m \u001b[38;5;124;03m    Fills cell quantity field using corners from itself and multipliers\u001b[39;00m\n",
      "\u001b[1;32m     58\u001b[0m \u001b[38;5;124;03m    in the dirction specified initialization of the instance of this class.\u001b[39;00m\n",
      "\u001b[1;32m     59\u001b[0m \u001b[38;5;124;03m    \"\"\"\u001b[39;00m\n",
      "\u001b[0;32m---> 60\u001b[0m     \u001b[38;5;28;43mself\u001b[39;49m\u001b[38;5;241;43m.\u001b[39;49m\u001b[43m_copy_corners\u001b[49m\u001b[43m(\u001b[49m\u001b[43mfield\u001b[49m\u001b[43m,\u001b[49m\u001b[43m \u001b[49m\u001b[43mfield\u001b[49m\u001b[43m)\u001b[49m\n",
      "\n",
      "File \u001b[0;32m~/pace/dsl/pace/dsl/stencil.py:373\u001b[0m, in \u001b[0;36mFrozenStencil.__call__\u001b[0;34m(self, *args, **kwargs)\u001b[0m\n",
      "\u001b[1;32m    371\u001b[0m     \u001b[38;5;28;01mif\u001b[39;00m __debug__ \u001b[38;5;129;01mand\u001b[39;00m \u001b[38;5;124m\"\u001b[39m\u001b[38;5;124mdomain\u001b[39m\u001b[38;5;124m\"\u001b[39m \u001b[38;5;129;01min\u001b[39;00m kwargs:\n",
      "\u001b[1;32m    372\u001b[0m         \u001b[38;5;28;01mraise\u001b[39;00m \u001b[38;5;167;01mTypeError\u001b[39;00m(\u001b[38;5;124m\"\u001b[39m\u001b[38;5;124mdomain cannot be passed to FrozenStencil call\u001b[39m\u001b[38;5;124m\"\u001b[39m)\n",
      "\u001b[0;32m--> 373\u001b[0m     \u001b[38;5;28;43mself\u001b[39;49m\u001b[38;5;241;43m.\u001b[39;49m\u001b[43mstencil_object\u001b[49m\u001b[43m(\u001b[49m\n",
      "\u001b[1;32m    374\u001b[0m \u001b[43m        \u001b[49m\u001b[38;5;241;43m*\u001b[39;49m\u001b[43margs\u001b[49m\u001b[43m,\u001b[49m\n",
      "\u001b[1;32m    375\u001b[0m \u001b[43m        \u001b[49m\u001b[38;5;241;43m*\u001b[39;49m\u001b[38;5;241;43m*\u001b[39;49m\u001b[43mkwargs\u001b[49m\u001b[43m,\u001b[49m\n",
      "\u001b[1;32m    376\u001b[0m \u001b[43m        \u001b[49m\u001b[43morigin\u001b[49m\u001b[38;5;241;43m=\u001b[39;49m\u001b[38;5;28;43mself\u001b[39;49m\u001b[38;5;241;43m.\u001b[39;49m\u001b[43m_field_origins\u001b[49m\u001b[43m,\u001b[49m\n",
      "\u001b[1;32m    377\u001b[0m \u001b[43m        \u001b[49m\u001b[43mdomain\u001b[49m\u001b[38;5;241;43m=\u001b[39;49m\u001b[38;5;28;43mself\u001b[39;49m\u001b[38;5;241;43m.\u001b[39;49m\u001b[43mdomain\u001b[49m\u001b[43m,\u001b[49m\n",
      "\u001b[1;32m    378\u001b[0m \u001b[43m        \u001b[49m\u001b[43mvalidate_args\u001b[49m\u001b[38;5;241;43m=\u001b[39;49m\u001b[38;5;28;43;01mTrue\u001b[39;49;00m\u001b[43m,\u001b[49m\n",
      "\u001b[1;32m    379\u001b[0m \u001b[43m    \u001b[49m\u001b[43m)\u001b[49m\n",
      "\u001b[1;32m    380\u001b[0m \u001b[38;5;28;01melse\u001b[39;00m:\n",
      "\u001b[1;32m    381\u001b[0m     args_as_kwargs \u001b[38;5;241m=\u001b[39m \u001b[38;5;28mdict\u001b[39m(\u001b[38;5;28mzip\u001b[39m(\u001b[38;5;28mself\u001b[39m\u001b[38;5;241m.\u001b[39m_argument_names, args))\n",
      "\n",
      "File \u001b[0;32m~/pace/advection_test/.gt_cache_000000/py38_1013/numpy/pace/stencils/corners/copy_corners_y_stencil_defn/m_copy_corners_y_stencil_defn__numpy_f86aa2a12e.py:80\u001b[0m, in \u001b[0;36mcopy_corners_y_stencil_defn____numpy_f86aa2a12e.__call__\u001b[0;34m(self, q_in, q_out, domain, origin, validate_args, exec_info)\u001b[0m\n",
      "\u001b[1;32m     76\u001b[0m parameter_args\u001b[38;5;241m=\u001b[39m\u001b[38;5;28mdict\u001b[39m()\n",
      "\u001b[1;32m     77\u001b[0m \u001b[38;5;66;03m# assert that all required values have been provided\u001b[39;00m\n",
      "\u001b[0;32m---> 80\u001b[0m \u001b[38;5;28;43mself\u001b[39;49m\u001b[38;5;241;43m.\u001b[39;49m\u001b[43m_call_run\u001b[49m\u001b[43m(\u001b[49m\n",
      "\u001b[1;32m     81\u001b[0m \u001b[43m    \u001b[49m\u001b[43mfield_args\u001b[49m\u001b[38;5;241;43m=\u001b[39;49m\u001b[43mfield_args\u001b[49m\u001b[43m,\u001b[49m\n",
      "\u001b[1;32m     82\u001b[0m \u001b[43m    \u001b[49m\u001b[43mparameter_args\u001b[49m\u001b[38;5;241;43m=\u001b[39;49m\u001b[43mparameter_args\u001b[49m\u001b[43m,\u001b[49m\n",
      "\u001b[1;32m     83\u001b[0m \u001b[43m    \u001b[49m\u001b[43mdomain\u001b[49m\u001b[38;5;241;43m=\u001b[39;49m\u001b[43mdomain\u001b[49m\u001b[43m,\u001b[49m\n",
      "\u001b[1;32m     84\u001b[0m \u001b[43m    \u001b[49m\u001b[43morigin\u001b[49m\u001b[38;5;241;43m=\u001b[39;49m\u001b[43morigin\u001b[49m\u001b[43m,\u001b[49m\n",
      "\u001b[1;32m     85\u001b[0m \u001b[43m    \u001b[49m\u001b[43mvalidate_args\u001b[49m\u001b[38;5;241;43m=\u001b[39;49m\u001b[43mvalidate_args\u001b[49m\u001b[43m,\u001b[49m\n",
      "\u001b[1;32m     86\u001b[0m \u001b[43m    \u001b[49m\u001b[43mexec_info\u001b[49m\u001b[38;5;241;43m=\u001b[39;49m\u001b[43mexec_info\u001b[49m\u001b[43m,\u001b[49m\n",
      "\u001b[1;32m     87\u001b[0m \u001b[43m\u001b[49m\u001b[43m)\u001b[49m\n",
      "\u001b[1;32m     90\u001b[0m \u001b[38;5;28;01mif\u001b[39;00m exec_info \u001b[38;5;129;01mis\u001b[39;00m \u001b[38;5;129;01mnot\u001b[39;00m \u001b[38;5;28;01mNone\u001b[39;00m:\n",
      "\u001b[1;32m     91\u001b[0m     exec_info[\u001b[38;5;124m\"\u001b[39m\u001b[38;5;124mcall_end_time\u001b[39m\u001b[38;5;124m\"\u001b[39m] \u001b[38;5;241m=\u001b[39m time\u001b[38;5;241m.\u001b[39mperf_counter()\n",
      "\n",
      "File \u001b[0;32m~/pace/external/gt4py/src/gt4py/stencil_object.py:513\u001b[0m, in \u001b[0;36mStencilObject._call_run\u001b[0;34m(self, field_args, parameter_args, domain, origin, validate_args, exec_info)\u001b[0m\n",
      "\u001b[1;32m    510\u001b[0m         domain \u001b[38;5;241m=\u001b[39m \u001b[38;5;28mself\u001b[39m\u001b[38;5;241m.\u001b[39m_get_max_domain(field_args, origin)\n",
      "\u001b[1;32m    512\u001b[0m     \u001b[38;5;28;01mif\u001b[39;00m validate_args:\n",
      "\u001b[0;32m--> 513\u001b[0m         \u001b[38;5;28;43mself\u001b[39;49m\u001b[38;5;241;43m.\u001b[39;49m\u001b[43m_validate_args\u001b[49m\u001b[43m(\u001b[49m\u001b[43mfield_args\u001b[49m\u001b[43m,\u001b[49m\u001b[43m \u001b[49m\u001b[43mparameter_args\u001b[49m\u001b[43m,\u001b[49m\u001b[43m \u001b[49m\u001b[43mdomain\u001b[49m\u001b[43m,\u001b[49m\u001b[43m \u001b[49m\u001b[43morigin\u001b[49m\u001b[43m)\u001b[49m\n",
      "\u001b[1;32m    515\u001b[0m     \u001b[38;5;28mtype\u001b[39m(\u001b[38;5;28mself\u001b[39m)\u001b[38;5;241m.\u001b[39m_domain_origin_cache[cache_key] \u001b[38;5;241m=\u001b[39m (domain, origin)\n",
      "\u001b[1;32m    516\u001b[0m \u001b[38;5;28;01melse\u001b[39;00m:\n",
      "\n",
      "File \u001b[0;32m~/pace/external/gt4py/src/gt4py/stencil_object.py:327\u001b[0m, in \u001b[0;36mStencilObject._validate_args\u001b[0;34m(self, field_args, param_args, domain, origin)\u001b[0m\n",
      "\u001b[1;32m    324\u001b[0m     \u001b[38;5;28;01mraise\u001b[39;00m \u001b[38;5;167;01mValueError\u001b[39;00m(\u001b[38;5;124mf\u001b[39m\u001b[38;5;124m\"\u001b[39m\u001b[38;5;124mCompute domain contains zero sizes \u001b[39m\u001b[38;5;124m'\u001b[39m\u001b[38;5;132;01m{\u001b[39;00mdomain\u001b[38;5;132;01m}\u001b[39;00m\u001b[38;5;124m'\u001b[39m\u001b[38;5;124m)\u001b[39m\u001b[38;5;124m\"\u001b[39m)\n",
      "\u001b[1;32m    326\u001b[0m \u001b[38;5;28;01mif\u001b[39;00m \u001b[38;5;129;01mnot\u001b[39;00m domain \u001b[38;5;241m<\u001b[39m\u001b[38;5;241m=\u001b[39m (max_domain \u001b[38;5;241m:=\u001b[39m \u001b[38;5;28mself\u001b[39m\u001b[38;5;241m.\u001b[39m_get_max_domain(field_args, origin, squeeze\u001b[38;5;241m=\u001b[39m\u001b[38;5;28;01mFalse\u001b[39;00m)):\n",
      "\u001b[0;32m--> 327\u001b[0m     \u001b[38;5;28;01mraise\u001b[39;00m \u001b[38;5;167;01mValueError\u001b[39;00m(\n",
      "\u001b[1;32m    328\u001b[0m         \u001b[38;5;124mf\u001b[39m\u001b[38;5;124m\"\u001b[39m\u001b[38;5;124mCompute domain too large (provided: \u001b[39m\u001b[38;5;132;01m{\u001b[39;00mdomain\u001b[38;5;132;01m}\u001b[39;00m\u001b[38;5;124m, maximum: \u001b[39m\u001b[38;5;132;01m{\u001b[39;00mmax_domain\u001b[38;5;132;01m}\u001b[39;00m\u001b[38;5;124m)\u001b[39m\u001b[38;5;124m\"\u001b[39m\n",
      "\u001b[1;32m    329\u001b[0m     )\n",
      "\u001b[1;32m    331\u001b[0m \u001b[38;5;28;01mif\u001b[39;00m domain[\u001b[38;5;241m2\u001b[39m] \u001b[38;5;241m<\u001b[39m \u001b[38;5;28mself\u001b[39m\u001b[38;5;241m.\u001b[39mdomain_info\u001b[38;5;241m.\u001b[39mmin_sequential_axis_size:\n",
      "\u001b[1;32m    332\u001b[0m     \u001b[38;5;28;01mraise\u001b[39;00m \u001b[38;5;167;01mValueError\u001b[39;00m(\n",
      "\u001b[1;32m    333\u001b[0m         \u001b[38;5;124mf\u001b[39m\u001b[38;5;124m\"\u001b[39m\u001b[38;5;124mCompute domain too small. Sequential axis is \u001b[39m\u001b[38;5;132;01m{\u001b[39;00mdomain[\u001b[38;5;241m2\u001b[39m]\u001b[38;5;132;01m}\u001b[39;00m\u001b[38;5;124m, but must be at least \u001b[39m\u001b[38;5;132;01m{\u001b[39;00m\u001b[38;5;28mself\u001b[39m\u001b[38;5;241m.\u001b[39mdomain_info\u001b[38;5;241m.\u001b[39mmin_sequential_axis_size\u001b[38;5;132;01m}\u001b[39;00m\u001b[38;5;124m.\u001b[39m\u001b[38;5;124m\"\u001b[39m\n",
      "\u001b[1;32m    334\u001b[0m     )\n",
      "\n",
      "\u001b[0;31mValueError\u001b[0m: Compute domain too large (provided: (105, 105, 2), maximum: (106, 106, 1))\n",
      "[1:execute] ValueError: Compute domain too large (provided: (105, 105, 2), maximum: (106, 106, 1))\n",
      "[4:execute] ValueError: Compute domain too large (provided: (105, 105, 2), maximum: (106, 106, 1))\n"
     ]
    },
    {
     "ename": "AlreadyDisplayedError",
     "evalue": "6 errors",
     "output_type": "error",
     "traceback": [
      "6 errors"
     ]
    }
   ],
   "source": [
    "#%%capture capt\n",
    "from fv3core.stencils.fvtp2d import FiniteVolumeTransport\n",
    "\n",
    "grid_type = 0\n",
    "hord = 6\n",
    "\n",
    "qfx = Quantity(empty, ('x', 'y_interface', 'z'), units['qflux'], origins['compute_3d'], (dimensions['nx'], dimensions['ny1'], dimensions['nz']), backend)\n",
    "qfy = Quantity(empty, ('x_interface', 'y', 'z'), units['qflux'], origins['compute_3d'], (dimensions['nx1'], dimensions['ny'], dimensions['nz']), backend)\n",
    "\n",
    "tracers = {'qvapor': qvapor}\n",
    "\n",
    "fvtp2d = FiniteVolumeTransport(configuration['stencil_factory'], configuration['grid_data'], configuration['damping_coefficients'], grid_type, hord)\n",
    "fvTransport = fvtp2d(tracers['qvapor'], crx, cry, xaf, yaf, qfx, qfy)"
   ]
  },
  {
   "cell_type": "code",
   "execution_count": 223,
   "metadata": {},
   "outputs": [
    {
     "data": {
      "text/plain": [
       "\u001b[0;31mOut[0:216]: \u001b[0mQuantityMetadata(origin=(3, 3, 0), extent=(100, 100, 1), dims=('x', 'y', 'z'), units='kg/kg', data_type=<class 'numpy.ndarray'>, dtype=dtype('float64'), gt4py_backend='numpy')"
      ]
     },
     "metadata": {
      "after": null,
      "completed": null,
      "data": {},
      "engine_id": 0,
      "engine_uuid": "a6a6b920-033a305a59dc62699ae24da2",
      "error": null,
      "execute_input": "tracers['qvapor'].metadata",
      "execute_result": {
       "data": {
        "text/plain": "QuantityMetadata(origin=(3, 3, 0), extent=(100, 100, 1), dims=('x', 'y', 'z'), units='kg/kg', data_type=<class 'numpy.ndarray'>, dtype=dtype('float64'), gt4py_backend='numpy')"
       },
       "execution_count": 216,
       "metadata": {}
      },
      "follow": null,
      "msg_id": null,
      "outputs": [],
      "received": null,
      "started": null,
      "status": null,
      "stderr": "",
      "stdout": "",
      "submitted": "2022-07-14T20:24:35.181586Z"
     },
     "output_type": "display_data"
    },
    {
     "data": {
      "text/plain": [
       "\u001b[0;31mOut[3:216]: \u001b[0mQuantityMetadata(origin=(3, 3, 0), extent=(100, 100, 1), dims=('x', 'y', 'z'), units='kg/kg', data_type=<class 'numpy.ndarray'>, dtype=dtype('float64'), gt4py_backend='numpy')"
      ]
     },
     "metadata": {
      "after": [],
      "completed": "2022-07-14T20:24:35.189664Z",
      "data": {},
      "engine_id": 3,
      "engine_uuid": "67da6db6-3f6d256de13083e2bd96e01f",
      "error": null,
      "execute_input": "tracers['qvapor'].metadata",
      "execute_result": {
       "data": {
        "text/plain": "QuantityMetadata(origin=(3, 3, 0), extent=(100, 100, 1), dims=('x', 'y', 'z'), units='kg/kg', data_type=<class 'numpy.ndarray'>, dtype=dtype('float64'), gt4py_backend='numpy')"
       },
       "execution_count": 216,
       "metadata": {}
      },
      "follow": [],
      "is_broadcast": false,
      "is_coalescing": false,
      "msg_id": "6ba94bb0-352f98ad8fc1b22532d72fbc_2069_1294",
      "outputs": [],
      "received": "2022-07-14T20:24:35.193710Z",
      "started": "2022-07-14T20:24:35.186072Z",
      "status": "ok",
      "stderr": "",
      "stdout": "",
      "submitted": "2022-07-14T20:24:35.182985Z"
     },
     "output_type": "display_data"
    },
    {
     "data": {
      "text/plain": [
       "\u001b[0;31mOut[5:216]: \u001b[0mQuantityMetadata(origin=(3, 3, 0), extent=(100, 100, 1), dims=('x', 'y', 'z'), units='kg/kg', data_type=<class 'numpy.ndarray'>, dtype=dtype('float64'), gt4py_backend='numpy')"
      ]
     },
     "metadata": {
      "after": [],
      "completed": "2022-07-14T20:24:35.189684Z",
      "data": {},
      "engine_id": 5,
      "engine_uuid": "febd456c-d9956b6de29f9533138d0a9c",
      "error": null,
      "execute_input": "tracers['qvapor'].metadata",
      "execute_result": {
       "data": {
        "text/plain": "QuantityMetadata(origin=(3, 3, 0), extent=(100, 100, 1), dims=('x', 'y', 'z'), units='kg/kg', data_type=<class 'numpy.ndarray'>, dtype=dtype('float64'), gt4py_backend='numpy')"
       },
       "execution_count": 216,
       "metadata": {}
      },
      "follow": [],
      "is_broadcast": false,
      "is_coalescing": false,
      "msg_id": "6ba94bb0-352f98ad8fc1b22532d72fbc_2069_1296",
      "outputs": [],
      "received": "2022-07-14T20:24:35.193121Z",
      "started": "2022-07-14T20:24:35.186175Z",
      "status": "ok",
      "stderr": "",
      "stdout": "",
      "submitted": "2022-07-14T20:24:35.183125Z"
     },
     "output_type": "display_data"
    },
    {
     "data": {
      "text/plain": [
       "\u001b[0;31mOut[1:216]: \u001b[0mQuantityMetadata(origin=(3, 3, 0), extent=(100, 100, 1), dims=('x', 'y', 'z'), units='kg/kg', data_type=<class 'numpy.ndarray'>, dtype=dtype('float64'), gt4py_backend='numpy')"
      ]
     },
     "metadata": {
      "after": [],
      "completed": "2022-07-14T20:24:35.189889Z",
      "data": {},
      "engine_id": 1,
      "engine_uuid": "df99ce48-054a7a5906f0b656a4e0f93e",
      "error": null,
      "execute_input": "tracers['qvapor'].metadata",
      "execute_result": {
       "data": {
        "text/plain": "QuantityMetadata(origin=(3, 3, 0), extent=(100, 100, 1), dims=('x', 'y', 'z'), units='kg/kg', data_type=<class 'numpy.ndarray'>, dtype=dtype('float64'), gt4py_backend='numpy')"
       },
       "execution_count": 216,
       "metadata": {}
      },
      "follow": [],
      "is_broadcast": false,
      "is_coalescing": false,
      "msg_id": "6ba94bb0-352f98ad8fc1b22532d72fbc_2069_1292",
      "outputs": [],
      "received": "2022-07-14T20:24:35.195342Z",
      "started": "2022-07-14T20:24:35.185980Z",
      "status": "ok",
      "stderr": "",
      "stdout": "",
      "submitted": "2022-07-14T20:24:35.182739Z"
     },
     "output_type": "display_data"
    },
    {
     "data": {
      "text/plain": [
       "\u001b[0;31mOut[4:216]: \u001b[0mQuantityMetadata(origin=(3, 3, 0), extent=(100, 100, 1), dims=('x', 'y', 'z'), units='kg/kg', data_type=<class 'numpy.ndarray'>, dtype=dtype('float64'), gt4py_backend='numpy')"
      ]
     },
     "metadata": {
      "after": [],
      "completed": "2022-07-14T20:24:35.190719Z",
      "data": {},
      "engine_id": 4,
      "engine_uuid": "f4027830-6a81f1bab95a6ad1b375c48f",
      "error": null,
      "execute_input": "tracers['qvapor'].metadata",
      "execute_result": {
       "data": {
        "text/plain": "QuantityMetadata(origin=(3, 3, 0), extent=(100, 100, 1), dims=('x', 'y', 'z'), units='kg/kg', data_type=<class 'numpy.ndarray'>, dtype=dtype('float64'), gt4py_backend='numpy')"
       },
       "execution_count": 216,
       "metadata": {}
      },
      "follow": [],
      "is_broadcast": false,
      "is_coalescing": false,
      "msg_id": "6ba94bb0-352f98ad8fc1b22532d72fbc_2069_1295",
      "outputs": [],
      "received": "2022-07-14T20:24:35.195947Z",
      "started": "2022-07-14T20:24:35.186602Z",
      "status": "ok",
      "stderr": "",
      "stdout": "",
      "submitted": "2022-07-14T20:24:35.183056Z"
     },
     "output_type": "display_data"
    },
    {
     "data": {
      "text/plain": [
       "\u001b[0;31mOut[2:216]: \u001b[0mQuantityMetadata(origin=(3, 3, 0), extent=(100, 100, 1), dims=('x', 'y', 'z'), units='kg/kg', data_type=<class 'numpy.ndarray'>, dtype=dtype('float64'), gt4py_backend='numpy')"
      ]
     },
     "metadata": {
      "after": [],
      "completed": "2022-07-14T20:24:35.190868Z",
      "data": {},
      "engine_id": 2,
      "engine_uuid": "539ebb9d-7c33d0848a1cfdd246a633d1",
      "error": null,
      "execute_input": "tracers['qvapor'].metadata",
      "execute_result": {
       "data": {
        "text/plain": "QuantityMetadata(origin=(3, 3, 0), extent=(100, 100, 1), dims=('x', 'y', 'z'), units='kg/kg', data_type=<class 'numpy.ndarray'>, dtype=dtype('float64'), gt4py_backend='numpy')"
       },
       "execution_count": 216,
       "metadata": {}
      },
      "follow": [],
      "is_broadcast": false,
      "is_coalescing": false,
      "msg_id": "6ba94bb0-352f98ad8fc1b22532d72fbc_2069_1293",
      "outputs": [],
      "received": "2022-07-14T20:24:35.197372Z",
      "started": "2022-07-14T20:24:35.186366Z",
      "status": "ok",
      "stderr": "",
      "stdout": "",
      "submitted": "2022-07-14T20:24:35.182898Z"
     },
     "output_type": "display_data"
    }
   ],
   "source": [
    "tracers['qvapor'].metadata"
   ]
  },
  {
   "cell_type": "code",
   "execution_count": null,
   "metadata": {},
   "outputs": [],
   "source": []
  },
  {
   "cell_type": "code",
   "execution_count": null,
   "metadata": {},
   "outputs": [],
   "source": []
  },
  {
   "cell_type": "code",
   "execution_count": null,
   "metadata": {},
   "outputs": [],
   "source": [
    "import importlib\n",
    "importlib.reload(func)"
   ]
  },
  {
   "cell_type": "code",
   "execution_count": null,
   "metadata": {},
   "outputs": [],
   "source": []
  },
  {
   "cell_type": "code",
   "execution_count": null,
   "metadata": {},
   "outputs": [],
   "source": []
  },
  {
   "cell_type": "code",
   "execution_count": null,
   "metadata": {},
   "outputs": [],
   "source": []
  },
  {
   "cell_type": "code",
   "execution_count": null,
   "metadata": {},
   "outputs": [],
   "source": [
    "# fInit = 'initialize_advection.nc'\n",
    "\n",
    "# if mpi_rank == 0:\n",
    "#     %run -i initialize_streamfunction_advection.py $fOut $fInit"
   ]
  }
 ],
 "metadata": {
  "kernelspec": {
   "display_name": "Python 3.8.10 ('venv': venv)",
   "language": "python",
   "name": "python3"
  },
  "language_info": {
   "codemirror_mode": {
    "name": "ipython",
    "version": 3
   },
   "file_extension": ".py",
   "mimetype": "text/x-python",
   "name": "python",
   "nbconvert_exporter": "python",
   "pygments_lexer": "ipython3",
   "version": "3.8.10"
  },
  "orig_nbformat": 4,
  "vscode": {
   "interpreter": {
    "hash": "5aaa1d64d2aec5fc9d71d95fe114c55e361597d915cf108c460e747a228aecec"
   }
  }
 },
 "nbformat": 4,
 "nbformat_minor": 2
}
