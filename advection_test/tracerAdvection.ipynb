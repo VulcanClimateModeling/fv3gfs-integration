{
 "cells": [
  {
   "cell_type": "markdown",
   "metadata": {},
   "source": [
    "# Tracer Advection Stencil\n",
    "\n",
    "#### 1. Start a parallel cluster"
   ]
  },
  {
   "cell_type": "code",
   "execution_count": 1,
   "metadata": {},
   "outputs": [
    {
     "data": {
      "text/html": [
       "<link href=\"https://fonts.googleapis.com/icon?family=Material+Icons\" rel=\"stylesheet\"><script src=\"https://spcl.github.io/dace/webclient2/dist/sdfv.js\"></script>\n",
       "<link href=\"https://spcl.github.io/dace/webclient2/sdfv.css\" rel=\"stylesheet\">\n"
      ],
      "text/plain": [
       "<IPython.core.display.HTML object>"
      ]
     },
     "metadata": {},
     "output_type": "display_data"
    },
    {
     "name": "stdout",
     "output_type": "stream",
     "text": [
      "Starting 6 engines with <class 'ipyparallel.cluster.launcher.MPIEngineSetLauncher'>\n"
     ]
    },
    {
     "data": {
      "application/vnd.jupyter.widget-view+json": {
       "model_id": "a5ace0b7e8e4435ebee0d78cc7139b81",
       "version_major": 2,
       "version_minor": 0
      },
      "text/plain": [
       "  0%|          | 0/6 [00:00<?, ?engine/s]"
      ]
     },
     "metadata": {},
     "output_type": "display_data"
    }
   ],
   "source": [
    "from functions import show_clusters\n",
    "\n",
    "import ipyparallel as ipp\n",
    "import time\n",
    "\n",
    "cluster = ipp.Cluster(engines='mpi', n=6).start_and_connect_sync()\n"
   ]
  },
  {
   "cell_type": "code",
   "execution_count": 3,
   "metadata": {},
   "outputs": [
    {
     "name": "stdout",
     "output_type": "stream",
     "text": [
      "cluster_id        state    cluster_file\n",
      "1657755950-lcs4  running   /home/ajdas/.ipython/profile_default/security/cluster-1657755950-lcs4.json\n",
      "%autopx enabled\n"
     ]
    }
   ],
   "source": [
    "time.sleep(10)\n",
    "show_clusters()\n",
    "%autopx"
   ]
  },
  {
   "cell_type": "markdown",
   "metadata": {},
   "source": [
    "#### 2. Create a domain configuration"
   ]
  },
  {
   "cell_type": "code",
   "execution_count": 35,
   "metadata": {},
   "outputs": [],
   "source": [
    "%%capture\n",
    "from mpi4py import MPI\n",
    "import functions as func\n",
    "\n",
    "\n",
    "mpi_comm = MPI.COMM_WORLD\n",
    "mpi_size = mpi_comm.Get_size()\n",
    "mpi_rank = mpi_comm.Get_rank()\n",
    "\n",
    "backend = 'numpy'\n",
    "layout = (1, 1)\n",
    "nx, ny, nz, nhalo = 100, 100, 79, 3\n",
    "dimensions = {'nx': nx, 'ny': ny, 'nx1': nx+1, 'ny1': ny+1, 'nz': nz, 'nhalo': nhalo, 'tile': mpi_size, 'nxhalo': nx+2*nhalo, 'nyhalo': ny+2*nhalo}\n",
    "units = {'dist': 'm', 'coord': 'degrees', 'qvapor': 'kg/kg', 'psi': 'kg/m/s', 'wind': 'm/s', 'courant': '', 'xaf': 'm2'}\n",
    "origins = {'halo': (0, 0), 'compute_2d': (dimensions['nhalo'], dimensions['nhalo']), 'compute_3d': (dimensions['nhalo'], dimensions['nhalo'], 0)}\n",
    "\n",
    "\n",
    "configuration = func.configure_domain(layout, mpi_comm, dimensions, backend=backend)"
   ]
  },
  {
   "cell_type": "markdown",
   "metadata": {},
   "source": [
    "#### 2a. Gather domain coordinates"
   ]
  },
  {
   "cell_type": "code",
   "execution_count": 37,
   "metadata": {},
   "outputs": [],
   "source": [
    "from pace.util import Quantity\n",
    "import numpy as np\n",
    "\n",
    "dx_halo =  Quantity(configuration['grid_data'].dx.data, ('x_halo', 'y_halo'), units['dist'], origins['halo'], (dimensions['nxhalo'], dimensions['nyhalo']), backend)\n",
    "dy_halo =  Quantity(configuration['grid_data'].dy.data, ('x_halo', 'y_halo'), units['dist'], origins['halo'], (dimensions['nxhalo'], dimensions['nyhalo']), backend)\n",
    "dxa_halo =  Quantity(configuration['grid_data'].dxa.data, ('x_halo', 'y_halo'), units['dist'], origins['halo'], (dimensions['nxhalo'], dimensions['nyhalo']), backend)\n",
    "dya_halo =  Quantity(configuration['grid_data'].dya.data, ('x_halo', 'y_halo'), units['dist'], origins['halo'], (dimensions['nxhalo'], dimensions['nyhalo']), backend)\n",
    "dx_global = configuration['communicator'].gather(dx_halo)\n",
    "dy_global = configuration['communicator'].gather(dy_halo)\n",
    "dxa_global = configuration['communicator'].gather(dxa_halo)\n",
    "dya_global = configuration['communicator'].gather(dya_halo)\n",
    "\n",
    "lona_halo =  Quantity(configuration['grid_data'].lon_agrid.data * 180 / np.pi, ('x_halo', 'y_halo'), units['coord'], origins['halo'], (dimensions['nxhalo'], dimensions['nyhalo']), backend)\n",
    "lata_halo =  Quantity(configuration['grid_data'].lat_agrid.data * 180 / np.pi, ('x_halo', 'y_halo'), units['coord'], origins['halo'], (dimensions['nxhalo'], dimensions['nyhalo']), backend)\n",
    "lona_global = configuration['communicator'].gather(lona_halo)\n",
    "lata_global = configuration['communicator'].gather(lata_halo)"
   ]
  },
  {
   "cell_type": "markdown",
   "metadata": {},
   "source": [
    "#### 2b. Save coordinates to netCDF file\n",
    "\n",
    "Convert below markdown cell to code."
   ]
  },
  {
   "cell_type": "markdown",
   "metadata": {},
   "source": [
    "```\n",
    "import functions as func\n",
    "\n",
    "dxc_halo =  Quantity(configuration['grid_data'].dxc.data, ('x_halo', 'y_halo'), units['dist'], origins['halo'], (dimensions['nxhalo'], dimensions['nyhalo']), backend)\n",
    "dyc_halo =  Quantity(configuration['grid_data'].dyc.data, ('x_halo', 'y_halo'), units['dist'], origins['halo'], (dimensions['nxhalo'], dimensions['nyhalo']), backend)\n",
    "lon_halo =  Quantity(configuration['grid_data'].lon.data * 180 / np.pi, ('x_halo', 'y_halo'), units['coord'], origins['halo'], (dimensions['nxhalo'], dimensions['nyhalo']), backend)\n",
    "lat_halo =  Quantity(configuration['grid_data'].lat.data * 180 / np.pi, ('x_halo', 'y_halo'), units['coord'], origins['halo'], (dimensions['nxhalo'], dimensions['nyhalo']), backend)\n",
    "\n",
    "dxc_global = configuration['communicator'].gather(dxc_halo)\n",
    "dyc_global = configuration['communicator'].gather(dyc_halo)\n",
    "lon_global = configuration['communicator'].gather(lon_halo)\n",
    "lat_global = configuration['communicator'].gather(lat_halo)\n",
    "\n",
    "fOut = 'coordinates.nc'\n",
    "variables = {'dx': dx_global, 'dy': dy_global, \n",
    "             'dxa': dxa_global, 'dya': dya_global, \n",
    "             'dxc': dxc_global, 'dyc': dyc_global, \n",
    "             'lon': lon_global, 'lat': lat_global, \n",
    "             'lona': lona_global, 'lata': lata_global}\n",
    "\n",
    "if mpi_rank == 0:\n",
    "    func.store_coordinates(fOut, dimensions, variables)\n",
    "```"
   ]
  },
  {
   "cell_type": "markdown",
   "metadata": {},
   "source": [
    "#### 3. Create initial conditions on a plane\n",
    "\n",
    "#### 3a. Create water vapor initial condition"
   ]
  },
  {
   "cell_type": "code",
   "execution_count": 12,
   "metadata": {},
   "outputs": [
    {
     "data": {
      "text/plain": [
       "[stdout:0] Centering gaussian on lon=351.01, lat=1.01\n"
      ]
     },
     "metadata": {},
     "output_type": "display_data"
    }
   ],
   "source": [
    "if mpi_rank == 0:\n",
    "    gaussian_multiplier = func.create_gaussianMultiplier(np.deg2rad(lona_global.data), np.deg2rad(lata_global.data), dimensions, center_tile=0)\n",
    "else:\n",
    "    gaussian_multiplier = np.zeros((dimensions['tile'], dimensions['nxhalo'], dimensions['nyhalo']))\n",
    "\n",
    "mpi_comm.Bcast(gaussian_multiplier, root=0)\n",
    "qvapor = Quantity(gaussian_multiplier[mpi_rank], ('x', 'y'), units['qvapor'], origins['compute_2d'], (dimensions['nx'], dimensions['ny']), backend)\n",
    "qvapor_global = configuration['communicator'].gather(qvapor)"
   ]
  },
  {
   "cell_type": "markdown",
   "metadata": {},
   "source": [
    "#### 3b. Run coordinates through streamfunction generation"
   ]
  },
  {
   "cell_type": "code",
   "execution_count": 36,
   "metadata": {},
   "outputs": [],
   "source": [
    "psi, psi_staggered = func.calculate_streamfunction_testCase1(np.deg2rad(lona_halo.data), np.deg2rad(lata_halo.data), dimensions)\n",
    "\n",
    "psi_halo = Quantity(psi, ('x_halo', 'y_halo'), units['psi'], origins['halo'], (dimensions['nxhalo'], dimensions['nyhalo']), backend)\n",
    "psi = Quantity(psi, ('x', 'y'), units['psi'], origins['compute_2d'], (dimensions['nx'], dimensions['ny']), backend)\n",
    "psi_staggered_halo = Quantity(psi_staggered, ('x_halo', 'y_halo'), units['psi'], origins['halo'], (dimensions['nxhalo'], dimensions['nyhalo']), backend)\n",
    "psi_staggered  = Quantity(psi_staggered, ('x_interface', 'y_interface'), units['psi'], origins['compute_2d'], (dimensions['nx1'], dimensions['ny1']), backend)\n",
    "\n",
    "psi_global = configuration['communicator'].gather(psi)\n",
    "psi_staggered_global = configuration['communicator'].gather(psi_staggered)"
   ]
  },
  {
   "cell_type": "markdown",
   "metadata": {},
   "source": [
    "#### 3c. Calculate winds from streamfunction"
   ]
  },
  {
   "cell_type": "code",
   "execution_count": 41,
   "metadata": {},
   "outputs": [
    {
     "data": {
      "text/plain": [
       "\u001b[0;31mOut[3:37]: \u001b[0m<module 'functions' from '/home/ajdas/pace/advection_test/functions.py'>"
      ]
     },
     "metadata": {
      "after": null,
      "completed": null,
      "data": {},
      "engine_id": 3,
      "engine_uuid": "c0090c43-3c76c308815b272bad21f5da",
      "error": null,
      "execute_input": "import importlib\nimportlib.reload(func)",
      "execute_result": {
       "data": {
        "text/plain": "<module 'functions' from '/home/ajdas/pace/advection_test/functions.py'>"
       },
       "execution_count": 37,
       "metadata": {}
      },
      "follow": null,
      "msg_id": null,
      "outputs": [],
      "received": null,
      "started": null,
      "status": null,
      "stderr": "",
      "stdout": "",
      "submitted": "2022-07-14T00:29:56.681420Z"
     },
     "output_type": "display_data"
    },
    {
     "data": {
      "text/plain": [
       "\u001b[0;31mOut[1:37]: \u001b[0m<module 'functions' from '/home/ajdas/pace/advection_test/functions.py'>"
      ]
     },
     "metadata": {
      "after": null,
      "completed": null,
      "data": {},
      "engine_id": 1,
      "engine_uuid": "0951370a-697d78e90a83329c09985f17",
      "error": null,
      "execute_input": "import importlib\nimportlib.reload(func)",
      "execute_result": {
       "data": {
        "text/plain": "<module 'functions' from '/home/ajdas/pace/advection_test/functions.py'>"
       },
       "execution_count": 37,
       "metadata": {}
      },
      "follow": null,
      "msg_id": null,
      "outputs": [],
      "received": null,
      "started": null,
      "status": null,
      "stderr": "",
      "stdout": "",
      "submitted": "2022-07-14T00:29:56.681282Z"
     },
     "output_type": "display_data"
    },
    {
     "data": {
      "text/plain": [
       "\u001b[0;31mOut[0:37]: \u001b[0m<module 'functions' from '/home/ajdas/pace/advection_test/functions.py'>"
      ]
     },
     "metadata": {
      "after": null,
      "completed": null,
      "data": {},
      "engine_id": 0,
      "engine_uuid": "65ae3a80-d4a93895da7481996ceff846",
      "error": null,
      "execute_input": "import importlib\nimportlib.reload(func)",
      "execute_result": {
       "data": {
        "text/plain": "<module 'functions' from '/home/ajdas/pace/advection_test/functions.py'>"
       },
       "execution_count": 37,
       "metadata": {}
      },
      "follow": null,
      "msg_id": null,
      "outputs": [],
      "received": null,
      "started": null,
      "status": null,
      "stderr": "",
      "stdout": "",
      "submitted": "2022-07-14T00:29:56.681155Z"
     },
     "output_type": "display_data"
    },
    {
     "data": {
      "text/plain": [
       "\u001b[0;31mOut[2:37]: \u001b[0m<module 'functions' from '/home/ajdas/pace/advection_test/functions.py'>"
      ]
     },
     "metadata": {
      "after": null,
      "completed": null,
      "data": {},
      "engine_id": 2,
      "engine_uuid": "1f2f3045-d0b28da8a6b33e7c64710637",
      "error": null,
      "execute_input": "import importlib\nimportlib.reload(func)",
      "execute_result": {
       "data": {
        "text/plain": "<module 'functions' from '/home/ajdas/pace/advection_test/functions.py'>"
       },
       "execution_count": 37,
       "metadata": {}
      },
      "follow": null,
      "msg_id": null,
      "outputs": [],
      "received": null,
      "started": null,
      "status": null,
      "stderr": "",
      "stdout": "",
      "submitted": "2022-07-14T00:29:56.681354Z"
     },
     "output_type": "display_data"
    },
    {
     "data": {
      "text/plain": [
       "\u001b[0;31mOut[5:37]: \u001b[0m<module 'functions' from '/home/ajdas/pace/advection_test/functions.py'>"
      ]
     },
     "metadata": {
      "after": null,
      "completed": null,
      "data": {},
      "engine_id": 5,
      "engine_uuid": "d1fd2b09-3cba340216579799aee2d511",
      "error": null,
      "execute_input": "import importlib\nimportlib.reload(func)",
      "execute_result": {
       "data": {
        "text/plain": "<module 'functions' from '/home/ajdas/pace/advection_test/functions.py'>"
       },
       "execution_count": 37,
       "metadata": {}
      },
      "follow": null,
      "msg_id": null,
      "outputs": [],
      "received": null,
      "started": null,
      "status": null,
      "stderr": "",
      "stdout": "",
      "submitted": "2022-07-14T00:29:56.681545Z"
     },
     "output_type": "display_data"
    },
    {
     "data": {
      "text/plain": [
       "\u001b[0;31mOut[4:37]: \u001b[0m<module 'functions' from '/home/ajdas/pace/advection_test/functions.py'>"
      ]
     },
     "metadata": {
      "after": null,
      "completed": null,
      "data": {},
      "engine_id": 4,
      "engine_uuid": "64dc3c71-d1868136f4cb3feb97620785",
      "error": null,
      "execute_input": "import importlib\nimportlib.reload(func)",
      "execute_result": {
       "data": {
        "text/plain": "<module 'functions' from '/home/ajdas/pace/advection_test/functions.py'>"
       },
       "execution_count": 37,
       "metadata": {}
      },
      "follow": null,
      "msg_id": null,
      "outputs": [],
      "received": null,
      "started": null,
      "status": null,
      "stderr": "",
      "stdout": "",
      "submitted": "2022-07-14T00:29:56.681483Z"
     },
     "output_type": "display_data"
    }
   ],
   "source": [
    "import importlib\n",
    "importlib.reload(func)"
   ]
  },
  {
   "cell_type": "code",
   "execution_count": 42,
   "metadata": {},
   "outputs": [],
   "source": [
    "ua, va = func.calculate_windsFromStreamfunction_Agrid(psi_halo, dxa_halo, dya_halo, dimensions)\n",
    "\n",
    "ua = Quantity(ua, ('x', 'y'), units['wind'], origins['compute_2d'], (dimensions['nx'], dimensions['ny']), backend)\n",
    "va = Quantity(va, ('x', 'y'), units['wind'], origins['compute_2d'], (dimensions['nx'], dimensions['ny']), backend)\n",
    "\n",
    "ua_global = configuration['communicator'].gather(ua)\n",
    "va_global = configuration['communicator'].gather(va)"
   ]
  },
  {
   "cell_type": "code",
   "execution_count": 44,
   "metadata": {},
   "outputs": [],
   "source": [
    "uc, vc = func.calculate_windsFromStreamfunction_Cgrid(psi_staggered_halo, dx_halo, dy_halo, dimensions)\n",
    "\n",
    "uc = Quantity(uc, ('x', 'y_interface'), units['wind'], origins['compute_2d'], (dimensions['nx'], dimensions['ny1']), backend)\n",
    "vc = Quantity(vc, ('x_interface', 'y'), units['wind'], origins['compute_2d'], (dimensions['nx1'], dimensions['ny']), backend)\n",
    "\n",
    "uc_global = configuration['communicator'].gather(uc)\n",
    "vc_global = configuration['communicator'].gather(vc)"
   ]
  },
  {
   "cell_type": "markdown",
   "metadata": {},
   "source": [
    "#### 3d. Plot initial conditions and save data to file"
   ]
  },
  {
   "cell_type": "code",
   "execution_count": 24,
   "metadata": {},
   "outputs": [
    {
     "data": {
      "application/vnd.jupyter.widget-view+json": {
       "model_id": "6890fa752e6949c5b145c861013dc692",
       "version_major": 2,
       "version_minor": 0
      },
      "text/plain": [
       "%px:   0%|          | 0/6 [00:00<?, ?tasks/s]"
      ]
     },
     "metadata": {},
     "output_type": "display_data"
    }
   ],
   "source": [
    "%%capture capt --no-stderr --no-stdout\n",
    "fOut = 'initialize_winds.nc'\n",
    "\n",
    "lona =  Quantity(configuration['grid_data'].lon_agrid.data * 180 / np.pi, ('x_interface', 'y_interface'), units['coord'], origins['compute_2d'], (dimensions['nx1'], dimensions['ny1']), backend)\n",
    "lata =  Quantity(configuration['grid_data'].lat_agrid.data * 180 / np.pi, ('x_interface', 'y_interface'), units['coord'], origins['compute_2d'], (dimensions['nx1'], dimensions['ny1']), backend)\n",
    "lon_global = configuration['communicator'].gather(lona)\n",
    "lat_global = configuration['communicator'].gather(lata)\n",
    "\n",
    "if mpi_rank == 0:\n",
    "    variables = {'lon': lon_global.data, 'lat': lat_global.data, 'ua': ua_global.data, 'va': va_global.data, 'psi': psi_global.data, 'qvapor': qvapor_global.data}\n",
    "\n",
    "    func.plot_projection_field(variables['lon'], variables['lat'], variables['qvapor'], vmin=-0, vmax=1, cmap='viridis', title='q_vapor init', units=units['qvapor'])\n",
    "    func.plot_projection_field(variables['lon'], variables['lat'], variables['ua'], vmin=-40, vmax=40, cmap='bwr', title='ua init', units=units['wind'])\n",
    "    func.plot_projection_field(variables['lon'], variables['lat'], variables['va'], vmin=-40, vmax=40, cmap='bwr', title='va init', units=units['wind'])\n",
    "    func.plot_projection_field(variables['lon'], variables['lat'], variables['psi'], vmin=-3e8, vmax=3e8, cmap='bwr', title='psi init', units=units['psi'])\n",
    "\n",
    "    func.write_initialCondition_toFile(fOut, variables, dimensions, units)"
   ]
  },
  {
   "cell_type": "code",
   "execution_count": 27,
   "metadata": {},
   "outputs": [],
   "source": [
    "### plot images of initial conditions - uncomment below\n",
    "# capt()"
   ]
  },
  {
   "cell_type": "markdown",
   "metadata": {},
   "source": [
    "#### 4. Calculate fluxes\n",
    "\n",
    "#### 4a. Prepare data for flux calculation\n",
    "\n",
    "- use the function `FiniteVolumeFluxPrep`\n",
    "    - requires `uc` and `vc` from (3c). \n",
    "    - requires some empty arrays to be filled in:\n",
    "        - `crx` and `cry` are the dimensionless Courant numbers on C-grid points.\n",
    "        - `xaf` and `yaf` are are fluxes of area in m2.\n",
    "        - `ucc` and `vcc` are the contravariant velocities on C-grid points\n",
    "        - `dt` is the acoustic time step."
   ]
  },
  {
   "cell_type": "code",
   "execution_count": 29,
   "metadata": {},
   "outputs": [
    {
     "data": {
      "text/plain": [
       "\u001b[0;31mOut[4:26]: \u001b[0m(106, 106)"
      ]
     },
     "metadata": {
      "after": null,
      "completed": null,
      "data": {},
      "engine_id": 4,
      "engine_uuid": "64dc3c71-d1868136f4cb3feb97620785",
      "error": null,
      "execute_input": "lona_halo.shape",
      "execute_result": {
       "data": {
        "text/plain": "(106, 106)"
       },
       "execution_count": 26,
       "metadata": {}
      },
      "follow": null,
      "msg_id": null,
      "outputs": [],
      "received": null,
      "started": null,
      "status": null,
      "stderr": "",
      "stdout": "",
      "submitted": "2022-07-14T00:13:48.001332Z"
     },
     "output_type": "display_data"
    },
    {
     "data": {
      "text/plain": [
       "\u001b[0;31mOut[3:26]: \u001b[0m(106, 106)"
      ]
     },
     "metadata": {
      "after": [],
      "completed": "2022-07-14T00:13:48.008014Z",
      "data": {},
      "engine_id": 3,
      "engine_uuid": "c0090c43-3c76c308815b272bad21f5da",
      "error": null,
      "execute_input": "lona_halo.shape",
      "execute_result": {
       "data": {
        "text/plain": "(106, 106)"
       },
       "execution_count": 26,
       "metadata": {}
      },
      "follow": [],
      "is_broadcast": false,
      "is_coalescing": false,
      "msg_id": "e3b90f95-8e866cda8e19ea3acd27421c_1752_154",
      "outputs": [],
      "received": "2022-07-14T00:13:48.011667Z",
      "started": "2022-07-14T00:13:48.004385Z",
      "status": "ok",
      "stderr": "",
      "stdout": "",
      "submitted": "2022-07-14T00:13:48.001213Z"
     },
     "output_type": "display_data"
    },
    {
     "data": {
      "text/plain": [
       "\u001b[0;31mOut[5:26]: \u001b[0m(106, 106)"
      ]
     },
     "metadata": {
      "after": null,
      "completed": null,
      "data": {},
      "engine_id": 5,
      "engine_uuid": "d1fd2b09-3cba340216579799aee2d511",
      "error": null,
      "execute_input": "lona_halo.shape",
      "execute_result": {
       "data": {
        "text/plain": "(106, 106)"
       },
       "execution_count": 26,
       "metadata": {}
      },
      "follow": null,
      "msg_id": null,
      "outputs": [],
      "received": null,
      "started": null,
      "status": null,
      "stderr": "",
      "stdout": "",
      "submitted": "2022-07-14T00:13:48.001406Z"
     },
     "output_type": "display_data"
    },
    {
     "data": {
      "text/plain": [
       "\u001b[0;31mOut[1:26]: \u001b[0m(106, 106)"
      ]
     },
     "metadata": {
      "after": null,
      "completed": null,
      "data": {},
      "engine_id": 1,
      "engine_uuid": "0951370a-697d78e90a83329c09985f17",
      "error": null,
      "execute_input": "lona_halo.shape",
      "execute_result": {
       "data": {
        "text/plain": "(106, 106)"
       },
       "execution_count": 26,
       "metadata": {}
      },
      "follow": null,
      "msg_id": null,
      "outputs": [],
      "received": null,
      "started": null,
      "status": null,
      "stderr": "",
      "stdout": "",
      "submitted": "2022-07-14T00:13:48.000958Z"
     },
     "output_type": "display_data"
    },
    {
     "data": {
      "text/plain": [
       "\u001b[0;31mOut[2:26]: \u001b[0m(106, 106)"
      ]
     },
     "metadata": {
      "after": null,
      "completed": null,
      "data": {},
      "engine_id": 2,
      "engine_uuid": "1f2f3045-d0b28da8a6b33e7c64710637",
      "error": null,
      "execute_input": "lona_halo.shape",
      "execute_result": {
       "data": {
        "text/plain": "(106, 106)"
       },
       "execution_count": 26,
       "metadata": {}
      },
      "follow": null,
      "msg_id": null,
      "outputs": [],
      "received": null,
      "started": null,
      "status": null,
      "stderr": "",
      "stdout": "",
      "submitted": "2022-07-14T00:13:48.001176Z"
     },
     "output_type": "display_data"
    },
    {
     "data": {
      "text/plain": [
       "\u001b[0;31mOut[0:26]: \u001b[0m(106, 106)"
      ]
     },
     "metadata": {
      "after": null,
      "completed": null,
      "data": {},
      "engine_id": 0,
      "engine_uuid": "65ae3a80-d4a93895da7481996ceff846",
      "error": null,
      "execute_input": "lona_halo.shape",
      "execute_result": {
       "data": {
        "text/plain": "(106, 106)"
       },
       "execution_count": 26,
       "metadata": {}
      },
      "follow": null,
      "msg_id": null,
      "outputs": [],
      "received": null,
      "started": null,
      "status": null,
      "stderr": "",
      "stdout": "",
      "submitted": "2022-07-14T00:13:48.000825Z"
     },
     "output_type": "display_data"
    }
   ],
   "source": [
    "lona_halo.shape"
   ]
  },
  {
   "cell_type": "code",
   "execution_count": 34,
   "metadata": {},
   "outputs": [],
   "source": [
    "#%%capture capt\n",
    "from fv3core.stencils.fxadv import FiniteVolumeFluxPrep\n",
    "\n",
    "fvf_prep = FiniteVolumeFluxPrep(configuration['stencil_factory'], configuration['grid_data'])\n",
    "\n",
    "empty = np.zeros(lona_halo.shape)\n",
    "\n",
    "crx = Quantity(empty, ('x_interface', 'y'), units['courant'], origins['compute_2d'], (dimensions['nx1'], dimensions['ny']), backend)\n",
    "cry = Quantity(empty, ('x', 'y_interface'), units['courant'], origins['compute_2d'], (dimensions['nx'], dimensions['ny1']), backend)\n",
    "\n",
    "xaf = Quantity(empty, ('x_interface', 'y'), units['xaf'], origins['compute_2d'], (dimensions['nx1'], dimensions['ny']), backend)\n",
    "yaf = Quantity(empty, ('x', 'y_interface'), units['xaf'], origins['compute_2d'], (dimensions['nx'], dimensions['ny1']), backend)\n",
    "\n",
    "ucv = Quantity(empty, ('x_interface', 'y'), units['wind'], origins['compute_2d'], (dimensions['nx1'], dimensions['ny']), backend)\n",
    "vcv = Quantity(empty, ('x', 'y_interface'), units['wind'], origins['compute_2d'], (dimensions['nx'], dimensions['ny1']), backend)\n",
    "\n",
    "\n",
    "dt = 300.\n",
    "\n",
    "fvfp = fvf_prep(uc, vc, crx, cry, xaf, yaf, ucc, vcc, dt)\n",
    "\n",
    "# print()\n",
    "# print('U min, mean, max: %s %s %s' % (np.nanmin(u), np.nanmean(u), np.nanmax(u)))\n",
    "# print('UC min, mean, max: %s %s %s' % (np.nanmin(uc), np.nanmean(uc), np.nanmax(uc)))\n",
    "# print('UC_C min, mean, max: %s %s %s' % (np.nanmin(ucc), np.nanmean(ucc), np.nanmax(ucc)))\n",
    "# print()\n",
    "# print('V min, mean, max: %s %s %s' % (np.nanmin(v), np.nanmean(v), np.nanmax(v)))\n",
    "# print('VC min, mean, max: %s %s %s' % (np.nanmin(vc), np.nanmean(vc), np.nanmax(vc)))\n",
    "# print('VCC min, mean, max: %s %s %s' % (np.nanmin(vcc), np.nanmean(vcc), np.nanmax(vcc)))\n",
    "# print()\n",
    "# print('X-Courant min, mean, max: %s %s %s' % (np.nanmin(crx), np.nanmean(crx), np.nanmax(crx)))\n",
    "# print('Y-Courant min, mean, max: %s %s %s' % (np.nanmin(cry), np.nanmean(cry), np.nanmax(cry)))\n",
    "# print()\n",
    "# print('X-area flux min, mean, max: %s %s %s' % (np.nanmin(xaf), np.nanmean(xaf), np.nanmax(xaf)))\n",
    "# print('X-area flux min, mean, max: %s %s %s' % (np.nanmin(yaf), np.nanmean(yaf), np.nanmax(yaf)))\n",
    "\n"
   ]
  },
  {
   "cell_type": "code",
   "execution_count": null,
   "metadata": {},
   "outputs": [],
   "source": [
    "grid_type = 0\n",
    "hord = 6\n",
    "# ???????"
   ]
  },
  {
   "cell_type": "code",
   "execution_count": null,
   "metadata": {},
   "outputs": [],
   "source": []
  },
  {
   "cell_type": "code",
   "execution_count": null,
   "metadata": {},
   "outputs": [],
   "source": []
  },
  {
   "cell_type": "code",
   "execution_count": null,
   "metadata": {},
   "outputs": [],
   "source": []
  },
  {
   "cell_type": "code",
   "execution_count": null,
   "metadata": {},
   "outputs": [],
   "source": []
  },
  {
   "cell_type": "code",
   "execution_count": null,
   "metadata": {},
   "outputs": [],
   "source": []
  },
  {
   "cell_type": "code",
   "execution_count": null,
   "metadata": {},
   "outputs": [],
   "source": []
  },
  {
   "cell_type": "code",
   "execution_count": null,
   "metadata": {},
   "outputs": [],
   "source": [
    "# fInit = 'initialize_advection.nc'\n",
    "\n",
    "# if mpi_rank == 0:\n",
    "#     %run -i initialize_streamfunction_advection.py $fOut $fInit"
   ]
  }
 ],
 "metadata": {
  "kernelspec": {
   "display_name": "Python 3.8.10 ('venv': venv)",
   "language": "python",
   "name": "python3"
  },
  "language_info": {
   "codemirror_mode": {
    "name": "ipython",
    "version": 3
   },
   "file_extension": ".py",
   "mimetype": "text/x-python",
   "name": "python",
   "nbconvert_exporter": "python",
   "pygments_lexer": "ipython3",
   "version": "3.8.10"
  },
  "orig_nbformat": 4,
  "vscode": {
   "interpreter": {
    "hash": "5aaa1d64d2aec5fc9d71d95fe114c55e361597d915cf108c460e747a228aecec"
   }
  }
 },
 "nbformat": 4,
 "nbformat_minor": 2
}
