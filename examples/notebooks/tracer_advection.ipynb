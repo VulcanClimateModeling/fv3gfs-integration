{
 "cells": [
  {
   "cell_type": "markdown",
   "metadata": {},
   "source": [
    "# Standalone Tracer Advection\n",
    "\n",
    "This notebook demonstrates the computation of 2-dimensional tracer advection implemented in (?pace?). Tracer advection is performed over a single model layer with predefined thickness of 10 Pa, a Gaussian tracer distribution that is centered on `tracer_center`), and a known wind field.\n",
    "\n",
    "The mass continuity equation for a conserved scalar mass density $Q$ and horizontal vector velocity $\\mathbf{v}$ is\n",
    "\n",
    "$$\n",
    "\\frac{\\partial Q}{\\partial t} + \\nabla \\cdot (Q\\mathbf{v}) = 0\n",
    "$$\n",
    "\n",
    "We can then use the Divergence theorem to integrate about a quadrilateral grid cell of area $\\Delta A$, while simultaneously integrating in time from $t^n$ to $t^{n+1} = t^n + \\Delta t$ to express the governing equation in finite (control)-volume form:\n",
    "\n",
    "$$\n",
    "\\begin{aligned}\n",
    "\\begin{split}\n",
    "Q^{n+1} & = Q^{n} - \\frac{1}{A} \\int^{t + \\Delta t}_t \\oint Q \\, \\mathbf{v} \\cdot \\vec{n} \\, dl \\, dt \\\\\n",
    "& = Q^{n} + F[Q, \\tilde{u}^*] + G[Q, \\tilde{v}^*] \\\\\n",
    "\\end{split}\n",
    "\\end{aligned}\n",
    "$$\n",
    "where the $F$ and $G$ terms represent time-integrated flux divergences along grid-cell faces in x and y directions."
   ]
  },
  {
   "cell_type": "markdown",
   "metadata": {},
   "source": [
    "### Start a parallel cluster"
   ]
  },
  {
   "cell_type": "code",
   "execution_count": 1,
   "metadata": {},
   "outputs": [],
   "source": [
    "# Number of tiles on the cube\n",
    "ntiles = 6\n",
    "\n",
    "\n",
    "nx = 100\n",
    "ny = 100\n",
    "nz = 1\n",
    "\"\"\" (int): number of points per tile in each direction \"\"\"\n",
    "nhalo = 3\n",
    "\"\"\" (int): number of halo points\"\"\"\n",
    "\n",
    "timestep = 900.0\n",
    "\"\"\" (int): advection time step in seconds \"\"\"\n",
    "nDays = 12\n",
    "\"\"\" (int): number of days to advect for \"\"\"\n",
    "\n",
    "test_case = \"b\"\n",
    "\"\"\" (string): \n",
    "    - a: fortran test_case1; \n",
    "    - b: similar to a, but less dispersive;  \n",
    "    - c: south-north propagation \"\"\"\n",
    "\n",
    "plot_output_after = False\n",
    "\"\"\" (bool): plot output after advection is complete (slow) \"\"\"\n",
    "figure_everyNhours = 6\n",
    "\"\"\" (int): number of model hours between figures \"\"\"\n",
    "show_figures = False\n",
    "\"\"\" (bool): shows figures inside Jupyter notebook \"\"\"\n",
    "\n",
    "tracer_center = (0.0, 0.0)\n",
    "\"\"\" (float, float): lon and lot of the center position of tracer \"\"\"\n",
    "\n",
    "# Number of MPI-ranks along x- and y-direction on each tile\n",
    "# Note: Must be equal for the time being\n",
    "layout = (1, 1)\n",
    "assert layout[0] == layout[1]\n",
    "\n",
    "# GT4Py backend to use for storages\n",
    "backend = \"numpy\""
   ]
  },
  {
   "cell_type": "code",
   "execution_count": 2,
   "metadata": {},
   "outputs": [
    {
     "name": "stdout",
     "output_type": "stream",
     "text": [
      "Starting 6 engines with <class 'ipyparallel.cluster.launcher.MPIEngineSetLauncher'>\n"
     ]
    },
    {
     "data": {
      "application/vnd.jupyter.widget-view+json": {
       "model_id": "953a9c317f1346ae8b28a688598d4d61",
       "version_major": 2,
       "version_minor": 0
      },
      "text/plain": [
       "  0%|          | 0/6 [00:00<?, ?engine/s]"
      ]
     },
     "metadata": {},
     "output_type": "display_data"
    },
    {
     "name": "stdout",
     "output_type": "stream",
     "text": [
      "%autopx enabled\n"
     ]
    }
   ],
   "source": [
    "import ipyparallel as ipp\n",
    "\n",
    "# spinup cluster of MPI-workers\n",
    "num_ranks = ntiles * layout[0] * layout[1]\n",
    "cluster = ipp.Cluster(engines=\"mpi\", n=num_ranks).start_and_connect_sync()\n",
    "\n",
    "# broadcast configuration to all workers\n",
    "ar = cluster[:].push(\n",
    "    {\n",
    "        \"ntiles\": ntiles,\n",
    "        \"nx\": nx,\n",
    "        \"ny\": ny,\n",
    "        \"nz\": nz,\n",
    "        \"nhalo\": nhalo,\n",
    "        \"layout\": layout,\n",
    "        \"backend\": backend,\n",
    "        \"tracer_center\": tracer_center,\n",
    "        \"timestep\": timestep,\n",
    "        \"nDays\": nDays,\n",
    "        \"test_case\": test_case,\n",
    "        \"plot_output_after\": plot_output_after,\n",
    "        \"figure_everyNhours\": figure_everyNhours,\n",
    "        \"show_figures\": show_figures,\n",
    "    }\n",
    ")\n",
    "\n",
    "# start executing cells on the workers in parallel from here on\n",
    "%autopx"
   ]
  },
  {
   "cell_type": "markdown",
   "metadata": {},
   "source": [
    "### Input parameters\n",
    "\n",
    "To set up an FV3 grid on 6 tiles, all you need to define `nx`, `ny` and `nhalo` (these apply to single-tile dimensions). The `timestep` and `nDays` parameters are used in trace advection, where 12 is the number of days it takes for the tracer to propagate around the globe with test case initial conditions.\n",
    "\n",
    "There are currently two test cases defined:\n",
    "- <b>a</b>: same configuration as test_case1 in fortran\n",
    "- <b>b</b>: as in fortran test_case1, but with slightly weaker winds away from the equator, which leads to less dissipation after full rotation."
   ]
  },
  {
   "cell_type": "code",
   "execution_count": 3,
   "metadata": {},
   "outputs": [],
   "source": [
    "# %%capture\n",
    "# nx = 20\n",
    "# ny = 20\n",
    "# \"\"\" (int): number of points per tile in each direction \"\"\"\n",
    "# timestep = 900.0\n",
    "# \"\"\" (int): advection time step in seconds \"\"\"\n",
    "# nDays = 12\n",
    "# \"\"\" (int): number of days to advect for \"\"\"\n",
    "\n",
    "# test_case = \"b\"\n",
    "# \"\"\" (string): \n",
    "#     - a: fortran test_case1; \n",
    "#     - b: similar to a, but less dispersive;  \n",
    "#     - c: south-north propagation; \n",
    "#     - d: wiggling along the equator (dispersive) \"\"\"\n",
    "# plot_output_after = False\n",
    "# \"\"\" (bool): plot output after advection is complete (slow) \"\"\"\n",
    "# figure_everyNhours = 6\n",
    "# \"\"\" (int): number of model hours between figures \"\"\"\n",
    "# show_figures = False\n",
    "# \"\"\" (bool): shows figures inside Jupyter notebook \"\"\"\n",
    "\n",
    "# tracer_center = (0.0, 0.0)\n",
    "# \"\"\" (float, float): longitude and latitude of tracer centerpoint\"\"\""
   ]
  },
  {
   "cell_type": "markdown",
   "metadata": {},
   "source": [
    "### Configure based on input parameters"
   ]
  },
  {
   "cell_type": "code",
   "execution_count": 4,
   "metadata": {},
   "outputs": [
    {
     "data": {
      "application/vnd.jupyter.widget-view+json": {
       "model_id": "17900ec0cf314937ad416e8f1c5fb86a",
       "version_major": 2,
       "version_minor": 0
      },
      "text/plain": [
       "%px:   0%|          | 0/6 [00:00<?, ?tasks/s]"
      ]
     },
     "metadata": {},
     "output_type": "display_data"
    }
   ],
   "source": [
    "%%capture\n",
    "import functions as func\n",
    "from mpi4py import MPI\n",
    "\n",
    "mpi_comm = MPI.COMM_WORLD\n",
    "\n",
    "nSeconds = nDays * 86400\n",
    "figure_everyNsteps = int(3600 / timestep * figure_everyNhours)\n",
    "nSteps_advection = int(nSeconds / timestep + 1)\n",
    "\n",
    "if figure_everyNsteps > nSteps_advection:\n",
    "    figure_everyNsteps = nSteps_advection\n",
    "\n",
    "write_coordinates = True\n",
    "\n",
    "namelist_dict = func.store_namelist_variables(locals())\n",
    "\n",
    "plot_dict_tracer = {\n",
    "    \"vmin\": 0,\n",
    "    \"vmax\": 1,\n",
    "    \"units\": \"\",\n",
    "    \"title\": \"Tracer concentration\",\n",
    "    \"cmap\": \"viridis\",\n",
    "}"
   ]
  },
  {
   "cell_type": "markdown",
   "metadata": {},
   "source": [
    "### Prepare state for advection\n",
    "\n",
    "This section steps through everything that is needed in order to run tracer advection. \n",
    "\n",
    "1. The domain is configured based on the input `nx`, `ny` and `nhalo` points.\n",
    "    - The `configuration` dictionary stores all the constructs (I think?) that are needed to initialize stencils.\n",
    "    - This is demonstrated in more detail in `domain_decomposition_grid_generation.ipynb`.\n",
    "<br> <br>\n",
    "\n",
    "2. The initial state fields are created based on chosen test case.\n",
    "    - The `initialState` dictionary stores `delp`, `uC`, `vC` and `tracer` information required for advection.\n",
    "    - This is demonstrated in more detail in `initial_condition_definition.ipynb`.\n",
    "<br> <br>\n",
    "\n",
    "3. The initial state fields are converted into inputs that tracer advection requires.\n",
    "    - The `tracAdv_data` dictionary stores Courant numbers `crx` and `cry`, mass fluxes `mfxd` and `mfyd`, pressure thickness `delp` and tracer concentration dictionary `tracers`."
   ]
  },
  {
   "cell_type": "code",
   "execution_count": 30,
   "metadata": {},
   "outputs": [
    {
     "data": {
      "text/plain": [
       "[stderr:2] /home/ajdas/pace/pace-util/pace/util/grid/gnomonic.py:682: RuntimeWarning: invalid value encountered in true_divide\n",
       "  np.sum(p * q, axis=-1)\n"
      ]
     },
     "metadata": {},
     "output_type": "display_data"
    },
    {
     "data": {
      "text/plain": [
       "[stderr:5] /home/ajdas/pace/pace-util/pace/util/grid/gnomonic.py:682: RuntimeWarning: invalid value encountered in true_divide\n",
       "  np.sum(p * q, axis=-1)\n"
      ]
     },
     "metadata": {},
     "output_type": "display_data"
    },
    {
     "data": {
      "application/vnd.jupyter.widget-view+json": {
       "model_id": "a2bf092e66d54b01a0ee4065f30623ce",
       "version_major": 2,
       "version_minor": 0
      },
      "text/plain": [
       "%px:   0%|          | 0/6 [00:00<?, ?tasks/s]"
      ]
     },
     "metadata": {},
     "output_type": "display_data"
    }
   ],
   "source": [
    "import copy as cp\n",
    "\n",
    "import importlib\n",
    "importlib.reload(func)\n",
    "\n",
    "metadata, rank = func.define_metadata(namelist_dict, mpi_comm)\n",
    "dimensions = metadata[\"dimensions\"]\n",
    "\n",
    "configuration = func.configure_domain(mpi_comm, metadata[\"dimensions\"])\n",
    "\n",
    "initial_state = func.create_initial_state(\n",
    "    configuration[\"metric_terms\"], metadata, tracer_center, test_case\n",
    ")\n",
    "\n",
    "tracer_advection_data, tracer_advection = func.prepare_everything_for_advection(\n",
    "    configuration, initial_state, metadata, timestep\n",
    ")\n",
    "\n",
    "tracer_advection_data_initial = cp.deepcopy(tracer_advection_data)"
   ]
  },
  {
   "cell_type": "markdown",
   "metadata": {},
   "source": [
    "## Advection loop\n",
    "\n",
    "This section loops through tracer advection for the specificed number of steps (`nSteps_advection`) that are determined by the requested duration (`nDays`) and given time step (`timestep`). After every time step, the instantaneous tracer state is stored in `tracer_archive`.\n",
    "\n",
    "You can choose to plot the instantaneous tracer during computation if `plot_outputDuring=True`, but this is very slow. Better plotting options are in the next section."
   ]
  },
  {
   "cell_type": "code",
   "execution_count": 31,
   "metadata": {},
   "outputs": [
    {
     "data": {
      "application/vnd.jupyter.widget-view+json": {
       "model_id": "51d8d5264b2f45f09e89ed8a0eb26dd0",
       "version_major": 2,
       "version_minor": 0
      },
      "text/plain": [
       "%px:   0%|          | 0/6 [00:00<?, ?tasks/s]"
      ]
     },
     "metadata": {},
     "output_type": "display_data"
    },
    {
     "data": {
      "text/plain": [
       "[stdout:0] Step: 96\n",
       "Step: 192\n",
       "Step: 288\n",
       "Step: 384\n",
       "Step: 480\n",
       "Step: 576\n",
       "Step: 672\n"
      ]
     },
     "metadata": {},
     "output_type": "display_data"
    }
   ],
   "source": [
    "tracer_archive = [cp.deepcopy(tracer_advection_data_initial[\"tracers\"][\"tracer\"])]\n",
    "\n",
    "for step in range(nSteps_advection):\n",
    "    if (rank == 0) and (step + 1) % (24 * 3600 / timestep) == 0:\n",
    "        print(\"Step: %d\" % (step + 1))\n",
    "\n",
    "    tracer_advection_data = func.run_advection_step_with_reset(\n",
    "        tracer_advection_data_initial, tracer_advection_data, tracer_advection, timestep\n",
    "    )\n",
    "\n",
    "    tracer_archive.append(cp.deepcopy(tracer_advection_data[\"tracers\"][\"tracer\"]))"
   ]
  },
  {
   "cell_type": "markdown",
   "metadata": {},
   "source": [
    "### Animation and Plotting\n",
    "\n",
    "These sections run if `plot_jupyterAnimation` and `plot_outputAfter` are set to `True`.\n",
    "\n",
    "- `plot_jupyterAnimation` creates an interactive interface where you can click through and play through the time progression of tracer advection.\n",
    "- `plot_outputAfter` plots individual frames. "
   ]
  },
  {
   "cell_type": "code",
   "execution_count": null,
   "metadata": {},
   "outputs": [],
   "source": [
    "import importlib\n",
    "importlib.reload(func)"
   ]
  },
  {
   "cell_type": "code",
   "execution_count": null,
   "metadata": {},
   "outputs": [],
   "source": [
    "func.plot_tracer_animation(\n",
    "    configuration,\n",
    "    metadata,\n",
    "    tracer_archive,\n",
    "    rank,\n",
    "    plot_dict_tracer,\n",
    "    figure_everyNsteps,\n",
    "    timestep,\n",
    "    frames=\"all\",\n",
    ")"
   ]
  },
  {
   "cell_type": "code",
   "execution_count": null,
   "metadata": {},
   "outputs": [],
   "source": [
    "if plot_output_after:\n",
    "    for step in range(0, nSteps_advection, figure_everyNsteps):\n",
    "        tracer_global = configuration[\"communicator\"].gather(tracer_archive[step])\n",
    "        fOut = \"tracerAdvection_%s_%06.2f.png\" % (\n",
    "            test_case,\n",
    "            (step * timestep) / 60 / 60,\n",
    "        )\n",
    "        plot_dict_tracer[\"title\"] = \"Tracer state @ hour: %.2f\" % (\n",
    "            (step * timestep) / 60 / 60\n",
    "        )\n",
    "        func.plot_projection_field(\n",
    "            configuration,\n",
    "            metadata,\n",
    "            tracer_global,\n",
    "            plot_dict_tracer,\n",
    "            rank,\n",
    "            fOut,\n",
    "            show=show_figures,\n",
    "        )"
   ]
  },
  {
   "cell_type": "code",
   "execution_count": null,
   "metadata": {},
   "outputs": [],
   "source": []
  }
 ],
 "metadata": {
  "kernelspec": {
   "display_name": "Python 3 (ipykernel)",
   "language": "python",
   "name": "python3"
  },
  "language_info": {
   "codemirror_mode": {
    "name": "ipython",
    "version": 3
   },
   "file_extension": ".py",
   "mimetype": "text/x-python",
   "name": "python",
   "nbconvert_exporter": "python",
   "pygments_lexer": "ipython3",
   "version": "3.8.10"
  },
  "vscode": {
   "interpreter": {
    "hash": "5aaa1d64d2aec5fc9d71d95fe114c55e361597d915cf108c460e747a228aecec"
   }
  }
 },
 "nbformat": 4,
 "nbformat_minor": 4
}
