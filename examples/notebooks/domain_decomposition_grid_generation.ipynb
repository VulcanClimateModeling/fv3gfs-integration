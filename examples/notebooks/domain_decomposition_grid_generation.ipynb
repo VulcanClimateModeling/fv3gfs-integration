{
 "cells": [
  {
   "cell_type": "markdown",
   "metadata": {},
   "source": [
    "# Domain Decomposition and Grid Generation\n",
    "#### (and maybe other things?)\n",
    "\n",
    "### Building everything you might need for stencil generation\n",
    "\n",
    "This notebook steps through domain decomposition into tiles, projection of points onto the grid, and building everything else needed for stencil generation later on (e.g., standalone tracer advection).\n",
    "\n",
    "In addition, it also shows how to retrieve some data (lat, lon, dx, dy) and plot them on a sphere.\n",
    "\n",
    "Inside `functions.py`, some of these steps are consolidated into functions:\n",
    "- configuration steps: `configure_domain()`,\n",
    "- retrieving latitude and longitude: `get_lon_lat_edges()`,\n",
    "- plotting grid edges on projection: `plot_grid()`,\n",
    "- plotting a field on projection: `plot_projection_field()`."
   ]
  },
  {
   "cell_type": "code",
   "execution_count": null,
   "metadata": {},
   "outputs": [],
   "source": [
    "import ipyparallel as ipp\n",
    "\n",
    "cluster = ipp.Cluster(engines=\"mpi\", n=6).start_and_connect_sync()\n",
    "%autopx"
   ]
  },
  {
   "cell_type": "markdown",
   "metadata": {},
   "source": [
    "Setting up configuration parameters for grid generation: layout and number of grid points per tile."
   ]
  },
  {
   "cell_type": "code",
   "execution_count": null,
   "metadata": {},
   "outputs": [],
   "source": [
    "%%capture\n",
    "nx = 20\n",
    "ny = 20\n",
    "nz = 79\n",
    "\"\"\" (int): number of compute domain points per tile in each direction \"\"\"\n",
    "\n",
    "nhalo = 3\n",
    "\"\"\" (int): number of halo points in x- and y- directions \"\"\"\n",
    "\n",
    "layout = (1, 1)\n",
    "\"\"\" (int, int): how many parts each tile is split into along x- and y- directions \"\"\"\n",
    "\n",
    "backend = \"numpy\"\n",
    "\"\"\" (str): gt4py backend name\n",
    "    - other options? Untested. \"\"\""
   ]
  },
  {
   "cell_type": "markdown",
   "metadata": {},
   "source": [
    "Initializing Message Passing Interface (MPI) communicator and confirming the number of ranks (mpi_size)."
   ]
  },
  {
   "cell_type": "code",
   "execution_count": null,
   "metadata": {},
   "outputs": [],
   "source": [
    "from mpi4py import MPI\n",
    "\n",
    "mpi_comm = MPI.COMM_WORLD\n",
    "mpi_size = mpi_comm.Get_size()\n",
    "mpi_rank = mpi_comm.Get_rank()\n"
   ]
  },
  {
   "cell_type": "markdown",
   "metadata": {},
   "source": [
    "## Domain decomposition\n",
    "\n",
    "Add some text here describing what this portion does. \n",
    "\n",
    "Maybe:\n",
    "At this point, each individual tile doesn't really have any idea that it's on a cubed-sphere.\n",
    "\n",
    "- `TilePartitioner`: tells the process how tile data is allocated between ranks on a tile, including their orientation with respect to one another;\n",
    "- `CubedSpherePartitioner`: tells the process how data on the entire cubed sphere is allocated between its ranks, including their orientation with respect to one another;\n",
    "- `CubedSphereCommunicator`: performs communications on the cubed sphere;\n",
    "- `SubtileGridSizer`: is able to tell a user how large a local array should be for a given rank, given information about the partitioning of the tile and the full tile size, and given the dimensionality of that variable;\n",
    "- `QuantityFactory`: creates quantities given a dimensionality and a `SubtileGridSizer` to tell it how large the data needs to be."
   ]
  },
  {
   "cell_type": "code",
   "execution_count": null,
   "metadata": {},
   "outputs": [],
   "source": [
    "%%capture\n",
    "from pace.util import (\n",
    "    CubedSphereCommunicator, \n",
    "    CubedSpherePartitioner, \n",
    "    QuantityFactory, \n",
    "    SubtileGridSizer, \n",
    "    TilePartitioner\n",
    ")\n",
    "\n",
    "partitioner = CubedSpherePartitioner(TilePartitioner(layout))\n",
    "\n",
    "communicator = CubedSphereCommunicator(mpi_comm, partitioner)\n",
    "\n",
    "sizer = SubtileGridSizer.from_tile_params(\n",
    "    nx_tile=nx,\n",
    "    ny_tile=ny,\n",
    "    nz=nz,\n",
    "    n_halo=nhalo,\n",
    "    extra_dim_lengths={},\n",
    "    layout=layout,\n",
    "    tile_partitioner=partitioner.tile,\n",
    "    tile_rank=communicator.tile.rank,\n",
    ")\n",
    "\n",
    "quantity_factory = QuantityFactory.from_backend(\n",
    "    sizer=sizer, \n",
    "    backend=backend\n",
    ")"
   ]
  },
  {
   "cell_type": "markdown",
   "metadata": {},
   "source": [
    "## Grid generation\n",
    "\n",
    "Add some text here describing what this portion does. \n",
    "\n",
    "Maybe: \n",
    "These construct data to project everything on the cubed-sphere?\n",
    "\n",
    "- `MetricTerms`: a data container for grid information;\n",
    "- `DampingCoefficients`: a data container for damping coefficients, used by fv3core. ** It’s not needed outside of fv3core and you shouldn’t need it in your notebook. **\n",
    "- `GridData`: the data container for grid information used by the dynamical core. ** We should probably rename it. It shouldn’t be needed outside of fv3core, you can remove it from your notebook if you use metric_terms instead. **"
   ]
  },
  {
   "cell_type": "code",
   "execution_count": null,
   "metadata": {},
   "outputs": [],
   "source": [
    "%%capture\n",
    "from pace.util.grid import (\n",
    "    DampingCoefficients, \n",
    "    GridData, \n",
    "    MetricTerms\n",
    ")\n",
    "\n",
    "metric_terms = MetricTerms(\n",
    "    quantity_factory=quantity_factory, \n",
    "    communicator=communicator\n",
    ")\n",
    "\n",
    "damping_coefficients = DampingCoefficients.new_from_metric_terms(metric_terms)\n",
    "\n",
    "grid_data = GridData.new_from_metric_terms(metric_terms)    "
   ]
  },
  {
   "cell_type": "markdown",
   "metadata": {},
   "source": [
    "## Components for Building Stencils\n",
    "\n",
    "Add some text here describing what this portion does. \n",
    "\n",
    "\n",
    "\n",
    "- `DaceConfig`:\n",
    "- `CompilationConfig`: \n",
    "- `StencilConfig`:\n",
    "- `GridIndexing`:\n",
    "- `StencilFactory`:\n",
    "\n",
    "The lines that come after grid indexing basically hack the code so it only contains one vertical level."
   ]
  },
  {
   "cell_type": "code",
   "execution_count": null,
   "metadata": {},
   "outputs": [],
   "source": [
    "from pace.dsl.dace.dace_config import (\n",
    "    DaceConfig, \n",
    "    DaCeOrchestration\n",
    ")\n",
    "from pace.dsl.stencil import (\n",
    "    GridIndexing, \n",
    "    StencilConfig, \n",
    "    StencilFactory\n",
    ")\n",
    "from pace.dsl.stencil_config import (\n",
    "    CompilationConfig, \n",
    "    RunMode\n",
    ")\n",
    "\n",
    "\n",
    "dace_config = DaceConfig(\n",
    "    communicator=communicator, \n",
    "    backend=backend, \n",
    "    orchestration=DaCeOrchestration.Python\n",
    ") \n",
    "\n",
    "compilation_config = CompilationConfig(\n",
    "    backend=backend, \n",
    "    rebuild=True, \n",
    "    validate_args=True, \n",
    "    format_source=False, \n",
    "    device_sync=False, \n",
    "    run_mode=RunMode.BuildAndRun, \n",
    "    use_minimal_caching=False, \n",
    "    communicator=communicator,\n",
    ")\n",
    "\n",
    "stencil_config = StencilConfig(\n",
    "    compare_to_numpy=False,\n",
    "    compilation_config=compilation_config,\n",
    "    dace_config = dace_config\n",
    ")\n",
    "\n",
    "grid_indexing = GridIndexing.from_sizer_and_communicator(\n",
    "        sizer=sizer, \n",
    "        cube=communicator\n",
    "    )\n",
    "\n",
    "# set the domain so there is only one level in the vertical -- forced\n",
    "domain = grid_indexing.domain\n",
    "domain_new = list(domain)\n",
    "domain_new[2] = 1\n",
    "domain_new = tuple(domain_new)\n",
    "\n",
    "grid_indexing.domain = domain_new\n",
    "\n",
    "stencil_factory = StencilFactory(\n",
    "    config=stencil_config, \n",
    "    grid_indexing=grid_indexing\n",
    "    )"
   ]
  },
  {
   "cell_type": "markdown",
   "metadata": {},
   "source": [
    "## Retrieving Coordinates\n",
    "\n",
    "Retrieving longitude and latitude of grid edges from input configuration. \n",
    "\n",
    "This is consolidated in `get_lon_lat_edges()` in `functions.py`."
   ]
  },
  {
   "cell_type": "code",
   "execution_count": null,
   "metadata": {},
   "outputs": [],
   "source": [
    "import numpy as np\n",
    "from pace.util import Quantity\n",
    "\n",
    "lon = Quantity(\n",
    "    grid_data.lon.data * 180 / np.pi,\n",
    "    dims=(\"x_interface\", \"y_interface\"),\n",
    "    units=\"degrees\",\n",
    "    origin=(nhalo, nhalo),\n",
    "    extent=(nx+1, ny+1),\n",
    "    gt4py_backend=backend,\n",
    ")\n",
    "\n",
    "lat = Quantity(\n",
    "    grid_data.lat.data * 180 / np.pi,\n",
    "    dims=(\"x_interface\", \"y_interface\"),\n",
    "    units=\"degrees\",\n",
    "    origin=(3, 3),\n",
    "    extent=(nx+1, ny+1),\n",
    "    gt4py_backend=backend,\n",
    ")\n",
    "\n",
    "lon_gather = communicator.gather(lon)\n",
    "lat_gather = communicator.gather(lat)\n"
   ]
  },
  {
   "cell_type": "markdown",
   "metadata": {},
   "source": [
    "## Plotting the grid\n",
    "\n",
    "Uses Cartopy and fv3viz to plot the grid edges defined in lon and lat quantities."
   ]
  },
  {
   "cell_type": "code",
   "execution_count": null,
   "metadata": {},
   "outputs": [],
   "source": [
    "import matplotlib.pyplot as plt\n",
    "from cartopy import crs as ccrs\n",
    "from fv3viz import pcolormesh_cube\n",
    "\n",
    "if mpi_rank == 0:\n",
    "    field = np.zeros(lon_gather.data.shape)[:, :-1, :-1]\n",
    "\n",
    "    fig = plt.figure(figsize = (12, 6))\n",
    "    ax = fig.add_subplot(111, projection=ccrs.Robinson())\n",
    "\n",
    "    pcolormesh_cube(lat_gather.data, lon_gather.data, field, \n",
    "        cmap=\"bwr\", vmin=-1, vmax=1, edgecolor=\"k\", linewidth=0.1,\n",
    "    )\n",
    "\n",
    "    ax.set_title('Grid map %s x %s (points per tile)' % (nx, ny))\n",
    "\n",
    "    plt.show()"
   ]
  },
  {
   "cell_type": "markdown",
   "metadata": {},
   "source": [
    "## Retrieving and Plotting More Data\n",
    "\n",
    "You can use quantities to retrieve any data that is stored inside `grid_data` or any of the other constructed variables, gather it on the root engine and then plot it.\n",
    "\n",
    "In this case, the area of each grid cell is plotted."
   ]
  },
  {
   "cell_type": "code",
   "execution_count": null,
   "metadata": {},
   "outputs": [],
   "source": [
    "area = Quantity(\n",
    "    grid_data.area.data,\n",
    "    dims=(\"x\", \"y\"),\n",
    "    units=\"m2\",\n",
    "    origin=(nhalo, nhalo),\n",
    "    extent=(nx, ny),\n",
    "    gt4py_backend=backend,\n",
    ")\n",
    "\n",
    "area.data[:] = area.data/(1e6)/1e3 # rescaling for nicer values, now in 10^-3 km2\n",
    "area_gather = communicator.gather(area)\n",
    "\n",
    "if mpi_rank == 0:\n",
    "    \n",
    "    fig = plt.figure(figsize = (12, 6))\n",
    "    ax = fig.add_subplot(111, projection=ccrs.Robinson())\n",
    "\n",
    "    f1 = pcolormesh_cube(lat_gather.data, lon_gather.data, area_gather.data, \n",
    "        vmin=140, vmax=300, cmap=\"viridis\"\n",
    "    )\n",
    "\n",
    "    plt.colorbar(f1, label=\"area (x $10^3$ km$^2$)\")\n",
    "\n",
    "    ax.set_title(\"Area on cell centers (%s x %s points per tile)\" % (nx, ny))\n",
    "\n",
    "    plt.show()"
   ]
  },
  {
   "cell_type": "markdown",
   "metadata": {},
   "source": [
    "## Recreating this with functions.py\n",
    "\n",
    "You can reproduce the above steps in a more succinct manner by using the following syntax:"
   ]
  },
  {
   "cell_type": "code",
   "execution_count": null,
   "metadata": {},
   "outputs": [],
   "source": [
    "import functions as func\n",
    "import importlib\n",
    "importlib.reload(func)\n",
    "\n",
    "# a little bit of prep\n",
    "namelistDict = func.store_namelist_variables(locals())\n",
    "metadata, rank = func.define_metadata(namelistDict, mpi_comm)\n",
    "\n",
    "# domain decomposition, grid generation, stencil tools\n",
    "configuration = func.configure_domain(mpi_comm, metadata[\"dimensions\"])\n",
    "\n",
    "# plot grid\n",
    "func.plot_grid(configuration, metadata, rank, fOut=\"grid_map.png\", show=True)\n",
    "\n",
    "# plot area field\n",
    "plotDict = { \"vmin\": 140, \"vmax\": 300, \"cmap\": \"viridis\", \n",
    "    \"units\": \"area (x $10^3$ km$^2$)\", \n",
    "    \"title\": 'Area on cell centers (%s x %s points per tile)' % (nx, ny)\n",
    "}\n",
    "func.plot_projection_field(\n",
    "    configuration, metadata, area_gather, \n",
    "    plotDict, mpi_rank, \"grid_area.png\", show=True\n",
    ")"
   ]
  }
 ],
 "metadata": {
  "kernelspec": {
   "display_name": "Python 3.8.10 ('venv': venv)",
   "language": "python",
   "name": "python3"
  },
  "language_info": {
   "codemirror_mode": {
    "name": "ipython",
    "version": 3
   },
   "file_extension": ".py",
   "mimetype": "text/x-python",
   "name": "python",
   "nbconvert_exporter": "python",
   "pygments_lexer": "ipython3",
   "version": "3.8.10"
  },
  "orig_nbformat": 4,
  "vscode": {
   "interpreter": {
    "hash": "5aaa1d64d2aec5fc9d71d95fe114c55e361597d915cf108c460e747a228aecec"
   }
  }
 },
 "nbformat": 4,
 "nbformat_minor": 2
}
