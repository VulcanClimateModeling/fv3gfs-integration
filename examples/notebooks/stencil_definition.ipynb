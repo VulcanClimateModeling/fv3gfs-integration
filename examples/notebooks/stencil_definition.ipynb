{
 "cells": [
  {
   "cell_type": "markdown",
   "id": "559427b6-c6c4-4e98-9ab4-f321f8c4999d",
   "metadata": {
    "tags": []
   },
   "source": [
    "# Defining, compiling, and running stencils\n",
    "\n",
    "This notebook demonstrates how stencils can be defined, compiled and executed."
   ]
  },
  {
   "cell_type": "markdown",
   "id": "777c9dae-cb6f-49a8-963a-a85031d169af",
   "metadata": {},
   "source": [
    "## Configuration\n",
    "\n",
    "First, let's define the configuration such as the size of the computational domain as well as the number of halo points and the GT4Py backend we are using."
   ]
  },
  {
   "cell_type": "code",
   "execution_count": 2,
   "id": "5e09b7ff-ead1-40da-a79f-9929fd7c9e93",
   "metadata": {},
   "outputs": [],
   "source": [
    "nx = 20\n",
    "ny = 20\n",
    "nz = 79\n",
    "nhalo = 3\n",
    "backend = \"numpy\""
   ]
  },
  {
   "cell_type": "markdown",
   "id": "3acf8ab8-73b5-45f3-9605-6f5929ebdbb3",
   "metadata": {},
   "source": [
    "## Stencil definition using GT4Py\n",
    "\n",
    "Next, we'll define the actual stencil that we want to compile and run. We use the GT4Py domain-specific language (GTScripts) for this. For demonstration purposes, we start with a very simple stencil that simply sets a field to a constant value at every grid cell."
   ]
  },
  {
   "cell_type": "code",
   "execution_count": 3,
   "id": "c9d04aed-9513-447a-bae8-3c9719a60d9a",
   "metadata": {},
   "outputs": [],
   "source": [
    "from gt4py.gtscript import PARALLEL, computation\n",
    "from pace.dsl.typing import FloatField\n",
    "\n",
    "def set_field_to_value_def(f: FloatField, value: float):\n",
    "    with computation(PARALLEL), interval(...):\n",
    "        f = value"
   ]
  },
  {
   "cell_type": "markdown",
   "id": "e3ff42c6-2fcb-4cbf-af4e-a41d5bbb0c95",
   "metadata": {
    "tags": []
   },
   "source": [
    "## Setup helpers for building stencils\n",
    "\n",
    "The `pace.dsl` package contains provides a helper class for compiling stencils. The helper class is called a stencil factory. In order to setup a stencil factory, several configuration objects have to be defined and passed in.\n",
    "\n",
    "- `DaceConfig`: configuration of DaCe backend\n",
    "- `CompilationConfig`: specification of how to compile\n",
    "- `StencilConfig`: wrapper to carry DaCe and compilation configuration\n",
    "- `GridIndexing`: helper class which provides indexing (e.g. compute domain and origin)\n",
    "- `StencilFactory`: helper class to build stencils from GT4Py stencil definitions"
   ]
  },
  {
   "cell_type": "code",
   "execution_count": 4,
   "id": "108a7b90-178d-461c-b313-cf0f1dcb4b94",
   "metadata": {
    "tags": []
   },
   "outputs": [],
   "source": [
    "from pace.dsl.dace.dace_config import DaceConfig, DaCeOrchestration\n",
    "from pace.dsl.stencil import GridIndexing, StencilConfig, StencilFactory\n",
    "from pace.dsl.stencil_config import CompilationConfig, RunMode\n",
    "\n",
    "dace_config = DaceConfig(\n",
    "    communicator=None, backend=backend, orchestration=DaCeOrchestration.Python\n",
    ")\n",
    "\n",
    "compilation_config = CompilationConfig(\n",
    "    backend=backend,\n",
    "    rebuild=True,\n",
    "    validate_args=True,\n",
    "    format_source=False,\n",
    "    device_sync=False,\n",
    "    run_mode=RunMode.BuildAndRun,\n",
    "    use_minimal_caching=False,\n",
    ")\n",
    "\n",
    "stencil_config = StencilConfig(\n",
    "    compare_to_numpy=False,\n",
    "    compilation_config=compilation_config,\n",
    "    dace_config=dace_config,\n",
    ")\n",
    "\n",
    "grid_indexing = GridIndexing(\n",
    "    domain=(nx, ny, nz),\n",
    "    n_halo=nhalo,\n",
    "    south_edge=True,\n",
    "    north_edge=True,\n",
    "    west_edge=True,\n",
    "    east_edge=True,\n",
    ")\n",
    "\n",
    "stencil_factory = StencilFactory(config=stencil_config, grid_indexing=grid_indexing)"
   ]
  },
  {
   "cell_type": "markdown",
   "id": "7d5797e0-b80a-4b27-be30-5d138deda105",
   "metadata": {},
   "source": [
    "## Wrap stencil into a Python class\n",
    "\n",
    "Using the stencil factory we can now wrap the compiled GT4Py stencil into a Python class. The init section is responsible for compiling the stencil, the call section will simply execute the compiled stencil with the arguments passed."
   ]
  },
  {
   "cell_type": "code",
   "execution_count": 12,
   "id": "51a5b99a-3cfc-437d-bf10-a1203499f28c",
   "metadata": {},
   "outputs": [],
   "source": [
    "from pace.dsl.stencil import StencilFactory\n",
    "from pace.dsl.typing import FloatField\n",
    "\n",
    "class SetFieldToValue:\n",
    "    def __init__(self, stencil_factory: StencilFactory):\n",
    "        grid_indexing = stencil_factory.grid_indexing\n",
    "        self._set_field_to_value_stencil = stencil_factory.from_origin_domain(\n",
    "            set_field_to_value_def,\n",
    "            origin=grid_indexing.origin_compute(),\n",
    "            domain=grid_indexing.domain_compute(),\n",
    "        )\n",
    "\n",
    "    def __call__(\n",
    "        self,\n",
    "        f: FloatField,\n",
    "        value: float,\n",
    "    ):\n",
    "        self._set_field_to_value_stencil(f, value)"
   ]
  },
  {
   "cell_type": "markdown",
   "id": "cb397fe7-9ae0-46c0-8056-d35cde629a4b",
   "metadata": {},
   "source": [
    "## Compiling and running the stencil\n",
    "\n",
    "To compile and run the stencil we first have to instanciate the wrapper class. This will compile the stencil and return a callable object. Next we have to define a GT4Py data storage (field). This could also be done using the `pace.util.Quantity` class, but here we use plain GT4Py data storages for simplicity. Finally, we can call the stencil and pass in the field and value."
   ]
  },
  {
   "cell_type": "code",
   "execution_count": 6,
   "id": "c27da0c5-bf57-4196-83be-65b32cfccbf9",
   "metadata": {},
   "outputs": [],
   "source": [
    "set_field_to_value = SetFieldToValue(stencil_factory)"
   ]
  },
  {
   "cell_type": "code",
   "execution_count": 7,
   "id": "b545d4e6-a98f-440f-ab46-be2f9c182c31",
   "metadata": {},
   "outputs": [],
   "source": [
    "import gt4py.storage as gt_storage\n",
    "\n",
    "field = gt_storage.zeros(backend=backend, dtype=float, shape=(nx + 1*nhalo, ny + 2*nhalo, nz), default_origin=(nhalo, nhalo, 0))"
   ]
  },
  {
   "cell_type": "code",
   "execution_count": 8,
   "id": "e993525f-fe88-42e0-823a-9712539621a5",
   "metadata": {},
   "outputs": [],
   "source": [
    "set_field_to_value(field, 42.0)"
   ]
  },
  {
   "cell_type": "code",
   "execution_count": 9,
   "id": "1fcccde9-d0a7-4eac-8750-5c64ebf9b26a",
   "metadata": {},
   "outputs": [
    {
     "name": "stdout",
     "output_type": "stream",
     "text": [
      "[[[0. 0. 0. ... 0. 0. 0.]\n",
      "  [0. 0. 0. ... 0. 0. 0.]\n",
      "  [0. 0. 0. ... 0. 0. 0.]\n",
      "  ...\n",
      "  [0. 0. 0. ... 0. 0. 0.]\n",
      "  [0. 0. 0. ... 0. 0. 0.]\n",
      "  [0. 0. 0. ... 0. 0. 0.]]\n",
      "\n",
      " [[0. 0. 0. ... 0. 0. 0.]\n",
      "  [0. 0. 0. ... 0. 0. 0.]\n",
      "  [0. 0. 0. ... 0. 0. 0.]\n",
      "  ...\n",
      "  [0. 0. 0. ... 0. 0. 0.]\n",
      "  [0. 0. 0. ... 0. 0. 0.]\n",
      "  [0. 0. 0. ... 0. 0. 0.]]\n",
      "\n",
      " [[0. 0. 0. ... 0. 0. 0.]\n",
      "  [0. 0. 0. ... 0. 0. 0.]\n",
      "  [0. 0. 0. ... 0. 0. 0.]\n",
      "  ...\n",
      "  [0. 0. 0. ... 0. 0. 0.]\n",
      "  [0. 0. 0. ... 0. 0. 0.]\n",
      "  [0. 0. 0. ... 0. 0. 0.]]\n",
      "\n",
      " ...\n",
      "\n",
      " [[0. 0. 0. ... 0. 0. 0.]\n",
      "  [0. 0. 0. ... 0. 0. 0.]\n",
      "  [0. 0. 0. ... 0. 0. 0.]\n",
      "  ...\n",
      "  [0. 0. 0. ... 0. 0. 0.]\n",
      "  [0. 0. 0. ... 0. 0. 0.]\n",
      "  [0. 0. 0. ... 0. 0. 0.]]\n",
      "\n",
      " [[0. 0. 0. ... 0. 0. 0.]\n",
      "  [0. 0. 0. ... 0. 0. 0.]\n",
      "  [0. 0. 0. ... 0. 0. 0.]\n",
      "  ...\n",
      "  [0. 0. 0. ... 0. 0. 0.]\n",
      "  [0. 0. 0. ... 0. 0. 0.]\n",
      "  [0. 0. 0. ... 0. 0. 0.]]\n",
      "\n",
      " [[0. 0. 0. ... 0. 0. 0.]\n",
      "  [0. 0. 0. ... 0. 0. 0.]\n",
      "  [0. 0. 0. ... 0. 0. 0.]\n",
      "  ...\n",
      "  [0. 0. 0. ... 0. 0. 0.]\n",
      "  [0. 0. 0. ... 0. 0. 0.]\n",
      "  [0. 0. 0. ... 0. 0. 0.]]]\n"
     ]
    }
   ],
   "source": [
    "print(field)"
   ]
  },
  {
   "cell_type": "code",
   "execution_count": null,
   "id": "c4830866-cc43-42b5-9378-362bfa99408d",
   "metadata": {},
   "outputs": [],
   "source": []
  }
 ],
 "metadata": {
  "kernelspec": {
   "display_name": "Python 3 (ipykernel)",
   "language": "python",
   "name": "python3"
  },
  "language_info": {
   "codemirror_mode": {
    "name": "ipython",
    "version": 3
   },
   "file_extension": ".py",
   "mimetype": "text/x-python",
   "name": "python",
   "nbconvert_exporter": "python",
   "pygments_lexer": "ipython3",
   "version": "3.8.10"
  }
 },
 "nbformat": 4,
 "nbformat_minor": 5
}
