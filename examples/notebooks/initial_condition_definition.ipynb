{
 "cells": [
  {
   "cell_type": "markdown",
   "metadata": {},
   "source": [
    "# Tracer Advection Initial Condition Definition\n",
    "\n",
    "In order to define initial conditions on the cubed-sphere, we need to use some of the tools that have been described in `domain_decomposition_grid_generation.ipynb`. \n",
    "Specifically, we will need the `MetricTerms` portion of configuration in order to retrieve the coordinate information (latitude, longitude, dx, dy) and the `CubedSphereCommunicator` for gather data on tiles.\n",
    "\n",
    "For tracer advection, initial conditions that need to be specified are for winds and pressure (which are held constant) and initial tracer concentration that will get advected."
   ]
  },
  {
   "cell_type": "code",
   "execution_count": 1,
   "metadata": {},
   "outputs": [
    {
     "name": "stdout",
     "output_type": "stream",
     "text": [
      "Starting 6 engines with <class 'ipyparallel.cluster.launcher.MPIEngineSetLauncher'>\n"
     ]
    },
    {
     "data": {
      "application/vnd.jupyter.widget-view+json": {
       "model_id": "a7f7ff2406b7490e829321fb57bd72a5",
       "version_major": 2,
       "version_minor": 0
      },
      "text/plain": [
       "  0%|          | 0/6 [00:00<?, ?engine/s]"
      ]
     },
     "metadata": {},
     "output_type": "display_data"
    },
    {
     "name": "stdout",
     "output_type": "stream",
     "text": [
      "%autopx enabled\n"
     ]
    }
   ],
   "source": [
    "import ipyparallel as ipp\n",
    "\n",
    "cluster = ipp.Cluster(engines=\"mpi\", n=6).start_and_connect_sync()\n",
    "%autopx"
   ]
  },
  {
   "cell_type": "code",
   "execution_count": 2,
   "metadata": {},
   "outputs": [],
   "source": [
    "%%capture\n",
    "nx = 20\n",
    "ny = 20\n",
    "nz = 79\n",
    "\"\"\" (int): number of compute domain points per tile in each direction \"\"\"\n",
    "\n",
    "nhalo = 3\n",
    "\"\"\" (int): number of halo points in x- and y- directions \"\"\"\n",
    "\n",
    "layout = (1, 1)\n",
    "\"\"\" (int, int): how many parts each tile is split into along x- and y- directions \"\"\"\n",
    "\n",
    "backend = \"numpy\"\n",
    "\"\"\" (str): gt4py backend name\n",
    "    - other options? Untested. \"\"\"\n",
    "\n",
    "tracer_center = (0., 0.)\n",
    "\"\"\" (float, float): longitude and latitude of tracer centerpoint\"\"\"\n",
    "\n",
    "test_case = \"b\"\n",
    "\"\"\" (string): \n",
    "    - a: fortran test_case1; \n",
    "    - b: similar to a, but less dispersive \"\"\""
   ]
  },
  {
   "cell_type": "code",
   "execution_count": 3,
   "metadata": {},
   "outputs": [
    {
     "data": {
      "application/vnd.jupyter.widget-view+json": {
       "model_id": "804f49e985c74da4ad2419c989cd2e0b",
       "version_major": 2,
       "version_minor": 0
      },
      "text/plain": [
       "%px:   0%|          | 0/6 [00:00<?, ?tasks/s]"
      ]
     },
     "metadata": {},
     "output_type": "display_data"
    },
    {
     "data": {
      "text/plain": [
       "[output:4]"
      ]
     },
     "metadata": {},
     "output_type": "display_data"
    },
    {
     "data": {
      "text/html": [
       "<link href=\"https://fonts.googleapis.com/icon?family=Material+Icons\" rel=\"stylesheet\"><script src=\"https://spcl.github.io/dace/webclient2/dist/sdfv.js\"></script>\n",
       "<link href=\"https://spcl.github.io/dace/webclient2/sdfv.css\" rel=\"stylesheet\">\n"
      ],
      "text/plain": [
       "<IPython.core.display.HTML object>"
      ]
     },
     "metadata": {
      "engine": 4
     },
     "output_type": "display_data"
    },
    {
     "data": {
      "text/plain": [
       "[output:1]"
      ]
     },
     "metadata": {},
     "output_type": "display_data"
    },
    {
     "data": {
      "text/html": [
       "<link href=\"https://fonts.googleapis.com/icon?family=Material+Icons\" rel=\"stylesheet\"><script src=\"https://spcl.github.io/dace/webclient2/dist/sdfv.js\"></script>\n",
       "<link href=\"https://spcl.github.io/dace/webclient2/sdfv.css\" rel=\"stylesheet\">\n"
      ],
      "text/plain": [
       "<IPython.core.display.HTML object>"
      ]
     },
     "metadata": {
      "engine": 1
     },
     "output_type": "display_data"
    },
    {
     "data": {
      "text/plain": [
       "[output:0]"
      ]
     },
     "metadata": {},
     "output_type": "display_data"
    },
    {
     "data": {
      "text/html": [
       "<link href=\"https://fonts.googleapis.com/icon?family=Material+Icons\" rel=\"stylesheet\"><script src=\"https://spcl.github.io/dace/webclient2/dist/sdfv.js\"></script>\n",
       "<link href=\"https://spcl.github.io/dace/webclient2/sdfv.css\" rel=\"stylesheet\">\n"
      ],
      "text/plain": [
       "<IPython.core.display.HTML object>"
      ]
     },
     "metadata": {
      "engine": 0
     },
     "output_type": "display_data"
    },
    {
     "data": {
      "text/plain": [
       "[output:5]"
      ]
     },
     "metadata": {},
     "output_type": "display_data"
    },
    {
     "data": {
      "text/html": [
       "<link href=\"https://fonts.googleapis.com/icon?family=Material+Icons\" rel=\"stylesheet\"><script src=\"https://spcl.github.io/dace/webclient2/dist/sdfv.js\"></script>\n",
       "<link href=\"https://spcl.github.io/dace/webclient2/sdfv.css\" rel=\"stylesheet\">\n"
      ],
      "text/plain": [
       "<IPython.core.display.HTML object>"
      ]
     },
     "metadata": {
      "engine": 5
     },
     "output_type": "display_data"
    },
    {
     "data": {
      "text/plain": [
       "[output:3]"
      ]
     },
     "metadata": {},
     "output_type": "display_data"
    },
    {
     "data": {
      "text/html": [
       "<link href=\"https://fonts.googleapis.com/icon?family=Material+Icons\" rel=\"stylesheet\"><script src=\"https://spcl.github.io/dace/webclient2/dist/sdfv.js\"></script>\n",
       "<link href=\"https://spcl.github.io/dace/webclient2/sdfv.css\" rel=\"stylesheet\">\n"
      ],
      "text/plain": [
       "<IPython.core.display.HTML object>"
      ]
     },
     "metadata": {
      "engine": 3
     },
     "output_type": "display_data"
    },
    {
     "data": {
      "text/plain": [
       "[output:2]"
      ]
     },
     "metadata": {},
     "output_type": "display_data"
    },
    {
     "data": {
      "text/html": [
       "<link href=\"https://fonts.googleapis.com/icon?family=Material+Icons\" rel=\"stylesheet\"><script src=\"https://spcl.github.io/dace/webclient2/dist/sdfv.js\"></script>\n",
       "<link href=\"https://spcl.github.io/dace/webclient2/sdfv.css\" rel=\"stylesheet\">\n"
      ],
      "text/plain": [
       "<IPython.core.display.HTML object>"
      ]
     },
     "metadata": {
      "engine": 2
     },
     "output_type": "display_data"
    },
    {
     "data": {
      "text/plain": [
       "[stderr:5] /home/ajdas/pace/pace-util/pace/util/grid/gnomonic.py:682: RuntimeWarning: invalid value encountered in true_divide\n",
       "  np.sum(p * q, axis=-1)\n"
      ]
     },
     "metadata": {},
     "output_type": "display_data"
    },
    {
     "data": {
      "text/plain": [
       "[stderr:2] /home/ajdas/pace/pace-util/pace/util/grid/gnomonic.py:682: RuntimeWarning: invalid value encountered in true_divide\n",
       "  np.sum(p * q, axis=-1)\n"
      ]
     },
     "metadata": {},
     "output_type": "display_data"
    }
   ],
   "source": [
    "import functions as func\n",
    "from mpi4py import MPI\n",
    "\n",
    "mpi_comm = MPI.COMM_WORLD\n",
    "mpi_size = mpi_comm.Get_size()\n",
    "mpi_rank = mpi_comm.Get_rank()\n",
    "\n",
    "namelist_dict = func.store_namelist_variables(locals())\n",
    "metadata, rank = func.define_metadata(namelist_dict, mpi_comm)\n",
    "\n",
    "configuration = func.configure_domain(mpi_comm, metadata[\"dimensions\"])\n",
    "communicator = configuration[\"communicator\"]\n",
    "metric_terms = configuration[\"metric_terms\"]"
   ]
  },
  {
   "cell_type": "markdown",
   "metadata": {},
   "source": [
    "Read in all the required coordinate variables: longitude and latitude on cell edges (`lon`, `lat`) and cell centeres (`lonA`, `latA`) and distances between grid corners in x and y (`dx`, `dy`).\n",
    "We take the definitions of all these quantites on the compute domain and halo points in order to ensure a smooth transition between tiles."
   ]
  },
  {
   "cell_type": "code",
   "execution_count": 4,
   "metadata": {},
   "outputs": [],
   "source": [
    "from pace.util import Quantity\n",
    "\n",
    "dimensions, origins, units = metadata[\"dimensions\"], metadata[\"origins\"], metadata[\"units\"]\n",
    "\n",
    "lon_agrid = Quantity(\n",
    "    data=metric_terms.lon_agrid.data,\n",
    "    dims=(\"x_halo\", \"y_halo\"),\n",
    "    units=units[\"coord\"],\n",
    "    origin=origins[\"halo\"],\n",
    "    extent=(dimensions[\"nxhalo\"], dimensions[\"nyhalo\"]),\n",
    "    gt4py_backend=backend,\n",
    ")\n",
    "lat_agrid = Quantity(\n",
    "    data=metric_terms.lat_agrid.data,\n",
    "    dims=(\"x_halo\", \"y_halo\"),\n",
    "    units=units[\"coord\"],\n",
    "    origin=origins[\"halo\"],\n",
    "    extent=(dimensions[\"nxhalo\"], dimensions[\"nyhalo\"]),\n",
    "    gt4py_backend=backend,\n",
    ")\n",
    "\n",
    "lon = Quantity(\n",
    "    data=metric_terms.lon.data,\n",
    "    dims=(\"x_halo\", \"y_halo\"),\n",
    "    units=units[\"coord\"],\n",
    "    origin=origins[\"halo\"],\n",
    "    extent=(dimensions[\"nxhalo\"], dimensions[\"nyhalo\"]),\n",
    "    gt4py_backend=backend,\n",
    ")\n",
    "lat = Quantity(\n",
    "    data=metric_terms.lat.data,\n",
    "    dims=(\"x_halo\", \"y_halo\"),\n",
    "    units=units[\"coord\"],\n",
    "    origin=origins[\"halo\"],\n",
    "    extent=(dimensions[\"nxhalo\"], dimensions[\"nyhalo\"]),\n",
    "    gt4py_backend=backend,\n",
    ")\n",
    "\n",
    "dx = Quantity(\n",
    "    data=metric_terms.dx.data,\n",
    "    dims=(\"x_halo\", \"y_halo\"),\n",
    "    units=units[\"dist\"],\n",
    "    origin=origins[\"halo\"],\n",
    "    extent=(dimensions[\"nxhalo\"], dimensions[\"nyhalo\"]),\n",
    "    gt4py_backend=backend,\n",
    ")\n",
    "dy = Quantity(\n",
    "    data=metric_terms.dy.data,\n",
    "    dims=(\"x_halo\", \"y_halo\"),\n",
    "    units=units[\"dist\"],\n",
    "    origin=origins[\"halo\"],\n",
    "    extent=(dimensions[\"nxhalo\"], dimensions[\"nyhalo\"]),\n",
    "    gt4py_backend=backend,\n",
    ")"
   ]
  },
  {
   "cell_type": "markdown",
   "metadata": {},
   "source": [
    "## Streamfunction Definition\n",
    "\n",
    "The streamfunction is defined so that the winds along the equator make one full rotation around the globe in 12 days.\n",
    "Note that `streamfunction` is defined on cell corners and includes all the halo points, and `streamfunction_agrid` is defined on cell centers."
   ]
  },
  {
   "cell_type": "code",
   "execution_count": 5,
   "metadata": {},
   "outputs": [],
   "source": [
    "import numpy as np\n",
    "from pace.util.constants import RADIUS\n",
    "\n",
    "Ubar = (2.0 * np.pi * RADIUS) / (12. * 86400.)\n",
    "\n",
    "if test_case == \"a\":\n",
    "    multiplier = 1\n",
    "    multiplier_agrid = 1\n",
    "elif test_case == \"b\":\n",
    "    multiplier = np.cos(lat.data / 2)\n",
    "    multiplier_agrid = np.cos(lat_agrid.data / 2)\n",
    "\n",
    "streamfunction = -1 * Ubar * RADIUS * np.sin(lat) * multiplier\n",
    "streamfunction_agrid = -1 * Ubar * RADIUS * np.sin(lat_agrid) * multiplier_agrid\n",
    "\n",
    "streamfunction = Quantity(\n",
    "    data=streamfunction,\n",
    "    dims=(\"x_halo\", \"y_halo\"),\n",
    "    units=units[\"psi\"],\n",
    "    origin=origins[\"halo\"],\n",
    "    extent=(dimensions[\"nxhalo\"], dimensions[\"nyhalo\"]),\n",
    "    gt4py_backend=backend,\n",
    ")\n",
    "streamfunction_agrid = Quantity(\n",
    "    data=streamfunction_agrid,\n",
    "    dims=(\"x_halo\", \"y_halo\"),\n",
    "    units=units[\"psi\"],\n",
    "    origin=origins[\"halo\"],\n",
    "    extent=(dimensions[\"nxhalo\"], dimensions[\"nyhalo\"]),\n",
    "    gt4py_backend=backend,\n",
    ")"
   ]
  },
  {
   "cell_type": "markdown",
   "metadata": {},
   "source": [
    "## Calculating Winds from Streamfunction\n",
    "\n",
    "The winds required by tracer advection are on a C-grid, so we calculate them from the streamfunction."
   ]
  },
  {
   "cell_type": "code",
   "execution_count": 6,
   "metadata": {},
   "outputs": [],
   "source": [
    "u_cgrid = np.zeros(streamfunction.data.shape) * np.nan\n",
    "u_cgrid[:, :-1] = -1 * (streamfunction.data[:, 1:] - streamfunction.data[:, :-1]) / dy.data[:, :-1]\n",
    "\n",
    "v_cgrid = np.zeros(streamfunction.data.shape) * np.nan\n",
    "v_cgrid[:-1] = (streamfunction.data[1:] - streamfunction.data[:-1]) / dx.data[:-1]\n",
    "\n",
    "u_cgrid = Quantity(\n",
    "    data=u_cgrid,\n",
    "    dims=(\"x\", \"y_interface\"),\n",
    "    units=units[\"wind\"],\n",
    "    origin=origins[\"compute_2d\"],\n",
    "    extent=(dimensions[\"nx\"], dimensions[\"ny1\"]),\n",
    "    gt4py_backend=backend,\n",
    ")\n",
    "vc_cgrid= Quantity(\n",
    "    data=v_cgrid,\n",
    "    dims=(\"x_interface\", \"y\"),\n",
    "    units=units[\"wind\"],\n",
    "    origin=origins[\"compute_2d\"],\n",
    "    extent=(dimensions[\"nx1\"], dimensions[\"ny\"]),\n",
    "    gt4py_backend=backend,\n",
    ")"
   ]
  },
  {
   "cell_type": "markdown",
   "metadata": {},
   "source": [
    "## Defining pressure thickness\n",
    "\n",
    "The thickness field is initialized with a constant thickness of `10 Pa`."
   ]
  },
  {
   "cell_type": "code",
   "execution_count": 7,
   "metadata": {},
   "outputs": [],
   "source": [
    "delp = Quantity(\n",
    "    data=np.ones((dimensions[\"nxhalo\"], dimensions[\"nyhalo\"])) * 10.,\n",
    "    dims=(\"x\", \"y\"),\n",
    "    units=units[\"pressure\"],\n",
    "    origin=origins[\"compute_2d\"],\n",
    "    extent=(dimensions[\"nx\"], dimensions[\"ny\"]),\n",
    "    gt4py_backend=backend,\n",
    ")"
   ]
  },
  {
   "cell_type": "markdown",
   "metadata": {},
   "source": [
    "## Defining the initial tracer state\n",
    "We define the initial tracer state as a Gaussian blob centered on `tracer_center`. \n",
    "By default, the tracer is centered at the (0°N, 0°E), and has a maximum concentration of `1`."
   ]
  },
  {
   "cell_type": "code",
   "execution_count": 8,
   "metadata": {},
   "outputs": [],
   "source": [
    "from pace.util.grid.gnomonic import great_circle_distance_lon_lat\n",
    "\n",
    "r0 = RADIUS / 3.0\n",
    "gaussian_multiplier = np.zeros((dimensions[\"nxhalo\"], dimensions[\"nyhalo\"]))\n",
    "p_center = [np.deg2rad(tracer_center[0]), np.deg2rad(tracer_center[1])]\n",
    "\n",
    "for jj in range(dimensions[\"nyhalo\"]):\n",
    "    for ii in range(dimensions[\"nxhalo\"]):\n",
    "        p_dist = [lon_agrid.data[ii, jj], lat_agrid.data[ii, jj]]\n",
    "\n",
    "        r = great_circle_distance_lon_lat(\n",
    "            p_center[0], p_dist[0], p_center[1], p_dist[1], RADIUS, np\n",
    "        )\n",
    "        \n",
    "        gaussian_multiplier[ii, jj] = (\n",
    "            0.5 * (1.0 + np.cos(np.pi * r / r0)) if r < r0 else 0.0\n",
    "        )\n",
    "\n",
    "tracer = Quantity(\n",
    "    data=gaussian_multiplier * 1.,\n",
    "    dims=(\"x\", \"y\"),\n",
    "    units=units[\"tracer\"],\n",
    "    origin=origins[\"compute_2d\"],\n",
    "    extent=(dimensions[\"nx\"], dimensions[\"ny\"]),\n",
    "    gt4py_backend=backend,\n",
    ")"
   ]
  },
  {
   "cell_type": "markdown",
   "metadata": {},
   "source": [
    "## Casting everything into a single vertical layer\n",
    "This is required by tracer advection in pace"
   ]
  },
  {
   "cell_type": "code",
   "execution_count": 9,
   "metadata": {},
   "outputs": [
    {
     "name": "stderr",
     "output_type": "stream",
     "text": [
      "[0:execute]\n",
      "\u001b[0;31m---------------------------------------------------------------------------\u001b[0m\n",
      "\u001b[0;31mNameError\u001b[0m                                 Traceback (most recent call last)\n",
      "Input \u001b[0;32mIn [8]\u001b[0m, in \u001b[0;36m<cell line: 12>\u001b[0;34m()\u001b[0m\n",
      "\u001b[1;32m      9\u001b[0m delp_3d \u001b[38;5;241m=\u001b[39m np\u001b[38;5;241m.\u001b[39mcopy(empty)\n",
      "\u001b[1;32m     10\u001b[0m tracer_3d \u001b[38;5;241m=\u001b[39m np\u001b[38;5;241m.\u001b[39mcopy(empty)\n",
      "\u001b[0;32m---> 12\u001b[0m streamfunction_3d[:, :, \u001b[38;5;241m0\u001b[39m] \u001b[38;5;241m=\u001b[39m streamfunctionA\u001b[38;5;241m.\u001b[39mdata\n",
      "\u001b[1;32m     13\u001b[0m u_cgrid_3d[:, :, \u001b[38;5;241m0\u001b[39m] \u001b[38;5;241m=\u001b[39m u_cgrid\u001b[38;5;241m.\u001b[39mdata\n",
      "\u001b[1;32m     14\u001b[0m v_cgrid_3d[:, :, \u001b[38;5;241m0\u001b[39m] \u001b[38;5;241m=\u001b[39m v_cgrid\u001b[38;5;241m.\u001b[39mdata\n",
      "\n",
      "\u001b[0;31mNameError\u001b[0m: name 'streamfunctionA' is not defined\n",
      "[4:execute]\n",
      "\u001b[0;31m---------------------------------------------------------------------------\u001b[0m\n",
      "\u001b[0;31mNameError\u001b[0m                                 Traceback (most recent call last)\n",
      "Input \u001b[0;32mIn [8]\u001b[0m, in \u001b[0;36m<cell line: 12>\u001b[0;34m()\u001b[0m\n",
      "\u001b[1;32m      9\u001b[0m delp_3d \u001b[38;5;241m=\u001b[39m np\u001b[38;5;241m.\u001b[39mcopy(empty)\n",
      "\u001b[1;32m     10\u001b[0m tracer_3d \u001b[38;5;241m=\u001b[39m np\u001b[38;5;241m.\u001b[39mcopy(empty)\n",
      "\u001b[0;32m---> 12\u001b[0m streamfunction_3d[:, :, \u001b[38;5;241m0\u001b[39m] \u001b[38;5;241m=\u001b[39m streamfunctionA\u001b[38;5;241m.\u001b[39mdata\n",
      "\u001b[1;32m     13\u001b[0m u_cgrid_3d[:, :, \u001b[38;5;241m0\u001b[39m] \u001b[38;5;241m=\u001b[39m u_cgrid\u001b[38;5;241m.\u001b[39mdata\n",
      "\u001b[1;32m     14\u001b[0m v_cgrid_3d[:, :, \u001b[38;5;241m0\u001b[39m] \u001b[38;5;241m=\u001b[39m v_cgrid\u001b[38;5;241m.\u001b[39mdata\n",
      "\n",
      "\u001b[0;31mNameError\u001b[0m: name 'streamfunctionA' is not defined\n",
      "[5:execute]\n",
      "\u001b[0;31m---------------------------------------------------------------------------\u001b[0m\n",
      "\u001b[0;31mNameError\u001b[0m                                 Traceback (most recent call last)\n",
      "Input \u001b[0;32mIn [8]\u001b[0m, in \u001b[0;36m<cell line: 12>\u001b[0;34m()\u001b[0m\n",
      "\u001b[1;32m      9\u001b[0m delp_3d \u001b[38;5;241m=\u001b[39m np\u001b[38;5;241m.\u001b[39mcopy(empty)\n",
      "\u001b[1;32m     10\u001b[0m tracer_3d \u001b[38;5;241m=\u001b[39m np\u001b[38;5;241m.\u001b[39mcopy(empty)\n",
      "\u001b[0;32m---> 12\u001b[0m streamfunction_3d[:, :, \u001b[38;5;241m0\u001b[39m] \u001b[38;5;241m=\u001b[39m streamfunctionA\u001b[38;5;241m.\u001b[39mdata\n",
      "\u001b[1;32m     13\u001b[0m u_cgrid_3d[:, :, \u001b[38;5;241m0\u001b[39m] \u001b[38;5;241m=\u001b[39m u_cgrid\u001b[38;5;241m.\u001b[39mdata\n",
      "\u001b[1;32m     14\u001b[0m v_cgrid_3d[:, :, \u001b[38;5;241m0\u001b[39m] \u001b[38;5;241m=\u001b[39m v_cgrid\u001b[38;5;241m.\u001b[39mdata\n",
      "\n",
      "\u001b[0;31mNameError\u001b[0m: name 'streamfunctionA' is not defined\n",
      "[2:execute]\n",
      "\u001b[0;31m---------------------------------------------------------------------------\u001b[0m\n",
      "\u001b[0;31mNameError\u001b[0m                                 Traceback (most recent call last)\n",
      "Input \u001b[0;32mIn [8]\u001b[0m, in \u001b[0;36m<cell line: 12>\u001b[0;34m()\u001b[0m\n",
      "\u001b[1;32m      9\u001b[0m delp_3d \u001b[38;5;241m=\u001b[39m np\u001b[38;5;241m.\u001b[39mcopy(empty)\n",
      "\u001b[1;32m     10\u001b[0m tracer_3d \u001b[38;5;241m=\u001b[39m np\u001b[38;5;241m.\u001b[39mcopy(empty)\n",
      "\u001b[0;32m---> 12\u001b[0m streamfunction_3d[:, :, \u001b[38;5;241m0\u001b[39m] \u001b[38;5;241m=\u001b[39m streamfunctionA\u001b[38;5;241m.\u001b[39mdata\n",
      "\u001b[1;32m     13\u001b[0m u_cgrid_3d[:, :, \u001b[38;5;241m0\u001b[39m] \u001b[38;5;241m=\u001b[39m u_cgrid\u001b[38;5;241m.\u001b[39mdata\n",
      "\u001b[1;32m     14\u001b[0m v_cgrid_3d[:, :, \u001b[38;5;241m0\u001b[39m] \u001b[38;5;241m=\u001b[39m v_cgrid\u001b[38;5;241m.\u001b[39mdata\n",
      "\n",
      "\u001b[0;31mNameError\u001b[0m: name 'streamfunctionA' is not defined\n",
      "[1:execute] NameError: name 'streamfunctionA' is not defined\n",
      "[3:execute] NameError: name 'streamfunctionA' is not defined\n"
     ]
    },
    {
     "ename": "AlreadyDisplayedError",
     "evalue": "6 errors",
     "output_type": "error",
     "traceback": [
      "6 errors"
     ]
    }
   ],
   "source": [
    "dimensions[\"nz\"] = 1\n",
    "empty = np.zeros(\n",
    "    (dimensions[\"nxhalo\"] + 1, dimensions[\"nyhalo\"] + 1, dimensions[\"nz\"] + 1)\n",
    ")\n",
    "\n",
    "streamfunction_3d = np.copy(empty)\n",
    "u_cgrid_3d = np.copy(empty)\n",
    "v_cgrid_3d = np.copy(empty)\n",
    "delp_3d = np.copy(empty)\n",
    "tracer_3d = np.copy(empty)\n",
    "\n",
    "streamfunction_3d[:, :, 0] = streamfunction_agrid.data\n",
    "u_cgrid_3d[:, :, 0] = u_cgrid.data\n",
    "v_cgrid_3d[:, :, 0] = v_cgrid.data\n",
    "delp_3d[:-1, :-1, 0] = delp.data\n",
    "tracer_3d[:-1, :-1, 0] = tracer.data\n",
    "\n",
    "streamfunction = Quantity(\n",
    "    data=streamfunction_3d,\n",
    "    dims=(\"x\", \"y\", \"z\"),\n",
    "    units=units[\"psi\"],\n",
    "    origin=origins[\"compute_3d\"],\n",
    "    extent=(dimensions[\"nx\"], dimensions[\"ny\"], dimensions[\"nz\"]),\n",
    "    gt4py_backend=backend,\n",
    "    )\n",
    "u_cgrid = Quantity(\n",
    "    data=u_cgrid_3d,\n",
    "    dims=(\"x\", \"y_interface\", \"nz\"),\n",
    "    units=units[\"wind\"],\n",
    "    origin=origins[\"compute_3d\"],\n",
    "    extent=(dimensions[\"nx\"], dimensions[\"ny1\"], dimensions[\"nz\"]),\n",
    "    gt4py_backend=backend,\n",
    ")\n",
    "v_cgrid= Quantity(\n",
    "    data=v_cgrid_3d,\n",
    "    dims=(\"x_interface\", \"y\", \"nz\"),\n",
    "    units=units[\"wind\"],\n",
    "    origin=origins[\"compute_3d\"],\n",
    "    extent=(dimensions[\"nx1\"], dimensions[\"ny\"], dimensions[\"nz\"]),\n",
    "    gt4py_backend=backend,\n",
    ")\n",
    "delp = Quantity(\n",
    "    data=delp_3d,\n",
    "    dims=(\"x\", \"y\", \"z\"),\n",
    "    units=units[\"pressure\"],\n",
    "    origin=origins[\"compute_3d\"],\n",
    "    extent=(dimensions[\"nx\"], dimensions[\"ny\"], dimensions[\"nz\"]),\n",
    "    gt4py_backend=backend,\n",
    ")\n",
    "tracer = Quantity(\n",
    "    data=tracer_3d,\n",
    "    dims=(\"x\", \"y\", \"z\"),\n",
    "    units=units[\"tracer\"],\n",
    "    origin=origins[\"compute_3d\"],\n",
    "    extent=(dimensions[\"nx\"], dimensions[\"ny\"], dimensions[\"nz\"]),\n",
    "    gt4py_backend=backend,\n",
    ")\n"
   ]
  },
  {
   "cell_type": "markdown",
   "metadata": {},
   "source": [
    "## Plotting the initial condition"
   ]
  },
  {
   "cell_type": "code",
   "execution_count": null,
   "metadata": {},
   "outputs": [],
   "source": [
    "import matplotlib.pyplot as plt\n",
    "from cartopy import crs as ccrs\n",
    "from fv3viz import pcolormesh_cube\n",
    "\n",
    "lon_plot = Quantity(\n",
    "    metric_terms.lon.data * 180 / np.pi,\n",
    "    dims=(\"x_interface\", \"y_interface\"),\n",
    "    units=units[\"coord\"],\n",
    "    origin=origins[\"compute_2d\"],\n",
    "    extent=(dimensions[\"nx1\"], dimensions[\"ny1\"]),\n",
    "    gt4py_backend=backend,\n",
    ")\n",
    "\n",
    "lat_plot = Quantity(\n",
    "    metric_terms.lat.data * 180 / np.pi,\n",
    "    dims=(\"x_interface\", \"y_interface\"),\n",
    "    units=units[\"coord\"],\n",
    "    origin=origins[\"compute_2d\"],\n",
    "    extent=(dimensions[\"nx1\"], dimensions[\"ny1\"]),\n",
    "    gt4py_backend=backend,\n",
    ")\n",
    "\n",
    "lon_gather = communicator.gather(lon_plot)\n",
    "lat_gather = communicator.gather(lat_plot)\n",
    "\n",
    "streamfunction_gather = communicator.gather(streamfunction)\n",
    "delp_gather = communicator.gather(delp)\n",
    "tracer_gather = communicator.gather(tracer)\n",
    "\n",
    "if rank == 0:\n",
    "\n",
    "    fig = plt.figure(figsize = (12, 6))\n",
    "    ax = fig.add_subplot(111, projection=ccrs.Robinson())\n",
    "    f1 = pcolormesh_cube(lat_gather.data, lon_gather.data, tracer_gather.data[:, :, :, 0],\n",
    "        vmin=0, vmax=1, cmap='viridis')\n",
    "    plt.colorbar(f1, label=\"Tracer concentration\")\n",
    "    ax.set_title(\"Initial tracer state (%s x %s points per tile)\" % (nx, ny))\n",
    "\n",
    "    fig = plt.figure(figsize = (12, 6))\n",
    "    ax = fig.add_subplot(111, projection=ccrs.Robinson())\n",
    "    f1 = pcolormesh_cube(lat_gather.data, lon_gather.data, delp_gather.data[:, :, :, 0],\n",
    "        vmin=9, vmax=11, cmap='viridis')\n",
    "    plt.colorbar(f1, label=\"Pressure thickness (Pa)\")\n",
    "    ax.set_title(\"Pressure thickness (%s x %s points per tile)\" % (nx, ny))\n",
    "\n",
    "    fig = plt.figure(figsize = (12, 6))\n",
    "    ax = fig.add_subplot(111, projection=ccrs.Robinson())\n",
    "    f1 = pcolormesh_cube(lat_gather.data, lon_gather.data, streamfunction_gather.data[:, :, :, 0],\n",
    "        vmin=-3e8, vmax=3e8, cmap='bwr')\n",
    "    plt.colorbar(f1, label=\"Streamfunction (kg/m/s)\")\n",
    "    ax.set_title(\"Streamfunction (%s x %s points per tile)\" % (nx, ny))\n",
    "\n",
    "    plt.show()"
   ]
  },
  {
   "cell_type": "markdown",
   "metadata": {},
   "source": [
    "Since `u_cgrid` and `v_cgrid` are staggered fields, we need to unstagger them before plotting.\n",
    "For simplicity, this is here done by removing the last point on the staggered dimension.\n",
    "\n",
    "Also note that the u and v winds on the C-grid look strange because different tiles are oriented differently."
   ]
  },
  {
   "cell_type": "code",
   "execution_count": null,
   "metadata": {},
   "outputs": [],
   "source": [
    "u_cgrid_gather = communicator.gather(u_cgrid)\n",
    "v_cgrid_gather = communicator.gather(v_cgrid)\n",
    "\n",
    "if rank == 0:\n",
    "\n",
    "    fig = plt.figure(figsize = (12, 6))\n",
    "    ax = fig.add_subplot(111, projection=ccrs.Robinson())\n",
    "    f1 = pcolormesh_cube(lat_gather.data, lon_gather.data, u_cgrid_gather.data[:, :, :-1, 0],\n",
    "        vmin=-40, vmax=40, cmap='bwr')\n",
    "    plt.colorbar(f1, label=\"U (m/s)\")\n",
    "    ax.set_title(\"U on C-grid (%s x %s points per tile)\" % (nx, ny))\n",
    "\n",
    "    fig = plt.figure(figsize = (12, 6))\n",
    "    ax = fig.add_subplot(111, projection=ccrs.Robinson())\n",
    "    f1 = pcolormesh_cube(lat_gather.data, lon_gather.data, v_cgrid_gather.data[:, :-1, :, 0],\n",
    "        vmin=-40, vmax=40, cmap='bwr')\n",
    "    plt.colorbar(f1, label=\"V (m/s)\")\n",
    "    ax.set_title(\"V on C-grid (%s x %s points per tile)\" % (nx, ny))\n",
    "\n",
    "    plt.show()"
   ]
  },
  {
   "cell_type": "markdown",
   "metadata": {},
   "source": [
    "## Recreating this with functions.py\n",
    "\n",
    "You can reproduce the above steps in a more succinct manner by using the following syntax:"
   ]
  },
  {
   "cell_type": "code",
   "execution_count": null,
   "metadata": {},
   "outputs": [],
   "source": [
    "import functions as func\n",
    "\n",
    "\n",
    "initial_state = func.create_initial_state(metric_terms, metadata, tracer_center, test_case)"
   ]
  },
  {
   "cell_type": "code",
   "execution_count": null,
   "metadata": {},
   "outputs": [],
   "source": [
    "streamfunction_gather = communicator.gather(initial_state[\"psi\"])\n",
    "delp_gather = communicator.gather(initial_state[\"delp\"])\n",
    "tracer_gather = communicator.gather(initial_state[\"tracer\"])\n",
    "\n",
    "plot_dict = { \"vmin\": 0, \"vmax\": 1, \"cmap\": \"viridis\", \n",
    "    \"units\": \"Tracer concentration\", \n",
    "    \"title\": \"Initial tracer state (%s x %s points per tile)\" % (nx, ny)\n",
    "}\n",
    "func.plot_projection_field(\n",
    "    configuration, metadata, tracer_gather, \n",
    "    plot_dict, mpi_rank, \"\", show=True\n",
    ")\n",
    "\n",
    "plot_dict = { \"vmin\": 9, \"vmax\": 11, \"cmap\": \"viridis\", \n",
    "    \"units\": \"Pressure thickness (Pa)\", \n",
    "    \"title\": \"Pressure thickness (%s x %s points per tile)\" % (nx, ny)\n",
    "}\n",
    "func.plot_projection_field(\n",
    "    configuration, metadata, delp_gather, \n",
    "    plot_dict, mpi_rank, \"\", show=True\n",
    ")\n",
    "\n",
    "plot_dict = {\"vmin\": -3e8, \"vmax\": 3e8, \"cmap\": \"bwr\", \n",
    "    \"units\": \"Streamfunction (kg/m/s)\", \n",
    "    \"title\": \"Streamfunction (%s x %s points per tile)\" % (nx, ny)\n",
    "}\n",
    "func.plot_projection_field(\n",
    "    configuration, metadata, streamfunction_gather, \n",
    "    plot_dict, mpi_rank, \"\", show=True\n",
    ")"
   ]
  },
  {
   "cell_type": "code",
   "execution_count": null,
   "metadata": {},
   "outputs": [],
   "source": [
    "import importlib\n",
    "importlib.reload(func)\n",
    "\n",
    "u_cgrid_gather = communicator.gather(initial_state[\"u_cgrid\"])\n",
    "v_cgrid_gather = communicator.gather(initial_state[\"v_cgrid\"])\n",
    "\n",
    "plot_dict = { \"vmin\": -40, \"vmax\": 40, \"cmap\": \"bwr\", \n",
    "    \"units\": \"U (m/s)\", \n",
    "    \"title\": \"U on C-grid (%s x %s points per tile)\" % (nx, ny)\n",
    "}\n",
    "func.plot_projection_field(\n",
    "    configuration, metadata, u_cgrid_gather,\n",
    "    plot_dict, mpi_rank, \"\", show=True\n",
    ")\n",
    "\n",
    "plot_dict = { \"vmin\": -40, \"vmax\": 40, \"cmap\": \"bwr\", \n",
    "    \"units\": \"V (m/s)\", \n",
    "    \"title\": \"V on C-grid (%s x %s points per tile)\" % (nx, ny)\n",
    "}\n",
    "func.plot_projection_field(\n",
    "    configuration, metadata, v_cgrid_gather,\n",
    "    plot_dict, mpi_rank, \"\", show=True\n",
    ")"
   ]
  },
  {
   "cell_type": "code",
   "execution_count": null,
   "metadata": {},
   "outputs": [],
   "source": []
  }
 ],
 "metadata": {
  "kernelspec": {
   "display_name": "Python 3.8.10 ('venv': venv)",
   "language": "python",
   "name": "python3"
  },
  "language_info": {
   "codemirror_mode": {
    "name": "ipython",
    "version": 3
   },
   "file_extension": ".py",
   "mimetype": "text/x-python",
   "name": "python",
   "nbconvert_exporter": "python",
   "pygments_lexer": "ipython3",
   "version": "3.8.10"
  },
  "orig_nbformat": 4,
  "vscode": {
   "interpreter": {
    "hash": "5aaa1d64d2aec5fc9d71d95fe114c55e361597d915cf108c460e747a228aecec"
   }
  }
 },
 "nbformat": 4,
 "nbformat_minor": 2
}
