{
 "cells": [
  {
   "cell_type": "markdown",
   "metadata": {},
   "source": [
    "# Grid generation and other things ..."
   ]
  },
  {
   "cell_type": "code",
   "execution_count": null,
   "metadata": {},
   "outputs": [],
   "source": [
    "import ipyparallel as ipp\n",
    "\n",
    "cluster = ipp.Cluster(engines=\"mpi\", n=6).start_and_connect_sync()\n",
    "%autopx"
   ]
  },
  {
   "cell_type": "code",
   "execution_count": 2,
   "metadata": {},
   "outputs": [],
   "source": [
    "%%capture\n",
    "nx = 100\n",
    "ny = 100\n",
    "nz = 79\n",
    "\"\"\" (int): number of points per tile in each direction \"\"\"\n",
    "\n",
    "nhalo = 3\n",
    "\"\"\" (int): number of halo points in x- and y- directions \"\"\"\n",
    "\n",
    "layout = (1, 1)\n",
    "\"\"\" (int, int): how many parts each tile is split into? \"\"\"\n",
    "\n",
    "backend = \"numpy\"\n",
    "\"\"\" (str): \"\"\""
   ]
  },
  {
   "cell_type": "code",
   "execution_count": 4,
   "metadata": {},
   "outputs": [],
   "source": [
    "from mpi4py import MPI\n",
    "\n",
    "mpi_comm = MPI.COMM_WORLD\n",
    "mpi_size = mpi_comm.Get_size()\n",
    "mpi_rank = mpi_comm.Get_rank()"
   ]
  },
  {
   "cell_type": "code",
   "execution_count": 5,
   "metadata": {},
   "outputs": [],
   "source": [
    "from pace.util import CubedSpherePartitioner, TilePartitioner\n",
    "\n",
    "partitioner = CubedSpherePartitioner(TilePartitioner(layout))"
   ]
  },
  {
   "cell_type": "code",
   "execution_count": 6,
   "metadata": {},
   "outputs": [],
   "source": [
    "from pace.util import CubedSphereCommunicator\n",
    "\n",
    "communicator = CubedSphereCommunicator(mpi_comm, partitioner)"
   ]
  },
  {
   "cell_type": "code",
   "execution_count": 7,
   "metadata": {},
   "outputs": [],
   "source": [
    "from pace.util import SubtileGridSizer\n",
    "\n",
    "sizer = SubtileGridSizer.from_tile_params(\n",
    "    nx_tile=nx,\n",
    "    ny_tile=ny,\n",
    "    nz=nz,\n",
    "    n_halo=nhalo,\n",
    "    extra_dim_lengths={},\n",
    "    layout=layout,\n",
    "    tile_partitioner=partitioner.tile,\n",
    "    tile_rank=communicator.tile.rank,\n",
    ")"
   ]
  },
  {
   "cell_type": "code",
   "execution_count": 8,
   "metadata": {},
   "outputs": [],
   "source": [
    "from pace.util import QuantityFactory\n",
    "\n",
    "quantity_factory = QuantityFactory.from_backend(\n",
    "    sizer=sizer, \n",
    "    backend=backend\n",
    "    )\n",
    "\n"
   ]
  },
  {
   "cell_type": "code",
   "execution_count": 9,
   "metadata": {},
   "outputs": [],
   "source": [
    "from pace.util.grid import MetricTerms\n",
    "\n",
    "metric_terms = MetricTerms(\n",
    "    quantity_factory=quantity_factory, \n",
    "    communicator=communicator\n",
    "    )\n",
    "    "
   ]
  },
  {
   "cell_type": "code",
   "execution_count": 10,
   "metadata": {},
   "outputs": [
    {
     "data": {
      "text/plain": [
       "[stderr:5] /home/ajdas/pace/pace-util/pace/util/grid/gnomonic.py:682: RuntimeWarning: invalid value encountered in true_divide\n",
       "  np.sum(p * q, axis=-1)\n"
      ]
     },
     "metadata": {},
     "output_type": "display_data"
    },
    {
     "data": {
      "text/plain": [
       "[stderr:2] /home/ajdas/pace/pace-util/pace/util/grid/gnomonic.py:682: RuntimeWarning: invalid value encountered in true_divide\n",
       "  np.sum(p * q, axis=-1)\n"
      ]
     },
     "metadata": {},
     "output_type": "display_data"
    }
   ],
   "source": [
    "from pace.util.grid import DampingCoefficients\n",
    "\n",
    "damping_coefficients = DampingCoefficients.new_from_metric_terms(metric_terms)\n",
    "    "
   ]
  },
  {
   "cell_type": "code",
   "execution_count": null,
   "metadata": {},
   "outputs": [],
   "source": [
    "from pace.util.grid import GridData\n",
    "\n",
    "grid_data = GridData.new_from_metric_terms(metric_terms)    "
   ]
  },
  {
   "cell_type": "code",
   "execution_count": 14,
   "metadata": {},
   "outputs": [],
   "source": [
    "from pace.dsl.dace.dace_config import DaceConfig, DaCeOrchestration\n",
    "\n",
    "dace_config = DaceConfig(\n",
    "    communicator=communicator, \n",
    "    backend=backend, \n",
    "    orchestration=DaCeOrchestration.Python\n",
    "    ) "
   ]
  },
  {
   "cell_type": "code",
   "execution_count": 16,
   "metadata": {},
   "outputs": [],
   "source": [
    "from pace.dsl.stencil_config import CompilationConfig, RunMode\n",
    "\n",
    "compilation_config = CompilationConfig(backend=backend, \n",
    "    rebuild=True, \n",
    "    validate_args=True, \n",
    "    format_source=False, \n",
    "    device_sync=False, \n",
    "    run_mode=RunMode.BuildAndRun, \n",
    "    use_minimal_caching=False, \n",
    "    communicator=communicator,\n",
    ")"
   ]
  },
  {
   "cell_type": "code",
   "execution_count": 20,
   "metadata": {},
   "outputs": [],
   "source": [
    "from pace.dsl.stencil import StencilConfig\n",
    "\n",
    "stencil_config = StencilConfig(\n",
    "    compare_to_numpy=False,\n",
    "    compilation_config=compilation_config,\n",
    "    dace_config = dace_config\n",
    ")"
   ]
  },
  {
   "cell_type": "code",
   "execution_count": 21,
   "metadata": {},
   "outputs": [],
   "source": [
    "from pace.dsl.stencil import GridIndexing\n",
    "\n",
    "grid_indexing = GridIndexing.from_sizer_and_communicator(\n",
    "        sizer=sizer, \n",
    "        cube=communicator\n",
    "    )\n",
    "\n",
    "# # set the domain so there is only one level in the vertical -- forced\n",
    "# domain = grid_indexing.domain\n",
    "# domain_new = list(domain)\n",
    "# domain_new[2] = 1\n",
    "# domain_new = tuple(domain_new)\n",
    "\n",
    "# grid_indexing.domain = domain_new"
   ]
  },
  {
   "cell_type": "code",
   "execution_count": 22,
   "metadata": {},
   "outputs": [],
   "source": [
    "from pace.dsl.stencil import StencilFactory\n",
    "\n",
    "stencil_factory = StencilFactory(\n",
    "    config=stencil_config, \n",
    "    grid_indexing=grid_indexing\n",
    "    )"
   ]
  },
  {
   "cell_type": "code",
   "execution_count": null,
   "metadata": {},
   "outputs": [],
   "source": []
  }
 ],
 "metadata": {
  "kernelspec": {
   "display_name": "Python 3.8.10 ('venv': venv)",
   "language": "python",
   "name": "python3"
  },
  "language_info": {
   "codemirror_mode": {
    "name": "ipython",
    "version": 3
   },
   "file_extension": ".py",
   "mimetype": "text/x-python",
   "name": "python",
   "nbconvert_exporter": "python",
   "pygments_lexer": "ipython3",
   "version": "3.8.10"
  },
  "orig_nbformat": 4,
  "vscode": {
   "interpreter": {
    "hash": "5aaa1d64d2aec5fc9d71d95fe114c55e361597d915cf108c460e747a228aecec"
   }
  }
 },
 "nbformat": 4,
 "nbformat_minor": 2
}
